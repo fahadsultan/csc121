{
 "cells": [
  {
   "cell_type": "markdown",
   "id": "fb70a19b",
   "metadata": {
    "slideshow": {
     "slide_type": "slide"
    }
   },
   "source": [
    "# CSC-121 \n",
    "# Introduction to Computer Programming \n",
    "\n",
    "# Lecture 1.1\n",
    "## Friday, August 26th 2022"
   ]
  },
  {
   "cell_type": "markdown",
   "id": "c73b42f6",
   "metadata": {
    "slideshow": {
     "slide_type": "slide"
    }
   },
   "source": [
    "# 1.1. Python Comments\n",
    "\n",
    "Old programming wisdom:\n",
    "> Programs must be written for people to read, and only incidentally for machines to execute.\n",
    "\n",
    "\n",
    "* Comments in code are _literally_ there only for people to read and **never** for machines to execute\n",
    "\n",
    "* Use comments to explain your code.\n",
    "\n",
    "* Use comments to make your code more readable.\n"
   ]
  },
  {
   "cell_type": "markdown",
   "id": "6687940c",
   "metadata": {
    "slideshow": {
     "slide_type": "slide"
    }
   },
   "source": [
    "* Comments starts with a `#`, and Python will ignore them:"
   ]
  },
  {
   "cell_type": "code",
   "execution_count": 2,
   "id": "9e2ce3d5",
   "metadata": {},
   "outputs": [
    {
     "name": "stdout",
     "output_type": "stream",
     "text": [
      "Hello\n"
     ]
    }
   ],
   "source": [
    "#print(\"South\")\n",
    "print(\"Hello\")\n",
    "# print(\"Carolina\")"
   ]
  },
  {
   "cell_type": "markdown",
   "id": "2277ddc9",
   "metadata": {},
   "source": [
    "* Comments can be placed at the end of a line, and Python will ignore the rest of the line:"
   ]
  },
  {
   "cell_type": "code",
   "execution_count": 29,
   "id": "27362cbc",
   "metadata": {},
   "outputs": [
    {
     "name": "stdout",
     "output_type": "stream",
     "text": [
      "Hello\n"
     ]
    }
   ],
   "source": [
    "print(\"Hello\") #print(\"World\")\n",
    "\n",
    "a = 1\n",
    "a = a + 1 # * 10\n",
    "\n",
    "print(a)\n",
    "\n",
    "a = a * 10"
   ]
  },
  {
   "cell_type": "markdown",
   "id": "96259d2d",
   "metadata": {
    "slideshow": {
     "slide_type": "-"
    }
   },
   "source": [
    "* Note how comments can be plain English to increase readability\n",
    "    * Or code, if you are trying to fix a bug or designing the algorithm"
   ]
  },
  {
   "cell_type": "code",
   "execution_count": 109,
   "id": "e4b0f9b5",
   "metadata": {
    "slideshow": {
     "slide_type": "slide"
    }
   },
   "outputs": [
    {
     "name": "stdout",
     "output_type": "stream",
     "text": [
      "3\n",
      "9\n",
      "27\n"
     ]
    }
   ],
   "source": [
    "\"\"\"Print \n",
    "multiples \n",
    "of\n",
    "3 \"\"\"\n",
    "\n",
    "a = 1\n",
    "\n",
    "#First multiple\n",
    "a = a * 3\n",
    "print(a)\n",
    "\n",
    "#Second multiple\n",
    "a = a * 3\n",
    "print(a)\n",
    "\n",
    "#Third multiple\n",
    "a = a * 3\n",
    "print(a)\n"
   ]
  },
  {
   "cell_type": "code",
   "execution_count": 112,
   "id": "eb243425",
   "metadata": {
    "slideshow": {
     "slide_type": "slide"
    }
   },
   "outputs": [
    {
     "name": "stdout",
     "output_type": "stream",
     "text": [
      "2.7030000000000003\n",
      "3\n",
      "6\n"
     ]
    }
   ],
   "source": [
    "\"\"\" \n",
    "Jane Doe Algorithm, for calculating gratuity\n",
    "\n",
    "computes 20% gratuity in three easy steps. \n",
    "\n",
    "Input(s)\n",
    "--------\n",
    "cheque_amount : int\n",
    "\n",
    "Output\n",
    "------\n",
    "int\n",
    "    20% of the cheque_amount\n",
    "\"\"\"\n",
    "\n",
    "cheque_amount = 27.03 \n",
    "\n",
    "#1. Move the decimal point one place, to the left\n",
    "_ten_percent = cheque_amount / 10\n",
    "print(_ten_percent)\n",
    "\n",
    "#2. Round the number \n",
    "ten_percent_ceiling = round(_ten_percent)\n",
    "print(ten_percent_ceiling)\n",
    "\n",
    "#3. Double it \n",
    "twenty_percent = ten_percent_ceiling*2\n",
    "print(twenty_percent)"
   ]
  },
  {
   "cell_type": "markdown",
   "id": "f77c25b7",
   "metadata": {
    "slideshow": {
     "slide_type": "slide"
    }
   },
   "source": [
    "# 1.2 Variable Naming\n",
    "\n",
    "\n",
    "* _**Variable Names must be descriptive!**_\n",
    "\n",
    "* A variable name must start with a letter or the underscore character\n",
    "\n",
    "* A variable name cannot start with a number\n",
    "\n",
    "* A variable name can only contain alpha-numeric characters and underscores (A-z, 0-9, and _ )\n",
    "\n",
    "* Variable names are case-sensitive (age, Age and AGE are three different variables)\n",
    "\n",
    "* In Python, the convention is to _NOT_ use upper case letters anywhere in the name. In case of multi-word names, use _ .\n"
   ]
  },
  {
   "cell_type": "code",
   "execution_count": 121,
   "id": "71616a4c",
   "metadata": {},
   "outputs": [
    {
     "name": "stdout",
     "output_type": "stream",
     "text": [
      "2 20 200 4 10\n"
     ]
    }
   ],
   "source": [
    "age = 2\n",
    "Age = 20\n",
    "AGE = 200\n",
    "aGe = 4\n",
    "print(age, Age, AGE, aGe, fahad)"
   ]
  },
  {
   "cell_type": "markdown",
   "id": "5a6a3eb5",
   "metadata": {
    "slideshow": {
     "slide_type": "slide"
    }
   },
   "source": [
    "# 1.2.1. Reserved words Python"
   ]
  },
  {
   "cell_type": "markdown",
   "id": "018ab777",
   "metadata": {},
   "source": [
    "`False`, `def`, `if`, `raise`,\n",
    "`None`,\t`del`,\t`import`,\t`return`,\n",
    "`True`,\t`elif`\t,`in`,\t`try`,\n",
    "`and`,\t`else`,\t`is`,\t`while`,\n",
    "`as`,\t`except`,\t`lambda`, `with`\n",
    "`assert`,\t`finally`,\t`nonlocal`,\t`yield`\n",
    "`break`,\t`for`,\t`not`\t\n",
    "`class`,\t`from`,\t`or`,\t\n",
    "`continue`,\t`global`,\t`pass`"
   ]
  },
  {
   "cell_type": "code",
   "execution_count": 123,
   "id": "564c333c",
   "metadata": {},
   "outputs": [],
   "source": [
    "_continue = 10"
   ]
  },
  {
   "cell_type": "markdown",
   "id": "10903681",
   "metadata": {
    "slideshow": {
     "slide_type": "slide"
    }
   },
   "source": [
    "# 1.2.2. Overriding built-in functions"
   ]
  },
  {
   "cell_type": "markdown",
   "id": "df72d5a9",
   "metadata": {},
   "source": [
    "What happens when we override `round`, `input` or `print`"
   ]
  },
  {
   "cell_type": "code",
   "execution_count": null,
   "id": "fcb82822",
   "metadata": {},
   "outputs": [],
   "source": [
    "input = float(input())\n",
    "b = input*2\n",
    "print(b)\n",
    "\n",
    "input = float(input())\n",
    "b = input*2\n",
    "print(b)"
   ]
  },
  {
   "cell_type": "markdown",
   "id": "14a522cd",
   "metadata": {
    "slideshow": {
     "slide_type": "slide"
    }
   },
   "source": [
    "# 1.3. Mathematical Operators"
   ]
  },
  {
   "cell_type": "markdown",
   "id": "43b04397",
   "metadata": {
    "slideshow": {
     "slide_type": "-"
    }
   },
   "source": [
    "`a = 2`\n",
    "`b = 10`\n",
    "\n",
    "| Operator      | Description   |Example.      |\n",
    "| :-----------  | :-----------: |:-----------: |\n",
    "| + Addition    |  Adds values on either side of the operator.  | a + b = 30|\n",
    "| - Subtraction |  Subtracts right hand operand from left hand operand.  | a – b = -10|\n",
    "| * Multiplication |  Multiplies values on either side of the operator  | a * b = 200|\n",
    "| / Division |  Divides left hand operand by right hand operand  | b / a = 2|\n",
    "| % Modulus |  Divides left hand operand by right hand operand and returns remainder  | b % a = 0|\n",
    "| ** Exponent |  Performs exponential (power) calculation on operators  | a**b =10 to the power 20|\n",
    "| // Floor Division |  The division of operands where the result is the quotient in which the digits after the decimal point are removed. But if one of the operands is negative, the result is floored, i.e., rounded away from zero (towards negative infinity) |  9//2 = 4 and 9.0//2.0 = 4.0, -11//3 = -4, -11.0//3 = -4.0|"
   ]
  },
  {
   "cell_type": "code",
   "execution_count": 150,
   "id": "2aef84c3",
   "metadata": {
    "slideshow": {
     "slide_type": "slide"
    }
   },
   "outputs": [
    {
     "data": {
      "text/plain": [
       "True"
      ]
     },
     "execution_count": 150,
     "metadata": {},
     "output_type": "execute_result"
    }
   ],
   "source": [
    "## Let's go through each mathematical operator + - * / % ** //\n",
    "\n",
    "a = 11\n",
    "b = 5\n",
    "(a+b) < (a*b)"
   ]
  },
  {
   "cell_type": "markdown",
   "id": "5639d4ec",
   "metadata": {
    "slideshow": {
     "slide_type": "slide"
    }
   },
   "source": [
    "## 1.3.1. Boolean Operators"
   ]
  },
  {
   "cell_type": "markdown",
   "id": "632436ad",
   "metadata": {},
   "source": [
    "These operators return `True` or `False` (i.e. boolean data type). \n",
    "\n",
    "| Operator      | Description   |Example.      |\n",
    "| :-----------  | :-----------: |:-----------: |\n",
    "| ==  |  Returns `True` if left hand operand is equal to right hand operand. Otherwise, returns `False`  | `a+b == b+a` |\n",
    "| != |  Returns `True` if left hand operand is _NOT_ equal to  right hand operand. Otherwise, returns `False`.  | `a*b != b/a`|\n",
    "| < |  Returns `True` if left hand operand is less than right hand operand. Otherwise, returns `False`.  | `b/a < b`|\n",
    "| > |  Returns `True` if left hand operand is greater than right hand operand. Otherwise, returns `False`.  | `a*b > b`|\n",
    "| <= |  Returns `True` if left hand operand is less than or equal to right hand operand. Otherwise, returns `False`.  | `a-b <= a`|\n",
    "| >= |  Returns `True` if left hand operand is greater than or equal to right hand operand. Otherwise, returns `False`.  | `a*b >= b*a`|"
   ]
  },
  {
   "cell_type": "code",
   "execution_count": null,
   "id": "389f8a87",
   "metadata": {},
   "outputs": [],
   "source": [
    "# Boolean Operators. Let's try to use each of them. "
   ]
  },
  {
   "cell_type": "code",
   "execution_count": 151,
   "id": "df4fe39f",
   "metadata": {
    "slideshow": {
     "slide_type": "slide"
    }
   },
   "outputs": [
    {
     "data": {
      "text/plain": [
       "32.436"
      ]
     },
     "execution_count": 151,
     "metadata": {},
     "output_type": "execute_result"
    }
   ],
   "source": [
    "# Question 1\n",
    "\n",
    "\n",
    "\n",
    "\n",
    "\n",
    "# 4**1/2\n",
    "\n",
    "\n",
    "\n",
    "# 1+1+1+1+1*0\n",
    "\n",
    "# 27.03 + 20/100* 27.03\n",
    "\n",
    "# 10 + 10 / 10\n",
    "\n",
    "36**1/2"
   ]
  },
  {
   "cell_type": "markdown",
   "id": "055dd455",
   "metadata": {
    "slideshow": {
     "slide_type": "slide"
    }
   },
   "source": [
    "# 1.4. Operator Precedence"
   ]
  },
  {
   "cell_type": "markdown",
   "id": "966e1536",
   "metadata": {},
   "source": [
    "Operator Precedence in decreasing order. \n",
    "\n",
    "The higher the operator in the table, the higher its priority"
   ]
  },
  {
   "cell_type": "markdown",
   "id": "07459603",
   "metadata": {},
   "source": [
    "| Syntax      || Description |\n",
    "| :----------- || -----------: |\n",
    "| ()      || Parentheses |\n",
    "| **      || Exponent    |\n",
    "| *,  /,  //,  % || Multiplication, Division, Floor division, Modulus|\n",
    "| +, - || Addition, Subtraction|\n",
    "|==, !=, >, >=, <, <= || Equal, Not Equal, Less Than, Less Than Equal, Greater Than, Greater Than Equal ||"
   ]
  }
 ],
 "metadata": {
  "celltoolbar": "Slideshow",
  "kernelspec": {
   "display_name": "Python 3 (ipykernel)",
   "language": "python",
   "name": "python3"
  },
  "language_info": {
   "codemirror_mode": {
    "name": "ipython",
    "version": 3
   },
   "file_extension": ".py",
   "mimetype": "text/x-python",
   "name": "python",
   "nbconvert_exporter": "python",
   "pygments_lexer": "ipython3",
   "version": "3.9.12"
  }
 },
 "nbformat": 4,
 "nbformat_minor": 5
}
