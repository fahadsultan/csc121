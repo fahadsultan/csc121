{
 "cells": [
  {
   "cell_type": "markdown",
   "id": "e6ec39da",
   "metadata": {},
   "source": [
    "<center>\n",
    "    <h1> CSC-121 EXAM 3</h1>\n",
    "</center>\n",
    "\n",
    "<hr/>\n",
    "\n",
    "### Instructions: \n",
    "\n",
    "First things first,\n",
    "\n",
    "* _Turn off your phones and place them on your desk, facing down._\n",
    "* _No notes, email, messaging apps or searching on the internet. Only this Jupyter notebook file and/or Moodle are permitted during the exam._\n",
    "* _**For what it's worth, you should know that there are 3 versions of this exam.**_\n",
    "* _Submit only the version that you downloaded from Moodle. Any submission other than the one assigned to you will be considered an academic violation._\n",
    "* _All academic integrity violations will be immediately reported to the Furman Academic Disciplinary Committee with a recommendation of <span style=\"color:red; font-size:large\"><b>F</b></span> in the exam and possibly in the course._\n",
    "\n",
    "Now, \n",
    "* _If you have any questions, raise your hand_. \n",
    "* _If you have made any assumptions, state so clearly in the comments of your code_.  \n",
    "* _You will be given partial credit, so try your best to solve the given problems and don't leave any cells empty_.\n",
    "* _USE ONLY CONCEPTS COVERED IN CLASS_. \n",
    "\n",
    "<hr/>"
   ]
  },
  {
   "cell_type": "markdown",
   "id": "1cd11011",
   "metadata": {},
   "source": [
    "<br/><hr />\n",
    "\n",
    "# Question 1. Iterate through lists in opposite direction and add elements\n",
    "\n",
    "\n",
    "Implement a function `add_opposite` that accepts as input two lists `x` and `y` of equal length containing only integers and \\\n",
    "returns a new list `new_list` of same length as `x` and `y` such that:\n",
    "\n",
    "**first**  element of `new_list` is sum of **first** element of `x` and **last** element of `y` \\\n",
    "**second** element of `new_list` is sum of **second** element of `x` and **second to last** element of `y` \\\n",
    "**third**  element of `new_list` is sum of **third** element of `x` and **third to last** element of `y` \\\n",
    "and so on...\n",
    "\n",
    "For example, `x = [10, 0, 8]` and `y = [4, 6, 3]` should return `[13, 6, 12]` (since `[10+3, 0+6, 8+3]` = `[13, 6, 12]`)\n",
    "\n",
    "<span style=\"color:red\">_DO NOT USE BUILT-IN FUNCTIONS_</span>"
   ]
  },
  {
   "cell_type": "code",
   "execution_count": null,
   "id": "7c529b78",
   "metadata": {},
   "outputs": [],
   "source": [
    "def add_opposite(list1, list2):\n",
    "\n",
    "    \n",
    "    return new_list"
   ]
  },
  {
   "cell_type": "code",
   "execution_count": null,
   "id": "d3ed9fce",
   "metadata": {},
   "outputs": [],
   "source": [
    "assert add_opposite([1, 2, 3], [4, 5, 6])    == [7, 7, 7], \"Test case 1 failed\"\n",
    "assert add_opposite([1, 2, 3], [-3, -2, -1]) == [0, 0, 0], \"Test case 2 failed\"\n",
    "assert add_opposite([], [])                  == [],        \"Test case 3 failed\"\n",
    "assert add_opposite([1], [1])                == [2],       \"Test case 4 failed\"\n",
    "assert add_opposite([-1, -9], [-1, -9])      == [-10, -10],\"Test case 5 failed\"\n",
    "\n",
    "print(\"All test cases passed successfully\")"
   ]
  },
  {
   "cell_type": "markdown",
   "id": "73cafd57",
   "metadata": {},
   "source": [
    "<br/><hr />\n",
    "\n",
    "# Question 2. Random choice\n",
    "\n",
    "Implement a function `random_choice` that accepts as input a list `options` and returns a random element from the list. \n",
    "\n",
    "_Note: You would need to use the built-in `randint` function for this. Recall that you can \"summon\" (import) the built-in `randint` function using `from random import randint`_"
   ]
  },
  {
   "cell_type": "code",
   "execution_count": null,
   "id": "f65731e5",
   "metadata": {},
   "outputs": [],
   "source": [
    "from random import randint\n",
    "\n",
    "def random_choice(options):\n",
    "    \n",
    "    "
   ]
  },
  {
   "cell_type": "markdown",
   "id": "e2bfc339",
   "metadata": {},
   "source": [
    "### Test Suite Q2"
   ]
  },
  {
   "cell_type": "code",
   "execution_count": null,
   "id": "207dd653",
   "metadata": {},
   "outputs": [],
   "source": [
    "outcomes = []\n",
    "i = 0\n",
    "while i < 100:\n",
    "    outcomes.append(random_choice([1, 2, 3, 4, 5]))\n",
    "    i = i + 1\n",
    "\n",
    "assert (2.5 < sum(outcomes)/100 < 3.5), \"Test case 1 failed\"\n",
    "assert len(set(outcomes)) == 5,         \"Test case 2 failed\"\n",
    "assert outcomes.count(1) > 7,           \"Test case 2 failed\"\n",
    "assert outcomes.count(2) > 7,           \"Test case 3 failed\"\n",
    "assert outcomes.count(3) > 7,           \"Test case 4 failed\"\n",
    "assert outcomes.count(4) > 7,           \"Test case 5 failed\"\n",
    "assert outcomes.count(5) > 7,           \"Test case 6 failed\"\n",
    "assert outcomes.count(6) > 7,           \"Test case 7 failed\"\n",
    "\n",
    "print(\"All test cases passed successfully\")"
   ]
  },
  {
   "cell_type": "markdown",
   "id": "4c0740a0",
   "metadata": {},
   "source": [
    "<br><hr />\n",
    "\n",
    "# Question 3. Find All Occurrences of Substring "
   ]
  },
  {
   "cell_type": "markdown",
   "id": "c4ce8e34",
   "metadata": {},
   "source": [
    "Implement a function `find_all_occurrences` that accepts as input two strings: `string` and `substr` and returns a list of all starting indices of occurrences of `substr` in `string`. \n",
    "\n",
    "For example, `string=\"ba ba black sheep\"` and `substr=\"ba\"` returns `[0, 3]`"
   ]
  },
  {
   "cell_type": "code",
   "execution_count": null,
   "id": "3bce2d46",
   "metadata": {},
   "outputs": [],
   "source": [
    "def find_all_occurrences(string, substr):\n",
    "\n",
    "    \n",
    "    return occurrences"
   ]
  },
  {
   "cell_type": "code",
   "execution_count": null,
   "id": "c602ccb1",
   "metadata": {},
   "outputs": [],
   "source": [
    "assert find_all_occurrences(\"ba ba black sheep\", \"ba\")       == [0, 3],    \"Test case 1 failed\"\n",
    "assert find_all_occurrences(\"furman university\", \"city\")     == [],        \"Test case 2 failed\"\n",
    "assert find_all_occurrences(\"furman university\", \"universe\") == [],        \"Test case 3 failed\"\n",
    "assert find_all_occurrences(\"december\", \"e\")                 == [1, 3, 6], \"Test case 4 failed\"\n",
    "assert find_all_occurrences(\"hello world\", \"d\")              == [10],      \"Test case 5 failed\"\n",
    "\n",
    "print(\"All test cases passed successfully\")"
   ]
  },
  {
   "cell_type": "markdown",
   "id": "e8480cd9",
   "metadata": {},
   "source": [
    "\n",
    "# Question 4. Fix the following function\n",
    "\n",
    "The following function `repeat_n` takes two _Inputs_: \n",
    "1. a string `text` and \n",
    "2. an integer `n` \n",
    "\n",
    "and **is supposed to** return as _Output_: \n",
    "* a string containing each character of `text` repeated `n` times. \n",
    "\n",
    "For example, `text = \"abc\"` and `n=3` **should** return `\"aaabbbccc\"`\n",
    "\n",
    "**_Fix \"bugs\" in the provided function definition so all test cases below pass successfully._**\n"
   ]
  },
  {
   "cell_type": "code",
   "execution_count": null,
   "id": "91b96ffb",
   "metadata": {},
   "outputs": [],
   "source": [
    "def repeat_n(text, n):\n",
    "    result = \"\"\n",
    "    i = 0\n",
    "    j = 0 \n",
    "    while i < len(text):\n",
    "        while j < n:\n",
    "            result = result + text[i]\n",
    "        j = j + 1\n",
    "    i = i + 1\n",
    "    return result"
   ]
  },
  {
   "cell_type": "code",
   "execution_count": null,
   "id": "62506884",
   "metadata": {},
   "outputs": [],
   "source": [
    "assert repeat_n(\"abc\", 3) == \"aaabbbccc\",\"Test case 1 failed\"\n",
    "assert repeat_n(\"abc\", 0) == \"\",         \"Test case 2 failed\"\n",
    "assert repeat_n(\"abc\", 1) == \"abc\",      \"Test case 3 failed\"\n",
    "assert repeat_n(\"a\", 5)   == \"aaaaa\",    \"Test case 4 failed\"\n",
    "assert repeat_n(\"!\", 4)   == \"!!!!\",     \"Test case 5 failed\"\n",
    "\n",
    "print(\"All test cases passed successfully\")"
   ]
  }
 ],
 "metadata": {
  "kernelspec": {
   "display_name": "Python 3 (ipykernel)",
   "language": "python",
   "name": "python3"
  },
  "language_info": {
   "codemirror_mode": {
    "name": "ipython",
    "version": 3
   },
   "file_extension": ".py",
   "mimetype": "text/x-python",
   "name": "python",
   "nbconvert_exporter": "python",
   "pygments_lexer": "ipython3",
   "version": "3.9.12"
  }
 },
 "nbformat": 4,
 "nbformat_minor": 5
}
