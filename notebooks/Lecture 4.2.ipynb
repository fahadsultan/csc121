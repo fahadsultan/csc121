{
 "cells": [
  {
   "cell_type": "markdown",
   "id": "2df80d7c",
   "metadata": {
    "slideshow": {
     "slide_type": "slide"
    }
   },
   "source": [
    "### 4.2.1. Why Use Functions?\n",
    "\n",
    "**Reason 1: Maximizing code reuse and minimizing redundancy**\n",
    "* Simplest way to package logic, that you may wish to use: \\\n",
    "    a) In more than one place b) More than one time\n",
    "\n",
    "* Functions are an alternative to programming by cutting and pasting\n",
    "    * Rather than having multiple redundant copies of the same code, we can factor it into a single function.\n",
    "   \n",
    "* In so doing, we reduce our future work radically:\n",
    "    * If the operation must be changed later, we have only one copy to update in the function, not many scattered throughout the program."
   ]
  },
  {
   "cell_type": "markdown",
   "id": "4197ce59",
   "metadata": {
    "slideshow": {
     "slide_type": "slide"
    }
   },
   "source": [
    "<img src=\"https://i.ibb.co/BK2XCN7/Screen-Shot-2022-09-20-at-9-57-40-PM.png\">"
   ]
  },
  {
   "cell_type": "markdown",
   "id": "558960dd",
   "metadata": {
    "slideshow": {
     "slide_type": "slide"
    }
   },
   "source": [
    "**Reason 2. Procedural decomposition**\n",
    "\n",
    "* Functions serve as a tool for **splitting complex systems** into **manageable sub-parts** \n",
    "\n",
    "* For instance, in the problem where we had to return **number of days in a month**, given `month` and `year`, we had to especially check for **leap year** when `month=2`.\n",
    "\n",
    "    * It is good design to move code for the sub-problem that checks for leap year to a separate function. "
   ]
  },
  {
   "cell_type": "markdown",
   "id": "cdcd2a78",
   "metadata": {
    "slideshow": {
     "slide_type": "slide"
    }
   },
   "source": [
    "\n",
    "## 4.2.2. `return` statements\n",
    "\n",
    "* The Python `return` statement can show up anywhere in a function body\n",
    "* When reached, it ends the function call and sends a result back to the caller. \n",
    "* The return statement consists of an optional object value expression that gives the function’s result. If the value is omitted, `return` sends back a `None`.\n",
    "\n",
    "* The `return` statement itself is optional too; if it’s not present, the function exits when the control flow falls off the end of the function body. \n",
    "* Technically, a function without a `return` statement also returns the `None` object automatically, but this return value is usually ignored at the call."
   ]
  },
  {
   "cell_type": "code",
   "execution_count": null,
   "id": "03235a8e",
   "metadata": {
    "slideshow": {
     "slide_type": "slide"
    }
   },
   "outputs": [],
   "source": [
    "def myfunc(input_x):\n",
    "    #Function body\n",
    "    \n",
    "    #print(\"start of function y\", y)\n",
    "    y = 10\n",
    "    if input_x % 2 == 0: \n",
    "        x = input_x + 10\n",
    "        z = input_x\n",
    "    else:\n",
    "        z = y\n",
    "    print(\"end of function y\", y)\n",
    "\n",
    "\n",
    "#Caller\n",
    "new_x = myfunc(8)\n",
    "new_x = myfunc(9) #<-- y is undefined in line 4, the next time myfunc is called"
   ]
  },
  {
   "cell_type": "markdown",
   "id": "53bedf9e",
   "metadata": {
    "slideshow": {
     "slide_type": "slide"
    }
   },
   "source": [
    "## 4.2.3. Local Variables\n",
    "\n",
    "* Variables inside a function are called **local variables**. \n",
    "\n",
    "\n",
    "* These local variables are **accessible only** to other lines of code **within the function definition** and the function's body\n",
    "\n",
    "\n",
    "* By default, only the variable or value that is returned, using `return`, is accessible outide the function's body\n",
    "\n",
    "\n",
    "* All these local variables are defined when the function is called and become `undefined` when the function exits\n",
    "\n",
    "\n",
    "* A function’s variables **won’t remember values between calls**\n",
    "\n",
    "    * Although the returned variables/values by a function lives on\n",
    "\n",
    "    * retaining other sorts of state information requires other sorts of techniques. "
   ]
  },
  {
   "cell_type": "code",
   "execution_count": 49,
   "id": "1602aeca",
   "metadata": {
    "slideshow": {
     "slide_type": "slide"
    }
   },
   "outputs": [],
   "source": [
    "def csc121_round(float_number):\n",
    "    \n",
    "    fractional_part = float_number % 1\n",
    "    \n",
    "    integer_part = float_number // 1\n",
    "    \n",
    "    to_ceil = fractional_part >= 0.5\n",
    "    \n",
    "    rounded = integer_part + to_ceil\n",
    "    \n",
    "    return rounded"
   ]
  },
  {
   "cell_type": "code",
   "execution_count": 50,
   "id": "0dfe6334",
   "metadata": {},
   "outputs": [],
   "source": [
    "def jane_doe_algorithm(amount):\n",
    "\n",
    "    #1. Move the decimal point\n",
    "    ten_percent = amount / 10\n",
    "\n",
    "    #2. Round the number\n",
    "    ten_percent_rounded = csc121_round(ten_percent)\n",
    "    \n",
    "    #print(fractional_part) #<---- this would result in variable undefined error\n",
    "    \n",
    "    #3. Double the number\n",
    "    twenty_percent = ten_percent_rounded * 2\n",
    "\n",
    "    return twenty_percent"
   ]
  },
  {
   "cell_type": "code",
   "execution_count": null,
   "id": "7ee9442a",
   "metadata": {},
   "outputs": [],
   "source": [
    "cheque_amount = 27.04\n",
    "\n",
    "tip = jane_doe_algorithm(cheque_amount)\n",
    "\n",
    "print(tip)"
   ]
  },
  {
   "cell_type": "markdown",
   "id": "82f5ded8",
   "metadata": {
    "slideshow": {
     "slide_type": "slide"
    }
   },
   "source": [
    "# 4.2.3.  Arguments (Inputs) of type `int`, `float`, `bool` and `str` are passed by value "
   ]
  },
  {
   "cell_type": "markdown",
   "id": "77c8cd64",
   "metadata": {},
   "source": [
    "* Arguments (Inputs) to a function, of type `int`, `float`, `bool` and `str`, are passed by value\n",
    "\n",
    "\n",
    "* This means the input/arguments variables inside of a function are **copies** of variables from the caller. \n",
    "\n",
    "\n",
    "* Thus changing value of variables of these types inside a function does not change their values on the caller's end. "
   ]
  },
  {
   "cell_type": "code",
   "execution_count": 48,
   "id": "3dc8d88f",
   "metadata": {
    "slideshow": {
     "slide_type": "slide"
    }
   },
   "outputs": [
    {
     "name": "stdout",
     "output_type": "stream",
     "text": [
      "Before function call x = 1\n",
      "Inside function and before updating, x = 1\n",
      "Inside function and after updating, x = 2\n",
      "After function call x = 1\n"
     ]
    }
   ],
   "source": [
    "def myfunc(x):\n",
    "\n",
    "    print(\"Inside function and before updating, x =\", x)\n",
    "    \n",
    "    x = x + 1\n",
    "    \n",
    "    print(\"Inside function and after updating, x =\", x)\n",
    "    \n",
    "\n",
    "x = 1\n",
    "\n",
    "print(\"Before function call x =\", x)\n",
    "\n",
    "myfunc(x)\n",
    "\n",
    "print(\"After function call x =\", x)"
   ]
  }
 ],
 "metadata": {
  "celltoolbar": "Slideshow",
  "kernelspec": {
   "display_name": "Python 3 (ipykernel)",
   "language": "python",
   "name": "python3"
  },
  "language_info": {
   "codemirror_mode": {
    "name": "ipython",
    "version": 3
   },
   "file_extension": ".py",
   "mimetype": "text/x-python",
   "name": "python",
   "nbconvert_exporter": "python",
   "pygments_lexer": "ipython3",
   "version": "3.9.12"
  }
 },
 "nbformat": 4,
 "nbformat_minor": 5
}
