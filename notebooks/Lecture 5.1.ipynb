{
 "cells": [
  {
   "cell_type": "code",
   "execution_count": null,
   "id": "8fed40ac",
   "metadata": {},
   "outputs": [],
   "source": [
    "def func3(x3):\n",
    "    y3 = x3\n",
    "    z3 = y3 - 1\n",
    "    return z3\n",
    "\n",
    "def func2(x2):\n",
    "    y2 = func3(x2)\n",
    "    z2 = y2 - 1\n",
    "    return z2\n",
    "\n",
    "def func1(x1):\n",
    "    y1 = func2(x1)\n",
    "    z1 = y1 - 1\n",
    "    return z1\n",
    "\n",
    "z = func1(3)\n",
    "print(z)"
   ]
  },
  {
   "cell_type": "code",
   "execution_count": null,
   "id": "8103740d",
   "metadata": {},
   "outputs": [],
   "source": [
    "def func3(x3):\n",
    "    x3 = x3 + 1\n",
    "    y3 = x3\n",
    "    z3 = y3 - 1\n",
    "    return z3\n",
    "\n",
    "def func2(x2):\n",
    "    x2 = x2 + 1\n",
    "    y2 = func3(x2)\n",
    "    z2 = y2 - 1\n",
    "    return z2\n",
    "\n",
    "def func1(x1):\n",
    "    x1 = x1 + 1\n",
    "    y1 = func2(x1)\n",
    "    z1 = y1 - 1\n",
    "    return z1\n",
    "\n",
    "z = func1(3)\n",
    "print(z)"
   ]
  },
  {
   "cell_type": "code",
   "execution_count": null,
   "id": "8ef675ba",
   "metadata": {},
   "outputs": [],
   "source": [
    "def concat(num, digit):\n",
    "    concatenated = num*10 + digit\n",
    "    return concatenated\n",
    "\n",
    "def concat_three_digits(hundreds, tens, units):\n",
    "    first_two = concat(hundreds, tens)\n",
    "    all_three = concat(first_two, units)\n",
    "    return all_three\n",
    "    \n",
    "num = concat_three_digits(1, 2, 3)\n",
    "print(num)"
   ]
  },
  {
   "cell_type": "code",
   "execution_count": 59,
   "id": "707db130",
   "metadata": {},
   "outputs": [],
   "source": [
    "def csc121_abs(num):\n",
    "    \"\"\"Return the absolute value of the argument.\n",
    "    \"\"\"\n",
    "    if num < 0:\n",
    "        num = num * -1 \n",
    "    return num "
   ]
  },
  {
   "cell_type": "code",
   "execution_count": 61,
   "id": "60605051",
   "metadata": {},
   "outputs": [
    {
     "name": "stdout",
     "output_type": "stream",
     "text": [
      "All test cases for csc121_abs passed\n"
     ]
    }
   ],
   "source": [
    "assert csc121_abs(-1.5) == abs(-1.5), \"Test case 1 failed\"\n",
    "assert csc121_abs(1.5) == abs(1.5),   \"Test case 2 failed\"\n",
    "assert csc121_abs(0) == abs(0),      \"Test case 3 failed\"\n",
    "\n",
    "print('All test cases for csc121_abs passed')"
   ]
  },
  {
   "cell_type": "code",
   "execution_count": 63,
   "id": "9de8d341",
   "metadata": {},
   "outputs": [],
   "source": [
    "def csc121_help(func_name):\n",
    "    print(func_name.__doc__)\n",
    "    \n",
    "    "
   ]
  },
  {
   "cell_type": "code",
   "execution_count": 65,
   "id": "6b820870",
   "metadata": {},
   "outputs": [
    {
     "name": "stdout",
     "output_type": "stream",
     "text": [
      "Help on built-in function abs in module builtins:\n",
      "\n",
      "abs(x, /)\n",
      "    Return the absolute value of the argument.\n",
      "\n"
     ]
    }
   ],
   "source": [
    "help(abs)"
   ]
  },
  {
   "cell_type": "code",
   "execution_count": 64,
   "id": "b2019330",
   "metadata": {},
   "outputs": [
    {
     "name": "stdout",
     "output_type": "stream",
     "text": [
      "Return the absolute value of the argument.\n"
     ]
    }
   ],
   "source": [
    "csc121_help(abs)"
   ]
  },
  {
   "cell_type": "code",
   "execution_count": null,
   "id": "0a51ed45",
   "metadata": {},
   "outputs": [],
   "source": [
    "x = help(round)\n",
    "print(x)\n",
    "y = csc121_help(round)\n",
    "print(y)"
   ]
  }
 ],
 "metadata": {
  "kernelspec": {
   "display_name": "Python 3 (ipykernel)",
   "language": "python",
   "name": "python3"
  },
  "language_info": {
   "codemirror_mode": {
    "name": "ipython",
    "version": 3
   },
   "file_extension": ".py",
   "mimetype": "text/x-python",
   "name": "python",
   "nbconvert_exporter": "python",
   "pygments_lexer": "ipython3",
   "version": "3.9.12"
  }
 },
 "nbformat": 4,
 "nbformat_minor": 5
}
