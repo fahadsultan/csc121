{
 "cells": [
  {
   "cell_type": "markdown",
   "id": "6627a3b6",
   "metadata": {
    "slideshow": {
     "slide_type": "slide"
    }
   },
   "source": [
    "# LECTURE 12.2.\n",
    "\n",
    "# WEDNESDAY, NOV 16\n",
    "\n",
    "# FOR LOOPS"
   ]
  },
  {
   "cell_type": "markdown",
   "id": "39c4b2dd",
   "metadata": {
    "slideshow": {
     "slide_type": "slide"
    }
   },
   "source": [
    "# 12.2.1. `for` loops vs. `while` loops\n",
    "\n",
    "* Recall `for` loops have strengths and weaknesses, compared to `while` loops\n",
    "\n",
    "    * Strength: Concise syntax (fewer lines of code)\n",
    "    \n",
    "    * Strength: More readable\n",
    "    \n",
    "    * Weaknesses: Less flexible"
   ]
  },
  {
   "cell_type": "markdown",
   "id": "97f04da7",
   "metadata": {
    "slideshow": {
     "slide_type": "slide"
    }
   },
   "source": [
    "**Problem: Given a positive integer n, return all even numbers less than n, <u>_using for loops_</u>**"
   ]
  },
  {
   "cell_type": "code",
   "execution_count": null,
   "id": "64780f5a",
   "metadata": {},
   "outputs": [],
   "source": [
    "def n_even(n):\n",
    "    even = []\n",
    "    i = 2\n",
    "    while i < n:\n",
    "        if i % 2 == 0:\n",
    "            even.append(i)\n",
    "        i = i + 2\n",
    "    return even\n",
    "\n",
    "assert n_even(1)  == [],           \"Test case 1 failed\"\n",
    "assert n_even(5)  == [2, 4],       \"Test case 2 failed\"\n",
    "assert n_even(10) == [2, 4, 6, 8], \"Test case 3 failed\"\n",
    "\n",
    "print(\"All test cases passed successfully\")"
   ]
  },
  {
   "cell_type": "markdown",
   "id": "0f363550",
   "metadata": {
    "slideshow": {
     "slide_type": "slide"
    }
   },
   "source": [
    "**<u>_Recall, from Assignment 6_</u> : Question 1. Create List** \n",
    "    \n",
    "Write a function `csc121_range` that accepts as input an integer `n` and **returns a list of length `n` with item value $i$ at $i^{th}$ index**. \\\n",
    "For example, `n=4` should return `[0, 1, 2, 3]`"
   ]
  },
  {
   "cell_type": "code",
   "execution_count": null,
   "id": "5401a78e",
   "metadata": {},
   "outputs": [],
   "source": [
    "def csc121_range(n):\n",
    "    i = 0\n",
    "    new_list = []\n",
    "    while i < n:\n",
    "        new_list.append(i)\n",
    "        i = i + 1\n",
    "        \n",
    "    return new_list\n",
    "\n",
    "assert csc121_range(0) == [],           \"Test case 1 failed\"\n",
    "assert csc121_range(2) == [0, 1],       \"Test case 2 failed\"\n",
    "assert csc121_range(4) == [0, 1, 2, 3], \"Test case 3 failed\"\n",
    " \n",
    "print(\"All test cases passed successfully\")"
   ]
  },
  {
   "cell_type": "markdown",
   "id": "49384809",
   "metadata": {
    "slideshow": {
     "slide_type": "slide"
    }
   },
   "source": [
    "**Problem: Given a positive integer n, return all even numbers less than n, <u>_using for loops_</u>**"
   ]
  },
  {
   "cell_type": "code",
   "execution_count": null,
   "id": "419a54ab",
   "metadata": {},
   "outputs": [],
   "source": [
    "def n_even(n): \n",
    "    even = []\n",
    "    listt = csc121_range(n)\n",
    "    for element in listt[1:]:\n",
    "        if element % 2 == 0:\n",
    "            even.append(element)\n",
    "        \n",
    "    return even\n",
    "\n",
    "assert n_even(1)  == [],           \"Test case 1 failed\"\n",
    "assert n_even(5)  == [2, 4],       \"Test case 2 failed\"\n",
    "assert n_even(10) == [2, 4, 6, 8], \"Test case 3 failed\"\n",
    "\n",
    "print(\"All test cases passed successfully\")"
   ]
  },
  {
   "cell_type": "markdown",
   "id": "0dfb2030",
   "metadata": {
    "slideshow": {
     "slide_type": "slide"
    }
   },
   "source": [
    "# 12.2.2. Built-in `range`"
   ]
  },
  {
   "cell_type": "code",
   "execution_count": null,
   "id": "6e0ef9a5",
   "metadata": {},
   "outputs": [],
   "source": [
    "# help(range)"
   ]
  },
  {
   "cell_type": "code",
   "execution_count": null,
   "id": "89199422",
   "metadata": {},
   "outputs": [],
   "source": [
    "type(range(5)), type(csc121_range(5))"
   ]
  },
  {
   "cell_type": "code",
   "execution_count": null,
   "id": "2ce9f028",
   "metadata": {},
   "outputs": [],
   "source": [
    "print(range(5))"
   ]
  },
  {
   "cell_type": "code",
   "execution_count": null,
   "id": "b4989a71",
   "metadata": {},
   "outputs": [],
   "source": [
    "list(range(1, 5, 2))"
   ]
  },
  {
   "cell_type": "markdown",
   "id": "b65b702a",
   "metadata": {
    "slideshow": {
     "slide_type": "slide"
    }
   },
   "source": [
    "# `range` with `for` loops "
   ]
  },
  {
   "cell_type": "code",
   "execution_count": null,
   "id": "d32f4077",
   "metadata": {},
   "outputs": [],
   "source": [
    "n = 10\n",
    "for i in range(1, 10):\n",
    "    if i % 2 == 0:\n",
    "        print(i, end=' ')"
   ]
  },
  {
   "cell_type": "markdown",
   "id": "6fbc479b",
   "metadata": {
    "slideshow": {
     "slide_type": "slide"
    }
   },
   "source": [
    "# Question. Reversing a List, <u>_using for loop_</u>\n",
    "\n",
    "Write a function `csc121_reverse` that accepts as input a list of numbers `numbers` and **returns a new list** which has the values from `numbers` reversed. \n",
    "\n",
    "Example: `numbers = [4, 1, 3, 2]` returns `[2, 3, 1, 4]`"
   ]
  },
  {
   "cell_type": "code",
   "execution_count": null,
   "id": "0837023e",
   "metadata": {},
   "outputs": [],
   "source": [
    "numbers = [4, 1, 3, 2]\n",
    "list(range(-1, -len(numbers)-1, -1))"
   ]
  },
  {
   "cell_type": "code",
   "execution_count": null,
   "id": "42d75adc",
   "metadata": {},
   "outputs": [],
   "source": [
    "def csc121_reverse(numbers):\n",
    "    \n",
    "#     i = -1\n",
    "#     new_list = []\n",
    "#     while i >= -1*len(numbers): \n",
    "#         new_list.append(numbers[i])\n",
    "#         i = i - 1\n",
    "\n",
    "    listt = []\n",
    "    \n",
    "    for i in range(-1, -len(numbers)-1, -1):\n",
    "        listt.append(numbers[i])\n",
    "        \n",
    "    return listt\n",
    "\n",
    "assert csc121_reverse([4, 1, 3, 2]) == [2, 3, 1, 4], \"Test case 1 failed\"\n",
    "\n",
    "print(\"All test cases passed successfully\")"
   ]
  },
  {
   "cell_type": "code",
   "execution_count": null,
   "id": "94f1a978",
   "metadata": {
    "slideshow": {
     "slide_type": "slide"
    }
   },
   "outputs": [],
   "source": [
    "list(range(-1, -10, -1)) "
   ]
  },
  {
   "cell_type": "code",
   "execution_count": null,
   "id": "80356079",
   "metadata": {},
   "outputs": [],
   "source": [
    "start = -1\n",
    "stop  = -10\n",
    "step  = -1\n",
    "\n",
    "while i < stop:\n",
    "    print(i, end=' ')\n",
    "    i = i + step"
   ]
  },
  {
   "cell_type": "code",
   "execution_count": null,
   "id": "d18543f9",
   "metadata": {},
   "outputs": [],
   "source": [
    "for a, b in [(1, 2), (\"a\", \"b\")]:\n",
    "    print(a)\n",
    "    print(b)"
   ]
  },
  {
   "cell_type": "markdown",
   "id": "12620755",
   "metadata": {
    "slideshow": {
     "slide_type": "slide"
    }
   },
   "source": [
    "# Question. Find Index of Minimum Value, <u> using `for` loops </u>\n",
    "\n",
    "Write a function `find_min` that accepts as input a list of integers and returns the **index** of the list item with the **minimum** value. \n",
    "\n"
   ]
  },
  {
   "cell_type": "code",
   "execution_count": null,
   "id": "40f0c9e6",
   "metadata": {},
   "outputs": [],
   "source": [
    "def find_min(numbers):\n",
    "    \n",
    "    \n",
    "    return min_index"
   ]
  },
  {
   "cell_type": "markdown",
   "id": "21f6faaf",
   "metadata": {
    "slideshow": {
     "slide_type": "slide"
    }
   },
   "source": [
    "# Tuple Assignment and `for` loops"
   ]
  },
  {
   "cell_type": "markdown",
   "id": "02839b5c",
   "metadata": {},
   "source": [
    "Recall, **from Lecture 10.3:**"
   ]
  },
  {
   "cell_type": "code",
   "execution_count": null,
   "id": "8dd5c40a",
   "metadata": {},
   "outputs": [],
   "source": [
    "x, y = 1, 2\n",
    "\n",
    "x, y = y, x\n",
    "\n",
    "print(x, y)"
   ]
  },
  {
   "cell_type": "code",
   "execution_count": 24,
   "id": "24557a5d",
   "metadata": {},
   "outputs": [
    {
     "name": "stdout",
     "output_type": "stream",
     "text": [
      "('😀', 'Grinning Face')\n",
      "('😁', 'Beaming Face With Smiling Eyes')\n",
      "('😂', 'Face With Tears of Joy')\n",
      "('🤣', 'Rolling on the Floor Laughing')\n"
     ]
    }
   ],
   "source": [
    "emojis = [('😀', \"Grinning Face\"),          ('😁', \"Beaming Face With Smiling Eyes\"), \n",
    "          ('😂', \"Face With Tears of Joy\"), ('🤣', \"Rolling on the Floor Laughing\")]\n",
    "\n",
    "for t in emojis:\n",
    "    print(t)"
   ]
  },
  {
   "cell_type": "markdown",
   "id": "c4de95db",
   "metadata": {
    "slideshow": {
     "slide_type": "slide"
    }
   },
   "source": [
    "# Built-in `enumerate`\n",
    "\n",
    "* **Input =>** `list` or `set`, a `tuple` or a `str`\n",
    "\n",
    "* **Output =>** a List of Tuples:\\\n",
    "`[(idx0, val0),  ... ,( idx_len-1, val_len-1 ) ]`"
   ]
  },
  {
   "cell_type": "markdown",
   "id": "86cbd345",
   "metadata": {},
   "source": [
    "![list](https://i.ibb.co/GJkSBQ7/Screen-Shot-2022-10-27-at-1-21-19-PM.png)"
   ]
  },
  {
   "cell_type": "code",
   "execution_count": null,
   "id": "c100b42c",
   "metadata": {
    "slideshow": {
     "slide_type": "-"
    }
   },
   "outputs": [],
   "source": [
    "rainbow = [\"Red\", \"Orange\", \"Yellow\", \"Green\", \"Blue\", \"Indigo\", \"Violet\"]\n",
    "print(list(enumerate(rainbow)))"
   ]
  },
  {
   "cell_type": "markdown",
   "id": "3043ae6f",
   "metadata": {
    "slideshow": {
     "slide_type": "slide"
    }
   },
   "source": [
    "## `for` loops with `enumerate`"
   ]
  },
  {
   "cell_type": "markdown",
   "id": "7a9bfb27",
   "metadata": {},
   "source": [
    "**Problem**: Given a list `sequence` and a value `val`, find index of `val` in `sequence` if present; if not, else return `-1`"
   ]
  },
  {
   "cell_type": "code",
   "execution_count": null,
   "id": "00786630",
   "metadata": {
    "scrolled": true,
    "slideshow": {
     "slide_type": "-"
    }
   },
   "outputs": [],
   "source": [
    "def find_val(sequence, val):\n",
    "    \n",
    "    return val_idx\n",
    "\n",
    "assert find_val([1, 2, 3, 4, 5], 1)        ==  0, \"Test case 1 failed\"\n",
    "assert find_val([\"a\", \"b\", \"c\", \"d\"], \"c\") ==  2, \"Test case 2 failed\"\n",
    "assert find_val([\"a\", \"b\"], \"c\")           == -1, \"Test case 3 failed\""
   ]
  },
  {
   "cell_type": "markdown",
   "id": "593dd954",
   "metadata": {
    "slideshow": {
     "slide_type": "slide"
    }
   },
   "source": [
    "# Question. Find Index of Minimum Value, <u> using for loops AND enumerate</u>\n",
    "\n",
    "Write a function `find_min` that accepts as input a list of integers and returns the **index** of the list item with the **maximum** value. \n",
    "\n",
    "Raise a `TypeError` is anything other than a list is passed. Raise a `ValueError` if an empty list is passed. \n"
   ]
  },
  {
   "cell_type": "code",
   "execution_count": null,
   "id": "61834f06",
   "metadata": {},
   "outputs": [],
   "source": [
    "def find_min(numbers):\n",
    "    \n",
    "    \n",
    "    return min_index"
   ]
  }
 ],
 "metadata": {
  "celltoolbar": "Slideshow",
  "kernelspec": {
   "display_name": "Python 3 (ipykernel)",
   "language": "python",
   "name": "python3"
  },
  "language_info": {
   "codemirror_mode": {
    "name": "ipython",
    "version": 3
   },
   "file_extension": ".py",
   "mimetype": "text/x-python",
   "name": "python",
   "nbconvert_exporter": "python",
   "pygments_lexer": "ipython3",
   "version": "3.9.12"
  }
 },
 "nbformat": 4,
 "nbformat_minor": 5
}
