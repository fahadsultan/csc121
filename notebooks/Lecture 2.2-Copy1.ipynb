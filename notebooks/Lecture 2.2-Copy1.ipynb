{
 "cells": [
  {
   "cell_type": "markdown",
   "id": "7445ac74",
   "metadata": {
    "slideshow": {
     "slide_type": "slide"
    }
   },
   "source": [
    "# Lecture 2.2. Selectional Statements and Conditionals\n",
    "\n",
    "# Introduction to Computer Programming\n",
    "\n",
    "# CSC-121\n",
    "\n",
    "# Wednesday, September 6th"
   ]
  },
  {
   "cell_type": "markdown",
   "id": "d889c5eb",
   "metadata": {
    "slideshow": {
     "slide_type": "slide"
    }
   },
   "source": [
    "|Criteria | Letter Grade |\n",
    "|--------------|-|\n",
    "| Total points ≥ 90% | A | \n",
    "| 80% ≤ Total points < 90% |B |  \n",
    "| 70% ≤ Total points < 80% |C | \n",
    "| 60% ≤ Total points < 70% |D | \n",
    "| Total points < 60% |F | "
   ]
  },
  {
   "cell_type": "code",
   "execution_count": null,
   "id": "4a7414da",
   "metadata": {},
   "outputs": [],
   "source": [
    "\"\"\"Implement the letter grade \n",
    "table above, using if-else\n",
    "\"\"\"\n",
    "\n",
    "#Inputs\n",
    "total_points = \n",
    "\n",
    "#Outputs\n",
    "letter_grade = "
   ]
  },
  {
   "cell_type": "markdown",
   "id": "54b00520",
   "metadata": {
    "slideshow": {
     "slide_type": "slide"
    }
   },
   "source": [
    "# 2.2.1. `if` ... _`elif`_ ... `else`"
   ]
  },
  {
   "cell_type": "markdown",
   "id": "07734933",
   "metadata": {},
   "source": [
    "* The `elif` keyword allow additional (boolean) conditions, in case the condition for `if` was `False`\n",
    "* You can have as many `elif`s as you want\n",
    "* Generally, a more **readable** alternative to nested `if`.. `else` statements"
   ]
  },
  {
   "cell_type": "markdown",
   "id": "effd002b",
   "metadata": {},
   "source": [
    "**Syntax**: \n",
    "\n",
    "`if` test expression`:` \n",
    "\n",
    "    Body of if \n",
    "   \n",
    "**`elif`** test expression`:` \n",
    "\n",
    "    Body of elif\n",
    "       \n",
    "`else` `:`  \n",
    "\n",
    "    Body of else "
   ]
  },
  {
   "cell_type": "markdown",
   "id": "fd97da83",
   "metadata": {
    "slideshow": {
     "slide_type": "slide"
    }
   },
   "source": [
    "## 2.2.2. `elif` flowchart\n",
    "![Elif](https://cdn.programiz.com/sites/tutorial2program/files/Python_if_elif_else_statement.jpg)"
   ]
  },
  {
   "cell_type": "code",
   "execution_count": null,
   "id": "30460908",
   "metadata": {
    "slideshow": {
     "slide_type": "slide"
    }
   },
   "outputs": [],
   "source": [
    "\"\"\"Elif example\"\"\"\n",
    "\n",
    "a = 33\n",
    "b = 33\n",
    "\n",
    "if b > a:\n",
    "    print(\"b is greater than a\")\n",
    "elif a < b:\n",
    "    print(\"b is less than a\")\n",
    "else:\n",
    "    print(\"a and b are equal\")"
   ]
  },
  {
   "cell_type": "markdown",
   "id": "3b5fe77d",
   "metadata": {
    "slideshow": {
     "slide_type": "slide"
    }
   },
   "source": [
    "|Criteria | Letter Grade |\n",
    "|--------------|-|\n",
    "| Total points ≥ 90% | A | \n",
    "| 80% ≤ Total points < 90% |B |  \n",
    "| 70% ≤ Total points < 80% |C | \n",
    "| 60% ≤ Total points < 70% |D | \n",
    "| Total points < 60% |F | "
   ]
  },
  {
   "cell_type": "code",
   "execution_count": null,
   "id": "c5c73843",
   "metadata": {},
   "outputs": [],
   "source": [
    "\"\"\"Implement the letter grade \n",
    "table above, using if-elif-else\n",
    "\"\"\"\n",
    "\n",
    "#Inputs\n",
    "total_points = \n",
    "\n",
    "#Outputs\n",
    "letter_grade = "
   ]
  },
  {
   "cell_type": "markdown",
   "id": "bbebefe7",
   "metadata": {
    "slideshow": {
     "slide_type": "slide"
    }
   },
   "source": [
    "# 2.2.3. Remember `bool()` from Lecture 1.3?"
   ]
  },
  {
   "cell_type": "markdown",
   "id": "b1fa1402",
   "metadata": {},
   "source": [
    "* Refresher: Built-in function that allows explicit casting to `boolean` type\n",
    "* Refresher: For which inputs, does it cast to `True`? What does it cast to `False`?\n",
    "\n",
    "\n",
    "* **When the `if` and/or `elif` conditions are NOT boolean expressions, Python automatically casts the expression following `if` and/or `elif` to `bool`**\n",
    "\n",
    "    * <span style=\"color:red\"><b>PLEASE NEVER DO THIS! <b></span>\n",
    "    * ALWAYS have a boolean expression with `if` and/or `elif`"
   ]
  },
  {
   "cell_type": "code",
   "execution_count": 12,
   "id": "2cbbc35b",
   "metadata": {
    "slideshow": {
     "slide_type": "slide"
    }
   },
   "outputs": [
    {
     "name": "stdout",
     "output_type": "stream",
     "text": [
      "  \n"
     ]
    }
   ],
   "source": [
    "a = \"Fahad\"\n",
    "b = \"Sultan\"\n",
    "if a:\n",
    "    print(a)\n",
    "else:\n",
    "    print(b)"
   ]
  },
  {
   "cell_type": "markdown",
   "id": "08c875e0",
   "metadata": {},
   "source": [
    "# Week 2 - Practice Problems (implement using if-else)"
   ]
  },
  {
   "cell_type": "markdown",
   "id": "8d61bb47",
   "metadata": {},
   "source": [
    "<span style=\"color:red\">Please **re-implement** solutions to the following problems from previous classes, labs and assignments, **now using if ... else statements**</span>"
   ]
  },
  {
   "cell_type": "markdown",
   "id": "34c98f08",
   "metadata": {
    "slideshow": {
     "slide_type": "slide"
    }
   },
   "source": [
    "\n",
    "## Q1. Tip 20% for good service, tip 10% otherwise (from Lecture 1.3.)"
   ]
  },
  {
   "cell_type": "code",
   "execution_count": 2,
   "id": "a40e7930",
   "metadata": {},
   "outputs": [
    {
     "name": "stdout",
     "output_type": "stream",
     "text": [
      "Our bill is $100. How much should we tip? Was the service good? No\n",
      "Let's tip $ 10.0\n"
     ]
    }
   ],
   "source": [
    "cheque_amount = 100\n",
    "\n",
    "service_quality = input(\"Our bill is $\"+str(cheque_amount)+\". How much should we tip? Was the service good? \")\n",
    "\n",
    "# #True if input is \"Yes\"\n",
    "good_service = service_quality == \"Yes\"\n",
    "\n",
    "bad_service  = not good_service\n",
    "\n",
    "twenty_percent_tip = 0.2 * cheque_amount\n",
    "ten_percent_tip    = 0.1 * cheque_amount\n",
    "\n",
    "tip = (good_service * twenty_percent_tip) + (bad_service * ten_percent_tip)\n",
    "\n",
    "print(\"Let's tip $\", tip)"
   ]
  },
  {
   "cell_type": "markdown",
   "id": "af3d3733",
   "metadata": {},
   "source": [
    "## Q2. Round a floating point number, without using `round()` (from Week-1 lab)\n",
    "\n",
    "* Assume inputs are always positive and you are to only round to the nearest integer (no digit precision).\n",
    "\n",
    "* Round up (ceil) for .5"
   ]
  },
  {
   "cell_type": "code",
   "execution_count": null,
   "id": "443b2458",
   "metadata": {},
   "outputs": [],
   "source": [
    "#Input\n",
    "float_number = 7.6\n",
    "\n",
    "#Insert your line(s) of code here\n",
    "\n",
    "#Output\n",
    "rounded = "
   ]
  },
  {
   "cell_type": "markdown",
   "id": "e13287ce",
   "metadata": {},
   "source": [
    "## Q3. Convert time from 12-hr. format to 24-hr. format (Q2 from Assignment 1)\n",
    "\n",
    "Given three _**integers**_ `clock_12hrs_hrs`, `clock_12hrs_mins` and `pm` representing hours, minutes and AM/PM respectively in 12-hour time format, set integers `clock_24hrs_hrs` and `clock_24hrs_mins` to corresponding hours and minutes in 24-hour format time. \n",
    "\n",
    "`pm` $=0$ indicates input time is AM and `pm` $= 1$ means otherwise.\n",
    "\n",
    "Feel free to introduce new variables, as needed.\n",
    "\n",
    "_Constraints on input:_ \\\n",
    "$0 \\leq $ `pm` $ \\leq 1$ \\\n",
    "$1 \\leq $ `clock_12hrs_hrs` $\\leq 12$ \\\n",
    "$ 0 \\leq $ `clock_12hrs_mins` $ \\lt 60 $\n",
    "\n",
    "\n",
    "**Example 1** \\\n",
    "_Input : 7:30 PM_ \\\n",
    "`clock_12hrs_hrs  = 7` \\\n",
    "`clock_12hrs_mins = 30` \\\n",
    "`pm = 1`\n",
    "\n",
    "_Outputs: 19:30_ \\\n",
    "`clock_24hrs_hrs = 19`\\\n",
    "`clock_24hrs_mins = 30` \n",
    "\n",
    "**Example 2** \\\n",
    "_Input : 3:14 AM_ \\\n",
    "`clock_12hrs_hrs  = 3` \\\n",
    "`clock_12hrs_mins = 14`\\\n",
    "`pm = 0`\n",
    "\n",
    "_Outputs: 3:14_ \\\n",
    "`clock_24hrs_hrs = 3` \\\n",
    "`clock_24hrs_mins = 14`\n",
    "\n",
    "**Example 3** \\\n",
    "_Input : 12:00 PM_ \\\n",
    "`clock_12hrs_hrs  = 12` \\\n",
    "`clock_12hrs_mins = 0`\\\n",
    "`pm = 1`\n",
    "\n",
    "_Outputs: 12:00_ \\\n",
    "`clock_24hrs_hrs = 12` \\\n",
    "`clock_24hrs_mins = 0`\n",
    "\n",
    "**Example 4** \\\n",
    "_Input : 12:00 AM_ \\\n",
    "`clock_12hrs_hrs  = 12` \\\n",
    "`clock_12hrs_mins = 0`\\\n",
    "`pm = 0`\n",
    "\n",
    "_Outputs: 0:00_ \\\n",
    "`clock_24hrs_hrs = 0` \\\n",
    "`clock_24hrs_mins = 0`\n",
    "\n",
    "_**Make sure you test your code for inputs other than the ones provided above**_"
   ]
  },
  {
   "cell_type": "code",
   "execution_count": null,
   "id": "6d515357",
   "metadata": {},
   "outputs": [],
   "source": [
    "\"\"\" Inputs \"\"\"\n",
    "clock_12hrs_hrs   = 12  # Test for values: 1, 2, 3,...., 10, 11, 12\n",
    "clock_12hrs_mins  = 0 # Test for values: 0, 1, 2, 3,...., 57, 58, 59 \n",
    "pm                = 0  # Test for values: 0, 1\n",
    "\n",
    "\"\"\"Insert your lines of code here\n",
    "\n",
    "Outputs\n",
    "------- \n",
    "\"\"\"\n",
    "\n",
    "\n",
    "clock_24hrs_hrs  = clock_12hrs_hrs % 12 + 12*pm\n",
    "clock_24hrs_mins = clock_12hrs_mins\n",
    "\n",
    "print(\"Inputs: \", clock_12hrs_hrs, clock_12hrs_mins, pm)\n",
    "print(\"Outputs: \",  clock_24hrs_hrs, clock_24hrs_mins)"
   ]
  },
  {
   "cell_type": "code",
   "execution_count": null,
   "id": "08c6b93c",
   "metadata": {},
   "outputs": [],
   "source": []
  }
 ],
 "metadata": {
  "celltoolbar": "Slideshow",
  "kernelspec": {
   "display_name": "Python 3 (ipykernel)",
   "language": "python",
   "name": "python3"
  },
  "language_info": {
   "codemirror_mode": {
    "name": "ipython",
    "version": 3
   },
   "file_extension": ".py",
   "mimetype": "text/x-python",
   "name": "python",
   "nbconvert_exporter": "python",
   "pygments_lexer": "ipython3",
   "version": "3.9.12"
  }
 },
 "nbformat": 4,
 "nbformat_minor": 5
}
