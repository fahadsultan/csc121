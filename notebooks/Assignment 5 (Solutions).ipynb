{
 "cells": [
  {
   "cell_type": "markdown",
   "id": "144aa295",
   "metadata": {},
   "source": [
    "# Question 1. "
   ]
  },
  {
   "cell_type": "markdown",
   "id": "bf0ecbc5",
   "metadata": {},
   "source": [
    "Write a function `sum_of_power_of_digits` that takes as input an integer greater than 2 `n` and returns the smallest number `i` such that it can be written as the sum of nth power of its digits. \n",
    "\n",
    "For example, \n",
    "\n",
    "For input `n=4`, the function should return `1634` since it is the smallest number that can be written as the sum of fourth power of its digits i.e.\n",
    "\n",
    "$1634 = 1^4 + 6^4 + 3^4 + 4^4$\n",
    "\n",
    "As $1 = 1^4$ is not a sum, it is not included.\n",
    "\n",
    "\n",
    "Similarly, for input `n=5`, the function should output `4150` since: \n",
    "\n",
    "$4150 = 4^5 + 1^5 + 5^5 + 0^5$"
   ]
  },
  {
   "cell_type": "code",
   "execution_count": 1,
   "id": "1f5061ba",
   "metadata": {},
   "outputs": [],
   "source": [
    "def sum_of_power_of_digits(n):\n",
    "    if type(n) != int:\n",
    "        raise TypeError(\"Input must be an integer\")\n",
    "    if n <= 2:\n",
    "        raise ValueError(\"Input must be an integer greater than 2\")\n",
    "    \n",
    "    i = 2\n",
    "    while i > 0:\n",
    "        j = i\n",
    "        \n",
    "        sum_i = 0\n",
    "        while j != 0:\n",
    "            digit = j % 10 \n",
    "            sum_i = sum_i + digit**n\n",
    "            j = j // 10\n",
    "        if sum_i == i:\n",
    "            break\n",
    "        i = i + 1\n",
    "    return i"
   ]
  },
  {
   "cell_type": "code",
   "execution_count": 2,
   "id": "ab17c5ca",
   "metadata": {},
   "outputs": [
    {
     "name": "stdout",
     "output_type": "stream",
     "text": [
      "Test case 1 passed\n",
      "Test case 2 passed\n",
      "Test case 3 passed\n",
      "Test case 4 passed\n",
      "Test case 5 passed\n"
     ]
    }
   ],
   "source": [
    "assert sum_of_power_of_digits(3) == 153,      \"Test case 1 failed\"\n",
    "print(\"Test case 1 passed\")\n",
    "assert sum_of_power_of_digits(4) == 1634,     \"Test case 2 failed\"\n",
    "print(\"Test case 2 passed\")\n",
    "assert sum_of_power_of_digits(5) == 4150,     \"Test case 3 failed\"\n",
    "print(\"Test case 3 passed\")\n",
    "assert sum_of_power_of_digits(6) == 548834,   \"Test case 4 failed\"\n",
    "print(\"Test case 4 passed\")\n",
    "assert sum_of_power_of_digits(7) == 1741725,  \"Test case 5 failed\"\n",
    "print(\"Test case 5 passed\")\n",
    "assert sum_of_power_of_digits(8) == 24678050, \"Test case 6 failed\"\n",
    "print(\"Test case 6 passed\")"
   ]
  },
  {
   "cell_type": "markdown",
   "id": "8938ef3a",
   "metadata": {},
   "source": [
    "# Question 2. Goldbach's _unproven_ conjecture"
   ]
  },
  {
   "cell_type": "markdown",
   "id": "88d2d208",
   "metadata": {},
   "source": [
    "Goldbach's conjecture is one of the oldest and best-known unsolved problems in number theory and all of mathematics. \n",
    "\n",
    "It states that every even natural number greater than 2 is the sum of two prime numbers.\n",
    "\n",
    "Write a function `goldbach` that takes as input `num` (integer greater than 2) and finds two prime numbers `i` and `j` and return the product of `i` and `j`: `i*j`, such that the following two conditions are satisfied:\n",
    "\n",
    "1. `num=i+j`\n",
    "\n",
    "\n",
    "2. There may exist **more than one way to express the input** `num` as the sum of two primes. \n",
    "\n",
    "    For instance, there are two ways to express 10: i) `5 + 5` and ii) `3 + 7` \n",
    "\n",
    "    Similarly, there are four ways to express 50: i) `19 + 31`, ii) `13 + 37`, iii) `7 + 43` and iv) `3 + 47`.\n",
    "\n",
    "    In this function, you are expected to identify `i` and `j` such that their product is the **smallest one**, amongst all possibilities. \n",
    "\n",
    "    For input `num=10`, output should be `21` (`3*7` from the fact `10 = 3+7`) and NOT `25` (`5*5` from `10 = 5+5`)\n",
    "\n",
    "    Similarly, for input `num=50`, output should be `141` (3\\*47 from the fact 50 = 3+47)\n",
    "    \n",
    "    _Simply counting up in your nested loops should accomplish the second condition_"
   ]
  },
  {
   "cell_type": "code",
   "execution_count": 1,
   "id": "f0f8e580",
   "metadata": {},
   "outputs": [],
   "source": [
    "def is_prime(num):\n",
    "    if num <= 2:\n",
    "        return True\n",
    "    \n",
    "    not_prime = True\n",
    "    i = 2\n",
    "    while i < num:\n",
    "        if num % i == 0:\n",
    "            not_prime = False\n",
    "            break\n",
    "        i = i + 1\n",
    "    return not_prime"
   ]
  },
  {
   "cell_type": "code",
   "execution_count": 24,
   "id": "a28e89da",
   "metadata": {},
   "outputs": [],
   "source": [
    "def goldbach(num):\n",
    "    if type(num) != int:\n",
    "        raise TypeError(\"Only integers allowed\")\n",
    "    if num <= 2:\n",
    "        raise ValueError(\"Only integers > 2 allowed\")\n",
    "        \n",
    "    result = None\n",
    "    flag = False\n",
    "    \n",
    "    i = 1\n",
    "    while i <= num:\n",
    "        j = i\n",
    "        while is_prime(i) and (j <= num): \n",
    "            if is_prime(j) and (i+j == num):\n",
    "                result = i * j\n",
    "                flag = True \n",
    "                break\n",
    "            \n",
    "            j = j + 1\n",
    "            \n",
    "        if flag == True:\n",
    "            break\n",
    "        \n",
    "        i = i + 1\n",
    "            \n",
    "    return (i, j, result)"
   ]
  },
  {
   "cell_type": "code",
   "execution_count": null,
   "id": "c68e1a61",
   "metadata": {},
   "outputs": [],
   "source": [
    "assert goldbach(4)   == 3,   \"Test case 1 failed\"  # 4 = 1 + 3\n",
    "assert goldbach(10)  == 21,  \"Test case 2 failed\"  # 10 = 1 + 3\n",
    "assert goldbach(22)  == 57,  \"Test case 3 failed\"  # 22 = 3 + 19\n",
    "assert goldbach(50)  == 141, \"Test case 4 failed\"  # 50 = 3 + 47\n",
    "assert goldbach(100) == 291, \"Test case 5 failed\"  # 100 = 3 + 97"
   ]
  },
  {
   "cell_type": "markdown",
   "id": "af9909d1",
   "metadata": {},
   "source": [
    "# Question 3. Goldbach's _disproven_ conjecture\n",
    "\n",
    "Composite numbers are numbers that are not prime. \n",
    "\n",
    "It was proposed by Christian Goldbach that every odd composite number can be written as the sum of a prime and twice a square.\n",
    "\n",
    "$9 = \\mathbf{7} + 2×\\mathbf{1}^2$\n",
    "\n",
    "$15 = \\mathbf{7} + 2×\\mathbf{2}^2$\n",
    "\n",
    "$21 = \\mathbf{3} + 2×\\mathbf{3}^2$\n",
    "\n",
    "$25 = \\mathbf{7} + 2×\\mathbf{3}^2$\n",
    "\n",
    "$27 = \\mathbf{19} + 2×\\mathbf{2}^2$\n",
    "\n",
    "$33 = \\mathbf{31} + 2×\\mathbf{1}^2$\n",
    "\n",
    "\n",
    "It turns out that the conjecture was false.\n",
    "\n",
    "The smallest odd composite number that cannot be written as the sum of a prime and twice a square is 5777. "
   ]
  },
  {
   "cell_type": "code",
   "execution_count": 69,
   "id": "219304f7",
   "metadata": {},
   "outputs": [
    {
     "name": "stdout",
     "output_type": "stream",
     "text": [
      "7 2 14\n",
      "3 3 9\n",
      "7 3 21\n",
      "19 2 38\n",
      "1 4 4\n"
     ]
    }
   ],
   "source": [
    "def goldbach2(num):\n",
    "    if type(num) != int:\n",
    "        raise TypeError(\"Only integers allowed\")\n",
    "    if num <= 2:\n",
    "        raise ValueError(\"Only integers > 2 allowed\")\n",
    "    if num % 2 == 0:\n",
    "        raise ValueError(\"The input must be an odd number\")\n",
    "    if is_prime(num)==True:\n",
    "        raise ValueError(\"The input must be a composite (not a prime) number\")\n",
    "        \n",
    "    result = None\n",
    "    flag = False\n",
    "    \n",
    "    i = 1\n",
    "    while i <= num:\n",
    "        j = 1\n",
    "        while is_prime(i)==True and (j <= num): \n",
    "            if (i+(2*(j**2)) == num):\n",
    "                result = i * j\n",
    "                flag = True\n",
    "                break\n",
    "            \n",
    "            j = j + 1\n",
    "            \n",
    "        if flag == True:\n",
    "            break\n",
    "        \n",
    "        i = i + 1\n",
    "            \n",
    "    print(i, j, result)\n",
    "    return result\n",
    "\n",
    "assert goldbach2(15) == 14 #  i = 7,  j = 2  i.e. 15 = 7   +  2*(2**2)\n",
    "assert goldbach2(21) == 9  #  i = 3,  j = 3  i.e. 21 = 3   +  2*(3**2)\n",
    "assert goldbach2(25) == 21 #  i = 7,  j = 3  i.e. 25 = 7   +  2*(3**2)\n",
    "assert goldbach2(27) == 38 #  i = 19, j = 2  i.e. 27 = 19  +  2*(2**2)\n",
    "assert goldbach2(33) == 4  #  i = 1,  j = 4  i.e. 33 = 1   +  2*(4**2)"
   ]
  }
 ],
 "metadata": {
  "kernelspec": {
   "display_name": "Python 3 (ipykernel)",
   "language": "python",
   "name": "python3"
  },
  "language_info": {
   "codemirror_mode": {
    "name": "ipython",
    "version": 3
   },
   "file_extension": ".py",
   "mimetype": "text/x-python",
   "name": "python",
   "nbconvert_exporter": "python",
   "pygments_lexer": "ipython3",
   "version": "3.9.12"
  }
 },
 "nbformat": 4,
 "nbformat_minor": 5
}
