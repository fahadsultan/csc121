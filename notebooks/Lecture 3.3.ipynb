{
 "cells": [
  {
   "cell_type": "code",
   "execution_count": 8,
   "id": "4c3754fd",
   "metadata": {},
   "outputs": [],
   "source": [
    "primes = []\n",
    "for number in range(1, 100):\n",
    "    prime     = True\n",
    "\n",
    "    if number <= 1:\n",
    "        prime = False\n",
    "\n",
    "    if number > 2 and number % 2 == 0:\n",
    "        prime = False\n",
    "\n",
    "    if number > 3 and number % 3 == 0:\n",
    "        prime = False\n",
    "\n",
    "    if number > 4 and number % 4 == 0:\n",
    "        prime = False\n",
    "\n",
    "    if number > 5 and number % 5 == 0:\n",
    "        prime = False\n",
    "\n",
    "    if number > 6 and number % 6 == 0:\n",
    "        prime = False\n",
    "\n",
    "    if number > 7 and number % 7 == 0:\n",
    "        prime = False\n",
    "    \n",
    "    if prime==True:\n",
    "        primes.append(number)"
   ]
  },
  {
   "cell_type": "code",
   "execution_count": null,
   "id": "a88c8cca",
   "metadata": {},
   "outputs": [],
   "source": [
    "if number <= 1:\n",
    "    prime = False\n",
    "\n",
    "elif number > 2 and number % 2 == 0:\n",
    "    prime = False\n",
    "\n",
    "elif number > 3 and number % 3 == 0:\n",
    "    prime = False\n",
    "\n",
    "elif number > 4 and number % 4 == 0:\n",
    "    prime = False\n",
    "\n",
    "elif number > 5 and number % 5 == 0:\n",
    "    prime = False\n",
    "\n",
    "elif number > 6 and number % 6 == 0:\n",
    "    prime = False\n",
    "\n",
    "elif number > 7 and number % 7 == 0:\n",
    "    prime = False\n",
    "\n",
    "else:\n",
    "    prime = True"
   ]
  },
  {
   "cell_type": "code",
   "execution_count": null,
   "id": "252b02e4",
   "metadata": {},
   "outputs": [],
   "source": [
    "# Type of triangle Definition\n",
    "# obtuse c2 > a2 + b2\n",
    "# right c2 = a2 + b2\n",
    "# acute c2 < a2 + b2\n",
    "# equilateral a, b and c are all equal\n",
    "# isosceles Among a, b, c, two are equal\n",
    "# scalene a, b and c are all different"
   ]
  },
  {
   "cell_type": "code",
   "execution_count": null,
   "id": "6c9c411a",
   "metadata": {},
   "outputs": [],
   "source": [
    "a == 2 and b == 3 and c == 4\n",
    "\n",
    "elif a=b or b=c or c=a:\n",
    "     \"isoceles\" == triangle1\n",
    "elif a=b and b=c:\n",
    "    \"equilateral\" == triangle1\n",
    "elif a!=b and b!=c and c!=a:\n",
    "    \"scalene\" == triangle1\n",
    "    \n",
    "print(triangle1)\n",
    "\n",
    "elif (a > b) and (a > c):\n",
    "    a == z  and b == x and c == y \n",
    "elif (b > a) and (b > c):\n",
    "    b == z and a == x and c == y\n",
    "elif:\n",
    "    c == z and a == x and b == y\n",
    "    \n",
    "\n",
    "elif z**2 = x**2 + y**2:\n",
    "    \"right angle\" == triangle2\n",
    "elif z**2 > x**2 + y**2:\n",
    "    \"obtuse\" == triangle2\n",
    "elif z**2 < x**2 + y**2:\n",
    "    \"acute\" == triangle2\n",
    "    \n",
    "print(triangle2)"
   ]
  },
  {
   "cell_type": "code",
   "execution_count": null,
   "id": "f66280c1",
   "metadata": {},
   "outputs": [],
   "source": [
    "a = 2\n",
    "b = 3\n",
    "c = 4\n",
    "\n",
    "\n",
    "if a==b or b==c or c==a:\n",
    "    print(\"isoceles\")\n",
    "    \n",
    "elif a==b and b==c:\n",
    "    print(\"equilateral\")\n",
    "    \n",
    "elif a!=b and b!=c and c!=a:\n",
    "    print(\"scalene\")"
   ]
  }
 ],
 "metadata": {
  "kernelspec": {
   "display_name": "Python 3 (ipykernel)",
   "language": "python",
   "name": "python3"
  },
  "language_info": {
   "codemirror_mode": {
    "name": "ipython",
    "version": 3
   },
   "file_extension": ".py",
   "mimetype": "text/x-python",
   "name": "python",
   "nbconvert_exporter": "python",
   "pygments_lexer": "ipython3",
   "version": "3.9.12"
  }
 },
 "nbformat": 4,
 "nbformat_minor": 5
}
