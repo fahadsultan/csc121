{
 "cells": [
  {
   "cell_type": "markdown",
   "id": "e6ec39da",
   "metadata": {
    "slideshow": {
     "slide_type": "slide"
    }
   },
   "source": [
    "<center>\n",
    "    <h1> CSC-121 EXAM 3 (PRACTICE)</h1>\n",
    "</center>\n",
    "\n",
    "<hr/>\n",
    "\n",
    "### Instructions: \n",
    "\n",
    "First things first,\n",
    "\n",
    "* _Turn off your phones and place them on your desk, facing down._\n",
    "* _No notes, email, messaging apps or searching on the internet. Only this Jupyter notebook file and/or Moodle are permitted during the exam._\n",
    "* _**For what it's worth, you should know that there are 3 versions of this exam.**_\n",
    "* _Submit only the version that you downloaded from Moodle. Any submission other than the one assigned to you will be considered an academic violation._\n",
    "* _All academic integrity violations will be immediately reported to the Furman Academic Disciplinary Committee with a recommendation of <span style=\"color:red; font-size:large\"><b>F</b></span> in the exam and possibly in the course._\n",
    "\n",
    "Now, \n",
    "* _If you have any questions, raise your hand_. \n",
    "* _If you have made any assumptions, state so clearly in the comments of your code_.  \n",
    "* _You will be given partial credit, so try your best to solve the given problems and don't leave any cells empty_.\n",
    "* _USE ONLY CONCEPTS COVERED IN CLASS_. \n",
    "\n",
    "<hr/>"
   ]
  },
  {
   "cell_type": "markdown",
   "id": "e8480cd9",
   "metadata": {
    "slideshow": {
     "slide_type": "slide"
    }
   },
   "source": [
    "\n",
    "# Question 1. Fix the following function  \n",
    "\n",
    "\n",
    "Write a function **`left_triangle`** that takes one input `n` and prints a triangle of numbers from `1-n` as shown below. \n",
    "\n",
    "The input `n` must be an integer from `1` to `9`. \n",
    "\n",
    "For any other input, **`raise`** an appropriate Error with an informative error message. \n",
    "\n",
    "~~Use the provided **`print_same_line(x)`** function to print on the same line and the provided **`go_to_newline()`** function to go to next line. ~~\n",
    "\n",
    "<hr />\n",
    "\n",
    "**Example 1**: \\\n",
    "_Input_: `n=4` \\\n",
    "_Ouput_: \n",
    "\n",
    "1\\\n",
    "22\\\n",
    "333\\\n",
    "4444\n",
    "<hr /> \n",
    "\n",
    "\n",
    "**_Fix \"bugs\" in the provided function definition so all test cases below pass successfully._**\n"
   ]
  },
  {
   "cell_type": "code",
   "execution_count": null,
   "id": "91b96ffb",
   "metadata": {
    "slideshow": {
     "slide_type": "slide"
    }
   },
   "outputs": [],
   "source": [
    "def print_same_line(x):\n",
    "    print(x, end='')\n",
    "    \n",
    "def go_to_newline():\n",
    "    print('\\n')\n",
    "\n",
    "def left_triangle(n):\n",
    "    i = 1\n",
    "    while i <= n:\n",
    "        j = 1\n",
    "        while j <= i:\n",
    "            print(i, end='')\n",
    "        print() #newline \n",
    "    return"
   ]
  },
  {
   "cell_type": "code",
   "execution_count": null,
   "id": "62506884",
   "metadata": {},
   "outputs": [],
   "source": [
    "left_triangle(4)"
   ]
  },
  {
   "cell_type": "markdown",
   "id": "73cafd57",
   "metadata": {
    "slideshow": {
     "slide_type": "slide"
    }
   },
   "source": [
    "<br/><hr />\n",
    "\n",
    "# Question 2. Dice Roll 🎲 🎲\n",
    "\n",
    "Implement a function `dice_roll` that simulates the roll of **two dice**. Note that:\n",
    "\n",
    "1. Function takes no input and returns two numbers\n",
    "2. Outcome of roll of a single die is 1-6\n",
    "3. You would need to use the built-in `randint` method for this. \\\n",
    "    Recall that you can \"summon\" (import) the built-in `randomint` method using `from random import randint`"
   ]
  },
  {
   "cell_type": "code",
   "execution_count": null,
   "id": "f65731e5",
   "metadata": {},
   "outputs": [],
   "source": [
    "from random import randint\n",
    "\n",
    "def dice_roll():\n",
    "\n",
    "    "
   ]
  },
  {
   "cell_type": "markdown",
   "id": "e2bfc339",
   "metadata": {
    "slideshow": {
     "slide_type": "slide"
    }
   },
   "source": [
    "### Test Suite Q2"
   ]
  },
  {
   "cell_type": "code",
   "execution_count": null,
   "id": "207dd653",
   "metadata": {},
   "outputs": [],
   "source": [
    "first_die  = []\n",
    "second_die = []\n",
    "i = 0\n",
    "while i < 100:\n",
    "    a, b = dice_roll()\n",
    "    first_die.append(a)\n",
    "    second_die.append(b)\n",
    "    i = i + 1\n",
    "\n",
    "assert (3 <= sum(first_die)/100  <= 4), \"Test case 1 failed\"\n",
    "assert (3 <= sum(second_die)/100 <= 4), \"Test case 2 failed\"\n",
    "assert len(set(first_die)) == 6,        \"Test case 3 failed\"\n",
    "assert len(set(second_die)) == 6,       \"Test case 4 failed\"\n",
    "\n",
    "print(\"All test cases passed successfully\")"
   ]
  },
  {
   "cell_type": "markdown",
   "id": "21af033a",
   "metadata": {
    "slideshow": {
     "slide_type": "slide"
    }
   },
   "source": [
    "<br/><hr />\n",
    "\n",
    "# Question 3. Implement `<` for lists  \n",
    "\n",
    "Implement a function `less_than` that accepts as input two lists `x` and `y` of equal length containing only integers and \\\n",
    "returns a new list `new_list` of same length as `x` and `y` such that:\n",
    "\n",
    "   * **first** element of `new_list` is `True` if **first**  element of `x` is less than **first** element of `y` \n",
    "\n",
    "   * **second** element of `new_list` is `True`if **second** element of `x` is less than  **second** element of `y` \n",
    "\n",
    "   * **third** element of `new_list` is `True`if **third**  element of `x` is less than  **third** element of `y` \n",
    "   * and so on...\n",
    "\n",
    "For example, `x = [1, 7, 3]` and `y = [4, 5, 6]` should return `[True, False, True]` \n",
    "   - since `[1<4, 7<3, 3<6]` = `[True, False, True]`"
   ]
  },
  {
   "cell_type": "code",
   "execution_count": null,
   "id": "261aee40",
   "metadata": {},
   "outputs": [],
   "source": [
    "def less_than(list1, list2):\n",
    "\n",
    "    \n",
    "    return new_list"
   ]
  },
  {
   "cell_type": "code",
   "execution_count": null,
   "id": "5d41a166",
   "metadata": {},
   "outputs": [],
   "source": [
    "assert less_than([1, 2, 3], [4, 5, 6]) == [True, True, True],    \"Test case 1 failed\"\n",
    "assert less_than([4, 5, 6], [1, 2, 3]) == [False, False, False], \"Test case 2 failed\"\n",
    "assert less_than([1, 2, 3], [1, 2, 3]) == [False, False, False], \"Test case 3 failed\"\n",
    "assert less_than([1, 7, 3], [4, 5, 6]) == [True, False, True],   \"Test case 4 failed\"\n",
    "assert less_than([1], [4])             == [True],                \"Test case 5 failed\"\n",
    "\n",
    "print(\"All test cases passed successfully\")"
   ]
  },
  {
   "cell_type": "markdown",
   "id": "d991291f",
   "metadata": {
    "slideshow": {
     "slide_type": "slide"
    }
   },
   "source": [
    "<br/><hr />\n",
    "\n",
    "# Question 4. Where's Waldo? \n",
    "\n",
    "Implement a function `wheres_waldo` that accepts as input a string `text` and returns the index of substring `\"waldo\"`\n",
    "\n",
    "If there are more than one occurrences of the `\"waldo\"` substring, then return the **last occurence**.\n",
    "\n",
    "If there is no `\"waldo\"` in `text` return `-1`\n",
    "\n",
    "For example,\n",
    "\n",
    "`text = \"waldo was wearing his signature red and white hat\"` returns `0`\n",
    "\n",
    "`text = \"where's waldo is a game where you find a mysterious fellow named waldo\"` returns `65`"
   ]
  },
  {
   "cell_type": "code",
   "execution_count": null,
   "id": "94f639b9",
   "metadata": {},
   "outputs": [],
   "source": [
    "def wheres_waldo(text):\n",
    "    \n",
    "    return idx"
   ]
  },
  {
   "cell_type": "code",
   "execution_count": null,
   "id": "3cecbfe0",
   "metadata": {},
   "outputs": [],
   "source": [
    "assert wheres_waldo(\"waldo was wearing his signature red and white hat\") == 0, \"Test case 1 failed\"\n",
    "assert wheres_waldo(\"where's waldo is a game where you find a mysterious fellow named waldo\") == 65, \"Test case 2 failed\"\n",
    "assert wheres_waldo(\"where's waldo\") == 8,                                     \"Test case 3 failed\"\n",
    "assert wheres_waldo(\"where's wally\") == -1,                                    \"Test case 4 failed\"\n",
    "assert wheres_waldo(\"another brick in the wald\") == -1,                        \"Test case 5 failed\"\n",
    "\n",
    "print(\"All test cases passed successfully\")"
   ]
  }
 ],
 "metadata": {
  "celltoolbar": "Slideshow",
  "kernelspec": {
   "display_name": "Python 3 (ipykernel)",
   "language": "python",
   "name": "python3"
  },
  "language_info": {
   "codemirror_mode": {
    "name": "ipython",
    "version": 3
   },
   "file_extension": ".py",
   "mimetype": "text/x-python",
   "name": "python",
   "nbconvert_exporter": "python",
   "pygments_lexer": "ipython3",
   "version": "3.9.12"
  }
 },
 "nbformat": 4,
 "nbformat_minor": 5
}
