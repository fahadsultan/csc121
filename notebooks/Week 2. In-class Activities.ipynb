{
 "cells": [
  {
   "cell_type": "markdown",
   "id": "08c875e0",
   "metadata": {},
   "source": [
    "# Week 2 - Practice Problems (implement using if-else)"
   ]
  },
  {
   "cell_type": "markdown",
   "id": "8d61bb47",
   "metadata": {},
   "source": [
    "<span style=\"color:red\">Please **re-implement** solutions to the following problems from previous classes, labs and assignments, **now using if ... else statements**</span>"
   ]
  },
  {
   "cell_type": "markdown",
   "id": "34c98f08",
   "metadata": {
    "slideshow": {
     "slide_type": "slide"
    }
   },
   "source": [
    "\n",
    "## Q1. Tip 20% for good service, tip 10% otherwise (from Lecture 1.3.)"
   ]
  },
  {
   "cell_type": "code",
   "execution_count": null,
   "id": "a40e7930",
   "metadata": {},
   "outputs": [],
   "source": [
    "cheque_amount = 100\n",
    "\n",
    "service_quality = input(\"Our bill is $\"+str(cheque_amount)+\". How much should we tip? Was the service good? \")\n",
    "\n",
    "# #True if input is \"Yes\"\n",
    "good_service = service_quality == \"Yes\"\n",
    "\n",
    "bad_service  = not good_service\n",
    "\n",
    "twenty_percent_tip = 0.2 * cheque_amount\n",
    "ten_percent_tip    = 0.1 * cheque_amount\n",
    "\n",
    "tip = (good_service * twenty_percent_tip) + (bad_service * ten_percent_tip)\n",
    "\n",
    "print(\"Let's tip $\", tip)"
   ]
  },
  {
   "cell_type": "markdown",
   "id": "af3d3733",
   "metadata": {},
   "source": [
    "## Q2. Round a floating point number, without using `round()` (from week-1 lab)\n",
    "\n",
    "* Assume inputs are always positive and you are to only round to the nearest integer (no digit precision).\n",
    "\n",
    "* Round up (ceil) for .5"
   ]
  },
  {
   "cell_type": "code",
   "execution_count": null,
   "id": "443b2458",
   "metadata": {},
   "outputs": [],
   "source": [
    "#Input\n",
    "float_number = 7.6\n",
    "\n",
    "#Insert your line(s) of code here\n",
    "\n",
    "#Output\n",
    "rounded = "
   ]
  },
  {
   "cell_type": "markdown",
   "id": "e13287ce",
   "metadata": {},
   "source": [
    "## Q3. Convert time from 12-hr. format to 24-hr. format (Q2 from Assignment 1)\n",
    "\n",
    "Given three _**integers**_ `clock_12hrs_hrs`, `clock_12hrs_mins` and `pm` representing hours, minutes and AM/PM respectively in 12-hour time format, set integers `clock_24hrs_hrs` and `clock_24hrs_mins` to corresponding hours and minutes in 24-hour format time. \n",
    "\n",
    "`pm` $=0$ indicates input time is AM and `pm` $= 1$ means otherwise.\n",
    "\n",
    "Feel free to introduce new variables, as needed.\n",
    "\n",
    "_Constraints on input:_ \\\n",
    "$0 \\leq $ `pm` $ \\leq 1$ \\\n",
    "$1 \\leq $ `clock_12hrs_hrs` $\\leq 12$ \\\n",
    "$ 0 \\leq $ `clock_12hrs_mins` $ \\lt 60 $\n",
    "\n",
    "\n",
    "**Example 1** \\\n",
    "_Input : 7:30 PM_ \\\n",
    "`clock_12hrs_hrs  = 7` \\\n",
    "`clock_12hrs_mins = 30` \\\n",
    "`pm = 1`\n",
    "\n",
    "_Outputs: 19:30_ \\\n",
    "`clock_24hrs_hrs = 19`\\\n",
    "`clock_24hrs_mins = 30` \n",
    "\n",
    "**Example 2** \\\n",
    "_Input : 3:14 AM_ \\\n",
    "`clock_12hrs_hrs  = 3` \\\n",
    "`clock_12hrs_mins = 14`\\\n",
    "`pm = 0`\n",
    "\n",
    "_Outputs: 3:14_ \\\n",
    "`clock_24hrs_hrs = 3` \\\n",
    "`clock_24hrs_mins = 14`\n",
    "\n",
    "**Example 3** \\\n",
    "_Input : 12:00 PM_ \\\n",
    "`clock_12hrs_hrs  = 12` \\\n",
    "`clock_12hrs_mins = 0`\\\n",
    "`pm = 1`\n",
    "\n",
    "_Outputs: 12:00_ \\\n",
    "`clock_24hrs_hrs = 12` \\\n",
    "`clock_24hrs_mins = 0`\n",
    "\n",
    "**Example 4** \\\n",
    "_Input : 12:00 AM_ \\\n",
    "`clock_12hrs_hrs  = 12` \\\n",
    "`clock_12hrs_mins = 0`\\\n",
    "`pm = 0`\n",
    "\n",
    "_Outputs: 0:00_ \\\n",
    "`clock_24hrs_hrs = 0` \\\n",
    "`clock_24hrs_mins = 0`\n",
    "\n",
    "_**Make sure you test your code for inputs other than the ones provided above**_"
   ]
  },
  {
   "cell_type": "code",
   "execution_count": null,
   "id": "6d515357",
   "metadata": {},
   "outputs": [],
   "source": [
    "\"\"\" Inputs \"\"\"\n",
    "clock_12hrs_hrs   = 12  # Test for values: 1, 2, 3,...., 10, 11, 12\n",
    "clock_12hrs_mins  = 0 # Test for values: 0, 1, 2, 3,...., 57, 58, 59 \n",
    "pm                = 0  # Test for values: 0, 1\n",
    "\n",
    "\"\"\"Insert your lines of code here\n",
    "\n",
    "Outputs\n",
    "------- \n",
    "\"\"\"\n",
    "\n",
    "\n",
    "clock_24hrs_hrs  = clock_12hrs_hrs % 12 + 12*pm\n",
    "clock_24hrs_mins = clock_12hrs_mins\n",
    "\n",
    "print(\"Inputs: \", clock_12hrs_hrs, clock_12hrs_mins, pm)\n",
    "print(\"Outputs: \",  clock_24hrs_hrs, clock_24hrs_mins)"
   ]
  }
 ],
 "metadata": {
  "kernelspec": {
   "display_name": "Python 3 (ipykernel)",
   "language": "python",
   "name": "python3"
  },
  "language_info": {
   "codemirror_mode": {
    "name": "ipython",
    "version": 3
   },
   "file_extension": ".py",
   "mimetype": "text/x-python",
   "name": "python",
   "nbconvert_exporter": "python",
   "pygments_lexer": "ipython3",
   "version": "3.9.12"
  }
 },
 "nbformat": 4,
 "nbformat_minor": 5
}
