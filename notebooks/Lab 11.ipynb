{
 "cells": [
  {
   "cell_type": "markdown",
   "id": "765cefb3",
   "metadata": {},
   "source": [
    "# Question 1. Find Median\n",
    "\n",
    "Median is the value in the **middle** of a **sorted** data set, meaning that \n",
    "\n",
    "* 50% of data points have a value smaller or equal to the median _and_\n",
    "* 50% of data points have a value higher  or equal to the median\n",
    "\n",
    "Implement a function `get_median` that accepts as input a sorted list of integers and returns the median of the list. \n",
    "\n",
    "If the input list is of odd length, return the middle element of the list. \\\n",
    "For example, for `listt = [1, 2, 3, 4, 5]` the function should return `3` \n",
    "\n",
    "If the input list is of **even length**, return the simple **average** of the **middle two elements**. \\\n",
    "For example, for `listt = [1, 2, 3, 4]`,   the function should return `2.5` (from `(2+3)/2`)\n"
   ]
  },
  {
   "cell_type": "code",
   "execution_count": null,
   "id": "16251e65",
   "metadata": {},
   "outputs": [],
   "source": [
    "def find_median(listt):\n",
    "    \n",
    "    \n",
    "    return median"
   ]
  },
  {
   "cell_type": "code",
   "execution_count": null,
   "id": "52b1ae95",
   "metadata": {},
   "outputs": [],
   "source": [
    "assert find_median([1, 2, 3, 4, 5]) == 3,   \"Test case 1 failed\"\n",
    "assert find_median([1, 2, 3, 4])    == 2.5, \"Test case 2 failed\"\n",
    "assert find_median([1])             == 1,   \"Test case 3 failed\"\n",
    "assert find_median([2, 2])          == 2,   \"Test case 4 failed\"\n",
    "assert find_median([1/2, 1/2])      == 0.5, \"Test case 5 failed\"\n",
    "\n",
    "print(\"All test cases passed successfully\")"
   ]
  },
  {
   "cell_type": "markdown",
   "id": "814216c3",
   "metadata": {},
   "source": [
    "# Question 2. Merge two Sorted Lists"
   ]
  },
  {
   "cell_type": "markdown",
   "id": "c3681aab",
   "metadata": {},
   "source": [
    "Implement a function `merge_sorted` that accepts as input two lists of equal length `a` and `b` such that `len(a) == len(b)` and  both sorted in ascending order and merges the two such that the merged list is also sorted. "
   ]
  },
  {
   "cell_type": "code",
   "execution_count": null,
   "id": "c6db993a",
   "metadata": {},
   "outputs": [],
   "source": [
    "def merge_sort(a, b):\n",
    "\n",
    "    \n",
    "    return merged_list"
   ]
  },
  {
   "cell_type": "code",
   "execution_count": null,
   "id": "578adced",
   "metadata": {},
   "outputs": [],
   "source": [
    "assert merge_sort([1, 3, 5], [2, 4, 6]) == [1, 2, 3, 4, 5, 6], \"Test case 1 failed\"\n",
    "assert merge_sort([1, 2, 3], [4, 5, 6]) == [1, 2, 3, 4, 5, 6], \"Test case 2 failed\"\n",
    "assert merge_sort([4, 5, 6], [1, 2, 3]) == [1, 2, 3, 4, 5, 6], \"Test case 3 failed\"\n",
    "assert merge_sort([], []) == [],                               \"Test case 4 failed\"\n",
    "assert merge_sort([2], [1]) == [1, 2],                         \"Test case 5 failed\""
   ]
  },
  {
   "cell_type": "markdown",
   "id": "4cb98254",
   "metadata": {},
   "source": [
    "# Question 3. Find Transpose\n",
    "\n",
    "Implement a function `find_transpose` that accepts as input a matrix (list of lists) and returns the transpose. \n",
    "\n",
    "For example, for `matrix =\n",
    "    [[1, 2, 3],\n",
    "     [4, 5, 6],\n",
    "     [7, 8, 9]]` \n",
    "                          \n",
    "the function returns `transpose = \n",
    "   [[1, 4, 7],\n",
    "    [2, 5, 8],\n",
    "    [3, 6, 9]]`"
   ]
  },
  {
   "cell_type": "code",
   "execution_count": null,
   "id": "7483df73",
   "metadata": {},
   "outputs": [],
   "source": [
    "def find_transpose(matrix):\n",
    "\n",
    "    \n",
    "    return transpose"
   ]
  },
  {
   "cell_type": "code",
   "execution_count": null,
   "id": "d054eaec",
   "metadata": {},
   "outputs": [],
   "source": [
    "assert find_transpose([[1, 2, 3],[4, 5, 6],[7, 8, 9]])== [[1, 4, 7],[2, 5, 8],[3, 6, 9]], \"Test case 1 failed\"\n",
    "assert find_transpose([[1, 2, 3],[4, 5, 6]])          == [[1, 4],[2, 5],[3, 6]],          \"Test case 2 failed\"\n",
    "assert find_transpose([[1, 2, 3]])                    == [[1], [2], [3]],                 \"Test case 3 failed\"\n",
    "assert find_transpose([[1],[2],[3]])                  == [[1, 2, 3]],                     \"Test case 4 failed\"\n",
    "assert find_transpose([[1]])                          == [[1]],                           \"Test case 5 failed\""
   ]
  },
  {
   "cell_type": "code",
   "execution_count": null,
   "id": "60f48d1f",
   "metadata": {},
   "outputs": [],
   "source": []
  }
 ],
 "metadata": {
  "kernelspec": {
   "display_name": "Python 3 (ipykernel)",
   "language": "python",
   "name": "python3"
  },
  "language_info": {
   "codemirror_mode": {
    "name": "ipython",
    "version": 3
   },
   "file_extension": ".py",
   "mimetype": "text/x-python",
   "name": "python",
   "nbconvert_exporter": "python",
   "pygments_lexer": "ipython3",
   "version": "3.9.12"
  }
 },
 "nbformat": 4,
 "nbformat_minor": 5
}
