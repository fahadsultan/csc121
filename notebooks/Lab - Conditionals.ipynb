{
 "cells": [
  {
   "cell_type": "markdown",
   "id": "dfb550e2",
   "metadata": {},
   "source": [
    "# Q1. Print absolute value of input `x`\n",
    "\n",
    "The absolute value of a real number x, denoted |x|, is the non-negative value of x without regard to its sign i.e."
   ]
  },
  {
   "cell_type": "markdown",
   "id": "55e5e674",
   "metadata": {},
   "source": [
    "![absolute](https://www.gstatic.com/education/formulas2/443397389/en/absolute_value.svg)"
   ]
  },
  {
   "cell_type": "code",
   "execution_count": null,
   "id": "b75fd69a",
   "metadata": {},
   "outputs": [],
   "source": [
    "#Input(s)\n",
    "x = \n",
    "\n",
    "#Output(s)\n",
    "x_abs = \n",
    "\n",
    "print(x, x_abs)"
   ]
  },
  {
   "cell_type": "markdown",
   "id": "b056af6e",
   "metadata": {},
   "source": [
    "# Q2. Check if a point (`a`, `b`) lies inside a rectangle \n",
    "\n",
    "Given coordinates of the bottom-left corner (`bottom`, `left`) and top-right (`top`, `right`) corner of a rectangle, check if a point (`a`, `b`) lies inside this rectangle or not."
   ]
  },
  {
   "cell_type": "markdown",
   "id": "f2ea4d64",
   "metadata": {},
   "source": [
    "<!-- ![img](https://i.ibb.co/W6ypgrV/Screen-Shot-2022-09-07-at-1-04-29-AM.png) -->\n",
    "\n",
    "<img src=\"https://i.ibb.co/W6ypgrV/Screen-Shot-2022-09-07-at-1-04-29-AM.png\" alt=\"drawing\" width=\"700\"/>"
   ]
  },
  {
   "cell_type": "code",
   "execution_count": null,
   "id": "eb2a2661",
   "metadata": {},
   "outputs": [],
   "source": [
    "#Input(s)\n",
    "bottom = 0\n",
    "left   = 0\n",
    "\n",
    "top    = 10\n",
    "right  = 10\n",
    "\n",
    "a = 5\n",
    "b = 5\n",
    "\n",
    "#Output(s): Boolean\n",
    "inside_rectangle = \n",
    "\n",
    "print(inside_rectangle)"
   ]
  },
  {
   "cell_type": "markdown",
   "id": "0bea274e",
   "metadata": {},
   "source": [
    "# Q3. Check if input `year` is a leap year"
   ]
  },
  {
   "cell_type": "markdown",
   "id": "a3567eb9",
   "metadata": {},
   "source": [
    "Given an input `year`, return `leap_year`, indicating if given year is a leap year or not. Implement the following flow chart:"
   ]
  },
  {
   "cell_type": "markdown",
   "id": "4b57f161",
   "metadata": {},
   "source": [
    "![leapyear](https://www.softwareideas.net/i/DirectImage/1812/Leap-Year--Flowchart-)"
   ]
  },
  {
   "cell_type": "code",
   "execution_count": null,
   "id": "fee53414",
   "metadata": {},
   "outputs": [],
   "source": [
    "#Input(s)\n",
    "year = 2000\n",
    "\n",
    "#Output(s): Boolean\n",
    "leap_year = "
   ]
  },
  {
   "cell_type": "markdown",
   "id": "f265bd7d",
   "metadata": {},
   "source": [
    "# Q4. Number of days in a given month"
   ]
  },
  {
   "cell_type": "markdown",
   "id": "58e3fc54",
   "metadata": {},
   "source": [
    "Given `month` (values: 1-12, 1: January, 12: December) and `leap_year` (`True` or `False`), print number of days. \n",
    "\n",
    "**If `month ` is outside the range of 1-12, print _\"Invalid month\"_**"
   ]
  },
  {
   "cell_type": "code",
   "execution_count": null,
   "id": "d2c4ec59",
   "metadata": {},
   "outputs": [],
   "source": [
    "#Input(s)\n",
    "month = 5 # Values: 1-12\n",
    "leap_year = True # \n",
    "\n",
    "#Output(s)\n",
    "\n",
    "day = "
   ]
  }
 ],
 "metadata": {
  "kernelspec": {
   "display_name": "Python 3 (ipykernel)",
   "language": "python",
   "name": "python3"
  },
  "language_info": {
   "codemirror_mode": {
    "name": "ipython",
    "version": 3
   },
   "file_extension": ".py",
   "mimetype": "text/x-python",
   "name": "python",
   "nbconvert_exporter": "python",
   "pygments_lexer": "ipython3",
   "version": "3.9.12"
  }
 },
 "nbformat": 4,
 "nbformat_minor": 5
}
