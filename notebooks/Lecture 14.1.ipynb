{
 "cells": [
  {
   "cell_type": "markdown",
   "id": "4c17fc8a",
   "metadata": {
    "slideshow": {
     "slide_type": "slide"
    }
   },
   "source": [
    "# LECTURE 14.1. \n",
    "\n",
    "# FILE INPUT / OUTPUT\n",
    "\n",
    "# MONDAY, NOV 28\n",
    "\n",
    "<hr/>"
   ]
  },
  {
   "cell_type": "markdown",
   "id": "8ce8d291",
   "metadata": {
    "slideshow": {
     "slide_type": "slide"
    }
   },
   "source": [
    "## Memory vs. Storage\n",
    "\n",
    "\n",
    "* While a program is running, its data is stored in **Random Access Memory (RAM)**.\n",
    "\n",
    "\n",
    "* RAM is **Fast** and **Inexpensive**, but it is also _**Volatile**_\n",
    "    * _Volatile memory means that when the program ends, or the computer shuts down, data in RAM disappears_. \n",
    "\n",
    "\n",
    "* To make data available the next time you turn on your computer and start your program, you have to write it to a **Non-volatile Storage** medium, such as the _Hard Drive_.\n",
    "<br/>\n",
    "<hr/>"
   ]
  },
  {
   "cell_type": "markdown",
   "id": "423dc503",
   "metadata": {
    "slideshow": {
     "slide_type": "slide"
    }
   },
   "source": [
    "## Files\n",
    "\n",
    "* **Data** on non-volatile **Storage** media is stored in named locations on the media called **Files**. \n",
    "\n",
    "\n",
    "* By **reading and writing data** to files, programs can save information between program runs.\n",
    "\n",
    "\n",
    "* Working with files is a lot like working with a Jupyter notebook. \n",
    "    * To use a notebook, you have to **open** it. \n",
    "    * When you’re done, you have to **close** it. \n",
    "    * While the notebook is open, you can either **write** in it or **read** from it. \n",
    "<br/>\n",
    "<hr/>"
   ]
  },
  {
   "cell_type": "markdown",
   "id": "1ec64912",
   "metadata": {
    "slideshow": {
     "slide_type": "slide"
    }
   },
   "source": [
    "## `open`\n",
    "\n",
    "* The key function for working with files in Python is the `open()` function.\n",
    "\n",
    "\n",
    "* The `open()` function takes two parameters: \n",
    "    1. **filename** (required)\n",
    "    2. **mode** (optional, _default value: `\"r\"`_)\n"
   ]
  },
  {
   "cell_type": "code",
   "execution_count": null,
   "id": "bdc1a6d5",
   "metadata": {},
   "outputs": [],
   "source": [
    "f = open(\"words.txt\") "
   ]
  },
  {
   "cell_type": "markdown",
   "id": "6988eb55",
   "metadata": {},
   "source": [
    "<hr/>"
   ]
  },
  {
   "cell_type": "markdown",
   "id": "c050f281",
   "metadata": {
    "slideshow": {
     "slide_type": "slide"
    }
   },
   "source": [
    "\n",
    "* There are **four** primary methods **modes** for opening a file:\n",
    "\n",
    "    1. \"`r`\" - **Read** - _Default value_. Opens a file for reading\n",
    "        * error if the file does not exist\n",
    "        \n",
    "    2. \"`a`\" - **Append** - Opens a file for appending\n",
    "        * creates the file if it does not exist\n",
    "        \n",
    "    3. \"`w`\" - **Write** - Opens a file for writing\n",
    "        * creates the file if it does not exist\n",
    "        \n",
    "    4. \"`x`\" - **Create** - Creates the specified file\n",
    "        * returns an error if the file exists\n",
    "        \n",
    "        \n",
    "\n",
    "<hr/>"
   ]
  },
  {
   "cell_type": "markdown",
   "id": "2da2f0ba",
   "metadata": {
    "slideshow": {
     "slide_type": "slide"
    }
   },
   "source": [
    "## Syntax\n",
    "To open a file for reading it is enough to specify the name of the file:"
   ]
  },
  {
   "cell_type": "code",
   "execution_count": null,
   "id": "f7f78d68",
   "metadata": {},
   "outputs": [],
   "source": [
    "f = open(\"countries.txt\")"
   ]
  },
  {
   "cell_type": "markdown",
   "id": "487191c2",
   "metadata": {},
   "source": [
    "* The code above is the same as:"
   ]
  },
  {
   "cell_type": "code",
   "execution_count": null,
   "id": "635fe22b",
   "metadata": {},
   "outputs": [],
   "source": [
    "f = open(\"countries.txt\", \"r\")"
   ]
  },
  {
   "cell_type": "markdown",
   "id": "adcc529e",
   "metadata": {},
   "source": [
    "* Because `\"r\"` for read is the default value for the second input (mode), you do not need to specify it.\n",
    "\n",
    "\n",
    "* _Make sure the file exists, or else you will get a `FileNotFoundError` error._\n",
    "\n",
    "<hr/>"
   ]
  },
  {
   "cell_type": "markdown",
   "id": "6d9f85be",
   "metadata": {
    "slideshow": {
     "slide_type": "slide"
    }
   },
   "source": [
    "## Reading contents of a file"
   ]
  },
  {
   "cell_type": "markdown",
   "id": "66bbf8c0",
   "metadata": {},
   "source": [
    "* To open the file, use the built-in `open()` function.\n",
    "\n",
    "* The open() function returns a file object\n",
    "\n",
    "* File objects have a **`read()`** method for reading the content of the file:"
   ]
  },
  {
   "cell_type": "code",
   "execution_count": null,
   "id": "08c7e5d0",
   "metadata": {},
   "outputs": [],
   "source": [
    "f = open(\"countries.txt\", \"r\")\n",
    "content = f.read()\n",
    "print(content)"
   ]
  },
  {
   "cell_type": "markdown",
   "id": "2dea0f11",
   "metadata": {},
   "source": [
    "<hr />"
   ]
  },
  {
   "cell_type": "markdown",
   "id": "dd6da6e5",
   "metadata": {
    "slideshow": {
     "slide_type": "slide"
    }
   },
   "source": [
    "* If you try to read a file that **does not exist**, you will get a `FileNotFoundError` \n",
    "\n",
    "\n",
    "* If the file is located in a different **location**, you will have to specify the **file path**, like this:"
   ]
  },
  {
   "cell_type": "code",
   "execution_count": null,
   "id": "fba469f3",
   "metadata": {},
   "outputs": [],
   "source": [
    "f = open(\"countries.txt\")"
   ]
  },
  {
   "cell_type": "code",
   "execution_count": null,
   "id": "8100b6c4",
   "metadata": {},
   "outputs": [],
   "source": [
    "#Open a file on a different location:\n",
    "\n",
    "f = open(\"/Users/fsultan/Downloads/csc121/notebooks/countries.txt\", \"r\")\n",
    "print(f.read())"
   ]
  },
  {
   "cell_type": "markdown",
   "id": "896afd1b",
   "metadata": {},
   "source": [
    "<hr/>"
   ]
  },
  {
   "cell_type": "markdown",
   "id": "26081633",
   "metadata": {
    "slideshow": {
     "slide_type": "slide"
    }
   },
   "source": [
    "## Be Mindful of File Extensions"
   ]
  },
  {
   "cell_type": "markdown",
   "id": "8f03b407",
   "metadata": {},
   "source": [
    "* **File extensions** have to be **explicitly specified** in the file name, when opening an existing file"
   ]
  },
  {
   "cell_type": "code",
   "execution_count": null,
   "id": "54f3dc25",
   "metadata": {},
   "outputs": [],
   "source": [
    "f = open('countries.txt')\n",
    "print(f.read())\n",
    "f.close()"
   ]
  },
  {
   "cell_type": "markdown",
   "id": "be62bfd6",
   "metadata": {},
   "source": [
    "<hr/>"
   ]
  },
  {
   "cell_type": "markdown",
   "id": "e4e1aa32",
   "metadata": {
    "slideshow": {
     "slide_type": "slide"
    }
   },
   "source": [
    "## Reading large files"
   ]
  },
  {
   "cell_type": "markdown",
   "id": "263451f8",
   "metadata": {},
   "source": [
    "* It is often not feasible to read large files with simply `read`\n",
    "\n",
    "* This is often because: \n",
    "    1. The size of the file can exceed the capacity of RAM\n",
    "    2. The software may have a limit on how much data it can read \n",
    "        * To avoid the software/app from crashing"
   ]
  },
  {
   "cell_type": "code",
   "execution_count": null,
   "id": "625f7701",
   "metadata": {},
   "outputs": [],
   "source": [
    "f = open(\"words.txt\", \"r\")\n",
    "print(f.read())"
   ]
  },
  {
   "cell_type": "markdown",
   "id": "050b2a06",
   "metadata": {},
   "source": [
    "<hr/>"
   ]
  },
  {
   "cell_type": "markdown",
   "id": "1682fce9",
   "metadata": {
    "slideshow": {
     "slide_type": "slide"
    }
   },
   "source": [
    "## Read Only Parts of the File\n",
    "\n",
    "* By default the **`read()`** method returns the whole text\n",
    "\n",
    "* However, **`read()`** takes an **input**, which lets you specify how many **characters to read**:"
   ]
  },
  {
   "cell_type": "code",
   "execution_count": null,
   "id": "376ce283",
   "metadata": {},
   "outputs": [],
   "source": [
    "# Example\n",
    "# Return the first 20 characters of the file:\n",
    "\n",
    "f = open(\"words.txt\", \"r\")\n",
    "print(f.read(20))"
   ]
  },
  {
   "cell_type": "markdown",
   "id": "aee97e70",
   "metadata": {},
   "source": [
    "<hr/>"
   ]
  },
  {
   "cell_type": "markdown",
   "id": "e3e5e13d",
   "metadata": {
    "slideshow": {
     "slide_type": "slide"
    }
   },
   "source": [
    "## Reading Individual Lines\n",
    "* You can return one line by using the `readline()` method:"
   ]
  },
  {
   "cell_type": "code",
   "execution_count": null,
   "id": "52bc683d",
   "metadata": {},
   "outputs": [],
   "source": [
    "f = open(\"words.txt\", \"r\")\n",
    "line = f.readline()\n",
    "print(line)"
   ]
  },
  {
   "cell_type": "markdown",
   "id": "8a3f725f",
   "metadata": {
    "slideshow": {
     "slide_type": "slide"
    }
   },
   "source": [
    "* By calling `readline()` two times, you can read the two first lines:"
   ]
  },
  {
   "cell_type": "code",
   "execution_count": null,
   "id": "af20296b",
   "metadata": {},
   "outputs": [],
   "source": [
    "# Read two lines of the file \n",
    "\n",
    "f = open(\"words.txt\", \"r\")\n",
    "\n",
    "line1 = f.readline()\n",
    "\n",
    "line2 = f.readline()\n",
    "\n",
    "line3 = f.readline()\n",
    "\n",
    "print(\"Line 1:\", line1)\n",
    "print(\"Line 2:\", line2)\n",
    "print(\"Line 3:\", line3)"
   ]
  },
  {
   "cell_type": "markdown",
   "id": "58f43b62",
   "metadata": {},
   "source": [
    "<hr />"
   ]
  },
  {
   "cell_type": "markdown",
   "id": "4ba2dec8",
   "metadata": {
    "slideshow": {
     "slide_type": "slide"
    }
   },
   "source": [
    "## Looping over lines of a file, using `while`\n",
    "\n",
    "* By looping through the lines of the file, you can read the whole file, line by line:"
   ]
  },
  {
   "cell_type": "code",
   "execution_count": null,
   "id": "ba9496b6",
   "metadata": {},
   "outputs": [],
   "source": [
    "f = open(\"words.txt\", \"r\")\n",
    "line = f.readline()\n",
    "while line != \"\":\n",
    "    line = f.readline()\n",
    "    print(line)\n",
    "f.close()"
   ]
  },
  {
   "cell_type": "markdown",
   "id": "ccb9240b",
   "metadata": {},
   "source": [
    "<hr />"
   ]
  },
  {
   "cell_type": "markdown",
   "id": "bba1c7c8",
   "metadata": {
    "slideshow": {
     "slide_type": "slide"
    }
   },
   "source": [
    "## Looping over lines of a file, using `for`\n",
    "\n",
    "* Since contents (lines) of a file are a sequence, we can loop over lines using a `for` loop with line as a target variable:  "
   ]
  },
  {
   "cell_type": "code",
   "execution_count": null,
   "id": "cd737257",
   "metadata": {},
   "outputs": [],
   "source": [
    "f = open(\"countries.txt\", \"r\")\n",
    "for line in f:\n",
    "    print(line)"
   ]
  },
  {
   "cell_type": "code",
   "execution_count": null,
   "id": "584e57bc",
   "metadata": {},
   "outputs": [],
   "source": [
    "f = open(\"countries.txt\", \"r\")\n",
    "line = f.readline()\n",
    "while line != \"\":\n",
    "    print(line)\n",
    "    line = f.readline()"
   ]
  },
  {
   "cell_type": "markdown",
   "id": "fc47db11",
   "metadata": {},
   "source": [
    "<hr />"
   ]
  },
  {
   "cell_type": "markdown",
   "id": "364ab6ec",
   "metadata": {
    "slideshow": {
     "slide_type": "slide"
    }
   },
   "source": [
    "## Close Files"
   ]
  },
  {
   "cell_type": "markdown",
   "id": "a17dcd08",
   "metadata": {},
   "source": [
    "* It is a strongly recommended to **close** the file when you are done with it.\n",
    "\n",
    "\n",
    "* This **clears up memory** consumed by contents of the file. \n",
    "\n",
    "\n",
    "* File object cannot be used to read, write or append after it has been closed. "
   ]
  },
  {
   "cell_type": "code",
   "execution_count": null,
   "id": "49d4c743",
   "metadata": {},
   "outputs": [],
   "source": [
    "f = open(\"countries.txt\", \"r\")\n",
    "print(f.readline())\n",
    "f.close()\n",
    "\n",
    "f.readline()"
   ]
  },
  {
   "cell_type": "markdown",
   "id": "fadb4b01",
   "metadata": {},
   "source": [
    "<hr />"
   ]
  },
  {
   "cell_type": "markdown",
   "id": "9a7ca16e",
   "metadata": {
    "slideshow": {
     "slide_type": "slide"
    }
   },
   "source": [
    "# Question 1. Count lines \n",
    "\n",
    "Write a function `count_lines` that accepts as input a string `filename` and returns the number of lines in that file "
   ]
  },
  {
   "cell_type": "code",
   "execution_count": null,
   "id": "966d10cc",
   "metadata": {},
   "outputs": [],
   "source": [
    "def count_lines(filename):\n",
    "    \n",
    "\n",
    "print(count_lines(\"words.txt\"))\n",
    "print(count_lines(\"countries.txt\"))"
   ]
  },
  {
   "cell_type": "markdown",
   "id": "e746d96e",
   "metadata": {
    "slideshow": {
     "slide_type": "slide"
    }
   },
   "source": [
    "# Question 2. Print lines ending with suffix"
   ]
  },
  {
   "cell_type": "markdown",
   "id": "434a17d2",
   "metadata": {},
   "source": [
    "Write a function `search_lines` that accepts as inputs a string `filename` and a string `suffix` and prints all lines that end with `suffix` "
   ]
  },
  {
   "cell_type": "code",
   "execution_count": null,
   "id": "abe0d11b",
   "metadata": {},
   "outputs": [],
   "source": [
    "def search_lines(filename, suffix):\n",
    "\n",
    "\n",
    "search_lines(\"countries.txt\", \"land\")"
   ]
  }
 ],
 "metadata": {
  "kernelspec": {
   "display_name": "Python 3 (ipykernel)",
   "language": "python",
   "name": "python3"
  },
  "language_info": {
   "codemirror_mode": {
    "name": "ipython",
    "version": 3
   },
   "file_extension": ".py",
   "mimetype": "text/x-python",
   "name": "python",
   "nbconvert_exporter": "python",
   "pygments_lexer": "ipython3",
   "version": "3.9.12"
  }
 },
 "nbformat": 4,
 "nbformat_minor": 5
}
