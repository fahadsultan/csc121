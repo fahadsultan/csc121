{
 "cells": [
  {
   "cell_type": "markdown",
   "id": "78ea4099",
   "metadata": {},
   "source": [
    "# LECTURE 11.1. \n",
    "\n",
    "# MON, NOV 7th \n",
    "\n",
    "# PRACTICE\n",
    "\n",
    "<hr />"
   ]
  },
  {
   "cell_type": "markdown",
   "id": "9ce18654",
   "metadata": {},
   "source": [
    "### Question 1. \n",
    "\n",
    "Implement a function `count_unique` that accepts as input two list of integers `numbers1` and `numbers2` respectively and **returns the count of unique numbers** in both lists. \n",
    "\n",
    "For example: `numbers1 = [1, 2, 3, 4, 5]` and `numbers2 = [1, 2, 3, 6]` returns `6`. "
   ]
  },
  {
   "cell_type": "code",
   "execution_count": null,
   "id": "97291b38",
   "metadata": {},
   "outputs": [],
   "source": [
    "def count_unique(numbers1, numbers2):\n",
    "\n",
    "\n",
    "\n",
    "assert count_unique([1, 2, 3, 4, 5], [1, 2, 3, 6]) == 6, \"Test case 1 failed\"\n",
    "assert count_unique([1, 2, 3], [])                 == 3, \"Test case 2 failed\"\n",
    "assert count_unique([1, 1, 1], [2, 2, 2])          == 2, \"Test case 3 failed\"\n",
    "assert count_unique([], [])                        == 0, \"Test case 4 failed\"\n",
    "assert count_unique([1, 2, 3], [4, 5, 6])          == 6, \"Test case 5 failed\"\n",
    "\n",
    "print(\"All test cases passed successfully\")"
   ]
  },
  {
   "cell_type": "markdown",
   "id": "6c835c54",
   "metadata": {},
   "source": [
    "### Question 2. \n",
    "\n",
    "Implement a function `count_common` that accepts as input two list of integers `numbers1` and `numbers2` respectively and **returns the count of common numbers** in both lists. \n",
    "\n",
    "For example: `numbers1 = [1, 2, 3, 4, 5]` and `numbers2 = [1, 2, 3, 6]` returns `3`. "
   ]
  },
  {
   "cell_type": "code",
   "execution_count": null,
   "id": "ad52e6f5",
   "metadata": {},
   "outputs": [],
   "source": [
    "def count_common(numbers1, numbers2):\n",
    "\n",
    "\n",
    "\n",
    "assert count_common([1, 2, 3, 4, 5], [1, 2, 3, 6]) == 3, \"Test case 1 failed\"\n",
    "assert count_common([1, 2, 3], [])                 == 0, \"Test case 2 failed\"\n",
    "assert count_common([1, 1, 1], [2, 2, 2])          == 0, \"Test case 3 failed\"\n",
    "assert count_common([], [])                        == 0, \"Test case 4 failed\"\n",
    "assert count_common([1, 2, 3], [4, 5, 6])          == 0, \"Test case 5 failed\"\n",
    "\n",
    "print(\"All test cases passed successfully\")"
   ]
  },
  {
   "cell_type": "markdown",
   "id": "191e398a",
   "metadata": {},
   "source": [
    "### Question 3\n",
    "\n",
    "Implement a function `count_vowels` that accepts as input a string `sentence` and **returns a tuple of size 5 in the following order**: \n",
    "1. count of `a`\n",
    "2. count of `e`\n",
    "3. count of `i`\n",
    "4. count of `o`\n",
    "5. count of `u`\n",
    "\n",
    "For example, `sentence=\"aaeiiouu\"` returns `(2, 1, 2, 1, 2)`"
   ]
  },
  {
   "cell_type": "code",
   "execution_count": null,
   "id": "f0eea22d",
   "metadata": {},
   "outputs": [],
   "source": [
    "def count_vowels(sentence):\n",
    "    \n",
    "    \n",
    "    \n",
    "assert count_vowels(\"aaeiiouu\")             == (2, 1, 2, 1, 2), \"Test case 1 failed\"\n",
    "assert count_vowels(\"South Carolina\")       == (2, 0, 1, 2, 1), \"Test case 2 failed\"\n",
    "assert count_vowels(\"Computer Programming\") == (1, 1, 1, 2, 1), \"Test case 3 failed\"\n",
    "assert count_vowels(\"CSC-121\")              == (0, 0, 0, 0, 0), \"Test case 4 failed\"\n",
    "assert count_vowels(\"Apple Inc\")            == (1, 1, 1, 0, 0), \"Test case 5 failed\"\n",
    "\n",
    "print(\"All test cases passed successfully\")"
   ]
  },
  {
   "cell_type": "markdown",
   "id": "926844c9",
   "metadata": {},
   "source": [
    "### Question 4\n",
    "\n",
    "Implement a function `vocabulary_size` that takes as input a string `sentence` and returns the count of unique words (syntactic, not semantic) in the `sentence`. \n",
    "\n",
    "For example, `sentence=`_`\"To be or not to be\"`_ returns `4`"
   ]
  },
  {
   "cell_type": "code",
   "execution_count": null,
   "id": "01565707",
   "metadata": {},
   "outputs": [],
   "source": [
    "def vocabulary_size(sentence):\n",
    "\n",
    "\n",
    "\n",
    "assert vocabulary_size(\"To be or not to be\")                            == 5, \"Test case 1 failed\"\n",
    "assert vocabulary_size(\"Furman university is named for Richard Furman\") == 6, \"Test case 2 failed\"\n",
    "assert vocabulary_size(\"Colorless green ideas sleep furiously\")         == 5, \"Test case 3 failed\"\n",
    "assert vocabulary_size(\"AAA BBBB CCCC AAA BBBB CCCC\")                   == 3, \"Test case 4 failed\"\n",
    "assert vocabulary_size(\"South Carolina is south of North Carolina\")     == 5, \"Test case 5 failed\"\n",
    "\n",
    "print(\"All test cases passed successfully\")"
   ]
  }
 ],
 "metadata": {
  "kernelspec": {
   "display_name": "Python 3 (ipykernel)",
   "language": "python",
   "name": "python3"
  },
  "language_info": {
   "codemirror_mode": {
    "name": "ipython",
    "version": 3
   },
   "file_extension": ".py",
   "mimetype": "text/x-python",
   "name": "python",
   "nbconvert_exporter": "python",
   "pygments_lexer": "ipython3",
   "version": "3.9.12"
  }
 },
 "nbformat": 4,
 "nbformat_minor": 5
}
