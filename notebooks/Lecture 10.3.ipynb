{
 "cells": [
  {
   "cell_type": "markdown",
   "id": "4d7c242e",
   "metadata": {
    "slideshow": {
     "slide_type": "slide"
    }
   },
   "source": [
    "# Lecture 10.3. \n",
    "\n",
    "# Friday, Nov 4th\n",
    "\n",
    "# Sets and Tuples"
   ]
  },
  {
   "cell_type": "markdown",
   "id": "d085f29a",
   "metadata": {
    "slideshow": {
     "slide_type": "slide"
    }
   },
   "source": [
    "## 10.2.0. Data Structures, in Python\n",
    "\n",
    "* Python has **4 built-in data types** used to store collections of data:\n",
    "    1. Lists  (Week 9)\n",
    "    2. **Tuples** (Week 10)\n",
    "    3. **Sets**   (Week 10)\n",
    "    4. Dictionary (Week 13)\n",
    "\n",
    "* Each of the data structures have different qualities and usage."
   ]
  },
  {
   "cell_type": "markdown",
   "id": "3fcee3fe",
   "metadata": {
    "slideshow": {
     "slide_type": "slide"
    }
   },
   "source": [
    "\n",
    "* So far, we have seen only two compound types: 1) **Strings** and 2) **Lists**\n",
    "\n",
    "* One of the primary differences we noted is that:\n",
    "    * **Elements of a list can be modified** (mutable)\n",
    "    * **Characters in a string cannot be changed** (immutable). \n",
    "    \n",
    "<br/>\n",
    "    \n",
    "Structure | Collection | Syntax | Ordered | Indexed | Mutable | Passed By | Duplicates Allowed \n",
    ":------------: |  :-------------:|:-------------:|:-------------:| :-------------:| :-------------:| :-------------:|:-------------:\n",
    "`strings` | characters | `\" \"` | &check; |&check; | &cross; | value | &check;\n",
    "`list` | any data type | `[ ]` | &check; |&check; |  &check; | reference | &check;"
   ]
  },
  {
   "cell_type": "code",
   "execution_count": 463,
   "id": "89203066",
   "metadata": {},
   "outputs": [
    {
     "name": "stdout",
     "output_type": "stream",
     "text": [
      "[1, 2, 3, 4]\n"
     ]
    }
   ],
   "source": [
    "def func(y):\n",
    "    y.append(4)\n",
    "    \n",
    "x = [1, 2, 3]\n",
    "func(x)\n",
    "print(x)"
   ]
  },
  {
   "cell_type": "code",
   "execution_count": 465,
   "id": "248f6437",
   "metadata": {},
   "outputs": [
    {
     "name": "stdout",
     "output_type": "stream",
     "text": [
      "Inside func 44\n",
      "4\n"
     ]
    }
   ],
   "source": [
    "def func(y):\n",
    "    y = y + \"4\"\n",
    "    print(\"Inside func\", y)\n",
    "    \n",
    "x = \"4\"\n",
    "func(x)\n",
    "print(x)"
   ]
  },
  {
   "cell_type": "code",
   "execution_count": 462,
   "id": "918fafbb",
   "metadata": {
    "slideshow": {
     "slide_type": "slide"
    }
   },
   "outputs": [
    {
     "name": "stdout",
     "output_type": "stream",
     "text": [
      "south mouth\n",
      "['m', 2, 3]\n"
     ]
    }
   ],
   "source": [
    "\"\"\"\n",
    "Strings are immutable\n",
    "\"\"\"\n",
    "string = \"south\"\n",
    "# string[0] = \"m\"\n",
    "new_string = string.replace(\"s\", \"m\")\n",
    "print(string, new_string)\n",
    "\n",
    "\"\"\"Lists are mutable\"\"\"\n",
    "listt = [1, 2, 3]\n",
    "listt[0] = \"m\"\n",
    "print(listt)"
   ]
  },
  {
   "cell_type": "markdown",
   "id": "50a19fb7",
   "metadata": {
    "slideshow": {
     "slide_type": "slide"
    }
   },
   "source": [
    "# 10.2.1. TUPLES"
   ]
  },
  {
   "cell_type": "markdown",
   "id": "5828d6a4",
   "metadata": {},
   "source": [
    "* A tuple, like a list, is a **sequence of items of any type**.\n",
    "\n",
    "\n",
    "* Unlike lists, however, tuples are immutable.\n",
    "\n",
    "\n",
    "Type | Collection of| Syntax | Ordered | Indexed | Mutable | Passed By | Duplicates Allowed \n",
    ":------------: | :-------------:|:-------------:|:-------------:|:-------------:| :-------------:| :-------------:|:-------------:\n",
    "`strings` | characters | `\" \"` | &check; |&check; | &cross; | value | &check;\n",
    "`list` | any data type | `[ ]` | &check; |&check; |  &check; | reference | &check;\n",
    "**`tuple`** | **any data type** | `( )` | &check; | **&check;** |  **&cross;** | **value** | **&check;**"
   ]
  },
  {
   "cell_type": "markdown",
   "id": "652941be",
   "metadata": {
    "slideshow": {
     "slide_type": "slide"
    }
   },
   "source": [
    "* **Syntactically**, a tuple is a **comma-separated** sequence of **values**:"
   ]
  },
  {
   "cell_type": "code",
   "execution_count": 466,
   "id": "7cc12f3a",
   "metadata": {},
   "outputs": [
    {
     "name": "stdout",
     "output_type": "stream",
     "text": [
      "(2, 4, 6, 8, 10, 2)\n"
     ]
    }
   ],
   "source": [
    "tup1 = 2, 4, 6, 8, 10, 2\n",
    "print(tup1)"
   ]
  },
  {
   "cell_type": "markdown",
   "id": "beb93a24",
   "metadata": {},
   "source": [
    "* Although it is not necessary, it is **conventional to enclose** tuples in **parentheses**:"
   ]
  },
  {
   "cell_type": "code",
   "execution_count": 467,
   "id": "90b342a1",
   "metadata": {},
   "outputs": [
    {
     "name": "stdout",
     "output_type": "stream",
     "text": [
      "(2, 4, 6, 8, 10, 2)\n"
     ]
    }
   ],
   "source": [
    "tup2 = (2, 4, 6, 8, 10, 2)\n",
    "print(tup2)"
   ]
  },
  {
   "cell_type": "markdown",
   "id": "a17a6526",
   "metadata": {
    "slideshow": {
     "slide_type": "slide"
    }
   },
   "source": [
    "* To create a tuple with a **single element**, we have to include the **final comma**:"
   ]
  },
  {
   "cell_type": "code",
   "execution_count": null,
   "id": "c9463618",
   "metadata": {},
   "outputs": [],
   "source": [
    "listt = [5]\n",
    "print(type(listt), listt)"
   ]
  },
  {
   "cell_type": "code",
   "execution_count": 470,
   "id": "6981fb54",
   "metadata": {},
   "outputs": [
    {
     "name": "stdout",
     "output_type": "stream",
     "text": [
      "<class 'tuple'> (5,)\n"
     ]
    }
   ],
   "source": [
    "tup = (5,)\n",
    "print(type(tup), tup)"
   ]
  },
  {
   "cell_type": "markdown",
   "id": "299177ea",
   "metadata": {},
   "source": [
    "* Without the comma, Python treats (5) as an integer in parentheses:"
   ]
  },
  {
   "cell_type": "code",
   "execution_count": 471,
   "id": "ff1576d1",
   "metadata": {},
   "outputs": [
    {
     "name": "stdout",
     "output_type": "stream",
     "text": [
      "<class 'int'> 5\n"
     ]
    }
   ],
   "source": [
    "tup = (5)\n",
    "print(type(tup), tup)"
   ]
  },
  {
   "cell_type": "markdown",
   "id": "912745f9",
   "metadata": {
    "slideshow": {
     "slide_type": "slide"
    }
   },
   "source": [
    "* Syntax issues aside, tuples support the same sequence operations as strings and lists. \n",
    "\n",
    "* The **index operator** selects an element from a tuple."
   ]
  },
  {
   "cell_type": "code",
   "execution_count": 473,
   "id": "865eaa3a",
   "metadata": {},
   "outputs": [
    {
     "data": {
      "text/plain": [
       "'e'"
      ]
     },
     "execution_count": 473,
     "metadata": {},
     "output_type": "execute_result"
    }
   ],
   "source": [
    "tup = ('a', 'b', 'c', 'd', 'e')\n",
    "tup[4]"
   ]
  },
  {
   "cell_type": "markdown",
   "id": "9124d81f",
   "metadata": {},
   "source": [
    "* And the **slice operator** selects a range of elements."
   ]
  },
  {
   "cell_type": "code",
   "execution_count": 474,
   "id": "f28e21a3",
   "metadata": {},
   "outputs": [
    {
     "data": {
      "text/plain": [
       "('c', 'd')"
      ]
     },
     "execution_count": 474,
     "metadata": {},
     "output_type": "execute_result"
    }
   ],
   "source": [
    "tup = ('a', 'b', 'c', 'd', 'e')\n",
    "\n",
    "tup[2:4]"
   ]
  },
  {
   "cell_type": "markdown",
   "id": "d3639a2b",
   "metadata": {
    "slideshow": {
     "slide_type": "slide"
    }
   },
   "source": [
    "* **Concatenation Operator** `+` works the same as with lists and strings"
   ]
  },
  {
   "cell_type": "code",
   "execution_count": 475,
   "id": "9a5664f1",
   "metadata": {},
   "outputs": [
    {
     "data": {
      "text/plain": [
       "('X', 'a', 'b', 'c', 'd', 'e')"
      ]
     },
     "execution_count": 475,
     "metadata": {},
     "output_type": "execute_result"
    }
   ],
   "source": [
    "tup1 = ('X',) \n",
    "tup2 = ('a', 'b', 'c', 'd', 'e')\n",
    "tup = tup1 + tup2\n",
    "tup"
   ]
  },
  {
   "cell_type": "markdown",
   "id": "036138f7",
   "metadata": {
    "slideshow": {
     "slide_type": "-"
    }
   },
   "source": [
    "* When we try to use item assignment to modify one of the elements of the tuple, we get an error:"
   ]
  },
  {
   "cell_type": "code",
   "execution_count": 479,
   "id": "9de85994",
   "metadata": {},
   "outputs": [
    {
     "ename": "TypeError",
     "evalue": "'tuple' object does not support item assignment",
     "output_type": "error",
     "traceback": [
      "\u001b[0;31m---------------------------------------------------------------------------\u001b[0m",
      "\u001b[0;31mTypeError\u001b[0m                                 Traceback (most recent call last)",
      "Input \u001b[0;32mIn [479]\u001b[0m, in \u001b[0;36m<cell line: 2>\u001b[0;34m()\u001b[0m\n\u001b[1;32m      1\u001b[0m tup \u001b[38;5;241m=\u001b[39m (\u001b[38;5;241m1\u001b[39m, \u001b[38;5;241m2\u001b[39m, \u001b[38;5;241m3\u001b[39m)\n\u001b[0;32m----> 2\u001b[0m tup[\u001b[38;5;241m0\u001b[39m] \u001b[38;5;241m=\u001b[39m \u001b[38;5;124m'\u001b[39m\u001b[38;5;124mX\u001b[39m\u001b[38;5;124m'\u001b[39m\n",
      "\u001b[0;31mTypeError\u001b[0m: 'tuple' object does not support item assignment"
     ]
    }
   ],
   "source": [
    "tup = (1, 2, 3)\n",
    "tup[0] = 'X'"
   ]
  },
  {
   "cell_type": "markdown",
   "id": "5bfefc93",
   "metadata": {
    "slideshow": {
     "slide_type": "slide"
    }
   },
   "source": [
    "# QUESTION 1. \n",
    "\n",
    "Find below the exam score of three students Jane, John and Mary. \n",
    "\n",
    "Compute the average exam score for the three. "
   ]
  },
  {
   "cell_type": "code",
   "execution_count": 480,
   "id": "a5c4a181",
   "metadata": {},
   "outputs": [
    {
     "name": "stdout",
     "output_type": "stream",
     "text": [
      "85.0\n"
     ]
    }
   ],
   "source": [
    "student1 = (\"Jane Doe\", 80, \"Chemistry\")\n",
    "student2 = (\"John Doe\", 75, \"Computer Science\")\n",
    "student3 = (\"Mary Sue\", 100, \"Maths\")\n",
    "\n",
    "avg = (student1[1] + student2[1] + student3[1])/3\n",
    "\n",
    "print(avg)"
   ]
  },
  {
   "cell_type": "markdown",
   "id": "1a084470",
   "metadata": {
    "slideshow": {
     "slide_type": "slide"
    }
   },
   "source": [
    "# 10.2.1.a. Tuple assignment"
   ]
  },
  {
   "cell_type": "markdown",
   "id": "828485c8",
   "metadata": {},
   "source": [
    "* Once in a while, it is useful to **swap the values of two variables**. \n",
    "\n",
    "    * With conventional assignment statements, we have to use a **temporary variable**. \n",
    "\n",
    "* For example, to swap `a` and `b`:"
   ]
  },
  {
   "cell_type": "code",
   "execution_count": 481,
   "id": "31f0faea",
   "metadata": {},
   "outputs": [
    {
     "name": "stdout",
     "output_type": "stream",
     "text": [
      "b a\n"
     ]
    }
   ],
   "source": [
    "a = \"a\"\n",
    "b = \"b\"\n",
    "temp = a\n",
    "a = b\n",
    "b = temp\n",
    "print(a, b)"
   ]
  },
  {
   "cell_type": "markdown",
   "id": "58351627",
   "metadata": {
    "slideshow": {
     "slide_type": "slide"
    }
   },
   "source": [
    "* Python provides a form of tuple assignment that solves this problem neatly:"
   ]
  },
  {
   "cell_type": "code",
   "execution_count": 487,
   "id": "e0c2eaed",
   "metadata": {},
   "outputs": [
    {
     "name": "stdout",
     "output_type": "stream",
     "text": [
      "b b b b\n"
     ]
    }
   ],
   "source": [
    "a = \"a\"\n",
    "b = \"b\"\n",
    "c = \"c\"\n",
    "d = \"d\"\n",
    "\n",
    "a, b, c, d = b, b, b, b\n",
    "\n",
    "print(a, b, c, d)"
   ]
  },
  {
   "cell_type": "markdown",
   "id": "56c82c2d",
   "metadata": {},
   "source": [
    "* The left side is a **tuple of variables**; the right side is a **tuple of values**. \n",
    "* Each **value** is assigned to its **respective variable**. \n",
    "* This feature makes tuple assignment quite versatile.\n",
    "* The **number of variables on the left** _and_ **the number of values on the right** have to be the same."
   ]
  },
  {
   "cell_type": "markdown",
   "id": "9e638d2f",
   "metadata": {
    "slideshow": {
     "slide_type": "slide"
    }
   },
   "source": [
    "# 10.2.1.b.  Tuples as return values\n",
    "\n",
    "* Functions can return tuples as return values. "
   ]
  },
  {
   "cell_type": "code",
   "execution_count": 489,
   "id": "121eb975",
   "metadata": {
    "slideshow": {
     "slide_type": "-"
    }
   },
   "outputs": [
    {
     "name": "stdout",
     "output_type": "stream",
     "text": [
      "1 5\n"
     ]
    }
   ],
   "source": [
    "def find_min_max(numbers):\n",
    "    \n",
    "\n",
    "    min_val = 9999\n",
    "    max_val = -9999\n",
    "\n",
    "    i = 0\n",
    "    while i < len(numbers):\n",
    "        if numbers[i] < min_val:\n",
    "            min_val = numbers[i]\n",
    "        \n",
    "        if numbers[i] > max_val:\n",
    "            max_val = numbers[i]\n",
    "            \n",
    "        i = i + 1\n",
    "        \n",
    "    return min_val, max_val\n",
    "\n",
    "\n",
    "minimum, maximum = find_min_max([3, 1, 5, 4, 2])\n",
    "print(minimum, maximum)"
   ]
  },
  {
   "cell_type": "markdown",
   "id": "47a72098",
   "metadata": {
    "slideshow": {
     "slide_type": "slide"
    }
   },
   "source": [
    "* Reminder: Tuples are **passed to functions by value**\n",
    "\n",
    "* Translation: Any **changes** you make **inside a function**, would _NOT_ be **reflected outside the function**"
   ]
  },
  {
   "cell_type": "code",
   "execution_count": null,
   "id": "f48e40bc",
   "metadata": {},
   "outputs": [],
   "source": [
    "def swap(inputs):\n",
    "    x, y = inputs\n",
    "    y, x = x, y\n",
    "    \n",
    "a, b = \"a\", \"b\"\n",
    "swap((a, b))\n",
    "print(a, b)"
   ]
  },
  {
   "cell_type": "markdown",
   "id": "12f7cfde",
   "metadata": {
    "slideshow": {
     "slide_type": "slide"
    }
   },
   "source": [
    "# QUESTION 2. \n",
    "\n",
    "Write a function `swap` that accepts as input a tuple `tup_in` of length=2 and returns a tuple `tup_out` with values of `tup_in` swapped. "
   ]
  },
  {
   "cell_type": "code",
   "execution_count": null,
   "id": "1f1ca19d",
   "metadata": {},
   "outputs": [],
   "source": [
    "def swap(tup):\n",
    "    \n",
    "    \n",
    "\n",
    "assert swap((\"a\", \"b\"))==(\"b\", \"a\"), \"Test case 1 failed\""
   ]
  },
  {
   "cell_type": "markdown",
   "id": "70126441",
   "metadata": {
    "slideshow": {
     "slide_type": "slide"
    }
   },
   "source": [
    "# QUESTION 3. \n",
    "\n",
    "Write a function that accepts as input a list `sequence` and returns `(first_item, last_item)`. "
   ]
  },
  {
   "cell_type": "code",
   "execution_count": null,
   "id": "d26ac743",
   "metadata": {},
   "outputs": [],
   "source": [
    "def get_first_and_last(sequence):\n",
    "    return sequence[0], sequence[-1]\n",
    "    \n",
    "assert get_first_and_last([4, 5, 1, 3, 2])==(4, 2),    \"Test case 1 passed\"\n",
    "assert get_first_and_last([42])           ==(42,42),   \"Test case 2 passed\"\n",
    "assert get_first_and_last(\"apple\")        ==(\"a\",\"e\"), \"Test case 3 passed\"\n",
    "\n",
    "print(\"All test cases passed\")"
   ]
  },
  {
   "cell_type": "markdown",
   "id": "45b0306e",
   "metadata": {
    "slideshow": {
     "slide_type": "slide"
    }
   },
   "source": [
    "# 10.2.2. SETS"
   ]
  },
  {
   "cell_type": "markdown",
   "id": "8785538b",
   "metadata": {},
   "source": [
    "* Sets, similar to lists and tuples, are used to store multiple items in a single variable.\n",
    "\n",
    "* A set is a collection which is **unordered** and **unindexed**.\n",
    "\n",
    "    * Set items are unchangeable, but you can remove items and add new items.\n",
    "    \n",
    "    <br/>\n",
    "\n",
    "Type | Collection | Syntax | Ordered | Indexed | Mutable | Passed By | Duplicates Allowed \n",
    ":------------: | :-------------:|:-------------:|:-------------:|:-------------:| :-------------:| :-------------:|:-------------:\n",
    "`strings` | characters | `\" \"` | &check; |&check; | &cross; | value | &check;\n",
    "`list` | any data type | `[ ]` | &check; |&check; |  &check; | reference | &check;\n",
    "`tuple` | any data type | `( )` | &check; | &check; |  &cross; | value | &check;\n",
    "**`set`** | **any data type** | **`{ }`** | **&cross;** | **&cross;** |  **&cross;** | **value** | **&cross;**"
   ]
  },
  {
   "cell_type": "markdown",
   "id": "d164b7dd",
   "metadata": {
    "slideshow": {
     "slide_type": "slide"
    }
   },
   "source": [
    "### 10.2.2.1. Creating a Set\n",
    "\n",
    "* Sets are written with curly brackets `{ }`"
   ]
  },
  {
   "cell_type": "code",
   "execution_count": null,
   "id": "c411edfb",
   "metadata": {
    "scrolled": true
   },
   "outputs": [],
   "source": [
    "colors =  {\"blue\", \"red\", \"green\"}\n",
    "colors2 = [\"blue\", \"red\", \"green\"]\n",
    "\n",
    "print(colors)\n",
    "print(colors2)\n",
    "print(type(colors))\n",
    "print(type(colors2))"
   ]
  },
  {
   "cell_type": "markdown",
   "id": "f51b4bae",
   "metadata": {
    "slideshow": {
     "slide_type": "slide"
    }
   },
   "source": [
    "### 10.2.2.2. Sets are Unordered\n",
    "\n",
    "* Unordered means that the items in a set do not have a defined order.\n",
    "\n",
    "* Set items can appear in a **different order every time** you use them\n",
    "\n",
    "* Set items **cannot be referred to by index or key**."
   ]
  },
  {
   "cell_type": "code",
   "execution_count": null,
   "id": "53b58780",
   "metadata": {},
   "outputs": [],
   "source": [
    "a = {\"blue\", \"red\", \"green\"}\n",
    "print(a)"
   ]
  },
  {
   "cell_type": "markdown",
   "id": "39b69c24",
   "metadata": {
    "slideshow": {
     "slide_type": "slide"
    }
   },
   "source": [
    "### 10.2.2.3. Immutable\n",
    "\n",
    "* Set items are **immutable**: cannot be change the items after the set has been created.\n",
    "\n",
    "* After creation of set, its items cannot be changed\n",
    "    * You can remove items and add new items.\n",
    "    \n",
    "* **Passed** to functions **by value**"
   ]
  },
  {
   "cell_type": "code",
   "execution_count": null,
   "id": "183e37cb",
   "metadata": {},
   "outputs": [],
   "source": [
    "def func(a):\n",
    "    a = {\"blue\", \"red\", \"green\", \"yellow\"}\n",
    "\n",
    "a = {\"blue\", \"red\", \"green\"}\n",
    "\n",
    "func(a)\n",
    "\n",
    "print(a)"
   ]
  },
  {
   "cell_type": "markdown",
   "id": "bdcbc852",
   "metadata": {
    "slideshow": {
     "slide_type": "slide"
    }
   },
   "source": [
    "### 10.2.2.4. Duplicates Not Allowed\n",
    "\n",
    " * Sets cannot have two items with the same value.\n",
    "\n",
    " * Duplicate values will be ignored:"
   ]
  },
  {
   "cell_type": "code",
   "execution_count": 378,
   "id": "6b3d8b0b",
   "metadata": {},
   "outputs": [
    {
     "name": "stdout",
     "output_type": "stream",
     "text": [
      "{'green', 'blue', 'red'}\n",
      "3\n"
     ]
    }
   ],
   "source": [
    "thisset = {\"blue\", \"red\", \"green\", \"red\", \"red\", \"green\"}\n",
    "\n",
    "print(thisset)\n",
    "\n",
    "print(len(thisset))"
   ]
  },
  {
   "cell_type": "markdown",
   "id": "73715938",
   "metadata": {
    "slideshow": {
     "slide_type": "slide"
    }
   },
   "source": [
    "### 10.2.2.5. Length of Set\n",
    "\n",
    "* Get the Length of a Set\n",
    "\n",
    "* To determine how many items a set has, use the len() function.\n",
    "\n",
    "* Get the number of items in a set:"
   ]
  },
  {
   "cell_type": "code",
   "execution_count": 379,
   "id": "f598511a",
   "metadata": {},
   "outputs": [
    {
     "name": "stdout",
     "output_type": "stream",
     "text": [
      "['blue', 'red', 'green', 'red', 'red']\n"
     ]
    }
   ],
   "source": [
    "listt = [\"blue\", \"red\", \"green\", \"red\", \"red\"]\n",
    "print(listt)"
   ]
  },
  {
   "cell_type": "code",
   "execution_count": 380,
   "id": "76548720",
   "metadata": {},
   "outputs": [
    {
     "name": "stdout",
     "output_type": "stream",
     "text": [
      "{'green', 'blue', 'red'}\n"
     ]
    }
   ],
   "source": [
    "listt = set(listt)\n",
    "print(listt)"
   ]
  },
  {
   "cell_type": "markdown",
   "id": "667aec74",
   "metadata": {
    "slideshow": {
     "slide_type": "slide"
    }
   },
   "source": [
    "## 10.2.2.6. Set Items - Data Types\n",
    "\n",
    "* Set items can be of any data type e.g. `str`, `int`, `float` and `bool`"
   ]
  },
  {
   "cell_type": "code",
   "execution_count": null,
   "id": "35c7819e",
   "metadata": {},
   "outputs": [],
   "source": [
    "string = \"aaab\"\n",
    "set(string)"
   ]
  },
  {
   "cell_type": "code",
   "execution_count": 386,
   "id": "883ec134",
   "metadata": {},
   "outputs": [
    {
     "name": "stdout",
     "output_type": "stream",
     "text": [
      "{True, 34, 40, 'male', 'abc'}\n"
     ]
    }
   ],
   "source": [
    "set1 = {\"blue\", \"red\", \"green\",}\n",
    "set2 = {1, 5, 7, 9, 3}\n",
    "set3 = {True, False, False}\n",
    "set4 = {\"abc\", 34, True, 40, \"male\"}\n",
    "\n",
    "print(set4)"
   ]
  },
  {
   "cell_type": "markdown",
   "id": "4bc1372e",
   "metadata": {
    "slideshow": {
     "slide_type": "slide"
    }
   },
   "source": [
    "## 10.2.2.7. Set Operations: Add Set Items\n",
    "\n",
    "* Once a set is created, you cannot change its items, but you can add new items.\n",
    "* To add one item to a set use the `add()` method."
   ]
  },
  {
   "cell_type": "code",
   "execution_count": 394,
   "id": "14d95b41",
   "metadata": {},
   "outputs": [
    {
     "name": "stdout",
     "output_type": "stream",
     "text": [
      "[1, 2, 3, 4]\n"
     ]
    }
   ],
   "source": [
    "listt = [1, 2, 3]\n",
    "listt.append(4)\n",
    "print(listt)"
   ]
  },
  {
   "cell_type": "code",
   "execution_count": 395,
   "id": "0c67195b",
   "metadata": {},
   "outputs": [
    {
     "name": "stdout",
     "output_type": "stream",
     "text": [
      "abcd\n"
     ]
    }
   ],
   "source": [
    "string = \"abc\"\n",
    "string = string + \"d\"\n",
    "print(string)"
   ]
  },
  {
   "cell_type": "code",
   "execution_count": 405,
   "id": "92fe2ebd",
   "metadata": {},
   "outputs": [
    {
     "name": "stdout",
     "output_type": "stream",
     "text": [
      "{'green', 'blue', 'red', 'orange'}\n"
     ]
    }
   ],
   "source": [
    "thisset = {\"blue\", \"red\", \"green\"}\n",
    "thisset.add(\"orange\")\n",
    "print(thisset)"
   ]
  },
  {
   "cell_type": "markdown",
   "id": "927d891f",
   "metadata": {
    "slideshow": {
     "slide_type": "slide"
    }
   },
   "source": [
    "## 10.2.2.8. Update Sets\n",
    "\n",
    "* To add items from another set into the current set, use the `update()` method.\n",
    "\n",
    "* Add elements from color_1 into color_2:"
   ]
  },
  {
   "cell_type": "code",
   "execution_count": 415,
   "id": "6b771c28",
   "metadata": {},
   "outputs": [
    {
     "name": "stdout",
     "output_type": "stream",
     "text": [
      "{'blue', 'red', 'indigo', 'yellow', 'green', 'orange'}\n",
      "{'indigo', 'orange', 'yellow'}\n"
     ]
    }
   ],
   "source": [
    "color_1 = {\"blue\", \"red\", \"green\"}\n",
    "color_2 = {\"yellow\", \"indigo\", \"orange\"}\n",
    "\n",
    "color_1.update(color_2)\n",
    "\n",
    "# color_1.add(\"yellow\")\n",
    "# color_1.add(\"indigo\")\n",
    "# color_1.add(\"orange\")\n",
    "\n",
    "print(color_1)\n",
    "print(color_2)"
   ]
  },
  {
   "cell_type": "markdown",
   "id": "23428ce9",
   "metadata": {
    "slideshow": {
     "slide_type": "slide"
    }
   },
   "source": [
    "## 10.2.2.9. Remove Item\n",
    "\n",
    "* To remove an item in a set, use the `remove()`, or the `discard()` method.\n",
    "\n",
    "* If the item to remove does not exist, `discard()` will NOT raise an error."
   ]
  },
  {
   "cell_type": "code",
   "execution_count": 428,
   "id": "401c25f6",
   "metadata": {},
   "outputs": [
    {
     "name": "stdout",
     "output_type": "stream",
     "text": [
      "{'green', 'red'}\n"
     ]
    }
   ],
   "source": [
    "thisset = {\"blue\", \"red\", \"green\"}\n",
    "thisset.remove(\"blue\")\n",
    "print(thisset)"
   ]
  },
  {
   "cell_type": "code",
   "execution_count": 429,
   "id": "1277ae3e",
   "metadata": {},
   "outputs": [
    {
     "name": "stdout",
     "output_type": "stream",
     "text": [
      "{'green', 'red'}\n"
     ]
    }
   ],
   "source": [
    "thisset = {\"blue\", \"red\", \"green\"}\n",
    "thisset.discard(\"blue\")\n",
    "print(thisset)"
   ]
  },
  {
   "cell_type": "code",
   "execution_count": 423,
   "id": "e28ae635",
   "metadata": {},
   "outputs": [
    {
     "name": "stdout",
     "output_type": "stream",
     "text": [
      "set()\n"
     ]
    }
   ],
   "source": [
    "thisset = {\"blue\", \"red\", \"green\"}\n",
    "thisset.clear()\n",
    "print(thisset)"
   ]
  },
  {
   "cell_type": "markdown",
   "id": "342d5646",
   "metadata": {
    "slideshow": {
     "slide_type": "slide"
    }
   },
   "source": [
    "# Set Operations\n",
    "\n",
    "<center><img src=\"https://miro.medium.com/max/1000/1*p_tVVeiut8GNxGKoSZa6cw.png\"></img></center>"
   ]
  },
  {
   "cell_type": "markdown",
   "id": "acd86470",
   "metadata": {
    "slideshow": {
     "slide_type": "slide"
    }
   },
   "source": [
    "## 10.2.2.10. Set Operations - Union\n",
    "\n",
    "* There are several ways to join two or more sets in Python.\n",
    "\n",
    "* You can use the `union()` or `update()` method that returns a new set containing all items from both sets\n",
    "\n",
    "* Both `union()` and `update()` will exclude any duplicate items."
   ]
  },
  {
   "cell_type": "code",
   "execution_count": 435,
   "id": "0188eac8",
   "metadata": {},
   "outputs": [
    {
     "name": "stdout",
     "output_type": "stream",
     "text": [
      "{1, 2, 3, 'b', 'a', 'c'}\n",
      "{1, 2, 3}\n"
     ]
    }
   ],
   "source": [
    "set1 = {\"a\", \"b\" , \"c\"}\n",
    "set2 = {1, 2, 3}\n",
    "\n",
    "set1 = set1.union(set2)\n",
    "print(set1)\n",
    "print(set2)"
   ]
  },
  {
   "cell_type": "markdown",
   "id": "9d88609a",
   "metadata": {
    "slideshow": {
     "slide_type": "slide"
    }
   },
   "source": [
    "## 10.2.2.11. Set Operations - Intersection\n",
    "\n",
    "The `intersection_update()` method will keep only the items that are present in both sets.\n",
    "\n",
    "Keep the items that exist in both set `x`, and set `y`:"
   ]
  },
  {
   "cell_type": "code",
   "execution_count": 449,
   "id": "c17fcc73",
   "metadata": {},
   "outputs": [
    {
     "name": "stdout",
     "output_type": "stream",
     "text": [
      "{'apple'}\n"
     ]
    }
   ],
   "source": [
    "x = {\"apple\", \"banana\", \"cherry\"}\n",
    "y = {\"google\", \"microsoft\", \"apple\"}\n",
    "\n",
    "x.intersection_update(y)\n",
    "x = x.intersection(y)\n",
    "\n",
    "print(x)"
   ]
  },
  {
   "cell_type": "markdown",
   "id": "0eda391b",
   "metadata": {
    "slideshow": {
     "slide_type": "slide"
    }
   },
   "source": [
    "The `intersection()` method will **return a new set**, that only contains the items that are present in both sets.\n",
    "\n",
    "Return a set that contains the items that exist in both set `x`, and set `y`:"
   ]
  },
  {
   "cell_type": "code",
   "execution_count": 436,
   "id": "c4d17146",
   "metadata": {},
   "outputs": [
    {
     "name": "stdout",
     "output_type": "stream",
     "text": [
      "{'apple'}\n"
     ]
    }
   ],
   "source": [
    "x = {\"apple\", \"banana\", \"cherry\"}\n",
    "y = {\"google\", \"microsoft\", \"apple\"}\n",
    "\n",
    "x = x.intersection(y)\n",
    "\n",
    "print(x)"
   ]
  },
  {
   "cell_type": "markdown",
   "id": "792f53fc",
   "metadata": {
    "slideshow": {
     "slide_type": "slide"
    }
   },
   "source": [
    "## 10.2.2.12. Symmetric Difference\n",
    "\n",
    "* Keep All, But NOT the Duplicates\n",
    "\n",
    "*  The `symmetric_difference_update()` method will keep only the elements that are NOT present in both sets."
   ]
  },
  {
   "cell_type": "code",
   "execution_count": 450,
   "id": "c7aef6f8",
   "metadata": {},
   "outputs": [
    {
     "name": "stdout",
     "output_type": "stream",
     "text": [
      "{'microsoft', 'cherry', 'banana', 'google'}\n"
     ]
    }
   ],
   "source": [
    "x = {\"apple\", \"banana\", \"cherry\"}\n",
    "y = {\"google\", \"microsoft\", \"apple\"}\n",
    "\n",
    "x.symmetric_difference_update(y)\n",
    "\n",
    "print(x)"
   ]
  },
  {
   "cell_type": "markdown",
   "id": "e54611fa",
   "metadata": {
    "slideshow": {
     "slide_type": "slide"
    }
   },
   "source": [
    "The `symmetric_difference()` method will return a new set, that contains only the elements that are NOT present in both sets.\n",
    "\n",
    "Return a set that contains all items from both sets, except items that are present in both:"
   ]
  },
  {
   "cell_type": "code",
   "execution_count": 451,
   "id": "e92a252b",
   "metadata": {},
   "outputs": [
    {
     "name": "stdout",
     "output_type": "stream",
     "text": [
      "{'microsoft', 'cherry', 'banana', 'google'}\n"
     ]
    }
   ],
   "source": [
    "x = {\"apple\", \"banana\", \"cherry\"}\n",
    "y = {\"google\", \"microsoft\", \"apple\"}\n",
    "\n",
    "z =  x.symmetric_difference(y)\n",
    "\n",
    "print(z)"
   ]
  },
  {
   "cell_type": "markdown",
   "id": "f9e982da",
   "metadata": {
    "slideshow": {
     "slide_type": "slide"
    }
   },
   "source": [
    "# To Summarize:\n",
    "<br/>\n",
    "\n",
    "Type | Collection | Syntax | Ordered | Indexed | Mutable | Passed By | Duplicates Allowed \n",
    ":------------: | :-------------:|:-------------:|:-------------:|:-------------:| :-------------:| :-------------:|:-------------:\n",
    "`strings` | characters | `\" \"` | &check; |&check; | &cross; | value | &check;\n",
    "`list` | any data type | `[ ]` | &check; |&check; |  &check; | reference | &check;\n",
    "`tuple` | any data type | `( )` | &check; | &check; |  &cross; | value | &check;\n",
    "`set` | any data type | `{ }` | &cross; | &cross; |  &cross; | value | &cross;"
   ]
  },
  {
   "cell_type": "markdown",
   "id": "a49973ba",
   "metadata": {
    "slideshow": {
     "slide_type": "slide"
    }
   },
   "source": [
    "# QUESTION 4\n",
    "\n",
    "Write a function that accepts as input a list or string `sequence` and returns a set of unique items in `sequence`"
   ]
  },
  {
   "cell_type": "code",
   "execution_count": 457,
   "id": "75cfa321",
   "metadata": {},
   "outputs": [
    {
     "data": {
      "text/plain": [
       "set"
      ]
     },
     "execution_count": 457,
     "metadata": {},
     "output_type": "execute_result"
    }
   ],
   "source": [
    "# a = {}\n",
    "a = set()\n",
    "type(a)"
   ]
  },
  {
   "cell_type": "code",
   "execution_count": null,
   "id": "b2adb6c0",
   "metadata": {},
   "outputs": [],
   "source": [
    "def drop_duplicates(sequence):\n",
    "    \n",
    "    return \n",
    "    \n",
    "    \n",
    "assert drop_duplicates([1, 1, 2, 2, 2, 3, 3])=={1, 2, 3}\n",
    "assert drop_duplicates(\"aaaabbbbccccc\")=={\"a\", \"b\", \"c\"}\n",
    "assert drop_duplicates([1, 2, 3])=={1, 2, 3}"
   ]
  }
 ],
 "metadata": {
  "celltoolbar": "Slideshow",
  "kernelspec": {
   "display_name": "Python 3 (ipykernel)",
   "language": "python",
   "name": "python3"
  },
  "language_info": {
   "codemirror_mode": {
    "name": "ipython",
    "version": 3
   },
   "file_extension": ".py",
   "mimetype": "text/x-python",
   "name": "python",
   "nbconvert_exporter": "python",
   "pygments_lexer": "ipython3",
   "version": "3.9.12"
  }
 },
 "nbformat": 4,
 "nbformat_minor": 5
}
