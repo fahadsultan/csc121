{
 "cells": [
  {
   "cell_type": "markdown",
   "id": "2ccea3a4",
   "metadata": {
    "slideshow": {
     "slide_type": "slide"
    }
   },
   "source": [
    "<img src=\"../imgs/1.2. Introduction.svg\">"
   ]
  },
  {
   "cell_type": "markdown",
   "id": "565410b3",
   "metadata": {
    "slideshow": {
     "slide_type": "slide"
    }
   },
   "source": [
    "# Mathematical Operations"
   ]
  },
  {
   "cell_type": "code",
   "execution_count": null,
   "id": "178d0bfe",
   "metadata": {
    "slideshow": {
     "slide_type": "-"
    }
   },
   "outputs": [],
   "source": [
    "####################### First algorithm ##################\n",
    "\n",
    "amount = 39.99\n",
    "\n",
    "# 1. Move the decimal point\n",
    "#    to the left\n",
    "tenPercent = amount / 10\n",
    "\n",
    "# 2. Round the number\n",
    "rounded = int(x)\n",
    "\n",
    "# 3. Double the number\n",
    "tip = rounded * 2\n",
    "\n",
    "print(tip)"
   ]
  },
  {
   "cell_type": "markdown",
   "id": "ba876c27",
   "metadata": {
    "slideshow": {
     "slide_type": "slide"
    }
   },
   "source": [
    "# Calculate tip function"
   ]
  },
  {
   "cell_type": "code",
   "execution_count": null,
   "id": "16fabbea",
   "metadata": {
    "slideshow": {
     "slide_type": "-"
    }
   },
   "outputs": [],
   "source": [
    "def calculate_tip(total):\n",
    "    # 1. Move the decimal point\n",
    "    #    to the left\n",
    "    tenPercent = amount / 10\n",
    "\n",
    "    # 2. Round the number\n",
    "    rounded = int(x)\n",
    "\n",
    "    # 3. Double the number\n",
    "    tip = rounded * 2\n",
    "    return tip\n",
    "\n",
    "amount = 39.99\n",
    "tip = calculate_tip(amount, 1)\n",
    "print(tip)"
   ]
  },
  {
   "cell_type": "markdown",
   "id": "51b1f861",
   "metadata": {
    "slideshow": {
     "slide_type": "slide"
    }
   },
   "source": [
    "# Random coin flips"
   ]
  },
  {
   "cell_type": "code",
   "execution_count": null,
   "id": "5f23df25",
   "metadata": {
    "slideshow": {
     "slide_type": "-"
    }
   },
   "outputs": [],
   "source": [
    "import random \n",
    "\n",
    "tails = 0\n",
    "heads = 1\n",
    "\n",
    "sum_ = 0\n",
    "mean = 0\n",
    "coinflips = 0\n",
    "\n",
    "while mean != 0.5:\n",
    "    outcome = random.randint(0, 1)\n",
    "    print(outcome)\n",
    "    sum_ = sum_ + outcome\n",
    "    coinflips = coinflips + 1\n",
    "    mean = sum_/coinflips\n",
    "\n",
    "print(\"The number of coinflips %s\" %  coinflips)"
   ]
  }
 ],
 "metadata": {
  "celltoolbar": "Slideshow",
  "kernelspec": {
   "display_name": "Python 3 (ipykernel)",
   "language": "python",
   "name": "python3"
  },
  "language_info": {
   "codemirror_mode": {
    "name": "ipython",
    "version": 3
   },
   "file_extension": ".py",
   "mimetype": "text/x-python",
   "name": "python",
   "nbconvert_exporter": "python",
   "pygments_lexer": "ipython3",
   "version": "3.9.12"
  }
 },
 "nbformat": 4,
 "nbformat_minor": 5
}
