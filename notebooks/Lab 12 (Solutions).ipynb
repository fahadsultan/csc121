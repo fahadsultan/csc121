{
 "cells": [
  {
   "cell_type": "markdown",
   "id": "fb524b9c",
   "metadata": {},
   "source": [
    "# Question 1. Is Prefix"
   ]
  },
  {
   "cell_type": "markdown",
   "id": "958b9414",
   "metadata": {},
   "source": [
    "Write a function `startswith` that accepts as Inputs:\n",
    "1. a string `text` \n",
    "2. a substring `substr` \n",
    "\n",
    "and returns `True` if `text` **starts with** `substr`\n",
    "\n",
    "For example, `text=\"premonition\"` and `substr=\"pre\"` returns `True`\n",
    "\n",
    "**_USE SLICING AND NOT THE BUILT-IN `startswith`_**"
   ]
  },
  {
   "cell_type": "code",
   "execution_count": 22,
   "id": "1ed69e0b",
   "metadata": {},
   "outputs": [],
   "source": [
    "def startswith(text, substr):\n",
    "    \n",
    "    is_prefix = text[:len(substr)] == substr\n",
    "    \n",
    "    return is_prefix"
   ]
  },
  {
   "cell_type": "code",
   "execution_count": 23,
   "id": "7a0d6c5a",
   "metadata": {},
   "outputs": [
    {
     "name": "stdout",
     "output_type": "stream",
     "text": [
      "All test cases passed successfully\n"
     ]
    }
   ],
   "source": [
    "assert startswith(\"Good Morning\", \"Good\") == True,  \"Test case 1 failed\"\n",
    "assert startswith(\"Google\", \"Good\")       == False, \"Test case 2 failed\"\n",
    "assert startswith(\"Prototype\", \"Proto\")   == True,  \"Test case 3 failed\"\n",
    "assert startswith(\"\", \"Proto\")            == False, \"Test case 4 failed\"\n",
    "assert startswith(\"Programming\", \"\")      == True,  \"Test case 5 failed\"\n",
    "\n",
    "print(\"All test cases passed successfully\")"
   ]
  },
  {
   "cell_type": "markdown",
   "id": "6baa32ba",
   "metadata": {},
   "source": [
    "# Question 2. Is Suffix"
   ]
  },
  {
   "cell_type": "markdown",
   "id": "c131df7e",
   "metadata": {},
   "source": [
    "Write a function `endswith` that accepts as Inputs:\n",
    "1. a string `text` \n",
    "2. a substring `substr` \n",
    "\n",
    "and returns `True` if `text` **ends with** `substr`\n",
    "\n",
    "For example, `text=\"Programming\"` and `substr=\"ing\"` returns `True`\n",
    "\n",
    "**_USE SLICING AND NOT THE BUILT-IN `endswith`_**"
   ]
  },
  {
   "cell_type": "code",
   "execution_count": 20,
   "id": "4eeec6c1",
   "metadata": {},
   "outputs": [],
   "source": [
    "def endswith(text, substr):\n",
    "    \n",
    "    if len(substr) == 0:\n",
    "        is_suffix = True\n",
    "    else:\n",
    "        is_suffix = text[-1*len(substr):] == substr\n",
    "    \n",
    "    return is_suffix"
   ]
  },
  {
   "cell_type": "code",
   "execution_count": 21,
   "id": "9471d563",
   "metadata": {},
   "outputs": [
    {
     "name": "stdout",
     "output_type": "stream",
     "text": [
      "All test cases passed successfully\n"
     ]
    }
   ],
   "source": [
    "assert endswith(\"Programming\", \"ing\")   == True,  \"Test case 1 failed\"\n",
    "assert endswith(\"Morning\", \"ings\")      == False, \"Test case 2 failed\"\n",
    "assert endswith(\"Prototype\", \"type\")    == True,  \"Test case 3 failed\"\n",
    "assert endswith(\"\", \"Proto\")            == False, \"Test case 4 failed\"\n",
    "assert endswith(\"Programmming\", \"\")     == True,  \"Test case 5 failed\"\n",
    "\n",
    "print(\"All test cases passed successfully\")"
   ]
  },
  {
   "cell_type": "markdown",
   "id": "027f55da",
   "metadata": {},
   "source": [
    "# Question 3. Suggest Emojis"
   ]
  },
  {
   "cell_type": "markdown",
   "id": "5fd88429",
   "metadata": {},
   "source": [
    "Given a list of tuples `emojis` where each tuple is `(icon, description)`, implement a function `suggest_emojis` that accepts as input a string `text` and returns a list of emojis. \n",
    "\n",
    "For each word, say $w_i$, in `text`, search through the list `emojis` and suggest **all** emoji that have a description that either _**starts with**_ or _**ends with**_ $w_i$. For example, \n",
    "\n",
    "1. `text=\"grin\"` returns `['😀', '😃', '😄', '😅', '😆']`\n",
    "\n",
    "2. `text=\"eyes\"` returns `['😁', '😃', '😄', '😊', '😍', '😙', '😚', '🙄']`\n",
    "\n",
    "Your implementation should be **case in-sensitive**. Use **`.lower()`** or **`.upper()`** that comes **built-in with all string variables**. \n",
    "\n",
    "_**USE FOR LOOPS IN YOUR IMPLEMENTATION**_"
   ]
  },
  {
   "cell_type": "code",
   "execution_count": 26,
   "id": "71aa8be8",
   "metadata": {},
   "outputs": [],
   "source": [
    "def suggest_emojis(text):\n",
    "    \n",
    "    emojis = [('😀', \"Grinning Face\"),      ('😁', \"Beaming Face With Smiling Eyes\"), \n",
    "    ('😂', \"Face With Tears of Joy\"),       ('🤣', \"Rolling on the Floor Laughing\"), \n",
    "    ('😃', \"Grinning Face With Big Eyes\"),  ('😄', \"Grinning Face With Smiling Eyes\"),\n",
    "    ('😅', \"Grinning Face With Sweat\"),     ('😆', \"Grinning Squinting Face\"), \n",
    "    ('😉', \"Winking Face\"),                 ('😊', \"Smiling Face With Smiling Eyes\"),\n",
    "    ('😋', \"Face Savoring Food\"),           ('😎', \"Smiling Face With Sunglasses\"), \n",
    "    ('😍', \"Smiling Face With Heart-Eyes\"), ('😘', \"Face Blowing a Kiss\"), \n",
    "    ('😗', \"Kissing Face\"),                 ('😙', \"Kissing Face With Smiling Eyes\"), \n",
    "    ('😚', \"Kissing Face With Closed Eyes\"),('☺', \"Smiling Face\"), \n",
    "    ('🙂', \"Slightly Smiling Face\"),        ('🤗', \"Hugging Face\"), \n",
    "    ('🤩', \"Star-Struck\"),                  ('🤔', \"Thinking Face\"),\n",
    "    ('🤨', \"Face With Raised Eyebrow\"),     ('😐', \"Neutral Face\"),\n",
    "    ('😑', \"Expressionless Face\"),          ('😶', \"Face Without Mouth\"),\n",
    "    ('🙄', \"Face With Rolling Eyes\"),       ('😏', \"Smirking Face\"),\n",
    "    ('😣', \"Persevering Face\"),             ('😥', \"Sad but Relieved Face\"), \n",
    "    ('😮', \"Face With Open Mouth\"),         ('🤐', \"Zipper-Mouth Face\"), \n",
    "    ('😯', \"Hushed Face\"),                  ('😪', \"Sleepy Face\"),              \n",
    "    ('😫', \"Tired Face\"),                   ('😴', \"Sleeping Face\"),            \n",
    "    ('😌', \"Relieved Face\"),                ('😛', \"Face With Tongue\"),\n",
    "    ('😜', \"Winking Face With Tongue\"),     ('😝', \"Squinting Face With Tongue\"),\n",
    "    ('🤤', \"Drooling Face\"),                ('😒', \"Unamused Face\"),\n",
    "    ('😓', \"Downcast Face With Sweat\"),     ('😔', \"Pensive Face\"),\n",
    "    ('😕', \"Confused Face\"),                ('🙃', \"Upside-Down Face\"),\n",
    "    ('🤑', \"Money-Mouth Face\"),             ('😲', \"Astonished Face\"),\n",
    "    ('☹', \"Frowning Face\"),                 ('🙁', \"Slightly Frowning Face\"),\n",
    "    ('😖', \"Confounded Face\"),              ('😞', \"Disappointed Face\"), \n",
    "    ('😟', \"Worried Face\"),                 ('😤', \"Face With Steam From Nose\"), \n",
    "    ('😢', \"Crying Face\"),                  ('😭', \"Loudly Crying Face\"), \n",
    "    ('😦', \"Frowning Face With Open Mouth\"),('😧', \"Anguished Face\"),\n",
    "    ('😨', \"Fearful Face\"),                 ('😩', \"Weary Face\"), \n",
    "    ('🤯', \"Exploding Head\"),               ('😬', \"Grimacing Face\"),\n",
    "    ('😰', \"Anxious Face With Sweat\"),      ('😱', \"Face Screaming in Fear\"),\n",
    "    ('😳', \"Flushed Face\"),                 ('🤪', \"Zany Face\"), \n",
    "    ('😵', \"Dizzy Face\"),                   ('😡', \"Pouting Face\"),\n",
    "    ('😠', \"Angry Face\"),                   ('🤬', \"Face With Symbols on Mouth\"),\n",
    "    ('😷', \"Face With Medical Mask\"),       ('🤒', \"Face With Thermometer\"),\n",
    "    ('🤕', \"Face With Head-Bandage\"),       ('🤢', \"Nauseated Face\"),\n",
    "    ('🤮', \"Face Vomiting\"),                ('🤧', \"Sneezing Face\"),\n",
    "    ('😇', \"Smiling Face With Halo\"),       ('🤠', \"Cowboy Hat Face\"),\n",
    "    ('🤡', \"Clown Face\"),                   ('🤥', \"Lying Face\"),\n",
    "    ('🤫', \"Shushing Face\"),                ('🤭', \"Face With Hand Over Mouth\"),\n",
    "    ('🧐', \"Face With Monocle\"),            ('🤓', \"Nerd Face\"),\n",
    "    ('😈', \"Smiling Face With Horns\"),      ('👿', \"Angry Face With Horns\"),\n",
    "    ('👹', \"Ogre\"),                         ('👺', \"Goblin\"),\n",
    "    ('💀', \"Skull\"),                        ('👻', \"Ghost\"),\n",
    "    ('👽', \"Alien\"),                        ('🤖', \"Robot Face\"),\n",
    "    ('🤘', \"Sign of the Horns\"),            ('🖐', \"Hand With Fingers Splayed\"),\n",
    "    ('✋', \"Raised Hand\"),                  ('👌', \"OK Hand\"),\n",
    "    ('👍', \"Thumbs Up\"),                    ('👎', \"Thumbs Down\"),\n",
    "    ('✊', \"Raised Fist\"),                  ('👊', \"Oncoming Fist\"),\n",
    "    ('🤛', \"Left-Facing Fist\"),             ('🤜', \"Right-Facing Fist\"),\n",
    "    ('🤚', \"Raised Back of Hand\"),          ('👋', \"Waving Hand\"),\n",
    "    ('🤟', \"Love-You Gesture\"),             ('✍', \"Writing Hand\"),\n",
    "    ('👏', \"Clapping Hands\"),               ('👐', \"Open Hands\"),\n",
    "    ('🙌', \"Raising Hands\"),                ('🙏', \"Folded Hands\")]\n",
    "    \n",
    "    suggestions = []\n",
    "    words = text.lower().split(\" \")\n",
    "    \n",
    "    for word in words:\n",
    "        for img, desc in emojis:\n",
    "            if  desc.lower().startswith(word) or \\\n",
    "                desc.lower().endswith(word):\n",
    "                \n",
    "                suggestions.append(img)\n",
    "                \n",
    "    return suggestions"
   ]
  },
  {
   "cell_type": "code",
   "execution_count": 27,
   "id": "cf47593b",
   "metadata": {},
   "outputs": [
    {
     "name": "stdout",
     "output_type": "stream",
     "text": [
      "All test cases passed successfully\n"
     ]
    }
   ],
   "source": [
    "assert suggest_emojis(\"grin\")  == ['😀', '😃', '😄', '😅', '😆'],                    \"Test case 1 failed\"\n",
    "assert suggest_emojis(\"eyes\")  == ['😁', '😃', '😄', '😊', '😍', '😙', '😚', '🙄'], \"Test case 2 failed\"\n",
    "assert suggest_emojis(\"mouth\") == ['😶', '😮', '😦', '🤬', '🤭'],                    \"Test case 3 failed\"\n",
    "assert suggest_emojis(\"lol\")   == [],                                                 \"Test case 4 failed\"\n",
    "assert suggest_emojis(\"SWEAT\") == ['😅', '😓', '😰'],                                \"Test case 5 failed\"\n",
    "\n",
    "print(\"All test cases passed successfully\")"
   ]
  },
  {
   "cell_type": "markdown",
   "id": "13dd8a4c",
   "metadata": {},
   "source": [
    "# Question 4. Remove Adjacent Repeated Characters\n",
    "\n",
    "Implement a function `remove_adjacent` that accepts as input a string `text` and returns a **<u>new list</u>** with all  adjacent repeated characters repeated in the string.\n",
    "\n",
    "For example, `text=\"aabbaabbaa` should return `\"ababa\"`"
   ]
  },
  {
   "cell_type": "code",
   "execution_count": 29,
   "id": "075261ad",
   "metadata": {},
   "outputs": [
    {
     "name": "stdout",
     "output_type": "stream",
     "text": [
      "All test cases passed successfully\n"
     ]
    }
   ],
   "source": [
    "def remove_adjacent(text):\n",
    "    prev = None\n",
    "    \n",
    "    new_text = \"\"\n",
    "    \n",
    "    for char in text:\n",
    "        if char != prev:\n",
    "            new_text = new_text + char\n",
    "            prev = char\n",
    "            \n",
    "    return new_text\n",
    "    \n",
    "    \n",
    "assert remove_adjacent(\"aaabbbcccc\") ==  \"abc\",   \"Test case 1 failed\"\n",
    "assert remove_adjacent(\"aabbaabbaa\") ==  \"ababa\", \"Test case 2 failed\"\n",
    "assert remove_adjacent(\"1000000001\") ==  \"101\",   \"Test case 3 failed\"\n",
    "assert remove_adjacent(\"a        b\")  ==  \"a b\",   \"Test case 4 failed\"\n",
    "assert remove_adjacent(\"aaaaaaaaaa\")  ==  \"a\",     \"Test case 5 failed\"\n",
    "\n",
    "print(\"All test cases passed successfully\")"
   ]
  },
  {
   "cell_type": "markdown",
   "id": "203a12bc",
   "metadata": {},
   "source": [
    "# Question 5. Remove duplicates in a list \n",
    "\n",
    "Implement a function `remove_duplicates` that accepts as input a list `sequence` and removes any duplicates in the list.\n",
    "\n",
    "_**Note that the change must be made <u>IN-PLACE</u>, levergaging the fact that lists are passed to functions by reference**._\n",
    "\n",
    "In other words, **the function does NOT return a new list** (or anything else, for that matter). "
   ]
  },
  {
   "cell_type": "code",
   "execution_count": 30,
   "id": "d44b8f76",
   "metadata": {},
   "outputs": [],
   "source": [
    "def remove_duplicates(sequence):\n",
    "    i = 0\n",
    "    while len(sequence) != len(set(sequence)):\n",
    "        if sequence[i] in sequence[i+1:]:\n",
    "            sequence.remove(sequence[i])\n",
    "        else:\n",
    "            i = i + 1"
   ]
  },
  {
   "cell_type": "code",
   "execution_count": 31,
   "id": "9893ebe1",
   "metadata": {},
   "outputs": [
    {
     "name": "stdout",
     "output_type": "stream",
     "text": [
      "All test cases passed successfully\n"
     ]
    }
   ],
   "source": [
    "sequence = [1, 2, 2, 3]\n",
    "remove_duplicates(sequence)\n",
    "assert sequence == [1, 2, 3],  \"Test case 1 failed\"\n",
    "\n",
    "sequence = [1, 2, 3]\n",
    "remove_duplicates(sequence)\n",
    "assert sequence == [1, 2, 3],  \"Test case 2 failed\"\n",
    "\n",
    "sequence = [1, 1, 1]\n",
    "remove_duplicates(sequence)\n",
    "assert sequence == [1],        \"Test case 3 failed\"\n",
    "\n",
    "sequence = [\"a\", \"a\", \"b\"]\n",
    "remove_duplicates(sequence)\n",
    "assert sequence == [\"a\", \"b\"], \"Test case 4 failed\"\n",
    "\n",
    "sequence = [1, 1, 2, 2, 3, 3]\n",
    "remove_duplicates(sequence)\n",
    "assert sequence == [1, 2, 3],  \"Test case 5 failed\"\n",
    "\n",
    "print(\"All test cases passed successfully\")"
   ]
  },
  {
   "cell_type": "code",
   "execution_count": null,
   "id": "ecdc1bda",
   "metadata": {},
   "outputs": [],
   "source": []
  }
 ],
 "metadata": {
  "kernelspec": {
   "display_name": "Python 3 (ipykernel)",
   "language": "python",
   "name": "python3"
  },
  "language_info": {
   "codemirror_mode": {
    "name": "ipython",
    "version": 3
   },
   "file_extension": ".py",
   "mimetype": "text/x-python",
   "name": "python",
   "nbconvert_exporter": "python",
   "pygments_lexer": "ipython3",
   "version": "3.9.12"
  }
 },
 "nbformat": 4,
 "nbformat_minor": 5
}
