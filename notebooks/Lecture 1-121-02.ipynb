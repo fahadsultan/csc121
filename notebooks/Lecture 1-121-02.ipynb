{
 "cells": [
  {
   "cell_type": "markdown",
   "id": "bbaccea4",
   "metadata": {
    "slideshow": {
     "slide_type": "slide"
    }
   },
   "source": [
    "# CSC-121 \n",
    "# Introduction to Computer Programming \n",
    "\n",
    "# Lecture 1.1\n",
    "## Friday, August 26th 2022"
   ]
  },
  {
   "cell_type": "markdown",
   "id": "93b3e5dd",
   "metadata": {
    "slideshow": {
     "slide_type": "slide"
    }
   },
   "source": [
    "# 1.1. Python Comments\n",
    "\n",
    "Old programming wisdom:\n",
    "> Programs must be written for people to read, and only incidentally for machines to execute.\n",
    "\n",
    "\n",
    "* Comments in code are _literally_ there only for people to read and **never** for machines to execute\n",
    "\n",
    "* Use comments to explain your code.\n",
    "\n",
    "* Use comments to make your code more readable.\n"
   ]
  },
  {
   "cell_type": "markdown",
   "id": "668293ca",
   "metadata": {
    "slideshow": {
     "slide_type": "slide"
    }
   },
   "source": [
    "* Comments starts with a `#`, and Python will ignore them:"
   ]
  },
  {
   "cell_type": "code",
   "execution_count": 20,
   "id": "873a6ea7",
   "metadata": {},
   "outputs": [
    {
     "name": "stdout",
     "output_type": "stream",
     "text": [
      "2\n"
     ]
    }
   ],
   "source": [
    "a = 1\n",
    "a = a + 1 # * 10\n",
    "print(a)"
   ]
  },
  {
   "cell_type": "markdown",
   "id": "290c8e44",
   "metadata": {},
   "source": [
    "* Comments can be placed at the end of a line, and Python will ignore the rest of the line:"
   ]
  },
  {
   "cell_type": "code",
   "execution_count": 17,
   "id": "2b92b84d",
   "metadata": {},
   "outputs": [
    {
     "ename": "SyntaxError",
     "evalue": "EOL while scanning string literal (1340485647.py, line 3)",
     "output_type": "error",
     "traceback": [
      "\u001b[0;36m  Input \u001b[0;32mIn [17]\u001b[0;36m\u001b[0m\n\u001b[0;31m    print(\"Furman)\u001b[0m\n\u001b[0m                  ^\u001b[0m\n\u001b[0;31mSyntaxError\u001b[0m\u001b[0;31m:\u001b[0m EOL while scanning string literal\n"
     ]
    }
   ],
   "source": [
    "print(\"Hello\")\n",
    "print(a)\n",
    "# print(\"World\")"
   ]
  },
  {
   "cell_type": "markdown",
   "id": "c35f70d7",
   "metadata": {
    "slideshow": {
     "slide_type": "-"
    }
   },
   "source": [
    "* Note how comments can be plain English to increase readability\n",
    "    * Or code, if you are trying to fix a bug or designing the algorithm"
   ]
  },
  {
   "cell_type": "code",
   "execution_count": 21,
   "id": "d83d89c4",
   "metadata": {
    "slideshow": {
     "slide_type": "slide"
    }
   },
   "outputs": [
    {
     "name": "stdout",
     "output_type": "stream",
     "text": [
      "3\n",
      "9\n",
      "27\n"
     ]
    }
   ],
   "source": [
    "\"\"\"\n",
    "Print \n",
    "multiples\n",
    "of \n",
    "3 \n",
    "\"\"\"\n",
    "\n",
    "a = 1\n",
    "\n",
    "#Get first multiple of 3\n",
    "a = a * 3\n",
    "print(a)\n",
    "\n",
    "#Get second multiple of 3\n",
    "a = a * 3\n",
    "print(a)\n",
    "\n",
    "#Get third multiple of 3\n",
    "a = a * 3\n",
    "print(a)"
   ]
  },
  {
   "cell_type": "code",
   "execution_count": 53,
   "id": "c693f8af",
   "metadata": {},
   "outputs": [
    {
     "name": "stdout",
     "output_type": "stream",
     "text": [
      "5 10 10000\n"
     ]
    }
   ],
   "source": [
    "ten_percent = 3\n",
    "Ten_percent = 10\n",
    "TEN_PERCENT = 10000\n",
    "ten_percent = 5\n",
    "print(ten_percent, Ten_percent, TEN_PERCENT)"
   ]
  },
  {
   "cell_type": "code",
   "execution_count": 50,
   "id": "2b783896",
   "metadata": {
    "slideshow": {
     "slide_type": "slide"
    }
   },
   "outputs": [
    {
     "name": "stdout",
     "output_type": "stream",
     "text": [
      "6\n"
     ]
    }
   ],
   "source": [
    "\"\"\" \n",
    "Jane Doe Algorithm, for calculating gratuity\n",
    "\n",
    "computes 20% gratuity in three easy steps. \n",
    "\n",
    "Input(s)\n",
    "--------\n",
    "cheque_amount : int\n",
    "\n",
    "Output \n",
    "------\n",
    "int\n",
    "    20% of the cheque_amount\n",
    "\"\"\"\n",
    "\n",
    "cheque_amount = 27.03\n",
    "\n",
    "# 1. Compute 10% by moving the decimal point \n",
    "Ten_percent = cheque_amount / 10\n",
    "\n",
    "# 2. Round the number \n",
    "ten_number_rounded = round(ten_percent)\n",
    "\n",
    "# 3. Double it \n",
    "tip_amount = ten_number_rounded * 2\n",
    "\n",
    "print(tip_amount)"
   ]
  },
  {
   "cell_type": "markdown",
   "id": "947a3b96",
   "metadata": {
    "slideshow": {
     "slide_type": "slide"
    }
   },
   "source": [
    "# 1.2 Variable Naming\n",
    "\n",
    "\n",
    "* _**Variable Names must be descriptive!**_\n",
    "\n",
    "* A variable name must start with a letter or the underscore character\n",
    "\n",
    "* A variable name cannot start with a number\n",
    "\n",
    "* A variable name can only contain alpha-numeric characters and underscores (A-z, 0-9, and _ )\n",
    "\n",
    "* Variable names are case-sensitive (age, Age and AGE are three different variables)\n",
    "\n",
    "* In Python, the convention is to _NOT_ use upper case letters anywhere in the name. In case of multi-word names, use _ .\n"
   ]
  },
  {
   "cell_type": "code",
   "execution_count": 63,
   "id": "26ad6711",
   "metadata": {},
   "outputs": [],
   "source": [
    "# 10_percent\n",
    "# ten_percent\n",
    "# _10_percent = 10\n",
    "# 20_percent\n",
    "# twenty_percent \n",
    "\n",
    "# age = 2\n",
    "# Age = 20\n",
    "# AGE = 200"
   ]
  },
  {
   "cell_type": "markdown",
   "id": "141213c7",
   "metadata": {
    "slideshow": {
     "slide_type": "slide"
    }
   },
   "source": [
    "# 1.2.1. Reserved words Python"
   ]
  },
  {
   "cell_type": "markdown",
   "id": "6566b223",
   "metadata": {},
   "source": [
    "`False`, `def`, `if`, `raise`,\n",
    "`None`,\t`del`,\t`import`,\t`return`,\n",
    "`True`,\t`elif`\t,`in`,\t`try`,\n",
    "`and`,\t`else`,\t`is`,\t`while`,\n",
    "`as`,\t`except`,\t`lambda`, `with`\n",
    "`assert`,\t`finally`,\t`nonlocal`,\t`yield`\n",
    "`break`,\t`for`,\t`not`\t\n",
    "`class`,\t`from`,\t`or`,\t\n",
    "`continue`,\t`global`,\t`pass`"
   ]
  },
  {
   "cell_type": "code",
   "execution_count": 60,
   "id": "8d7b0377",
   "metadata": {},
   "outputs": [],
   "source": [
    "#Let's see what happens \n"
   ]
  },
  {
   "cell_type": "markdown",
   "id": "9e3f2b1e",
   "metadata": {
    "slideshow": {
     "slide_type": "slide"
    }
   },
   "source": [
    "# 1.2.2. Overriding built-in functions"
   ]
  },
  {
   "cell_type": "markdown",
   "id": "576858ac",
   "metadata": {},
   "source": [
    "What happens when we override `round`, `input` or `print`"
   ]
  },
  {
   "cell_type": "code",
   "execution_count": null,
   "id": "dc5d3928",
   "metadata": {},
   "outputs": [],
   "source": [
    "input = float(input())\n",
    "rounded_num = round(input)\n",
    "print(rounded_num)\n",
    "\n",
    "num = float(input())\n",
    "rounded_num = round(num)\n",
    "print(rounded_num)"
   ]
  },
  {
   "cell_type": "code",
   "execution_count": 3,
   "id": "a7883afc",
   "metadata": {},
   "outputs": [
    {
     "ename": "TypeError",
     "evalue": "'int' object is not callable",
     "output_type": "error",
     "traceback": [
      "\u001b[0;31m---------------------------------------------------------------------------\u001b[0m",
      "\u001b[0;31mTypeError\u001b[0m                                 Traceback (most recent call last)",
      "Input \u001b[0;32mIn [3]\u001b[0m, in \u001b[0;36m<cell line: 2>\u001b[0;34m()\u001b[0m\n\u001b[1;32m      1\u001b[0m \u001b[38;5;28mround\u001b[39m \u001b[38;5;241m=\u001b[39m \u001b[38;5;28mround\u001b[39m(\u001b[38;5;241m7.7\u001b[39m)\n\u001b[0;32m----> 2\u001b[0m rounded \u001b[38;5;241m=\u001b[39m \u001b[38;5;28;43mround\u001b[39;49m\u001b[43m(\u001b[49m\u001b[38;5;241;43m8.7\u001b[39;49m\u001b[43m)\u001b[49m\n",
      "\u001b[0;31mTypeError\u001b[0m: 'int' object is not callable"
     ]
    }
   ],
   "source": [
    "round = round(7.7)\n",
    "rounded = round(8.7)"
   ]
  },
  {
   "cell_type": "markdown",
   "id": "6ecd0e11",
   "metadata": {
    "slideshow": {
     "slide_type": "slide"
    }
   },
   "source": [
    "# 1.3. Mathematical Operators"
   ]
  },
  {
   "cell_type": "markdown",
   "id": "7e341978",
   "metadata": {
    "slideshow": {
     "slide_type": "-"
    }
   },
   "source": [
    "`a = 2`\n",
    "`b = 10`\n",
    "\n",
    "| Operator      | Description   |Example.      |\n",
    "| :-----------  | :-----------: |:-----------: |\n",
    "| + Addition    |  Adds values on either side of the operator.  | a + b = 30|\n",
    "| - Subtraction |  Subtracts right hand operand from left hand operand.  | a – b = -10|\n",
    "| * Multiplication |  Multiplies values on either side of the operator  | a * b = 200|\n",
    "| / Division |  Divides left hand operand by right hand operand  | b / a = 2|\n",
    "| % Modulus |  Divides left hand operand by right hand operand and returns remainder  | b % a = 0|\n",
    "| ** Exponent |  Performs exponential (power) calculation on operators  | a**b =10 to the power 20|\n",
    "| // Floor Division |  The division of operands where the result is the quotient in which the digits after the decimal point are removed. But if one of the operands is negative, the result is floored, i.e., rounded away from zero (towards negative infinity) |  9//2 = 4 and 9.0//2.0 = 4.0, -11//3 = -4, -11.0//3 = -4.0|"
   ]
  },
  {
   "cell_type": "code",
   "execution_count": 19,
   "id": "b909e82c",
   "metadata": {
    "slideshow": {
     "slide_type": "slide"
    }
   },
   "outputs": [
    {
     "data": {
      "text/plain": [
       "True"
      ]
     },
     "execution_count": 19,
     "metadata": {},
     "output_type": "execute_result"
    }
   ],
   "source": [
    "# Let's go through each mathematical operator + - * / % ** //\n",
    "\n",
    "# print(11 % 5)\n",
    "# print(11 // 5)\n",
    "# print(5 // 11)\n",
    "\n",
    "# print(2 ** 2)\n",
    "\n",
    "# a = 2 \n",
    "# print(((1+1) * a)**1/2)\n",
    "\n",
    "a = 2\n",
    "b = 10\n",
    "\n",
    "a+b <= a+b"
   ]
  },
  {
   "cell_type": "markdown",
   "id": "9f8ce339",
   "metadata": {
    "slideshow": {
     "slide_type": "slide"
    }
   },
   "source": [
    "## 1.3.1. Boolean Operators"
   ]
  },
  {
   "cell_type": "markdown",
   "id": "1c1493f6",
   "metadata": {},
   "source": [
    "These operators return `True` or `False` (i.e. boolean data type). \n",
    "\n",
    "| Operator      | Description   |Example.      |\n",
    "| :-----------  | :-----------: |:-----------: |\n",
    "| ==  |  Returns `True` if left hand operand is equal to right hand operand. Otherwise, returns `False`  | `a+b == b+a` |\n",
    "| != |  Returns `True` if left hand operand is _NOT_ equal to  right hand operand. Otherwise, returns `False`.  | `a*b != b/a`|\n",
    "| < |  Returns `True` if left hand operand is less than right hand operand. Otherwise, returns `False`.  | `b/a < b`|\n",
    "| > |  Returns `True` if left hand operand is greater than right hand operand. Otherwise, returns `False`.  | `a*b > b`|\n",
    "| <= |  Returns `True` if left hand operand is less than or equal to right hand operand. Otherwise, returns `False`.  | `a-b <= a`|\n",
    "| >= |  Returns `True` if left hand operand is greater than or equal to right hand operand. Otherwise, returns `False`.  | `a*b >= b*a`|"
   ]
  },
  {
   "cell_type": "code",
   "execution_count": null,
   "id": "0d6e415e",
   "metadata": {},
   "outputs": [],
   "source": []
  },
  {
   "cell_type": "code",
   "execution_count": null,
   "id": "fd1f672f",
   "metadata": {},
   "outputs": [],
   "source": [
    "# Boolean Operators. Let's try to use each of them. "
   ]
  },
  {
   "cell_type": "code",
   "execution_count": 56,
   "id": "b1e2122a",
   "metadata": {
    "slideshow": {
     "slide_type": "slide"
    }
   },
   "outputs": [],
   "source": [
    "# Question 1\n",
    "\n",
    "1+1+1+1+1*0\n",
    "\n",
    "27.03 + 20/100* 27.03\n",
    "\n",
    "10 + 10 / 10\n",
    "\n",
    "4**1/2\n",
    "\n",
    "36**1/2\n"
   ]
  },
  {
   "cell_type": "markdown",
   "id": "4c2a022f",
   "metadata": {
    "slideshow": {
     "slide_type": "slide"
    }
   },
   "source": [
    "# 1.4. Operator Precedence"
   ]
  },
  {
   "cell_type": "markdown",
   "id": "acfcb04c",
   "metadata": {},
   "source": [
    "Operator Precedence in decreasing order. \n",
    "\n",
    "The higher the operator in the table, the higher its priority"
   ]
  },
  {
   "cell_type": "markdown",
   "id": "d87d1fc8",
   "metadata": {},
   "source": [
    "| Syntax      || Description |\n",
    "| :----------- || -----------: |\n",
    "| ()      || Parentheses |\n",
    "| **      || Exponent    |\n",
    "| *,  /,  //,  % || Multiplication, Division, Floor division, Modulus|\n",
    "| +, - || Addition, Subtraction|\n",
    "|==, !=, >, >=, <, <= || Equal, Not Equal, Less Than, Less Than Equal, Greater Than, Greater Than Equal ||"
   ]
  }
 ],
 "metadata": {
  "celltoolbar": "Slideshow",
  "kernelspec": {
   "display_name": "Python 3 (ipykernel)",
   "language": "python",
   "name": "python3"
  },
  "language_info": {
   "codemirror_mode": {
    "name": "ipython",
    "version": 3
   },
   "file_extension": ".py",
   "mimetype": "text/x-python",
   "name": "python",
   "nbconvert_exporter": "python",
   "pygments_lexer": "ipython3",
   "version": "3.9.12"
  }
 },
 "nbformat": 4,
 "nbformat_minor": 5
}
