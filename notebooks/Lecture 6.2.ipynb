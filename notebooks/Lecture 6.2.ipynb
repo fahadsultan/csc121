{
 "cells": [
  {
   "cell_type": "markdown",
   "id": "175fc454",
   "metadata": {},
   "source": [
    "# LECTURE 6.2. PRACTICING `while` LOOPS"
   ]
  },
  {
   "cell_type": "markdown",
   "id": "11904453",
   "metadata": {},
   "source": [
    "# Question 1. Print _\"Repeating operation\"_ 7 times"
   ]
  },
  {
   "cell_type": "markdown",
   "id": "00cc69f5",
   "metadata": {},
   "source": [
    "## 1.a. Counting from 1 _up_ to 7"
   ]
  },
  {
   "cell_type": "code",
   "execution_count": 16,
   "id": "0b98cc92",
   "metadata": {},
   "outputs": [],
   "source": [
    "\n",
    "\n"
   ]
  },
  {
   "cell_type": "markdown",
   "id": "e1b76142",
   "metadata": {},
   "source": [
    "## 1.b. Counting from 7 _down_ to 1"
   ]
  },
  {
   "cell_type": "code",
   "execution_count": 17,
   "id": "ff855747",
   "metadata": {},
   "outputs": [],
   "source": [
    "\n",
    "\n"
   ]
  },
  {
   "cell_type": "markdown",
   "id": "a151c0f4",
   "metadata": {},
   "source": [
    "# Question 2. "
   ]
  },
  {
   "cell_type": "markdown",
   "id": "285411dc",
   "metadata": {},
   "source": [
    "## 2.a. Print numbers from 1 to 7 in ascending order, using `while` loop"
   ]
  },
  {
   "cell_type": "code",
   "execution_count": null,
   "id": "ae325227",
   "metadata": {},
   "outputs": [],
   "source": [
    "\n",
    "\n"
   ]
  },
  {
   "cell_type": "markdown",
   "id": "e97e20f8",
   "metadata": {},
   "source": [
    "## 2.b. Print numbers from 7 to 1 in descending order, using `while` loop"
   ]
  },
  {
   "cell_type": "code",
   "execution_count": null,
   "id": "575d61d4",
   "metadata": {},
   "outputs": [],
   "source": [
    "\n",
    "\n"
   ]
  },
  {
   "cell_type": "markdown",
   "id": "bd198e7a",
   "metadata": {},
   "source": [
    "# Question 3. "
   ]
  },
  {
   "cell_type": "markdown",
   "id": "30c19cb2",
   "metadata": {},
   "source": [
    "## 3.a. Print numbers from 1 to `n` in ascending order, using `while` loop"
   ]
  },
  {
   "cell_type": "code",
   "execution_count": null,
   "id": "4b3a0dcb",
   "metadata": {},
   "outputs": [],
   "source": [
    "\n",
    "\n"
   ]
  },
  {
   "cell_type": "markdown",
   "id": "4dc627de",
   "metadata": {},
   "source": [
    "## 3.a. Print numbers from `n` to 1 in descending order, using `while` loop"
   ]
  },
  {
   "cell_type": "code",
   "execution_count": null,
   "id": "35b43103",
   "metadata": {},
   "outputs": [],
   "source": [
    "\n",
    "\n"
   ]
  },
  {
   "cell_type": "markdown",
   "id": "b4ea4e10",
   "metadata": {},
   "source": [
    "# Q4. Write a function `print_asc` that <u>prints numbers 1 to `n`, in ascending order</u>"
   ]
  },
  {
   "cell_type": "code",
   "execution_count": null,
   "id": "fac650b3",
   "metadata": {},
   "outputs": [],
   "source": [
    "\n",
    "\n"
   ]
  },
  {
   "cell_type": "markdown",
   "id": "fff7c4d4",
   "metadata": {},
   "source": [
    "# Q5. Write a function `sum_n` that returns <u>the sum of numbers 1 to `n` </u>\n",
    "\n",
    "Don't let the math notation scare or confuse you, but Q5 is mathematically written as \n",
    "# $\\sum_{i=1}^{n} i$ "
   ]
  },
  {
   "cell_type": "code",
   "execution_count": null,
   "id": "a2f13050",
   "metadata": {},
   "outputs": [],
   "source": [
    "\n",
    "\n"
   ]
  },
  {
   "cell_type": "markdown",
   "id": "41ccd631",
   "metadata": {},
   "source": [
    "#  Q6. Write a function `sum_even` that returns the <u>sum of _only even numbers_ from 1 to `n`</u>"
   ]
  },
  {
   "cell_type": "code",
   "execution_count": null,
   "id": "a4776e10",
   "metadata": {},
   "outputs": [],
   "source": [
    "\n",
    "        \n"
   ]
  },
  {
   "cell_type": "markdown",
   "id": "b6126e79",
   "metadata": {},
   "source": [
    "# Q7. Write a function `prod_n` that returns the <u>product of numbers from 1 to `n`</u>\n",
    "\n",
    "Again, don't let the math terms confuse or scare you but Q7. is computing n-factorial ($n!$)\n",
    "\n",
    "\n",
    "Also, mathematical notation for product of a series of numbers is $\\prod$. In Q7, we are computing: \n",
    "# $\\prod_{i=1}^{n} i$"
   ]
  },
  {
   "cell_type": "code",
   "execution_count": null,
   "id": "2bb91a0f",
   "metadata": {},
   "outputs": [],
   "source": [
    "\n",
    "\n"
   ]
  },
  {
   "cell_type": "markdown",
   "id": "90f9c6a0",
   "metadata": {
    "slideshow": {
     "slide_type": "slide"
    }
   },
   "source": [
    "\n",
    "## Q8. Write a function `summation_constant` that takes two inputs `n` and constant `c` and returns the value obtained by <u>adding `c` `n`-times</u> i.e.\n",
    "\n",
    "# $\\sum_{i=1}^{n} c$\n",
    "\n",
    "### For example, for inputs: `n=4`, `c=5`\n",
    "## $= \\sum_{i=1}^{4} 5$\n",
    "\n",
    "## $= 5+5+5+5 $ \n",
    "\n",
    "## $= 20 $ "
   ]
  },
  {
   "cell_type": "code",
   "execution_count": null,
   "id": "b167e256",
   "metadata": {},
   "outputs": [],
   "source": [
    "\n",
    "\n"
   ]
  },
  {
   "cell_type": "markdown",
   "id": "b41a6ac5",
   "metadata": {},
   "source": [
    "# Q9. Write a function `product_squares` that takes one inputs `n` and returns the  <u>product of square of numbers</u> from 1 to `n`"
   ]
  },
  {
   "cell_type": "code",
   "execution_count": null,
   "id": "0c1556cb",
   "metadata": {},
   "outputs": [],
   "source": [
    "\n",
    "\n"
   ]
  },
  {
   "cell_type": "markdown",
   "id": "44f6d7da",
   "metadata": {},
   "source": [
    "# Q10. Write a function `count_digits` that accepts one input `num` and <u>returns the number of digits</u> in `num` using `shift_right` the appropriate amount of times"
   ]
  },
  {
   "cell_type": "code",
   "execution_count": null,
   "id": "ea0b8be1",
   "metadata": {
    "slideshow": {
     "slide_type": "slide"
    }
   },
   "outputs": [],
   "source": [
    "def shift_right(num, n):\n",
    "    return num // (10**n)\n",
    "\n",
    "def count_digits(num): \n",
    "    \"\"\"Given a positive integer num,\n",
    "    returns the count of digits in num\n",
    "    \n",
    "    Arguments:\n",
    "    num: A positive integer num\n",
    "    \n",
    "    Returns:\n",
    "    ndigits: Number of digits in num\n",
    "    \"\"\"\n",
    "    return count"
   ]
  }
 ],
 "metadata": {
  "kernelspec": {
   "display_name": "Python 3 (ipykernel)",
   "language": "python",
   "name": "python3"
  },
  "language_info": {
   "codemirror_mode": {
    "name": "ipython",
    "version": 3
   },
   "file_extension": ".py",
   "mimetype": "text/x-python",
   "name": "python",
   "nbconvert_exporter": "python",
   "pygments_lexer": "ipython3",
   "version": "3.9.12"
  }
 },
 "nbformat": 4,
 "nbformat_minor": 5
}
