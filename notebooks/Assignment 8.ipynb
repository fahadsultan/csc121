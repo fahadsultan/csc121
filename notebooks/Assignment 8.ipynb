{
 "cells": [
  {
   "cell_type": "markdown",
   "id": "8cc2c6a8",
   "metadata": {},
   "source": [
    "<center>\n",
    "<h1>CSC-121</h1>\n",
    "<h1>ASSIGNMENT 8</h1>\n",
    "\n",
    "<h1>FILE I/O</h1>\n",
    "</center>\n",
    "<hr/>"
   ]
  },
  {
   "cell_type": "markdown",
   "id": "f22dd03f",
   "metadata": {},
   "source": [
    "# Question 1. Predict the State of a given City \n",
    "## _Using Nearest Neighbor Classification_"
   ]
  },
  {
   "cell_type": "markdown",
   "id": "302f2bb0",
   "metadata": {},
   "source": [
    "The fact that our planet earth is an ellipsoid has, amongst others, two following consequences: \n",
    "\n",
    "1. Any **location** on the surface of the planet is defined by **latitude** and **longitude**. See figure below. We will ignore altitude/elevation here. <br/>\n",
    "2. Finding distance between two locations on the planet requires computing **haversine distance**. The implementation is provided in a function below.  \n",
    "<table><tr>\n",
    "<td><img src=\"https://upload.wikimedia.org/wikipedia/commons/e/ef/FedStats_Lat_long.svg\"></td>\n",
    "<td><table><tr><center><b>Haversine<br/>Distance</b></center></tr><tr><img src=\"https://upload.wikimedia.org/wikipedia/commons/thumb/3/38/Law-of-haversines.svg/220px-Law-of-haversines.svg.png\"></tr></table></td>\n",
    "</tr></table>\n",
    "\n",
    "The provided file `cities.csv` contains geographic location of all cities in the United States, except for the cities in the test cases below.\n",
    "\n",
    "Given the file `cities.csv` where each line has the following format: _`name`, `latitude`, `longitude`, `state`_ e.g.\n",
    "\n",
    "> `New York`, `40.6943`, `-73.9249`, `NY`\n",
    "\n",
    ", write a function `find_nearest_neighbor` that accepts as **inputs**: \n",
    "\n",
    "1. `name` of a city \n",
    "2. `latitude` of a city\n",
    "3. `longitude` of a city\n",
    "\n",
    "and returns as **output**: \n",
    "\n",
    "* the state of the nearest city as `predicted_state` of the city given in input. \n",
    "\n",
    "The **nearest city** is defined as the one having the **minimum haversine distance** in the `cities.csv` file. "
   ]
  },
  {
   "cell_type": "markdown",
   "id": "fe9c89c7",
   "metadata": {},
   "source": [
    "_**Hint: Please use `some_string_variable.split(\",\")` here. \\\n",
    "Call `help(\" \".split)` to pull up the documentation for the built-in string function.**_"
   ]
  },
  {
   "cell_type": "code",
   "execution_count": null,
   "id": "27933567",
   "metadata": {},
   "outputs": [],
   "source": [
    "from math import radians, cos, sin, asin, sqrt\n",
    "\n",
    "def haversine(lng1, lat1, lng2, lat2):\n",
    "    \"\"\" Calculate the great circle distance (in kilometers) \n",
    "    between two points on earth, specified in decimal degrees \"\"\"\n",
    " \n",
    "    lng1, lat1, lng2, lat2 = float(lng1), float(lat1), float(lng2), float(lat2) \n",
    "    \n",
    "    # convert decimal degrees to radians\n",
    "    lng1, lat1, lng2, lat2 = map(radians, [lng1, lat1, lng2, lat2])\n",
    "\n",
    "    # haversine formula \n",
    "    dlng, dlat = lng2 - lng1, lat2 - lat1 \n",
    "    a = sin(dlat/2)**2 + cos(lat1) * cos(lat2) * sin(dlng/2)**2\n",
    "    c = 2 * asin(sqrt(a)) \n",
    "    \n",
    "    # Radius of earth in kilometers\n",
    "    r = 6372.8 \n",
    "    \n",
    "    return c * r"
   ]
  },
  {
   "cell_type": "code",
   "execution_count": 349,
   "id": "b6d3571a",
   "metadata": {},
   "outputs": [],
   "source": [
    "def find_nearest_neighbor(name, lat, lng):\n",
    "    f = open('cities.csv')\n",
    "    \n",
    "    f.close()\n",
    "    return predicted_state"
   ]
  },
  {
   "cell_type": "code",
   "execution_count": 350,
   "id": "0b0f183a",
   "metadata": {},
   "outputs": [
    {
     "name": "stdout",
     "output_type": "stream",
     "text": [
      "All test cases passed successfully :)\n"
     ]
    }
   ],
   "source": [
    "# You can check for yourself that information for the cities in the test cases below are not in cities.csv\n",
    "\n",
    "assert find_nearest_neighbor(\"Greenville\",  34.8354, -82.3646) == 'SC', \"Test case 1 failed\"\n",
    "assert find_nearest_neighbor(\"Asheville\",   35.5707, -82.5537) == 'NC', \"Test case 2 failed\"\n",
    "assert find_nearest_neighbor(\"Atlanta\",     33.7628, -84.422)  == 'GA', \"Test case 3 failed\"\n",
    "assert find_nearest_neighbor(\"Stony Brook\", 40.9061, -73.1278) == 'NY', \"Test case 4 failed\"\n",
    "assert find_nearest_neighbor(\"Chicago\",     41.8375, -87.6866) == 'IL', \"Test case 5 failed\"\n",
    "\n",
    "print(\"All test cases passed successfully :)\")"
   ]
  },
  {
   "cell_type": "markdown",
   "id": "9ed3f1eb",
   "metadata": {},
   "source": [
    "<hr />"
   ]
  },
  {
   "cell_type": "markdown",
   "id": "9b231be4",
   "metadata": {},
   "source": [
    "# Question 2. Spell Check "
   ]
  },
  {
   "cell_type": "markdown",
   "id": "dd965f29",
   "metadata": {},
   "source": [
    "The **Hamming distance** between two strings of equal length is the number of positions at which the corresponding symbols are different.\n",
    "\n",
    "<img src=\"https://www.researchgate.net/profile/Fredrick-Ishengoma/publication/264978395/figure/fig1/AS:295895569584128@1447558409105/Example-of-Hamming-Distance.png\">\n",
    "\n",
    "Given the provided file `words.txt` containing valid English words, \n",
    "\n",
    "**2.1.** Write a function **`hamming_distance`** that accepts as _input_:\n",
    "\n",
    "* two strings `str1` and `str2` of equal length \n",
    "    \n",
    "and returns as _output_:\n",
    "    \n",
    "* the hamming distance between the two strings, as per definition above."
   ]
  },
  {
   "cell_type": "code",
   "execution_count": 353,
   "id": "0141e36e",
   "metadata": {},
   "outputs": [],
   "source": [
    "def hamming_distance(str1, str2):\n",
    "    \n",
    "    assert len(str1) == len(str2), \"The two input strings must have the same length\"\n",
    "    \n",
    "    return distance\n",
    "\n",
    "assert hamming_distance(\"abc\", \"abc\") == 0, \"Test case 3 failed\"\n",
    "assert hamming_distance(\"abc\", \"abd\") == 1, \"Test case 2 failed\"\n",
    "assert hamming_distance(\"abc\", \"cba\") == 2, \"Test case 4 failed\"\n",
    "assert hamming_distance(\"abc\", \"def\") == 3, \"Test case 1 failed\"\n",
    "assert hamming_distance(\"aba\", \"bab\") == 3, \"Test case 5 failed\"\n",
    "\n",
    "print(\"All test cases passed successfully, for Hamming distance\")"
   ]
  },
  {
   "cell_type": "markdown",
   "id": "4110baaa",
   "metadata": {},
   "source": [
    "\n",
    "**2.2.** Write a function **`find_nearest_word`** that accepts as _input_:\n",
    "\n",
    "* a _misspelled_ word as a string variable `query` \n",
    "\n",
    "and returns as _output_:\n",
    "\n",
    "* the nearest word in `words.txt` as `predicted_word`\n",
    "\n"
   ]
  },
  {
   "cell_type": "code",
   "execution_count": 351,
   "id": "273b7dcb",
   "metadata": {},
   "outputs": [
    {
     "name": "stdout",
     "output_type": "stream",
     "text": [
      "All test cases passed successfully :)\n"
     ]
    }
   ],
   "source": [
    "def find_nearest_word(query):\n",
    "    f = open('words.txt')\n",
    "    \n",
    "    f.close()\n",
    "    return predicted_word"
   ]
  },
  {
   "cell_type": "code",
   "execution_count": null,
   "id": "a9d434d3",
   "metadata": {},
   "outputs": [],
   "source": [
    "assert find_nearest_word(\"lisence\")      == 'licence',      \"Test case 1 failed\"\n",
    "assert find_nearest_word(\"privelege\")    == 'privilege',    \"Test case 2 failed\"\n",
    "assert find_nearest_word(\"apparant\")     == 'apparent',     \"Test case 3 failed\"\n",
    "assert find_nearest_word(\"entreperneur\") == 'entrepreneur', \"Test case 4 failed\"\n",
    "assert find_nearest_word(\"seperate\")     == 'separate',     \"Test case 5 failed\"\n",
    "\n",
    "print(\"All test cases passed successfully :)\")"
   ]
  },
  {
   "cell_type": "markdown",
   "id": "34fffed8",
   "metadata": {},
   "source": [
    "<hr/>"
   ]
  },
  {
   "cell_type": "markdown",
   "id": "997fb486",
   "metadata": {},
   "source": [
    "# Question 3. Grade level of Presidential Speeches [BONUS POINTS]"
   ]
  },
  {
   "cell_type": "markdown",
   "id": "3ee244dd",
   "metadata": {},
   "source": [
    "## 3.1. \n",
    "The **syllables** in a word can be approximated as: <u>The number of _non-adjacent_ vowels in the word excluding any \"<i>e</i>\" at the end.</u> e.g. \n",
    "\n",
    "* _Australia_ has 5 vowels but 3 syllables: i. _Au_, ii. _a_, iii. _ia_\n",
    "* _score_ has 2 vowels but 1 syllable: i. _o_\n",
    "\n",
    "Write a function `approximate_syllables` that takes as input a word of English and returns the number of syllables in the word."
   ]
  },
  {
   "cell_type": "code",
   "execution_count": 4,
   "id": "09297325",
   "metadata": {},
   "outputs": [
    {
     "name": "stdout",
     "output_type": "stream",
     "text": [
      "All test cases passed successfully :)\n"
     ]
    }
   ],
   "source": [
    "def approximate_syllables(word):\n",
    "\n",
    "    return count\n",
    "\n",
    "assert approximate_syllables(\"Australia\") == 3, \"Test case 1 failed\"\n",
    "assert approximate_syllables(\"score\")     == 1, \"Test case 2 failed\"\n",
    "assert approximate_syllables(\"mammal\")    == 2, \"Test case 3 failed\"\n",
    "assert approximate_syllables(\"creature\")  == 2, \"Test case 4 failed\"\n",
    "assert approximate_syllables(\"reptilian\") == 3, \"Test case 5 failed\"\n",
    "\n",
    "print(\"All test cases passed successfully :)\")"
   ]
  },
  {
   "cell_type": "markdown",
   "id": "d81136fc",
   "metadata": {},
   "source": [
    "## 3.2. \n",
    "\n",
    "The **Flesch–Kincaid Grade Level tests** measure the difficulty level of English text for comprehension. \n",
    "\n",
    "The test measures the difficulty level in terms of the a U.S. grade level. In other words, the test indicates the number of years of education generally required to understand the given text. \n",
    "\n",
    "The grade level is calculated with the following formula: \n",
    "\n",
    "<img src=\"https://wikimedia.org/api/rest_v1/media/math/render/svg/8e68f5fc959d052d1123b85758065afecc4150c3\">\n",
    "\n",
    "For example, the sentence, \"<i>The Australian platypus is seemingly a hybrid of a mammal and reptilian creature</i>\" gets a score of 11.3 as it has 24 syllables and 13 words.\n",
    "\n",
    "<hr/>\n",
    "\n",
    "You are provided a file  `presidential_speeches.tsv` containing presidential speeches, dating from 1789 to 2022. Each line in the file is of the format: \n",
    "\n",
    "> `title` `\\t` `date` `\\t` **`year` `\\t`** `url` `\\t` `president` `\\t` `transcript`\n",
    "\n",
    "Recall that the special character `\\t` is \"_tab_\" -- the button to the left of `Q` on your keyboard -- and \n",
    "equivalent to 3/4 spaces\n",
    "\n",
    "<img width=\"100\" src=\"https://www.computerhope.com/jargon/t/tabkey-250.png\">\n",
    "\n",
    "Now, given the `presidential_speeches.tsv` file in the format above, write a function `compute_grade_level` that goes over every speech/line in the file and as output **writes a file `scores.tsv`** of the format: \n",
    "\n",
    "`year` `\\t` `score` \n",
    "\n",
    "where `score` is the Flesch–Kincaid score for that speech/line. \n",
    "\n",
    "_**Hint: Please use `some_string_variable.split(\"\\t\")` here. \\\n",
    "Call `help(\" \".split)` to pull up the documentation for the built-in string function**_"
   ]
  },
  {
   "cell_type": "code",
   "execution_count": 7,
   "id": "fc3d303b",
   "metadata": {},
   "outputs": [],
   "source": [
    "def compute_grade_level():\n",
    "    \n",
    "    speeches_f = open('presidential_speeches.tsv', encoding='utf-8')\n",
    "    scores_f = open('scores.tsv', 'w')\n",
    "    \n",
    "    scores_f.close()\n",
    "    speeches_f.close()\n",
    "    \n",
    "    return \n",
    "\n",
    "compute_grade_level()"
   ]
  },
  {
   "cell_type": "markdown",
   "id": "aea9e0e7",
   "metadata": {},
   "source": [
    "### Test Suite:"
   ]
  },
  {
   "cell_type": "code",
   "execution_count": 8,
   "id": "3c1265de",
   "metadata": {},
   "outputs": [
    {
     "data": {
      "image/png": "[encoded data removed]",
      "text/plain": [
       "<Figure size 720x360 with 1 Axes>"
      ]
     },
     "metadata": {
      "needs_background": "light"
     },
     "output_type": "display_data"
    }
   ],
   "source": [
    "import pandas as pd\n",
    "from matplotlib import pyplot as plt \n",
    "%matplotlib inline\n",
    "\n",
    "data = pd.read_csv(\"scores.tsv\", sep='\\t', header=None, index_col=False)\n",
    "data.columns = [\"date\", \"score\"]\n",
    "\n",
    "plt.figure(figsize=(10, 5));\n",
    "plt.scatter(data['date'], data['score'], alpha=0.5, s=20);\n",
    "plt.ylim(0, 50);\n",
    "plt.xlabel('Year', fontsize=20);\n",
    "plt.ylabel('Grade level', fontsize=20);\n",
    "plt.xticks(fontsize=15);\n",
    "plt.yticks(fontsize=15);\n",
    "plt.title('Grade level of Presidential Speeches\\n1789-2022', fontsize=20);\n",
    "\n",
    "plt.grid();"
   ]
  },
  {
   "cell_type": "markdown",
   "id": "de18d356",
   "metadata": {},
   "source": [
    "### If you are seeing an inverse slope (declining trend) over the years, then \n",
    "### _\"All test cases passed successfully :)\"_"
   ]
  }
 ],
 "metadata": {
  "kernelspec": {
   "display_name": "Python 3 (ipykernel)",
   "language": "python",
   "name": "python3"
  },
  "language_info": {
   "codemirror_mode": {
    "name": "ipython",
    "version": 3
   },
   "file_extension": ".py",
   "mimetype": "text/x-python",
   "name": "python",
   "nbconvert_exporter": "python",
   "pygments_lexer": "ipython3",
   "version": "3.9.12"
  }
 },
 "nbformat": 4,
 "nbformat_minor": 5
}
