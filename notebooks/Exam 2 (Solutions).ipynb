{
 "cells": [
  {
   "cell_type": "markdown",
   "id": "e9229f03",
   "metadata": {},
   "source": [
    "# Question 1  (35 points)\n",
    "\n",
    "Write a function `reverse` that takes as input a integer `n` such that `n`$ \\geq 0$ and returns a number with digits of `n` reversed. \n",
    "\n",
    "**Example 1** \\\n",
    "_Input_: 1234 \\\n",
    "_Output_: 4321\n",
    "\n",
    "**Example 2** \\\n",
    "_Input_: 1 \\\n",
    "_Output_: 1\n",
    "\n",
    "**Example 3** \\\n",
    "_Input_: 10 \\\n",
    "_Output_: 1\n"
   ]
  },
  {
   "cell_type": "code",
   "execution_count": null,
   "id": "23c748ec",
   "metadata": {},
   "outputs": [],
   "source": [
    "def reverse(n=0):\n",
    "    if type(n) != int:\n",
    "        raise TypeError(\"n must be an integer\")\n",
    "    if n < 0: \n",
    "        raise ValueError(\"n must be a positive integer\")\n",
    "        \n",
    "    reversed_num = 0\n",
    "    while n != 0: \n",
    "        digit = n % 10                          #get last (right most) digit, from assignment 4\n",
    "        reversed_num = reversed_num*10 + digit  #append, from assignment 4\n",
    "        n = n // 10                             #shift right, from assignment 4\n",
    "        \n",
    "    return reversed_num\n",
    "\n",
    "assert reverse(1234) == 4321, \"Test case 1 failed\"\n",
    "assert reverse()     == 0,    \"Test case 2 failed\"\n",
    "assert reverse(99)   == 99,   \"Test case 3 failed\"\n",
    "assert reverse(12)   == 21,   \"Test case 4 failed\"\n",
    "assert reverse(1)    == 1,    \"Test case 5 failed\"\n",
    "\n",
    "print(\"All test cases passed successfully\")"
   ]
  },
  {
   "cell_type": "markdown",
   "id": "3d56505f",
   "metadata": {},
   "source": [
    "# Question 2 (30 points)\n",
    "\n",
    "A number is said to be a **palindrome** if it reads the same backward as forward. For example, $101$ and $99$ are both palindromic numbers.\n",
    "\n",
    "\n",
    "Write a function `is_palindrome` that takes as input a positive integer `num` and returns `True` if `num` is a palindrome and `False` otherwise. "
   ]
  },
  {
   "cell_type": "code",
   "execution_count": null,
   "id": "e913dcab",
   "metadata": {},
   "outputs": [],
   "source": [
    "def is_palindrome(num):\n",
    "    if type(num) != int:\n",
    "        raise TypeError(\"num must be an integer\")\n",
    "    if num < 0: \n",
    "        raise ValueError(\"num must be a positive integer\")\n",
    "    \n",
    "    return num == reverse(num)\n",
    "\n",
    "assert is_palindrome(1234) == False, \"Test case 1 failed\"\n",
    "assert is_palindrome(1221) == True,  \"Test case 2 failed\"\n",
    "assert is_palindrome(1)    == True,  \"Test case 3 failed\"\n",
    "assert is_palindrome(99)   == True,  \"Test case 4 failed\"\n",
    "assert is_palindrome(987)  == False, \"Test case 5 failed\"\n",
    "\n",
    "print(\"All test cases passed successfully\")\n"
   ]
  },
  {
   "cell_type": "markdown",
   "id": "00b64a64",
   "metadata": {},
   "source": [
    "# Question 3. (35 points)"
   ]
  },
  {
   "cell_type": "markdown",
   "id": "4c5bed1b",
   "metadata": {},
   "source": [
    "The **largest palindrome** made from the **product of two 2-digit numbers** is $9009 = 91 × 99$\n",
    "\n",
    "\n",
    "Write a function that takes as input `n` and returns the largest palindrome made **from product of two `n`-digit numbers.**"
   ]
  },
  {
   "cell_type": "markdown",
   "id": "a40c7cd2",
   "metadata": {},
   "source": [
    "## Counting up"
   ]
  },
  {
   "cell_type": "code",
   "execution_count": null,
   "id": "d4901772",
   "metadata": {},
   "outputs": [],
   "source": [
    "def largest_palindrome(n=2):\n",
    "    \n",
    "    if type(num) != int:\n",
    "        raise TypeError(\"Input must be an integer\")\n",
    "    if num < 0: \n",
    "        raise ValueError(\"Input must be a positive integer\")\n",
    "        \n",
    "    min_val = 10**(n-1)  #smallest number of n-digits \n",
    "    max_val  = 10**n -1  #largest number of n-digits\n",
    "\n",
    "    largest_pal = 0\n",
    "    \n",
    "    i = min_val \n",
    "    while i <= max_val:\n",
    "        \n",
    "        j = min_val \n",
    "        while j <= max_val: \n",
    "            \n",
    "            product = i * j\n",
    "            if is_palindrome(product) and product > largest_pal:\n",
    "                largest_pal = product\n",
    "            \n",
    "            j = j + 1\n",
    "        \n",
    "        i = i + 1\n",
    "        \n",
    "    return largest_pal \n",
    "    \n",
    "largest_palindrome(2)"
   ]
  },
  {
   "cell_type": "markdown",
   "id": "7e9be1aa",
   "metadata": {},
   "source": [
    "## Counting down"
   ]
  },
  {
   "cell_type": "code",
   "execution_count": null,
   "id": "4d3e949a",
   "metadata": {},
   "outputs": [],
   "source": [
    "def largest_palindrome(n=2):\n",
    "    if type(num) != int:\n",
    "        raise TypeError(\"num must be an integer\")\n",
    "    if num < 0: \n",
    "        raise ValueError(\"num must be a positive integer\")\n",
    "        \n",
    "    smallest = 10**(n-1) #smallest number of n-digits \n",
    "    largest  = 10**n - 1 #largest number of n-digits\n",
    "\n",
    "    biggest_palindrome = 0\n",
    "    i = largest \n",
    "    palindrome_found = False\n",
    "    \n",
    "    while i >= smallest:\n",
    "        j = largest \n",
    "        while j >= smallest: \n",
    "            product = i * j\n",
    "            if is_palindrome(product) and product > biggest_palindrome:\n",
    "                biggest_palindrome = product\n",
    "                break\n",
    "            j = j - 1\n",
    "        i = i - 1\n",
    "        \n",
    "    return biggest_palindrome \n",
    "    \n",
    "largest_palindrome(3)"
   ]
  }
 ],
 "metadata": {
  "kernelspec": {
   "display_name": "Python 3 (ipykernel)",
   "language": "python",
   "name": "python3"
  },
  "language_info": {
   "codemirror_mode": {
    "name": "ipython",
    "version": 3
   },
   "file_extension": ".py",
   "mimetype": "text/x-python",
   "name": "python",
   "nbconvert_exporter": "python",
   "pygments_lexer": "ipython3",
   "version": "3.9.12"
  }
 },
 "nbformat": 4,
 "nbformat_minor": 5
}
