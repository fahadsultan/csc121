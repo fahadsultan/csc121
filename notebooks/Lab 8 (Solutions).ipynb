{
 "cells": [
  {
   "cell_type": "markdown",
   "id": "73f98601",
   "metadata": {},
   "source": [
    "# Question 1. \n",
    "\n",
    "**1.a.** Find out how different implementations of the rounding function: `csc121_round1`, `csc121_round2` and `round` compare by computing their run times, for some arbitrary input floating number. \n",
    "\n",
    "Using `start = time()` before each function call and `end = time()` after each function call to compute run time using the formula:\n",
    "\n",
    "`runtime = end - start`"
   ]
  },
  {
   "cell_type": "code",
   "execution_count": 65,
   "id": "0035b138",
   "metadata": {},
   "outputs": [],
   "source": [
    "from time import time\n",
    "\n",
    "def csc121_round1(float_number):\n",
    "    integer_part = float_number // 1\n",
    "    fractional_part = float_number % 1\n",
    "    to_ceil = fractional_part > 0.5\n",
    "    rounded = integer_part + to_ceil \n",
    "    return rounded\n",
    "\n",
    "def csc121_round2(number):\n",
    "    integer_part = int(number)\n",
    "    fractional_part = number - integer_part\n",
    "    if fractional_part >= 0.5: \n",
    "        integer_part = integer_part + 1\n",
    "    return integer_part"
   ]
  },
  {
   "cell_type": "code",
   "execution_count": null,
   "id": "21309d49",
   "metadata": {},
   "outputs": [],
   "source": [
    "\n",
    "start = time()\n",
    "csc121_round1(3.14)\n",
    "end = time()\n",
    "\n",
    "runtime_round1 = end-start\n",
    "\n",
    "start = time()\n",
    "csc121_round2(3.14)\n",
    "end = time()\n",
    "\n",
    "runtime_round2 = end-start\n",
    "\n",
    "start = time()\n",
    "round(3.14)\n",
    "end = time()\n",
    "\n",
    "runtime_builtin_round = end-start\n",
    "\n",
    "print(runtime_round1, runtime_round2, runtime_builtin_round)\n"
   ]
  },
  {
   "cell_type": "markdown",
   "id": "2d8a834a",
   "metadata": {},
   "source": [
    "**1.b.** Do the run times change on multiple runs of the code cell? Does the ranking of the functions in terms of speed change? \n",
    "\n",
    "Use a `while` loop to call each function 10 times and see if the run times stabilize on repeated runs of the code. "
   ]
  },
  {
   "cell_type": "code",
   "execution_count": null,
   "id": "887bc399",
   "metadata": {},
   "outputs": [],
   "source": [
    "\n",
    "sum1 = 0\n",
    "i = 1\n",
    "while i <= 10:\n",
    "    \n",
    "    t1 = time()\n",
    "    csc121_round1(4.6)\n",
    "    t2 = time()\n",
    "    sum1 = sum1 + t2-t1\n",
    "    i = i + 1\n",
    "    \n",
    "sum2 = 0\n",
    "i = 1\n",
    "while i <= 10:\n",
    "    t1 = time()\n",
    "    csc121_round2(4.6)\n",
    "    t2 = time()\n",
    "    sum2 = sum2 + t2-t1\n",
    "    \n",
    "sum3 = 0\n",
    "i = 1\n",
    "while i <= 10:\n",
    "    t1 = time()\n",
    "    round(4.6)\n",
    "    t2 = time()\n",
    "    sum3 = sum3 + t2-t1\n",
    "    \n",
    "    i = i + 1\n",
    "    \n",
    "print(sum1, sum2, sum3)\n",
    "\n"
   ]
  },
  {
   "cell_type": "markdown",
   "id": "eddaa5ea",
   "metadata": {},
   "source": [
    "**1.c.**\n",
    "Write a loop to **call each function a million times** and print out the **total run time** for each of implementation. \n",
    "\n",
    "In each iteration, pass as input to the functions the value of the loop's iterator variable divided by 100 e.g. `csc121_round(i/100)` if the iterator is `i`.\n",
    "\n",
    "Note that `i/100` allows us to test our functions on a million different inputs, each with many fractional values. \n"
   ]
  },
  {
   "cell_type": "code",
   "execution_count": 68,
   "id": "660aa2b9",
   "metadata": {},
   "outputs": [
    {
     "name": "stdout",
     "output_type": "stream",
     "text": [
      "2.933485507965088e-07 2.685897350311279e-07 1.7808890342712403e-07\n"
     ]
    }
   ],
   "source": [
    "sum1 = 0\n",
    "sum2 = 0\n",
    "sum3 = 0\n",
    "\n",
    "mil = 1000000\n",
    "\n",
    "i = 0\n",
    "while i < mil:\n",
    "    \n",
    "    t1 = time()\n",
    "    csc121_round1(i/100)\n",
    "    t2 = time()\n",
    "    sum1 = sum1 + t2-t1\n",
    "\n",
    "    t1 = time()\n",
    "    csc121_round2(i/100)\n",
    "    t2 = time()\n",
    "    sum2 = sum2 + t2-t1\n",
    "    \n",
    "    t1 = time()\n",
    "    round(i/100)\n",
    "    t2 = time()\n",
    "    sum3 = sum3 + t2-t1\n",
    "    \n",
    "    i = i + 1\n",
    "    \n",
    "print(sum1/mil, sum2/mil, sum3/mil)"
   ]
  },
  {
   "cell_type": "markdown",
   "id": "eaad3e91",
   "metadata": {},
   "source": [
    "# Question 2. "
   ]
  },
  {
   "cell_type": "markdown",
   "id": "ab928936",
   "metadata": {},
   "source": [
    "Call the `csc121_abs` function a **million** times and print out the **best** runtime, **worst** run time and the **average** run time. \n",
    "\n",
    "Pass the following input to `csc121_abs`: $i \\times (-1)^{i}$. \n",
    "\n",
    "_Note that the formula above allow us to test `csc121_abs` for a **million different inputs**: half a million negative numbers and the other half million positive numbers._"
   ]
  },
  {
   "cell_type": "code",
   "execution_count": 71,
   "id": "71aad813",
   "metadata": {},
   "outputs": [],
   "source": [
    "def csc121_abs(x):\n",
    "    if x<0:\n",
    "        x = x*-1\n",
    "    return x"
   ]
  },
  {
   "cell_type": "code",
   "execution_count": 72,
   "id": "befdd484",
   "metadata": {},
   "outputs": [
    {
     "name": "stdout",
     "output_type": "stream",
     "text": [
      "1.524507999420166e-07 1.2813949584960939e-07\n"
     ]
    }
   ],
   "source": [
    "n = 100\n",
    "\n",
    "total = 0\n",
    "\n",
    "best  = 9999\n",
    "worst = -9999\n",
    "\n",
    "i = 1\n",
    "while i <= n:\n",
    "    \n",
    "    t1 = time()\n",
    "    csc121_abs(i*((-1)**i))\n",
    "    t2 = time()\n",
    "    \n",
    "    runtime = t2-t1\n",
    "    \n",
    "    total = total + runtime \n",
    "    \n",
    "    if runtime < best: \n",
    "        best = runtime \n",
    "        \n",
    "    if runtime > worst: \n",
    "        worst = runtime\n",
    "    \n",
    "    i = i + 1\n",
    "    \n",
    "print(\"Average time: \", total/n)\n",
    "print(\"Best time: \", total/n)\n",
    "print(\"Worst time: \", total/n)"
   ]
  },
  {
   "cell_type": "markdown",
   "id": "4f9ba2e3",
   "metadata": {},
   "source": [
    "# Question 3. "
   ]
  },
  {
   "cell_type": "markdown",
   "id": "d0a745b2",
   "metadata": {},
   "source": [
    "Say you get an interest-free loan of $100 from the bank. \n",
    "\n",
    "If you pay half of the remaining debt amount every month, how long would it take for you to pay off the debt? \n",
    "\n",
    "Write a function `is_debt_owed` that takes as input `months` and returns \n",
    "\n",
    "* `False` if the debt would've been paid off after the given `months` and \n",
    "* `True` if after `months` you will still owe the bank some money. \n",
    "\n",
    "**_Use a while loop to calculate remaining debt_**"
   ]
  },
  {
   "cell_type": "code",
   "execution_count": 86,
   "id": "c35ba42c",
   "metadata": {},
   "outputs": [],
   "source": [
    "def is_debt_owed(months):\n",
    "    debt = 100\n",
    "    i = 1\n",
    "    while i <= months:\n",
    "        debt = debt/2\n",
    "        i = i + 1\n",
    "        \n",
    "    return debt>0\n",
    "\n",
    "assert is_debt_owed(5) == True\n",
    "assert is_debt_owed(10) == True\n",
    "assert is_debt_owed(50) == True\n",
    "assert is_debt_owed(100) == True\n",
    "assert is_debt_owed(500) == True\n",
    "assert is_debt_owed(1000) == True\n",
    "\n",
    "print(\"All test cases passed successfully\")"
   ]
  },
  {
   "cell_type": "markdown",
   "id": "90d443d3",
   "metadata": {},
   "source": [
    "**3.b.** Find out the value of months for which `is_debt_owed` would eventually return `False`. How many years is that? "
   ]
  },
  {
   "cell_type": "code",
   "execution_count": 87,
   "id": "15483619",
   "metadata": {},
   "outputs": [
    {
     "name": "stdout",
     "output_type": "stream",
     "text": [
      "1082\n"
     ]
    }
   ],
   "source": [
    "i = 1\n",
    "while is_debt_owed(i)==True:\n",
    "    i = i + 1\n",
    "    \n",
    "print(i)"
   ]
  },
  {
   "cell_type": "markdown",
   "id": "2265552b",
   "metadata": {},
   "source": [
    "# Question 4. "
   ]
  },
  {
   "cell_type": "markdown",
   "id": "a4311842",
   "metadata": {},
   "source": [
    "Write a function `smallest_multiple` that takes as input a _positive integer_ `n` and returns the smallest number `x` such that:\n",
    "\n",
    "`x % i == 0`, for all `1 <= i <= n`. \n",
    "\n",
    "For example, for input `n=10`, the function should return `2520` as it is the smallest number that can be divided by each of the numbers from 1 to 10 without any remainder.\n",
    "\n"
   ]
  },
  {
   "cell_type": "code",
   "execution_count": 2,
   "id": "a1f90478",
   "metadata": {},
   "outputs": [
    {
     "name": "stdout",
     "output_type": "stream",
     "text": [
      "All test cases passed successfully\n"
     ]
    }
   ],
   "source": [
    "def smallest_multiple(n=5): \n",
    "    \n",
    "    i = 1\n",
    "    \n",
    "    result = None\n",
    "    \n",
    "    while result == None:\n",
    "        \n",
    "        j = 1\n",
    "        \n",
    "        while j <= n:\n",
    "            if i % j == 0:\n",
    "                j = j + 1\n",
    "            else:\n",
    "                break\n",
    "            \n",
    "        if j == n+1:\n",
    "            result = i\n",
    "            \n",
    "        i = i + 1\n",
    "            \n",
    "    return result\n",
    "\n",
    "assert smallest_multiple(2) == 2,     \"Test case 1 failed\"\n",
    "assert smallest_multiple(4) == 12,    \"Test case 2 failed\"\n",
    "assert smallest_multiple(5) == 60,    \"Test case 3 failed\"\n",
    "assert smallest_multiple(10) == 2520, \"Test case 4 failed\"\n",
    "assert smallest_multiple(12) == 27720, \"Test case 5 failed\"\n",
    "\n",
    "print(\"All test cases passed successfully\")"
   ]
  }
 ],
 "metadata": {
  "kernelspec": {
   "display_name": "Python 3 (ipykernel)",
   "language": "python",
   "name": "python3"
  },
  "language_info": {
   "codemirror_mode": {
    "name": "ipython",
    "version": 3
   },
   "file_extension": ".py",
   "mimetype": "text/x-python",
   "name": "python",
   "nbconvert_exporter": "python",
   "pygments_lexer": "ipython3",
   "version": "3.9.12"
  }
 },
 "nbformat": 4,
 "nbformat_minor": 5
}
