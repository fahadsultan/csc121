{
 "cells": [
  {
   "cell_type": "markdown",
   "id": "752ecf98",
   "metadata": {
    "slideshow": {
     "slide_type": "slide"
    }
   },
   "source": [
    "#  Loop Design Pattern"
   ]
  },
  {
   "cell_type": "markdown",
   "id": "f56d0f42",
   "metadata": {},
   "source": [
    "Most loops (_not all of them_) have the following common parts, in this order: \n",
    "\n",
    "1. **Initialization** of iterator, result and other variables. \n",
    "\n",
    "2. **Continuation condition** (a.k.a. Termination condition)\n",
    "\n",
    "3. **Body** of the loop _(Indented)_\n",
    "\n",
    "4. **Update** of iterator and other variables _(Indented)_\n",
    "    * Last lines of the body"
   ]
  },
  {
   "cell_type": "markdown",
   "id": "bd676ddb",
   "metadata": {
    "slideshow": {
     "slide_type": "slide"
    }
   },
   "source": [
    "`initialization\n",
    "while ( continuation-condition ) {\n",
    "    body\n",
    "    update\n",
    "}`"
   ]
  },
  {
   "cell_type": "markdown",
   "id": "08c4c078",
   "metadata": {
    "slideshow": {
     "slide_type": "slide"
    }
   },
   "source": [
    "## $summ(n) =  \\sum_{i=1}^{n} i$"
   ]
  },
  {
   "cell_type": "code",
   "execution_count": null,
   "id": "a863aa98",
   "metadata": {},
   "outputs": [],
   "source": [
    "\"\"\"The most common loop design pattern\n",
    "\n",
    "In this particular case, the following two lines \n",
    "make up both the 3. Body and 4. Updates of the loop\n",
    "\"\"\"\n",
    "\n",
    "i = 1                   # 1. Initialization of iterator \n",
    "\n",
    "summ = 0                # 1. Initialization of the variable holding the \n",
    "                        #    result value we are interested in computing\n",
    "\n",
    "while i <= n:           # 2. Continuation/Termination condition \n",
    "    \n",
    "    summ = summ + i     # 3/4. Update result  \n",
    "    i = i + 1           # 3/4. Update iterator \n",
    "    \n",
    "print(summ)"
   ]
  },
  {
   "cell_type": "markdown",
   "id": "37d36447",
   "metadata": {},
   "source": [
    "# QUESTION 1. \n",
    "\n",
    "Given an `n`, implement: \n",
    "\n",
    "## $sum\\_of\\_factorials =  \\sum_{i=1}^{n} i!$\n",
    "\n",
    "Note that this is equivalent to: \n",
    "\n",
    "## $sum\\_of\\_factorials =  \\sum_{i=1}^{n} \\prod_{j=1}^{i} j$\n"
   ]
  },
  {
   "cell_type": "markdown",
   "id": "4dfec9fc",
   "metadata": {},
   "source": [
    "For example, for `n=4`:\n",
    "\n",
    "`sum_ij = 1 + (2*2) + (3*3*3) + (4*4*4*4)`\\\n",
    "`sum_ij = 288`"
   ]
  },
  {
   "cell_type": "code",
   "execution_count": null,
   "id": "21945426",
   "metadata": {},
   "outputs": [],
   "source": [
    "def sum_of_factorials(n):\n",
    "    total = 0\n",
    "    i = 1\n",
    "    while i <= n:\n",
    "        product = 1\n",
    "        j = 1\n",
    "        while j <= i:\n",
    "            product = product * j\n",
    "            j = j + 1\n",
    "        \n",
    "        i = i + 1\n",
    "    return total"
   ]
  },
  {
   "cell_type": "markdown",
   "id": "55a73032",
   "metadata": {},
   "source": [
    "# QUESTION 2.  \n",
    "Write a function **`left_triangle`** that takes one input `n` and prints a triangle of numbers from `1-n` as shown below. \n",
    "\n",
    "The input `n` must be an integer from `1` to `9`. \n",
    "\n",
    "For any other input, **`raise`** an appropriate Error with an informative error message. \n",
    "\n",
    "Use the provided **`print_same_line(x)`** function to print on the same line and the provided **`go_to_newline()`** function to go to next line. \n",
    "\n",
    "<hr />\n",
    "\n",
    "**Example 1**: \\\n",
    "_Input_: `n=3` \\\n",
    "_Ouput_: \\\n",
    "1\\\n",
    "22\\\n",
    "333\n",
    "<hr /> \n",
    "\n",
    "**Example 2:** \\\n",
    "_Input_: `n=9` \\\n",
    "_Output_: \\\n",
    "1\\\n",
    "22\\\n",
    "333\\\n",
    "4444\\\n",
    "55555\\\n",
    "666666\\\n",
    "7777777\\\n",
    "88888888\\\n",
    "999999999\n",
    "\n",
    "<hr/>\n"
   ]
  },
  {
   "cell_type": "code",
   "execution_count": 136,
   "id": "abc05b39",
   "metadata": {},
   "outputs": [
    {
     "name": "stdout",
     "output_type": "stream",
     "text": [
      "22\n",
      "333"
     ]
    }
   ],
   "source": [
    "def print_same_line(x):\n",
    "    print(x, end='')\n",
    "    \n",
    "def go_to_newline():\n",
    "    print()\n",
    "    \n",
    "def left_triangle(n):\n",
    "    \"\"\"\n",
    "    \n",
    "    \"\"\"\n",
    "\n",
    "\"\"\" \n",
    "Example usage of print_same_line \n",
    "and go_to_line\n",
    "\"\"\"\n",
    "print_same_line(2)\n",
    "print_same_line(2)\n",
    "\n",
    "go_to_newline()\n",
    "\n",
    "print_same_line(3)\n",
    "print_same_line(3)\n",
    "print_same_line(3)\n",
    "\n",
    "#\n",
    "left_triangle()"
   ]
  },
  {
   "cell_type": "code",
   "execution_count": null,
   "id": "4c64a5b3",
   "metadata": {},
   "outputs": [],
   "source": [
    "def left_triangle(n):\n",
    "    i = 1\n",
    "    while i <= n:\n",
    "        \n",
    "        j = 1 \n",
    "        while j <= i:\n",
    "            print(i, end='')\n",
    "            \n",
    "            j = j + 1\n",
    "        \n",
    "        print() #newline \n",
    "        \n",
    "        i = i + 1\n",
    "            \n",
    "print_triangle(9)"
   ]
  },
  {
   "cell_type": "markdown",
   "id": "7c9118a9",
   "metadata": {},
   "source": [
    "# QUESTION 3.\n",
    "\n",
    "Write a function **`right_triangle`** that takes one input `n` and prints a triangle of numbers from `1-n` as shown below. \n",
    "\n",
    "The input `n` must be an integer from `1` to `9`. \n",
    "\n",
    "For any other input, **`raise`** an appropriate Error with an informative error message. \n",
    "\n",
    "Use the provided **`print_same_line(x)`** function to print on the same line and the provided **`go_to_newline()`** function to go to next line. \n",
    "\n",
    "\n",
    "<hr />\n",
    "\n",
    "\n",
    "**Example 1**: \n",
    "\n",
    "_Input_: `n=3` \n",
    "\n",
    "_Ouput_: \n",
    "\n",
    "<img align=\"left\" width=\"60\" src=\"https://i.ibb.co/QmPdy4z/6s.png\"></img>\n",
    "\n",
    "<br>\n",
    "<br>\n",
    "<br>\n",
    "<br>\n",
    "<br>\n",
    "<br>\n",
    "\n",
    "**Example 2:** \n",
    "\n",
    "_Input_: `n=9` \n",
    "\n",
    "_Output_: \n",
    "\n",
    "<img align=\"left\" width=\"90\" src=\"https://i.ibb.co/k1yrMx8/9s.png\"></img>\n",
    "\n",
    "<br>\n",
    "<br>\n",
    "<br>\n",
    "<br>\n",
    "<br>\n",
    "<br>\n",
    "<br>\n",
    "<br>\n",
    "\n",
    "<hr/>"
   ]
  },
  {
   "cell_type": "code",
   "execution_count": 137,
   "id": "8eec6340",
   "metadata": {
    "scrolled": true
   },
   "outputs": [
    {
     "name": "stdout",
     "output_type": "stream",
     "text": [
      "22\n",
      "333"
     ]
    }
   ],
   "source": [
    "def print_same_line(x):\n",
    "    print(x, end='')\n",
    "    \n",
    "def go_to_newline():\n",
    "    print()\n",
    "    \n",
    "def right_triangle(n):\n",
    "    \"\"\"\n",
    "    \n",
    "    \"\"\"\n",
    "\n",
    "\"\"\"\n",
    "Example usage of print_same_line \n",
    "and go_to_line\n",
    "\"\"\"\n",
    "print_same_line(2)\n",
    "print_same_line(2)\n",
    "\n",
    "go_to_newline()\n",
    "\n",
    "print_same_line(3)\n",
    "print_same_line(3)\n",
    "print_same_line(3)\n",
    "\n",
    "right_triangle(9)"
   ]
  }
 ],
 "metadata": {
  "celltoolbar": "Slideshow",
  "kernelspec": {
   "display_name": "Python 3 (ipykernel)",
   "language": "python",
   "name": "python3"
  },
  "language_info": {
   "codemirror_mode": {
    "name": "ipython",
    "version": 3
   },
   "file_extension": ".py",
   "mimetype": "text/x-python",
   "name": "python",
   "nbconvert_exporter": "python",
   "pygments_lexer": "ipython3",
   "version": "3.9.12"
  }
 },
 "nbformat": 4,
 "nbformat_minor": 5
}
