{
 "cells": [
  {
   "cell_type": "markdown",
   "id": "52234efc",
   "metadata": {
    "slideshow": {
     "slide_type": "slide"
    }
   },
   "source": [
    "# Lecture 1.3\n",
    "\n",
    "# CSC 121\n",
    "# Introduction to Computer Programming\n",
    "\n",
    "\n",
    "# Wednesday, Aug 31st"
   ]
  },
  {
   "cell_type": "markdown",
   "id": "39339160",
   "metadata": {
    "slideshow": {
     "slide_type": "slide"
    }
   },
   "source": [
    "# 1.6. Built-in Data Types"
   ]
  },
  {
   "cell_type": "markdown",
   "id": "5144783c",
   "metadata": {},
   "source": [
    "* Python comes with the following built-in data types:\n",
    "\n",
    "| Category || Python Data Types |\n",
    "| :----------- || -----------: |\n",
    "| Numeric Types:      || **`int`**, **`float`**, `complex` |\n",
    "| Boolean Type:      || **`bool`** |\n",
    "| Text Type:      || **`str`** |\n",
    "| Sequence Types: || `list`, `tuple`, `range` |\n",
    "| Mapping Type: || `dict`|\n",
    "| Set Types: || `set`, `frozenset`|\n",
    "| Binary Type: || `bytes`, `bytearray`, `memoryview`|\n",
    "| NoneType: || `Nonetype`|"
   ]
  },
  {
   "cell_type": "markdown",
   "id": "1e422f1f",
   "metadata": {
    "slideshow": {
     "slide_type": "slide"
    }
   },
   "source": [
    "* You can get the data type of any variable using the built-in **`type()`** function\n",
    "\n",
    "* Python programming language is both:\n",
    " 1. **Strongly typed**:\n",
    "       * All variables have a type \n",
    "       * The type matters when performing operations on a variable. \n",
    "\n",
    " 2. **Dynamically typed**:\n",
    "    * In Python, the data type is set when you assign a value to a variable (during runtime)."
   ]
  },
  {
   "cell_type": "code",
   "execution_count": null,
   "id": "03e0de8d",
   "metadata": {
    "slideshow": {
     "slide_type": "slide"
    }
   },
   "outputs": [],
   "source": [
    "#Strong typing\n",
    "\n",
    "a = 1 # int\n",
    "b = \"abc\" # str \n",
    "c = False # bool\n",
    "d = 1.0 # float\n",
    "print(type(a), a+a)\n",
    "print(type(b), b+b)\n",
    "print(type(c), c+c)\n",
    "print(type(d), d+d)"
   ]
  },
  {
   "cell_type": "code",
   "execution_count": null,
   "id": "b4209ee3",
   "metadata": {
    "slideshow": {
     "slide_type": "slide"
    }
   },
   "outputs": [],
   "source": [
    "# Dynamically typing\n",
    "\n",
    "a = 1 \n",
    "# print(type(a), a+a)\n",
    "a = \"abc\"\n",
    "# print(type(a), a+a)\n",
    "a = 3.14\n",
    "print(type(a), a+a)\n",
    "a = False\n",
    "print(type(a), a+a)\n",
    "b = 638\n",
    "c = \"False\" \n",
    "a = 1\n",
    "print(type(a), a+a)"
   ]
  },
  {
   "cell_type": "markdown",
   "id": "f0bc08ab",
   "metadata": {
    "slideshow": {
     "slide_type": "slide"
    }
   },
   "source": [
    "# 1.7. Type Conversion and Type Casting \n",
    "\n",
    "\n"
   ]
  },
  {
   "cell_type": "markdown",
   "id": "3bb14364",
   "metadata": {},
   "source": [
    "**Type Conversion**: \n",
    "\n",
    "> The process of converting the value of one data type (integer, string, float, etc.) to another data type.\n",
    "\n",
    "Python has two types of type conversion:\n",
    "\n",
    "1. Implicit Type Conversion\n",
    "2. Explicit Type Conversion (also called Type Casting)"
   ]
  },
  {
   "cell_type": "markdown",
   "id": "25ddb4ae",
   "metadata": {
    "slideshow": {
     "slide_type": "slide"
    }
   },
   "source": [
    "## 1.7.1. Implicit Type Conversion:\n",
    "\n",
    "> Automatic conversion from one data type to another data type as result of an operation.\n",
    "\n",
    "Python always converts _\"smaller\"_ data types to _\"larger\"_ data types to avoid the loss of information.\n"
   ]
  },
  {
   "cell_type": "code",
   "execution_count": null,
   "id": "1574d280",
   "metadata": {},
   "outputs": [],
   "source": [
    "integer_part = 21\n",
    "fractional_part = 0.03\n",
    "\n",
    "print(\"Datatype of integer_part:\", type(integer_part))\n",
    "print(\"Datatype of fractional_part:\", type(fractional_part))\n",
    "\n",
    "new_number = integer_part + fractional_part\n",
    "\n",
    "print(\"Value of new_number:\",new_number)\n",
    "print(\"Datatype of new_number:\",type(new_number))\n",
    "\n",
    "print(\"Datatype of integer_part:\", type(integer_part))"
   ]
  },
  {
   "cell_type": "code",
   "execution_count": null,
   "id": "d032d15b",
   "metadata": {
    "slideshow": {
     "slide_type": "slide"
    }
   },
   "outputs": [],
   "source": [
    "integer_part = 21\n",
    "fractional_part = \"0.03\"\n",
    "\n",
    "new_number = integer_part + fractional_part\n",
    "\n",
    "print(\"Datatype of integer_part:\", type(integer_part))\n",
    "print(\"Datatype of fractional_part:\", type(fractional_part))\n",
    "\n",
    "print(\"Value of new_number:\",new_number)\n",
    "print(\"Datatype of new_number:\",type(new_number))"
   ]
  },
  {
   "cell_type": "markdown",
   "id": "bdf356c2",
   "metadata": {
    "slideshow": {
     "slide_type": "slide"
    }
   },
   "source": [
    "## 1.7.2. Explicit Type Conversion (a.k.a. Type Casting):\n",
    "\n",
    "Explicit conversion using one of the built-in functions: `int()`, `float()`, `str()`"
   ]
  },
  {
   "cell_type": "code",
   "execution_count": null,
   "id": "699894c4",
   "metadata": {
    "slideshow": {
     "slide_type": "-"
    }
   },
   "outputs": [],
   "source": [
    "integer_part = 21\n",
    "fractional_part = \"0.03\"\n",
    "\n",
    "print(\"Datatype of integer_part:\", type(integer_part))\n",
    "print(\"Data type of fractional_part before Type Casting:\",type(fractional_part))\n",
    "\n",
    "# new_number = integer_part + fractional_part\n",
    "\n",
    "fractional_part = float(fractional_part)\n",
    "\n",
    "print(\"Data type of fractional_part after Type Casting:\",type(fractional_part))\n",
    "\n",
    "new_number = integer_part + fractional_part\n",
    "\n",
    "print(\"Value of new_number:\",new_number)\n",
    "print(\"Datatype of new_number:\",type(new_number))"
   ]
  },
  {
   "cell_type": "markdown",
   "id": "130fc2f5",
   "metadata": {
    "slideshow": {
     "slide_type": "slide"
    }
   },
   "source": [
    "* You can not cast from any type to any other type  "
   ]
  },
  {
   "cell_type": "code",
   "execution_count": null,
   "id": "8691a50b",
   "metadata": {},
   "outputs": [],
   "source": [
    "int(\"1\")"
   ]
  },
  {
   "cell_type": "markdown",
   "id": "8c8f2ca5",
   "metadata": {},
   "source": [
    "* Casting from `int` to `float`: Assumes fractional part is .0"
   ]
  },
  {
   "cell_type": "code",
   "execution_count": null,
   "id": "0e39e22d",
   "metadata": {},
   "outputs": [],
   "source": [
    "float(21)"
   ]
  },
  {
   "cell_type": "markdown",
   "id": "c194c687",
   "metadata": {
    "slideshow": {
     "slide_type": "-"
    }
   },
   "source": [
    "* Casting from `float` to `int`: Truncates the fractional part (does not `round`) "
   ]
  },
  {
   "cell_type": "code",
   "execution_count": null,
   "id": "15b8fa84",
   "metadata": {},
   "outputs": [],
   "source": [
    "a = int(21.9)\n",
    "print(a)"
   ]
  },
  {
   "cell_type": "markdown",
   "id": "580c4bec",
   "metadata": {
    "slideshow": {
     "slide_type": "slide"
    }
   },
   "source": [
    "* Casting from `str` to `int`: \n",
    "    * Works if string contains **numeric letters** and/or **whitespace** ONLY\n",
    "    * Numeric letters MUST be contiguous (next to each other)"
   ]
  },
  {
   "cell_type": "code",
   "execution_count": null,
   "id": "c1e4ad29",
   "metadata": {},
   "outputs": [],
   "source": [
    "print(int(\"40\"))\n",
    "print(int(\"    40     \"))\n",
    "print(int(\"    40\"))\n",
    "print(int(\"4 0\"))"
   ]
  },
  {
   "cell_type": "markdown",
   "id": "a776a469",
   "metadata": {
    "slideshow": {
     "slide_type": "slide"
    }
   },
   "source": [
    "* Casting from `str` to `float`: \n",
    "    1. Works if string contains **numeric letters** and/or **whitespace** and/or **decimal point**\n",
    "    2. Assumes the fractional part is .0, _**iff**_ no decimal point "
   ]
  },
  {
   "cell_type": "code",
   "execution_count": null,
   "id": "3a06cd9e",
   "metadata": {},
   "outputs": [],
   "source": [
    "print(float(\"1.9457\"))\n",
    "# print(float(\"1\"))\n",
    "# print(int(\"1.9457\"))"
   ]
  },
  {
   "cell_type": "markdown",
   "id": "dd19ec9f",
   "metadata": {
    "slideshow": {
     "slide_type": "slide"
    }
   },
   "source": [
    "* Casting from `str` to `float`/`int`: \n",
    "\n",
    "    * You cannot have any operators in the string, when casting from `str` to `float` or `int`"
   ]
  },
  {
   "cell_type": "code",
   "execution_count": null,
   "id": "6192554c",
   "metadata": {},
   "outputs": [],
   "source": [
    "# print(int(\"2\"))\n",
    "print(int(\"2 + 2\"))\n",
    "# float(\"27.03 * 0.2\")"
   ]
  },
  {
   "cell_type": "markdown",
   "id": "9246a7c3",
   "metadata": {
    "slideshow": {
     "slide_type": "slide"
    }
   },
   "source": [
    "* Casting from `float`/`int` to `str`: \n",
    "\n",
    "* You can cast virtually anything to a String \n",
    "    * In other words, `str` would accept virtually anything as an input\n",
    "        * Even `'`s and `\"`s, if you _escape_ them i.e. put a `\\` before them"
   ]
  },
  {
   "cell_type": "code",
   "execution_count": null,
   "id": "f732d145",
   "metadata": {},
   "outputs": [],
   "source": [
    "str(\"ba\\/`'jf\\\"g2&#@(R4?<>[]23898\")\n",
    "\n",
    "str(\"1+1\\\"\\\" \")\n",
    "\n",
    "# str(\"a = a+a+2; False; True\")"
   ]
  },
  {
   "cell_type": "markdown",
   "id": "94942fe3",
   "metadata": {
    "slideshow": {
     "slide_type": "slide"
    }
   },
   "source": [
    "# 1.8. Booleans"
   ]
  },
  {
   "cell_type": "markdown",
   "id": "6b40ed03",
   "metadata": {},
   "source": [
    "* Booleans are the best data type (opinion).\n",
    "    * Fun and quirky, but also extremely powerful\n",
    "\n",
    "* **Fundamental** to any semblance of **_intelligence_** in computer programs. \n",
    "\n",
    "* Allow only two values: `True` or `False`\n",
    "\n",
    "* Expressions or lines of code that include `==`, `!=`, `>`, `>=`, `<`, `<=`  evaluate to a boolean result"
   ]
  },
  {
   "cell_type": "markdown",
   "id": "2cb436f5",
   "metadata": {
    "slideshow": {
     "slide_type": "slide"
    }
   },
   "source": [
    "## 1.8.1. Logical Operators"
   ]
  },
  {
   "cell_type": "markdown",
   "id": "c1903828",
   "metadata": {},
   "source": [
    "* You can _combine_ boolean expressions and/or variables (ad infinitum) using the following logical operators: **`and`, `or`, `not`** \n",
    "    * Combined expressions also result in `True` or `False`"
   ]
  },
  {
   "cell_type": "code",
   "execution_count": null,
   "id": "5bbac877",
   "metadata": {},
   "outputs": [],
   "source": [
    "a = 2\n",
    "b = (a*a == a+a) and (a==2) or (a < 5)\n",
    "print(b)\n",
    "print(not b)\n",
    "\n",
    "# a = 3\n",
    "# b = (a*a == a+a) or (a == 3)\n",
    "# # b = False or True \n",
    "# print(b)"
   ]
  },
  {
   "cell_type": "markdown",
   "id": "6eccae27",
   "metadata": {
    "slideshow": {
     "slide_type": "slide"
    }
   },
   "source": [
    "**Operator Precendence of Logical Operators**\n",
    "\n",
    "| Syntax      || Description |\n",
    "| :----------- || -----------: |\n",
    "| ()      || Parentheses |\n",
    "| **      || Exponent    |\n",
    "| *,  /,  //,  % || Multiplication, Division, Floor division, Modulus|\n",
    "| +, - || Addition, Subtraction|\n",
    "|**not** || **Logical not** ||\n",
    "| **and** || **Logical and** || \n",
    "| **or** || **Logical or** ||"
   ]
  },
  {
   "cell_type": "code",
   "execution_count": null,
   "id": "d864b491",
   "metadata": {
    "slideshow": {
     "slide_type": "-"
    }
   },
   "outputs": [],
   "source": [
    "college = 4\n",
    "experience = 0\n",
    "gpa = 3.7\n",
    "already_employee = False\n",
    "\"\"\"\n",
    "a = (experience >= 5 or gpa > 3.5) # True\n",
    "b = not already_employee # True\n",
    "c = college >=4 # True\n",
    "new_hire_candidate = True and True and True \n",
    "\"\"\"\n",
    "\n",
    "new_hire_candidate = college >= 4 and (experience >= 5 or gpa > 3.5) and not already_employee\n",
    "print(new_hire_candidate)"
   ]
  },
  {
   "cell_type": "markdown",
   "id": "efaaf7ab",
   "metadata": {
    "slideshow": {
     "slide_type": "slide"
    }
   },
   "source": [
    "# 1.8.2. Casting to `bool()`"
   ]
  },
  {
   "cell_type": "markdown",
   "id": "0d3a3da2",
   "metadata": {},
   "source": [
    "* The `bool()` function allows any input, and gives you True or False as output\n",
    "\n",
    "    * Most inputs to `bool()` return `True`\n",
    "        * Almost any value is evaluated to `True` if it has some sort of content.\n",
    "\n",
    "        * Any string is `True`, except empty strings.\n",
    "\n",
    "        * Any number is `True`, except `0`."
   ]
  },
  {
   "cell_type": "code",
   "execution_count": null,
   "id": "2fe6d3e0",
   "metadata": {
    "scrolled": true,
    "slideshow": {
     "slide_type": "slide"
    }
   },
   "outputs": [],
   "source": [
    "print(bool(3.14))\n",
    "print(bool(27.03))\n",
    "print(bool(2+2)) \n",
    "print(bool(\"Chimichangas\"))\n",
    "print(bool(\"2-2\"))\n",
    "print(bool(2-2))\n",
    "print(bool(\"\"))\n",
    "print(bool(\"    \"))"
   ]
  },
  {
   "cell_type": "markdown",
   "id": "eba967b8",
   "metadata": {
    "slideshow": {
     "slide_type": "slide"
    }
   },
   "source": [
    "* Very few inputs to `bool` return `False`:\n",
    "\n",
    "    * Empty values: `\"\"`, the number `0`, and ofcourse `False`.\n",
    "    \n",
    "    * `None`, `()`, `[]`, `{}` (we'll talk about these later in the course)"
   ]
  },
  {
   "cell_type": "code",
   "execution_count": null,
   "id": "299c0a6f",
   "metadata": {},
   "outputs": [],
   "source": [
    "print(bool(False))\n",
    "# bool(None)\n",
    "# bool(2+2+2-6)\n",
    "bool(\"\")"
   ]
  },
  {
   "cell_type": "code",
   "execution_count": null,
   "id": "740d3d76",
   "metadata": {},
   "outputs": [],
   "source": [
    "print(bool(3.14))\n",
    "print(True==3.14)\n",
    "\n",
    "print(bool(27.03))\n",
    "print(True==27.03)\n",
    "\n",
    "print(bool(2+2))\n",
    "print(True==(2+2))\n",
    "\n",
    "print(bool(\"Chimichangas\"))\n",
    "print(True==\"Chimichangas\")\n",
    "\n",
    "print(bool(2-2))\n",
    "print(False==(2-2))"
   ]
  },
  {
   "cell_type": "markdown",
   "id": "0635be83",
   "metadata": {
    "slideshow": {
     "slide_type": "slide"
    }
   },
   "source": [
    "# 1.8.3. True == 1 and False == 0 (important)"
   ]
  },
  {
   "cell_type": "code",
   "execution_count": null,
   "id": "fe11613c",
   "metadata": {},
   "outputs": [],
   "source": [
    "int(\"\") # int() expects numeric letters AND/OR spaces \n",
    "float(\"\") # float() expects numeric letters AND/OR spaces AND/OR decimal points '.'"
   ]
  },
  {
   "cell_type": "code",
   "execution_count": null,
   "id": "abe28116",
   "metadata": {
    "slideshow": {
     "slide_type": "-"
    }
   },
   "outputs": [],
   "source": [
    "# print(True == 1)\n",
    "# print(True == 1.0)\n",
    "# print(True == \"1\")\n",
    "# print(True == int(\"1\"))\n",
    "\n",
    "a = \"1\" # str\n",
    "a = float(a) #float\n",
    "print(a) # 1.0\n",
    "print(True == a) \n",
    "\n",
    "# print(False == 0) \n",
    "# print(False == 0.0)\n",
    "# a = int(0.0)\n",
    "# print(False == a)\n",
    "# # a = \"0.0\"\n",
    "# a = float(a)\n",
    "# print(False == a)\n",
    "# print(False == float(\"0.0\"))"
   ]
  },
  {
   "cell_type": "code",
   "execution_count": null,
   "id": "4adbf912",
   "metadata": {
    "slideshow": {
     "slide_type": "slide"
    }
   },
   "outputs": [],
   "source": [
    "cheque_amount = 100\n",
    "\n",
    "service_quality = input(\"Our bill is $\"+str(cheque_amount)+\". How much should we tip? Was the service good? \")\n",
    "\n",
    "# #True if input is \"Yes\"\n",
    "good_service = service_quality == \"Yes\"\n",
    "\n",
    "bad_service  = not good_service\n",
    "\n",
    "twenty_percent_tip = 0.2 * cheque_amount\n",
    "ten_percent_tip    = 0.1 * cheque_amount\n",
    "\n",
    "tip = (good_service * twenty_percent_tip) + (bad_service * ten_percent_tip)\n",
    "\n",
    "print(\"Let's tip $\", tip)"
   ]
  }
 ],
 "metadata": {
  "celltoolbar": "Slideshow",
  "kernelspec": {
   "display_name": "Python 3 (ipykernel)",
   "language": "python",
   "name": "python3"
  },
  "language_info": {
   "codemirror_mode": {
    "name": "ipython",
    "version": 3
   },
   "file_extension": ".py",
   "mimetype": "text/x-python",
   "name": "python",
   "nbconvert_exporter": "python",
   "pygments_lexer": "ipython3",
   "version": "3.9.12"
  }
 },
 "nbformat": 4,
 "nbformat_minor": 5
}
