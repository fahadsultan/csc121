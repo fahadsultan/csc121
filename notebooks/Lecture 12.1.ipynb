{
 "cells": [
  {
   "cell_type": "markdown",
   "id": "5509f1cb",
   "metadata": {},
   "source": [
    "# Lecture 12.1.\n",
    "\n",
    "# For loops\n",
    "\n",
    "# Monday, Nov 14\n"
   ]
  },
  {
   "cell_type": "markdown",
   "id": "d8766df8",
   "metadata": {
    "slideshow": {
     "slide_type": "slide"
    }
   },
   "source": [
    "# 12.1.1. Membership operator `in`"
   ]
  },
  {
   "cell_type": "markdown",
   "id": "a5e7f4bb",
   "metadata": {},
   "source": [
    "* **`in`** : returns `True` if the specified value is present in the a sequence, `False` otherwise. \n",
    "* _Syntax_: `value` **` in `** `sequence`\n",
    "* Sequence can be a list, set, tuple or string. "
   ]
  },
  {
   "cell_type": "code",
   "execution_count": 84,
   "id": "10280d6a",
   "metadata": {},
   "outputs": [
    {
     "name": "stdout",
     "output_type": "stream",
     "text": [
      "True\n"
     ]
    }
   ],
   "source": [
    "print( [1, 2] in [3, 1, 2, [1, 2]] ) # in, with lists"
   ]
  },
  {
   "cell_type": "code",
   "execution_count": 80,
   "id": "fd2be1e3",
   "metadata": {},
   "outputs": [
    {
     "name": "stdout",
     "output_type": "stream",
     "text": [
      "True\n"
     ]
    }
   ],
   "source": [
    "print( 1 in {3, 1, 2} ) # in, with sets"
   ]
  },
  {
   "cell_type": "code",
   "execution_count": 81,
   "id": "bab7d321",
   "metadata": {},
   "outputs": [
    {
     "name": "stdout",
     "output_type": "stream",
     "text": [
      "True\n"
     ]
    }
   ],
   "source": [
    "print( 1 in (3, 1, 2) ) # in, with tuples"
   ]
  },
  {
   "cell_type": "code",
   "execution_count": 82,
   "id": "c240646e",
   "metadata": {},
   "outputs": [
    {
     "name": "stdout",
     "output_type": "stream",
     "text": [
      "True\n"
     ]
    }
   ],
   "source": [
    "print(\"1\" in \"312\") # in, with strings"
   ]
  },
  {
   "cell_type": "markdown",
   "id": "94c8cf97",
   "metadata": {
    "slideshow": {
     "slide_type": "slide"
    }
   },
   "source": [
    "# 12.1.2. `for` Loops\n",
    "\n",
    "* **`for`** loops are an **alternative to `while` loops**\n",
    "\n",
    "    * Much more concise (fewer lines of code)\n",
    "    * Less flexibility\n",
    "\n",
    "\n",
    "* `for` loops do _**NOT**_ have the three essential components of a `while` loop:\n",
    "\n",
    "    1. initialization(s)\n",
    "    2. continuation condition\n",
    "    3. update(s)\n",
    "    \n",
    "    "
   ]
  },
  {
   "cell_type": "markdown",
   "id": "08f3ff7f",
   "metadata": {
    "slideshow": {
     "slide_type": "slide"
    }
   },
   "source": [
    "* `for` loops begin with a **header line** that specifies a **variable assignment target** followed by the **list/string/tuples/set** you want to step through. \n",
    "\n",
    "    * The header is followed by the body of the loop \n",
    "\n",
    "* The **generalized syntax** of a `for` loop is:\n",
    "\n",
    "    * `for VARIABLE in SEQUENCE:\n",
    "        BODY`\n",
    "    \n",
    "* **`while`** loop equivalent: \n",
    "\n",
    "    * `i = 0\n",
    "    while i < len(LIST):\n",
    "        VARIABLE = LIST[i]\n",
    "        BODY\n",
    "        i = i + 1`"
   ]
  },
  {
   "cell_type": "markdown",
   "id": "a354f48c",
   "metadata": {
    "slideshow": {
     "slide_type": "slide"
    }
   },
   "source": [
    "**Problem**: Given a list `sequence`, for each individual element in the `sequence`, **multiply by 2 and print**"
   ]
  },
  {
   "cell_type": "code",
   "execution_count": 87,
   "id": "d27e9074",
   "metadata": {
    "slideshow": {
     "slide_type": "-"
    }
   },
   "outputs": [
    {
     "name": "stdout",
     "output_type": "stream",
     "text": [
      "6\n",
      "2\n",
      "8\n",
      "14\n"
     ]
    }
   ],
   "source": [
    "\"\"\"Using a while loop\"\"\"\n",
    "\n",
    "sequence = [3, 1, 4, 7]\n",
    "i = 0                     # 1. initialization\n",
    "while i < len(sequence):  # 2. condition\n",
    "    print(sequence[i]*2)  # 3. body\n",
    "    i = i + 1             # 4. update"
   ]
  },
  {
   "cell_type": "code",
   "execution_count": 89,
   "id": "2197e9a5",
   "metadata": {},
   "outputs": [
    {
     "name": "stdout",
     "output_type": "stream",
     "text": [
      "3 6\n",
      "1 2\n",
      "4 8\n",
      "7 14\n"
     ]
    }
   ],
   "source": [
    "\"\"\"Using a for loop\"\"\"\n",
    "\n",
    "sequence = [3, 1, 4, 7]\n",
    "for element in sequence:  # 1. header line\n",
    "    print(element, element*2)      # 2. body"
   ]
  },
  {
   "cell_type": "markdown",
   "id": "1b93cfba",
   "metadata": {
    "slideshow": {
     "slide_type": "slide"
    }
   },
   "source": [
    "* The `for` statement works on **Lists**, **Strings**, **Tuples**, and **Sets**\n",
    "\n"
   ]
  },
  {
   "cell_type": "code",
   "execution_count": null,
   "id": "a5e3d320",
   "metadata": {},
   "outputs": [],
   "source": [
    "\"\"\"Using a for loop\"\"\"\n",
    "\n",
    "sequence = \"3, 1, 4, 7\"\n",
    "for element in sequence:  \n",
    "    print(element*2)     "
   ]
  },
  {
   "cell_type": "markdown",
   "id": "2a42fd81",
   "metadata": {
    "slideshow": {
     "slide_type": "-"
    }
   },
   "source": [
    "* When Python runs a `for` loop, it assigns the items in the `list/string/set/tuple` to the target one by one and executes the loop body for each. \n",
    "\n",
    "* The loop body typically uses the assignment target to refer to the current item in the sequence as though it were a cursor stepping through the sequence."
   ]
  },
  {
   "cell_type": "markdown",
   "id": "980a4d7d",
   "metadata": {
    "slideshow": {
     "slide_type": "slide"
    }
   },
   "source": [
    "\n",
    "* The name used as the assignment target in a `for` header line is usually a (possibly new) variable in the scope where the for statement is coded. \n",
    "\n",
    "* **Target variable will automatically be set to the next item** in the sequence when control returns to the top of the loop again. \n",
    "\n",
    "* The `break` and `continue` statements introduced earlier also work the same in a for loop as they do in a while. The for loop’s complete format can be described this way:\n",
    "\n",
    "`for target in sequence:  # Assign sequence items to target\n",
    "    statements \n",
    "    if test:\n",
    "        continue        # Go to top of loop now\n",
    "    if test:\n",
    "        break           # Exit loop now `\n",
    "        \n",
    "* After the loop this variable normally still refers to the last item visited, which is the last item in the sequence, unless the loop exits with a break statement."
   ]
  },
  {
   "cell_type": "code",
   "execution_count": 90,
   "id": "4161436e",
   "metadata": {
    "slideshow": {
     "slide_type": "slide"
    }
   },
   "outputs": [
    {
     "name": "stdout",
     "output_type": "stream",
     "text": [
      "6\n",
      "2\n",
      "8\n",
      "14\n"
     ]
    }
   ],
   "source": [
    "\"\"\" Lists \"\"\"\n",
    "\n",
    "sequence = [3, 1, 4, 7]\n",
    "for element in sequence:  \n",
    "    print(element*2)      "
   ]
  },
  {
   "cell_type": "code",
   "execution_count": 92,
   "id": "cd60ec79",
   "metadata": {},
   "outputs": [
    {
     "name": "stdout",
     "output_type": "stream",
     "text": [
      "33\n",
      "11\n",
      "44\n",
      "77\n"
     ]
    }
   ],
   "source": [
    "\"\"\" String \"\"\"\n",
    "\n",
    "sequence = \"3147\"\n",
    "for element in sequence: \n",
    "    print(element*2)     "
   ]
  },
  {
   "cell_type": "code",
   "execution_count": 93,
   "id": "1f24ffdf",
   "metadata": {
    "slideshow": {
     "slide_type": "slide"
    }
   },
   "outputs": [
    {
     "name": "stdout",
     "output_type": "stream",
     "text": [
      "2\n",
      "6\n",
      "8\n",
      "14\n"
     ]
    }
   ],
   "source": [
    "\"\"\" Tuples \"\"\"\n",
    "\n",
    "sequence = {3, 1, 4, 7}\n",
    "for element in sequence:  \n",
    "    print(element*2)     "
   ]
  },
  {
   "cell_type": "code",
   "execution_count": 95,
   "id": "bcf8cc3a",
   "metadata": {},
   "outputs": [
    {
     "name": "stdout",
     "output_type": "stream",
     "text": [
      "2\n",
      "6\n",
      "8\n",
      "14\n"
     ]
    }
   ],
   "source": [
    "\"\"\" Sets \"\"\"\n",
    "\n",
    "sequence = {3, 1, 4, 4, 4, 7}\n",
    "for element in sequence:  \n",
    "    print(element*2)     "
   ]
  },
  {
   "cell_type": "markdown",
   "id": "27bc453f",
   "metadata": {
    "slideshow": {
     "slide_type": "slide"
    }
   },
   "source": []
  },
  {
   "cell_type": "code",
   "execution_count": null,
   "id": "14854b30",
   "metadata": {},
   "outputs": [],
   "source": [
    "def func(n):\n",
    "\n",
    "    for numbers % 2 != 0:\n",
    "        \n",
    "    return sequence\n",
    "\n",
    "assert func(3) == [2, 4, 8]"
   ]
  },
  {
   "cell_type": "markdown",
   "id": "eb456cd4",
   "metadata": {
    "slideshow": {
     "slide_type": "slide"
    }
   },
   "source": [
    "# Question 1.  Find Minimum Value\n",
    "\n",
    "Write a function `csc121_min` that accepts as input a sequence (list/string/sets/tuples) and return the list item with the **minimum** value. "
   ]
  },
  {
   "cell_type": "code",
   "execution_count": 101,
   "id": "65777540",
   "metadata": {},
   "outputs": [],
   "source": [
    "def csc121_min(sequence):\n",
    "    if type(sequence)==str:\n",
    "        min_val = \"z\"\n",
    "    else:\n",
    "        min_val = 99999\n",
    "    \n",
    "    for element in sequence:\n",
    "        if element < min_val:\n",
    "            min_val = element\n",
    "            \n",
    "    return min_val"
   ]
  },
  {
   "cell_type": "code",
   "execution_count": 102,
   "id": "66c9bebd",
   "metadata": {},
   "outputs": [
    {
     "name": "stdout",
     "output_type": "stream",
     "text": [
      "All test cases passed successfully\n"
     ]
    }
   ],
   "source": [
    "assert csc121_min([54, 1, -99, 23, 0]) == -99, \"Test case 1 failed\"\n",
    "assert csc121_min({54, 1, -99, 23, 0}) == -99, \"Test case 2 failed\"\n",
    "assert csc121_min((54, 1, -99, 23, 0)) == -99, \"Test case 3 failed\"\n",
    "assert csc121_min(\"abcdef\")            == \"a\", \"Test case 4 failed\"\n",
    "assert csc121_min([54])                == 54,  \"Test case 5 failed\"\n",
    "\n",
    "print(\"All test cases passed successfully\")"
   ]
  },
  {
   "cell_type": "markdown",
   "id": "9d62604f",
   "metadata": {
    "slideshow": {
     "slide_type": "slide"
    }
   },
   "source": [
    "# Question 2.  Find Maximum Value\n",
    "\n",
    "\n",
    "Write a function `csc121_max` that accepts as input a sequence (list/string/sets/tuples) and return the list item with the **maximum** value. "
   ]
  },
  {
   "cell_type": "code",
   "execution_count": null,
   "id": "80bc08e1",
   "metadata": {},
   "outputs": [],
   "source": [
    "def csc121_max(sequence):\n",
    "    \n",
    "    return max_val"
   ]
  },
  {
   "cell_type": "code",
   "execution_count": null,
   "id": "628ccde5",
   "metadata": {},
   "outputs": [],
   "source": [
    "assert csc121_max([0, 1, -99, 23, 42]) == 42,  \"Test case 1 failed\"\n",
    "assert csc121_max({0, 1, -99, 23, 42}) == 42,  \"Test case 2 failed\"\n",
    "assert csc121_max((0, 1, -99, 23, 42)) == 42,  \"Test case 3 failed\"\n",
    "assert csc121_max(\"abcdef\")            == \"f\", \"Test case 4 failed\"\n",
    "assert csc121_max([42])                == 42,  \"Test case 5 failed\""
   ]
  },
  {
   "cell_type": "markdown",
   "id": "5518df85",
   "metadata": {
    "slideshow": {
     "slide_type": "slide"
    }
   },
   "source": [
    "# Question 3. Count Occurences\n",
    "\n",
    "Write a function `csc121_count` that accepts as Input(s):\n",
    "\n",
    "i) a `sequence` (list/string/sets/tuples)\n",
    "\n",
    "ii) an integer `val` \n",
    "\n",
    "and returns the **count of occurences** of `val` in the list `sequence`. "
   ]
  },
  {
   "cell_type": "code",
   "execution_count": null,
   "id": "c00e42a3",
   "metadata": {},
   "outputs": [],
   "source": [
    "def csc121_count(sequence, val):\n",
    "    \n",
    "    return count"
   ]
  },
  {
   "cell_type": "code",
   "execution_count": 147,
   "id": "95083855",
   "metadata": {},
   "outputs": [
    {
     "name": "stdout",
     "output_type": "stream",
     "text": [
      "<class 'list'> <class 'set'>\n"
     ]
    }
   ],
   "source": [
    "aset = {1, 2, 3, 4}\n",
    "\n",
    "alist = list(aset)\n",
    "\n",
    "print(type(alist), type(aset))"
   ]
  },
  {
   "cell_type": "code",
   "execution_count": null,
   "id": "1d8eef33",
   "metadata": {},
   "outputs": [],
   "source": [
    "assert csc121_count([0, 1, 0, 1, 0], 0) == 3, \"Test case 1 failed\"\n",
    "assert csc121_count({0, 1, 0, 1, 0}, 0) == 1, \"Test case 2 failed\"\n",
    "assert csc121_count((0, 1, 0, 1, 0), 0) == 3, \"Test case 3 failed\"\n",
    "assert csc121_count(\"occurrence\", \"r\")  == 2, \"Test case 4 failed\"\n",
    "assert csc121_count([0], 1)             == 0, \"Test case 5 failed\""
   ]
  },
  {
   "cell_type": "markdown",
   "id": "95480955",
   "metadata": {
    "slideshow": {
     "slide_type": "slide"
    }
   },
   "source": [
    "# Question 4. Multiply List\n",
    "\n",
    "Write a function `csc121_multiply` that accepts as Input(s):\n",
    "\n",
    "i) a sequence `sequence` of type `list`/`str`/`set`/`tuple`\n",
    "\n",
    "ii) an integer `val`\n",
    "\n",
    "and **returns a new list** which has the values from `sequence` repeated `val` times. \n",
    "\n",
    "Example: `csc121_multiply([4, 1, 3, 2], 3)` returns `[4,1,3,2,  4,1,3,2,  4,1,3,2]`\n",
    "\n",
    "When `val < 1`, empty list should be returned. "
   ]
  },
  {
   "cell_type": "code",
   "execution_count": null,
   "id": "8b373f1d",
   "metadata": {},
   "outputs": [],
   "source": [
    "def csc121_multiply(sequence, val):\n",
    "    \n",
    "    return new_list"
   ]
  },
  {
   "cell_type": "code",
   "execution_count": null,
   "id": "660d826b",
   "metadata": {},
   "outputs": [],
   "source": [
    "assert csc121_multiply([0, 1], 3)          == [0, 1, 0, 1, 0, 1],   \"Test case 1 failed\"\n",
    "assert csc121_multiply({0, 1, 0, 1, 0}, 3) == [0, 1, 0, 1, 0, 1],   \"Test case 2 failed\"\n",
    "assert csc121_multiply((0, 1), 3)          == [0, 1, 0, 1, 0, 1],   \"Test case 3 failed\"\n",
    "assert csc121_multiply(\"ab\", 2)            == [\"a\", \"b\", \"a\", \"b\"], \"Test case 4 failed\"\n",
    "assert csc121_multiply([0], 1)             == [0],                  \"Test case 5 failed\""
   ]
  },
  {
   "cell_type": "code",
   "execution_count": 108,
   "id": "9f9ac316",
   "metadata": {},
   "outputs": [
    {
     "ename": "KeyError",
     "evalue": "'orange'",
     "output_type": "error",
     "traceback": [
      "\u001b[0;31m---------------------------------------------------------------------------\u001b[0m",
      "\u001b[0;31mKeyError\u001b[0m                                  Traceback (most recent call last)",
      "Input \u001b[0;32mIn [108]\u001b[0m, in \u001b[0;36m<cell line: 16>\u001b[0;34m()\u001b[0m\n\u001b[1;32m     12\u001b[0m         options_set\u001b[38;5;241m.\u001b[39mremove(rand_val)\n\u001b[1;32m     14\u001b[0m     \u001b[38;5;28;01mreturn\u001b[39;00m shuffled_list\n\u001b[0;32m---> 16\u001b[0m \u001b[43mrandom_shuffle\u001b[49m\u001b[43m(\u001b[49m\u001b[43m[\u001b[49m\u001b[38;5;124;43m\"\u001b[39;49m\u001b[38;5;124;43morange\u001b[39;49m\u001b[38;5;124;43m\"\u001b[39;49m\u001b[43m,\u001b[49m\u001b[43m \u001b[49m\u001b[38;5;124;43m\"\u001b[39;49m\u001b[38;5;124;43mapple\u001b[39;49m\u001b[38;5;124;43m\"\u001b[39;49m\u001b[43m,\u001b[49m\u001b[43m \u001b[49m\u001b[38;5;124;43m\"\u001b[39;49m\u001b[38;5;124;43mbanana\u001b[39;49m\u001b[38;5;124;43m\"\u001b[39;49m\u001b[43m]\u001b[49m\u001b[43m)\u001b[49m\n",
      "Input \u001b[0;32mIn [108]\u001b[0m, in \u001b[0;36mrandom_shuffle\u001b[0;34m(options)\u001b[0m\n\u001b[1;32m     10\u001b[0m     rand_val \u001b[38;5;241m=\u001b[39m options[rand_idx]\n\u001b[1;32m     11\u001b[0m     shuffled_list\u001b[38;5;241m.\u001b[39mappend(rand_val)\n\u001b[0;32m---> 12\u001b[0m     \u001b[43moptions_set\u001b[49m\u001b[38;5;241;43m.\u001b[39;49m\u001b[43mremove\u001b[49m\u001b[43m(\u001b[49m\u001b[43mrand_val\u001b[49m\u001b[43m)\u001b[49m\n\u001b[1;32m     14\u001b[0m \u001b[38;5;28;01mreturn\u001b[39;00m shuffled_list\n",
      "\u001b[0;31mKeyError\u001b[0m: 'orange'"
     ]
    }
   ],
   "source": [
    "from random import randint\n",
    "\n",
    "def random_shuffle(options):\n",
    "    \n",
    "    options_set = set(options)\n",
    "    shuffled_list = []\n",
    "    \n",
    "    while len(options_set) > 0:\n",
    "        rand_idx = randint(0, len(options)-1)\n",
    "        rand_val = options[rand_idx]\n",
    "        shuffled_list.append(rand_val)\n",
    "        options_set.remove(rand_val)\n",
    "        \n",
    "    return shuffled_list\n",
    "\n",
    "random_shuffle([\"orange\", \"apple\", \"banana\"])"
   ]
  },
  {
   "cell_type": "code",
   "execution_count": 145,
   "id": "27cc514b",
   "metadata": {},
   "outputs": [
    {
     "data": {
      "text/plain": [
       "['orange', 'apple', 'banana']"
      ]
     },
     "execution_count": 145,
     "metadata": {},
     "output_type": "execute_result"
    }
   ],
   "source": [
    "from random import randint\n",
    "\n",
    "def random_shuffle(options):\n",
    "    \n",
    "    shuffled_list = []\n",
    "    \n",
    "    while len(options) > 0:\n",
    "        rand_idx = randint(0, len(options)-1)\n",
    "        rand_val = options[rand_idx]\n",
    "        shuffled_list.append(rand_val)\n",
    "        options.remove(rand_val)\n",
    "        \n",
    "    return shuffled_list\n",
    "\n",
    "random_shuffle([\"orange\", \"apple\", \"banana\"])"
   ]
  },
  {
   "cell_type": "code",
   "execution_count": null,
   "id": "8090b1c9",
   "metadata": {},
   "outputs": [],
   "source": [
    "\n",
    "a[0][0]"
   ]
  }
 ],
 "metadata": {
  "celltoolbar": "Slideshow",
  "kernelspec": {
   "display_name": "Python 3 (ipykernel)",
   "language": "python",
   "name": "python3"
  },
  "language_info": {
   "codemirror_mode": {
    "name": "ipython",
    "version": 3
   },
   "file_extension": ".py",
   "mimetype": "text/x-python",
   "name": "python",
   "nbconvert_exporter": "python",
   "pygments_lexer": "ipython3",
   "version": "3.9.12"
  }
 },
 "nbformat": 4,
 "nbformat_minor": 5
}
