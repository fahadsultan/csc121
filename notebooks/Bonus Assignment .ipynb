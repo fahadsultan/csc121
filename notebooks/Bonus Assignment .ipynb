{
 "cells": [
  {
   "cell_type": "markdown",
   "id": "c0410354",
   "metadata": {},
   "source": [
    "## 1.a. Implement `%`, without using `%` or `//`\n",
    "\n",
    "* Use only mathematical operators and/or type casting."
   ]
  },
  {
   "cell_type": "code",
   "execution_count": null,
   "id": "267dd3a4",
   "metadata": {},
   "outputs": [],
   "source": [
    "#Input(s)\n",
    "dividend = 11 \n",
    "divisor = 5\n",
    "\n",
    "# Insert your line(s) of code here \n",
    "\n",
    "#Output\n",
    "remainder = "
   ]
  },
  {
   "cell_type": "markdown",
   "id": "9e50a464",
   "metadata": {},
   "source": [
    "## 1.b. Implement `//`, without using `//` or `%`\n",
    "\n",
    "* Use only mathematical operators and/or type casting."
   ]
  },
  {
   "cell_type": "code",
   "execution_count": null,
   "id": "5c98949a",
   "metadata": {},
   "outputs": [],
   "source": [
    "#Input\n",
    "dividend = 11 \n",
    "divisor = 5\n",
    "\n",
    "# Insert your line(s) of code here \n",
    "\n",
    "#Output\n",
    "quotient = "
   ]
  },
  {
   "cell_type": "markdown",
   "id": "a224b039",
   "metadata": {},
   "source": [
    "## 2. Check if `m` is divisible by  `n`"
   ]
  },
  {
   "cell_type": "markdown",
   "id": "5661db61",
   "metadata": {},
   "source": [
    "* Set `m_divisible_by_n` to `True` if `m` is divisible by `n`, `False` otherwise. "
   ]
  },
  {
   "cell_type": "code",
   "execution_count": null,
   "id": "0aba38e6",
   "metadata": {},
   "outputs": [],
   "source": [
    "#Input\n",
    "m = 11\n",
    "n = 5\n",
    "\n",
    "# Insert your line(s) of code here \n",
    "\n",
    "# Output (boolean variable)\n",
    "m_divisible_by_n = "
   ]
  },
  {
   "cell_type": "markdown",
   "id": "f130d7d0",
   "metadata": {},
   "source": [
    "## 3. Convert minutes to hours and minutes"
   ]
  },
  {
   "cell_type": "markdown",
   "id": "54fae7fc",
   "metadata": {},
   "source": [
    "**Example** \n",
    "\n",
    "_Input :_ \\\n",
    "`in_minutes  = 90`\n",
    "\n",
    "_Output(s):_  \\\n",
    "`out_hours = 1` \\\n",
    "`out_mins = 30`\n",
    "\n"
   ]
  },
  {
   "cell_type": "code",
   "execution_count": null,
   "id": "09ff9642",
   "metadata": {},
   "outputs": [],
   "source": [
    "#Input\n",
    "in_minutes = 150\n",
    "\n",
    "# Insert your line(s) of code here\n",
    "\n",
    "#Output\n",
    "out_hours = \n",
    "out_minutes = "
   ]
  }
 ],
 "metadata": {
  "kernelspec": {
   "display_name": "Python 3 (ipykernel)",
   "language": "python",
   "name": "python3"
  },
  "language_info": {
   "codemirror_mode": {
    "name": "ipython",
    "version": 3
   },
   "file_extension": ".py",
   "mimetype": "text/x-python",
   "name": "python",
   "nbconvert_exporter": "python",
   "pygments_lexer": "ipython3",
   "version": "3.9.12"
  }
 },
 "nbformat": 4,
 "nbformat_minor": 5
}
