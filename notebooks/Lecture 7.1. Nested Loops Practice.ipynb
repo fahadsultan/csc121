{
 "cells": [
  {
   "cell_type": "markdown",
   "id": "d294a6bb",
   "metadata": {
    "slideshow": {
     "slide_type": "slide"
    }
   },
   "source": [
    "#  Loop Design Pattern"
   ]
  },
  {
   "cell_type": "markdown",
   "id": "0d1df803",
   "metadata": {},
   "source": [
    "Most loops (_not all of them_) have the following common parts, in this order: \n",
    "\n",
    "1. **Initialization** of iterator, result and other variables. \n",
    "\n",
    "2. **Continuation condition** (a.k.a. Termination condition)\n",
    "\n",
    "3. **Body** of the loop _(Indented, compute result)_ \n",
    "\n",
    "4. **Update** of iterator and other variables _(Indented)_\n",
    "    * Last lines of the body"
   ]
  },
  {
   "cell_type": "markdown",
   "id": "182553e8",
   "metadata": {
    "slideshow": {
     "slide_type": "slide"
    }
   },
   "source": [
    "`initialization\n",
    "while ( continuation-condition ) {\n",
    "    body\n",
    "    update\n",
    "}`"
   ]
  },
  {
   "cell_type": "markdown",
   "id": "3ab216a4",
   "metadata": {
    "slideshow": {
     "slide_type": "slide"
    }
   },
   "source": [
    "## $summ(n) =  \\sum_{i=1}^{n} i$"
   ]
  },
  {
   "cell_type": "code",
   "execution_count": null,
   "id": "93ca851f",
   "metadata": {},
   "outputs": [],
   "source": [
    "\"\"\"The most common loop design pattern\n",
    "\n",
    "In this particular case, the following two lines \n",
    "make up both the 3. Body and 4. Updates of the loop\n",
    "\"\"\"\n",
    "\n",
    "i = 1                   # 1. Initialization of iterator \n",
    "\n",
    "summ = 0                # 1. Initialization of the variable holding the \n",
    "                        #    result value we are interested in computing\n",
    "\n",
    "while i <= n:           # 2. Continuation/Termination condition \n",
    "    \n",
    "    summ = summ + i     # 3/4. Update result  \n",
    "    i = i + 1           # 3/4. Update iterator \n",
    "    \n",
    "print(summ)"
   ]
  },
  {
   "cell_type": "markdown",
   "id": "ed68e8e5",
   "metadata": {
    "slideshow": {
     "slide_type": "slide"
    }
   },
   "source": [
    "# QUESTION 1. \n",
    "\n",
    "$$\\require{cancel}$$  \n",
    "\n",
    "Given an `n`, implement: \n",
    "\n",
    "$\\cancel{sum\\_of\\_factorials =  \\sum_{i=1}^{n} i!}$\n",
    "\n",
    "Note that this is equivalent to: \n",
    "\n",
    "$\\cancel{sum\\_of\\_factorials =  \\sum_{i=1}^{n} \\prod_{j=1}^{i} j}$\n"
   ]
  },
  {
   "cell_type": "markdown",
   "id": "68ac17da",
   "metadata": {},
   "source": [
    "For example, for `n=4`:\n",
    "\n",
    "`sum_ij = 1 + (2*2) + (3*3*3) + (4*4*4*4)`\\\n",
    "`sum_ij = 288`"
   ]
  },
  {
   "cell_type": "code",
   "execution_count": 155,
   "id": "bd9078b3",
   "metadata": {},
   "outputs": [],
   "source": [
    "def sum_of_factorials(n):\n",
    "    total = 0\n",
    "    i = 1\n",
    "    while i <= n:\n",
    "        j = 1\n",
    "        subtotal = 1\n",
    "\n",
    "        while j <= i:\n",
    "            subtotal = subtotal * i \n",
    "            j = j + 1\n",
    "            \n",
    "        total = total + subtotal\n",
    "        i = i + 1\n",
    "    return total"
   ]
  },
  {
   "cell_type": "code",
   "execution_count": 157,
   "id": "c795dbba",
   "metadata": {},
   "outputs": [
    {
     "data": {
      "text/plain": [
       "288"
      ]
     },
     "execution_count": 157,
     "metadata": {},
     "output_type": "execute_result"
    }
   ],
   "source": [
    "sum_of_factorials(4)"
   ]
  },
  {
   "cell_type": "markdown",
   "id": "bbfce369",
   "metadata": {},
   "source": [
    "# QUESTION 2.  \n",
    "Write a function **`left_triangle`** that takes one input `n` and prints a triangle of numbers from `1-n` as shown below. \n",
    "\n",
    "The input `n` must be an integer from `1` to `9`. \n",
    "\n",
    "For any other input, **`raise`** an appropriate Error with an informative error message. \n",
    "\n",
    "Use the provided **`print_same_line(x)`** function to print on the same line and the provided **`go_to_newline()`** function to go to next line. \n",
    "\n",
    "<hr />\n",
    "\n",
    "**Example 1**: \\\n",
    "_Input_: `n=3` \\\n",
    "_Ouput_: \\\n",
    "1\\\n",
    "22\\\n",
    "333\n",
    "<hr /> \n",
    "\n",
    "**Example 2:** \\\n",
    "_Input_: `n=9` \\\n",
    "_Output_: \\\n",
    "1\\\n",
    "22\\\n",
    "333\\\n",
    "4444\\\n",
    "55555\\\n",
    "666666\\\n",
    "7777777\\\n",
    "88888888\\\n",
    "999999999\n",
    "\n",
    "<hr/>\n"
   ]
  },
  {
   "cell_type": "code",
   "execution_count": 165,
   "id": "bb670069",
   "metadata": {},
   "outputs": [
    {
     "name": "stdout",
     "output_type": "stream",
     "text": [
      "22"
     ]
    }
   ],
   "source": [
    "print_same_line(2)\n",
    "print_same_line(2)\n"
   ]
  },
  {
   "cell_type": "code",
   "execution_count": 166,
   "id": "06021ef2",
   "metadata": {},
   "outputs": [
    {
     "name": "stdout",
     "output_type": "stream",
     "text": [
      "22\n",
      "333"
     ]
    }
   ],
   "source": [
    "print_same_line(2)\n",
    "print_same_line(2)\n",
    "go_to_newline()\n",
    "print_same_line(3)\n",
    "print_same_line(3)\n",
    "print_same_line(3)"
   ]
  },
  {
   "cell_type": "code",
   "execution_count": 163,
   "id": "7d8658aa",
   "metadata": {},
   "outputs": [
    {
     "name": "stdout",
     "output_type": "stream",
     "text": [
      "1\n",
      "22\n",
      "333\n",
      "4444\n"
     ]
    },
    {
     "data": {
      "text/plain": [
       "' \\nExample usage of print_same_line \\nand go_to_line\\n'"
      ]
     },
     "execution_count": 163,
     "metadata": {},
     "output_type": "execute_result"
    }
   ],
   "source": [
    "def print_same_line(x):\n",
    "    print(x, end='')\n",
    "    \n",
    "def go_to_newline():\n",
    "    print()\n",
    "    \n",
    "def left_triangle(n):\n",
    "    \"\"\"Takes an input n (1-9) and prints a left-aligned \n",
    "    triangle of n-rows such that such that \n",
    "    each row i (1 <= i <= n), in ascending order, is\n",
    "    composed of only the ith number and the\n",
    "    \"length\" of the row is equal to the value of i\n",
    "    \"\"\"\n",
    "    return\n",
    "\n",
    "left_triangle(4)\n",
    "\n",
    "# \"\"\" \n",
    "# Example usage of print_same_line \n",
    "# and go_to_line\n",
    "# \"\"\"\n",
    "# print_same_line(2)\n",
    "# print_same_line(2)\n",
    "\n",
    "# go_to_newline()\n",
    "\n",
    "# print_same_line(3)\n",
    "# print_same_line(3)\n",
    "# print_same_line(3)\n",
    "\n",
    "# left_triangle()"
   ]
  },
  {
   "cell_type": "code",
   "execution_count": null,
   "id": "cd329d5b",
   "metadata": {},
   "outputs": [],
   "source": [
    "def left_triangle(n):\n",
    "\n",
    "            \n",
    "print_triangle(9)"
   ]
  },
  {
   "cell_type": "markdown",
   "id": "c2cab7ea",
   "metadata": {},
   "source": [
    "# QUESTION 3.\n",
    "\n",
    "Write a function **`right_triangle`** that takes one input `n` and prints a triangle of numbers from `1-n` as shown below. \n",
    "\n",
    "The input `n` must be an integer from `1` to `9`. \n",
    "\n",
    "For any other input, **`raise`** an appropriate Error with an informative error message. \n",
    "\n",
    "Use the provided **`print_same_line(x)`** function to print on the same line and the provided **`go_to_newline()`** function to go to next line. \n",
    "\n",
    "\n",
    "<hr />\n",
    "\n",
    "\n",
    "**Example 1**: \n",
    "\n",
    "_Input_: `n=3` \n",
    "\n",
    "_Ouput_: \n",
    "\n",
    "<img align=\"left\" width=\"60\" src=\"https://i.ibb.co/QmPdy4z/6s.png\"></img>\n",
    "\n",
    "<br>\n",
    "<br>\n",
    "<br>\n",
    "<br>\n",
    "<br>\n",
    "<br>\n",
    "\n",
    "**Example 2:** \n",
    "\n",
    "_Input_: `n=9` \n",
    "\n",
    "_Output_: \n",
    "\n",
    "<img align=\"left\" width=\"90\" src=\"https://i.ibb.co/k1yrMx8/9s.png\"></img>\n",
    "\n",
    "<br>\n",
    "<br>\n",
    "<br>\n",
    "<br>\n",
    "<br>\n",
    "<br>\n",
    "<br>\n",
    "<br>\n",
    "\n",
    "<hr/>"
   ]
  },
  {
   "cell_type": "code",
   "execution_count": null,
   "id": "3f086e6e",
   "metadata": {},
   "outputs": [],
   "source": []
  },
  {
   "cell_type": "code",
   "execution_count": null,
   "id": "860e46f2",
   "metadata": {},
   "outputs": [],
   "source": []
  },
  {
   "cell_type": "code",
   "execution_count": 375,
   "id": "517cfb52",
   "metadata": {
    "scrolled": true
   },
   "outputs": [
    {
     "name": "stdout",
     "output_type": "stream",
     "text": [
      "        1\n",
      "       22\n",
      "      333\n",
      "     4444\n",
      "    55555\n",
      "   666666\n",
      "  7777777\n",
      " 88888888\n",
      "999999999\n"
     ]
    }
   ],
   "source": [
    "def print_same_line(x):\n",
    "    print(x, end='')\n",
    "    \n",
    "def go_to_newline():\n",
    "    print()\n",
    "    \n",
    "def right_triangle(n):\n",
    "    \"\"\"Takes an input n (1-9) and prints a right-aligned \n",
    "    triangle of n-rows such that such that \n",
    "    each row i (1 <= i <= n), in ascending order, is\n",
    "    composed of only the ith number and the\n",
    "    \"length\" of the row is equal to the value of i\n",
    "    \"\"\"\n",
    "    \n",
    "    i = 1\n",
    "    while i <= n:\n",
    "        \n",
    "        j = 1\n",
    "        while j <= n - i:\n",
    "            print(' ', end='')\n",
    "            j = j + 1\n",
    "            \n",
    "        k = 1\n",
    "        while k <= i:\n",
    "            print(i, end = '')\n",
    "            k = k + 1\n",
    "        \n",
    "        print()\n",
    "        i = i + 1\n",
    "    return\n",
    "\n",
    "right_triangle(9)"
   ]
  },
  {
   "cell_type": "code",
   "execution_count": null,
   "id": "c6087554",
   "metadata": {},
   "outputs": [],
   "source": [
    "For n = 3\n",
    " \n",
    "  1\n",
    " 333\n",
    "  1\n",
    " \n",
    "For n = 5\n",
    " \n",
    "  1\n",
    " 333\n",
    "55555\n",
    " 333\n",
    "  1"
   ]
  },
  {
   "cell_type": "code",
   "execution_count": 192,
   "id": "1a03b6b4",
   "metadata": {},
   "outputs": [
    {
     "data": {
      "text/plain": [
       "2"
      ]
     },
     "execution_count": 192,
     "metadata": {},
     "output_type": "execute_result"
    }
   ],
   "source": [
    "3-1"
   ]
  },
  {
   "cell_type": "code",
   "execution_count": 208,
   "id": "dbc85cbf",
   "metadata": {},
   "outputs": [
    {
     "data": {
      "text/plain": [
       "1"
      ]
     },
     "execution_count": 208,
     "metadata": {},
     "output_type": "execute_result"
    }
   ],
   "source": [
    "5-3-1"
   ]
  },
  {
   "cell_type": "code",
   "execution_count": 256,
   "id": "4c5305a9",
   "metadata": {},
   "outputs": [
    {
     "data": {
      "text/plain": [
       "3.0"
      ]
     },
     "execution_count": 256,
     "metadata": {},
     "output_type": "execute_result"
    }
   ],
   "source": [
    "((5/2)+1) // 1"
   ]
  },
  {
   "cell_type": "code",
   "execution_count": 281,
   "id": "fac37904",
   "metadata": {},
   "outputs": [
    {
     "data": {
      "text/plain": [
       "3.0"
      ]
     },
     "execution_count": 281,
     "metadata": {},
     "output_type": "execute_result"
    }
   ],
   "source": [
    "(1 + 5) / 2"
   ]
  },
  {
   "cell_type": "code",
   "execution_count": 371,
   "id": "1b118f63",
   "metadata": {},
   "outputs": [
    {
     "name": "stdout",
     "output_type": "stream",
     "text": [
      "888888888888888\n",
      " 7777777777777\n",
      "  66666666666\n",
      "   555555555\n",
      "    4444444\n",
      "     33333\n",
      "      222\n",
      "       1\n"
     ]
    }
   ],
   "source": [
    "def print_inverse_pyramid(x):\n",
    "    \n",
    "    i = x\n",
    "        \n",
    "    while i > 0:\n",
    "        \n",
    "        j = 1\n",
    "        while j <= x - i:\n",
    "            print(' ', end='')\n",
    "            j = j + 1\n",
    "            \n",
    "        k = 1\n",
    "        while k <= i:\n",
    "            print(i, end = '')\n",
    "            k = k + 1\n",
    "        \n",
    "        l = 1\n",
    "        while l <= i-1:\n",
    "            print(i, end = '')\n",
    "            l = l + 1\n",
    "            \n",
    "        print()\n",
    "        i = i - 1\n",
    "        \n",
    "        \n",
    "        \n",
    "print_inverse_pyramid(8)"
   ]
  },
  {
   "cell_type": "code",
   "execution_count": 367,
   "id": "5236bffb",
   "metadata": {},
   "outputs": [
    {
     "name": "stdout",
     "output_type": "stream",
     "text": [
      "       1\n",
      "      222\n",
      "     33333\n",
      "    4444444\n",
      "   555555555\n",
      "  66666666666\n",
      " 7777777777777\n",
      "888888888888888\n",
      " 7777777777777\n",
      "  66666666666\n",
      "   555555555\n",
      "    4444444\n",
      "     33333\n",
      "      222\n",
      "       1\n"
     ]
    }
   ],
   "source": [
    "def print_pyramid(x):\n",
    "    \n",
    "    i = 1\n",
    "    while i <= x:\n",
    "        \n",
    "        j = 1\n",
    "        while j <= x - i:\n",
    "            print(' ', end='')\n",
    "            j = j + 1\n",
    "            \n",
    "        k = 1\n",
    "        while k <= i:\n",
    "            print(i, end = '')\n",
    "            k = k + 1\n",
    "        \n",
    "        l = 1\n",
    "        while l <= i-1:\n",
    "            print(i, end = '')\n",
    "            l = l + 1\n",
    "            \n",
    "        print()\n",
    "        i = i + 1\n",
    "        \n",
    "    i = x-1\n",
    "        \n",
    "    while i > 0:\n",
    "        \n",
    "        j = 1\n",
    "        while j <= x - i:\n",
    "            print(' ', end='')\n",
    "            j = j + 1\n",
    "            \n",
    "        k = 1\n",
    "        while k <= i:\n",
    "            print(i, end = '')\n",
    "            k = k + 1\n",
    "        \n",
    "        l = 1\n",
    "        while l <= i-1:\n",
    "            print(i, end = '')\n",
    "            l = l + 1\n",
    "            \n",
    "        print()\n",
    "        i = i - 1\n",
    "        \n",
    "        \n",
    "        \n",
    "print_pyramid(8)"
   ]
  },
  {
   "cell_type": "code",
   "execution_count": 234,
   "id": "248091e0",
   "metadata": {},
   "outputs": [
    {
     "data": {
      "text/plain": [
       "2"
      ]
     },
     "execution_count": 234,
     "metadata": {},
     "output_type": "execute_result"
    }
   ],
   "source": [
    "5-(5-1-1)"
   ]
  }
 ],
 "metadata": {
  "celltoolbar": "Slideshow",
  "kernelspec": {
   "display_name": "Python 3 (ipykernel)",
   "language": "python",
   "name": "python3"
  },
  "language_info": {
   "codemirror_mode": {
    "name": "ipython",
    "version": 3
   },
   "file_extension": ".py",
   "mimetype": "text/x-python",
   "name": "python",
   "nbconvert_exporter": "python",
   "pygments_lexer": "ipython3",
   "version": "3.9.12"
  }
 },
 "nbformat": 4,
 "nbformat_minor": 5
}
