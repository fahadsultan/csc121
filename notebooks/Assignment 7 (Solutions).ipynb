{
 "cells": [
  {
   "cell_type": "markdown",
   "id": "73cafd57",
   "metadata": {},
   "source": [
    "# Question 1. Matrix Multiplication\n",
    "\n",
    "If $A$ is an $m \\times n$ matrix ($m$ rows and $n$ columns) and $B$ is an $n \\times p$ matrix: \n",
    "\n",
    "$$A = \\begin{bmatrix}\n",
    "a_{11} & a_{12} & ... & a_{1n} \\\\\n",
    "a_{21} & a_{22} & ... & a_{2n} \\\\\n",
    ": & : & ... & : \\\\\n",
    "a_{m1} & a_{m2} & ... & a_{mn} \\\\\n",
    "\\end{bmatrix},    B = \\begin{bmatrix}\n",
    "b_{11} & b_{12} & ... & b_{1p} \\\\\n",
    "b_{21} & b_{22} & ... & b_{2p} \\\\\n",
    ": & : & ... & : \\\\\n",
    "b_{n1} & b_{n2} & ... & b_{np} \\\\\n",
    "\\end{bmatrix}$$\n",
    "\n",
    "where $a_{ij}$ and $b_{ij}$ are `integers` at row $i$ and column $j$ for $A$ and $B$ respectively. \n",
    "\n",
    "The product C = AB is defined to be the $m \\times p$ matrix: \n",
    "\n",
    "$C = \\begin{bmatrix}\n",
    "c_{11} & c_{12} & ... & c_{1p} \\\\\n",
    "c_{21} & c_{22} & ... & c_{2p} \\\\\n",
    ": & :  & ...    & : \\\\\n",
    "c_{m1} & c_{m2} & ... & c_{mp} \\\\\n",
    "\\end{bmatrix}$ such that the entry of $C$ at row $i$ and column $j$ is $c_{ij} = (a_{i1}*b_{1j}) + (a_{i2}*b_{2j}) + ... + (a_{in}*b_{nj})$\n",
    "\n",
    "<br/>For example: <img width=\"500\" src=\"https://www.mscroggs.co.uk/img/full/multiply_matrices.gif\">\n",
    "\n",
    "Implement a function `multiply_matrices` that accepts as input two matrices `A` and `B` and returns the product of the two matrices\n"
   ]
  },
  {
   "cell_type": "code",
   "execution_count": null,
   "id": "f65731e5",
   "metadata": {},
   "outputs": [],
   "source": [
    "def multiply_matrices(A, B):\n",
    "    C = []\n",
    "    # iterate through rows of X\n",
    "    for i in range(len(A)):\n",
    "    # iterate through columns of Y\n",
    "        new_row = []\n",
    "        for j in range(len(B[0])):\n",
    "        # iterate through rows of Y\n",
    "            summ = 0\n",
    "            for k in range(len(B)):\n",
    "                summ = summ + A[i][k] * B[k][j]\n",
    "            new_row.append(summ)\n",
    "        C.append(new_row)\n",
    "    \n",
    "    return C"
   ]
  },
  {
   "cell_type": "code",
   "execution_count": null,
   "id": "ff6ed986",
   "metadata": {},
   "outputs": [],
   "source": [
    "A = [[2, 5,  2],\\\n",
    "     [1, 0, -2],\\\n",
    "     [3, 1,  1]]\n",
    "\n",
    "B = [[-2, 1, 0],\\\n",
    "     [-2, 2, 1],\\\n",
    "     [0,  0, 3]]\n",
    "\n",
    "C = [[-14, 12, 11],\\\n",
    "     [-2,  1,  -6],\\\n",
    "     [-8,  5,  4]]\n",
    "\n",
    "assert multiply_matrices(A, B) == C, \"Test case 1 failed\"\n",
    "\n",
    "A = [[1, 2], \\\n",
    "     [3, 4]]\n",
    "\n",
    "B = [[1],\\\n",
    "     [1]]\n",
    "\n",
    "C = [[3], [7]]\n",
    "\n",
    "assert multiply_matrices(A, B) == C, \"Test case 2 failed\"\n",
    "\n",
    "assert multiply_matrices([[1, 2], [3, 4]], [[0, 0], [0, 0]]) == [[0,  0],  [0,  0]],  \"Test case 3 failed\"\n",
    "assert multiply_matrices([[9],    [9]],    [[9, 9]])         == [[81, 81], [81, 81]], \"Test case 4 failed\"\n",
    "assert multiply_matrices([[1, 2], [3, 4]], [[1, 0], [0, 1]]) == [[1,  2],  [3,  4]],  \"Test case 5 failed\"\n",
    "\n",
    "print(\"All test cases passed successfully\")"
   ]
  },
  {
   "cell_type": "markdown",
   "id": "32d428b4",
   "metadata": {},
   "source": [
    "# Question 2. Convert List of Tuples to Dictionary"
   ]
  },
  {
   "cell_type": "markdown",
   "id": "2c916766",
   "metadata": {},
   "source": [
    "Implement a function `convert_to_dict` that takes as input a list of tuples `records` and returns a **dictionary** `converted` that has the first elements of tuples in `records` as **keys** and second elements of tuples in `records` as **values**. \n",
    "\n",
    "For example, `records=[(\"one\", \"uno\"), (\"two\", \"dos\")]` returns `{\"one\": \"uno\" , \"two\":\"dos\"}`"
   ]
  },
  {
   "cell_type": "code",
   "execution_count": null,
   "id": "91eb945a",
   "metadata": {},
   "outputs": [],
   "source": [
    "def convert_to_dict(records):\n",
    "    converted = {}\n",
    "    for idx, val in records:\n",
    "        converted[idx] = val\n",
    "    return converted"
   ]
  },
  {
   "cell_type": "code",
   "execution_count": null,
   "id": "74902df2",
   "metadata": {},
   "outputs": [],
   "source": [
    "assert convert_to_dict([(1, \"one\"), (\"one\", 1)]) == {1: \"one\", \"one\": 1},  \"Test case 1 failed\"\n",
    "assert convert_to_dict([(-1, \"neg\"),(1, \"pos\")]) == {1: \"pos\", -1: \"neg\"}, \"Test case 2 failed\"\n",
    "assert convert_to_dict([(\"aik\", 1), (\"do\", 2), (\"teen\", 3)]) == {\"aik\": 1, \"do\": 2, \"teen\":3}, \"Test case 3 failed\"\n",
    "assert convert_to_dict([(\"inc\", [1, 2]), (\"none\", None)]) == {\"inc\": [1, 2], \"none\": None}, \"Test case 4 failed\"\n",
    "assert convert_to_dict([((1, 2), \"random\")]) == {(1, 2): \"random\"}, \"Test case 5 failed\"\n",
    "\n",
    "print(\"All test cases passed successfully\")"
   ]
  },
  {
   "cell_type": "markdown",
   "id": "c7ef93ca",
   "metadata": {},
   "source": [
    "# Question 3. Count Characters"
   ]
  },
  {
   "cell_type": "markdown",
   "id": "a6ef30ea",
   "metadata": {},
   "source": [
    "Implement a function `count_characters` that takes as input two inputs: \n",
    "1. a string variable `longtext`\n",
    "2. a list of string characters `chars`\n",
    "\n",
    "and returns a **dictionary** `counts` that has `chars` as **keys** with the mapped **values** equal to the number of occurrences of the respective characters in `longtext`. \n",
    "\n",
    "For example, `longtext=\"not really long\"` and `chars=['a', 'o', 'x']` should return `{'a':1, 'o':2}`\n",
    "\n",
    "If a character in `chars` is not present in the `longtext`, make sure the returned dictionary does _NOT_ have a key for that character. Note how `x` is not a key in the returned dictionary in example above. "
   ]
  },
  {
   "cell_type": "code",
   "execution_count": null,
   "id": "2dba7581",
   "metadata": {},
   "outputs": [],
   "source": [
    "def count_characters(longtext, chars):\n",
    "\n",
    "    counts = {}\n",
    "    for char in longtext:\n",
    "        if char in chars:\n",
    "            if char not in counts:\n",
    "                counts[char] = 1\n",
    "            else:\n",
    "                counts[char] = counts[char] + 1\n",
    "    \n",
    "    return counts"
   ]
  },
  {
   "cell_type": "code",
   "execution_count": null,
   "id": "0d4f8d43",
   "metadata": {},
   "outputs": [],
   "source": [
    "excerpt = \"\"\"When human beings acquired language, we learned not just how to listen but how to speak. When \\\n",
    "we gained literacy, we learned not just how to read but how to write. And as we move into an increasingly \\\n",
    "digital reality, we must learn not just how to use programs but how to make them.\n",
    "\n",
    "In the emerging, highly programmed landscape ahead, you will either create the software or you will be the \\\n",
    "software. It’s really that simple: Program, or be programmed. Choose the former, and you gain access to the \\\n",
    "control panel of civilization. Choose the latter, and it could be the last real choice you get to make.\n",
    "\n",
    "For while digital technologies are in many ways a natural outgrowth of what went before, they are also \\\n",
    "markedly different. Computers and networks are more than mere tools: They are like living things, \\\n",
    "themselves. Unlike a rake, a pen, or even a jackhammer, a digital technology is programmed. This means it \\\n",
    "comes with instructions not just for its use, but also for itself. And as such technologies come to \\\n",
    "characterize the future of the way we live and work, the people programming them take on an increasingly \\\n",
    "important role in shaping our world and how it works. After that, it’s the digital technologies themselves \\\n",
    "that will be shaping our world, both with and without our explicit cooperation.\"\"\"\n",
    "\n",
    "\n",
    "assert count_characters(excerpt, [\"a\", \"e\", \"i\", \"o\", \"u\"])      == {'e': 124, 'u': 30, 'a': 84, \\\n",
    "                                                                     'i': 67, 'o': 90}, \\\n",
    "                                                                                \"Test case 1 failed\"\n",
    "\n",
    "assert count_characters(excerpt, [\"x\", \"y\", \"z\"])                == {'y': 17, 'z': 2, 'x': 1}, \\\n",
    "                                                                                \"Test case 2 failed\"\n",
    "\n",
    "assert count_characters(excerpt, [\"\\n\", \"\\t\", \"\\\\\", \"\\'\", '\\\"']) == {'\\n':4},   \"Test case 3 failed\"\n",
    "assert count_characters(excerpt, [\".\", \"?\", \"!\"])                == {'.': 13},  \"Test case 4 failed\"\n",
    "assert count_characters(excerpt, [\" \"])                          == {' ': 223}, \"Test case 5 failed\"\n",
    "\n",
    "print(\"All test cases passed successfully\")"
   ]
  },
  {
   "cell_type": "code",
   "execution_count": null,
   "id": "2dc5b203",
   "metadata": {},
   "outputs": [],
   "source": []
  }
 ],
 "metadata": {
  "kernelspec": {
   "display_name": "Python 3 (ipykernel)",
   "language": "python",
   "name": "python3"
  },
  "language_info": {
   "codemirror_mode": {
    "name": "ipython",
    "version": 3
   },
   "file_extension": ".py",
   "mimetype": "text/x-python",
   "name": "python",
   "nbconvert_exporter": "python",
   "pygments_lexer": "ipython3",
   "version": "3.9.12"
  }
 },
 "nbformat": 4,
 "nbformat_minor": 5
}
