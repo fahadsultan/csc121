{
 "cells": [
  {
   "cell_type": "markdown",
   "id": "0a3b1924",
   "metadata": {},
   "source": [
    "# Question 1"
   ]
  },
  {
   "cell_type": "code",
   "execution_count": 60,
   "id": "8b2efe04",
   "metadata": {},
   "outputs": [
    {
     "name": "stdout",
     "output_type": "stream",
     "text": [
      "All test cases passed successfully\n"
     ]
    }
   ],
   "source": [
    "def csc121_abs(x):\n",
    "    if type(x) != int:\n",
    "        raise TypeError(\"Only inputs of type `int` allowed\")\n",
    "        \n",
    "    if x < 0:\n",
    "        x = x*-1\n",
    "    \n",
    "    return x\n",
    "\n",
    "assert csc121_abs(-1)  ==1,  \"Test case 1 failed\"\n",
    "assert csc121_abs(0)   ==0,  \"Test case 2 failed\"\n",
    "assert csc121_abs(1)   ==1,  \"Test case 3 failed\"\n",
    "assert csc121_abs(-99) ==99, \"Test case 4 failed\"\n",
    "assert csc121_abs(99)  ==99, \"Test case 5 failed\"\n",
    "assert csc121_abs(100) ==100,\"Test case 6 failed\"\n",
    "assert csc121_abs(-100)==100,\"Test case 7 failed\"\n",
    "\n",
    "print(\"All test cases passed successfully\")"
   ]
  },
  {
   "cell_type": "markdown",
   "id": "cbb7f155",
   "metadata": {},
   "source": [
    "# Question 2"
   ]
  },
  {
   "cell_type": "code",
   "execution_count": 61,
   "id": "5b8eb3cf",
   "metadata": {},
   "outputs": [
    {
     "name": "stdout",
     "output_type": "stream",
     "text": [
      "All test cases passed successfully\n"
     ]
    }
   ],
   "source": [
    "def multiply(x=1, y=1):\n",
    "    if type(x) != int or type(y) != int:\n",
    "        raise TypeError(\"Only inputs of type `int` allowed\")\n",
    "    \n",
    "    i = 1\n",
    "    product = 0\n",
    "    while i <= csc121_abs(x):\n",
    "        product = product + csc121_abs(y)\n",
    "        i = i + 1\n",
    "        \n",
    "    if (x < 0 and y >= 0) or (x >= 0 and y < 0):\n",
    "        product = 0 - product\n",
    "        \n",
    "    return product\n",
    "\n",
    "\n",
    "assert multiply(2, 2)   ==  4,  \"Test case 1 failed\"\n",
    "assert multiply(2, -2)  == -4,  \"Test case 2 failed\"\n",
    "assert multiply(-2, 2)  == -4,  \"Test case 3 failed\"\n",
    "assert multiply(-2, -2) ==  4,  \"Test case 4 failed\"\n",
    "assert multiply()       ==  1,  \"Test case 5 failed\"\n",
    "assert multiply(4)      ==  4,  \"Test case 6 failed\"\n",
    "assert multiply(4, 0)   ==  0,  \"Test case 7 failed\"\n",
    "\n",
    "print(\"All test cases passed successfully\")"
   ]
  },
  {
   "cell_type": "markdown",
   "id": "80bb2401",
   "metadata": {},
   "source": [
    "# Question 3"
   ]
  },
  {
   "cell_type": "code",
   "execution_count": 63,
   "id": "22fd9865",
   "metadata": {},
   "outputs": [
    {
     "name": "stdout",
     "output_type": "stream",
     "text": [
      "All test cases passed successfully\n"
     ]
    }
   ],
   "source": [
    "def divide(dividend=1, divisor=1):    \n",
    "    if type(dividend) != int or type(divisor) != int:\n",
    "        raise TypeError(\"Only inputs of type `int` allowed\")\n",
    "        \n",
    "    quotient = 0\n",
    "    \n",
    "    dividend_abs = csc121_abs(dividend)\n",
    "    divisor_abs  = csc121_abs(divisor)\n",
    "    \n",
    "    while dividend_abs >= divisor_abs:\n",
    "        dividend_abs = dividend_abs - divisor_abs\n",
    "        quotient = quotient + 1\n",
    "        \n",
    "    if (dividend < 0 and divisor >= 0) or (dividend >= 0 and divisor < 0):\n",
    "        quotient = 0 - quotient\n",
    "        \n",
    "    return quotient\n",
    "\n",
    "\n",
    "assert divide(2, 2)    ==  1,  \"Test case 1 failed\"\n",
    "assert divide(2, -2)   == -1,  \"Test case 2 failed\"\n",
    "assert divide(-2, 2)   == -1,  \"Test case 3 failed\"\n",
    "assert divide(-2, -2)  ==  1,  \"Test case 4 failed\"\n",
    "assert divide()        ==  1,  \"Test case 5 failed\"\n",
    "assert divide(4)       ==  4,  \"Test case 6 failed\"\n",
    "assert divide(3, 2)    ==  1,  \"Test case 7 failed\"\n",
    "\n",
    "print(\"All test cases passed successfully\")"
   ]
  },
  {
   "cell_type": "markdown",
   "id": "c1cad6af",
   "metadata": {},
   "source": [
    "# Question 4"
   ]
  },
  {
   "cell_type": "code",
   "execution_count": 66,
   "id": "83a25bd4",
   "metadata": {},
   "outputs": [],
   "source": [
    "def convert_to_celsius(fahrenheit):\n",
    "    \n",
    "    fractional = divide(5, 9)\n",
    "    celsius = multiply(fractional, fahrenheit - 32)\n",
    "    return celsius"
   ]
  },
  {
   "cell_type": "markdown",
   "id": "778add16",
   "metadata": {},
   "source": [
    "# Question 5"
   ]
  },
  {
   "cell_type": "code",
   "execution_count": 56,
   "id": "8c130e8a",
   "metadata": {},
   "outputs": [],
   "source": [
    "def avg_of_factorials(n):\n",
    "    \n",
    "    sum_of_factorials = 0\n",
    "    i = 1\n",
    "    while i <= n:\n",
    "        i_factorial = 1\n",
    "        \n",
    "        j = 1\n",
    "        while j <= i:\n",
    "            i_factorial = i_factorial * j\n",
    "            j = j + 1\n",
    "        \n",
    "        sum_of_factorials = sum_of_factorials + i_factorial\n",
    "        i = i + 1\n",
    "        \n",
    "    avg_of_factorials = sum_of_factorials / n\n",
    "    return avg_of_factorials"
   ]
  }
 ],
 "metadata": {
  "kernelspec": {
   "display_name": "Python 3 (ipykernel)",
   "language": "python",
   "name": "python3"
  },
  "language_info": {
   "codemirror_mode": {
    "name": "ipython",
    "version": 3
   },
   "file_extension": ".py",
   "mimetype": "text/x-python",
   "name": "python",
   "nbconvert_exporter": "python",
   "pygments_lexer": "ipython3",
   "version": "3.9.12"
  }
 },
 "nbformat": 4,
 "nbformat_minor": 5
}
