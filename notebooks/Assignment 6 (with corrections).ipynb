{
 "cells": [
  {
   "cell_type": "code",
   "execution_count": 187,
   "id": "03616fff",
   "metadata": {},
   "outputs": [],
   "source": [
    "!jt -t monokai"
   ]
  },
  {
   "cell_type": "markdown",
   "id": "9abc038a",
   "metadata": {},
   "source": [
    "Test"
   ]
  },
  {
   "cell_type": "markdown",
   "id": "6c0af5b0",
   "metadata": {},
   "source": [
    "# Question 0. Generating Random Lists"
   ]
  },
  {
   "cell_type": "markdown",
   "id": "a0d8ec6f",
   "metadata": {},
   "source": [
    "**0.a.** Write a **detailed docstring** for `generate_random_list` function below, documenting: \n",
    "* Input(s), with default values\n",
    "* Output(s)\n",
    "* One line summary\n",
    "* Detailed summary\n",
    "\n",
    "**0.b.** Write an in-line comment (ones starting with `#`) **for each line** of the `generate_random_list` function\n",
    "\n",
    "_Note: `generate_random_list` is used to test your implementations of all functions that follow_\n"
   ]
  },
  {
   "cell_type": "code",
   "execution_count": null,
   "id": "42409830",
   "metadata": {},
   "outputs": [],
   "source": [
    "from random import randint\n",
    "\n",
    "def generate_random_list(min_val=-999, max_val=999):\n",
    "    rand_len  = randint(1, 10)\n",
    "    rand_list = []\n",
    "    i = 0\n",
    "    while i < rand_len:\n",
    "        rand_list.append(randint(min_val, max_val))\n",
    "        i = i + 1\n",
    "    return rand_list"
   ]
  },
  {
   "cell_type": "markdown",
   "id": "0f363550",
   "metadata": {},
   "source": [
    "<hr />\n",
    "\n",
    "# Question 1. Create List"
   ]
  },
  {
   "cell_type": "markdown",
   "id": "f93a255e",
   "metadata": {},
   "source": [
    "Write a function `csc121_range` that accepts as input an integer `n` and **returns a list of length `n` with item value $i$ at $i^{th}$ index**. For example, \n",
    "\n",
    "`n=4` should return `[0, 1, 2, 3]`\n",
    "\n",
    "`n=0` should return `[]`\n",
    "\n",
    "`n=1` should return `[0]`\n",
    "\n"
   ]
  },
  {
   "cell_type": "code",
   "execution_count": null,
   "id": "5401a78e",
   "metadata": {},
   "outputs": [],
   "source": [
    "def csc121_range(n):\n",
    "    \n",
    "    return new_list"
   ]
  },
  {
   "cell_type": "markdown",
   "id": "cdfa6fd6",
   "metadata": {},
   "source": [
    "### Test Suite 1:"
   ]
  },
  {
   "cell_type": "code",
   "execution_count": null,
   "id": "ed4d4178",
   "metadata": {},
   "outputs": [],
   "source": [
    "\"\"\" Test suite \"\"\"\n",
    "\n",
    "test_cases = 100\n",
    "i = 0\n",
    "while i < test_cases:\n",
    "    \n",
    "    rand_num        = randint(0, 999)\n",
    "    your_output     = csc121_range(rand_num) \n",
    "    expected_output = list(range(rand_num))\n",
    "    \n",
    "    assert your_output == expected_output, \\\n",
    "        \"Test case %s failed for input: %s \\n\" % (i, rand_num)+ \\\n",
    "        \"Your output: %s. Expected output: %s\" %\\\n",
    "        (your_output, expected_output)\n",
    "    \n",
    "    i = i + 1\n",
    "\n",
    "print(\"All test cases passed successfully\")"
   ]
  },
  {
   "cell_type": "markdown",
   "id": "fef50443",
   "metadata": {},
   "source": [
    "<hr/>\n",
    "\n",
    "# Question 2.  Find Minimum Value\n",
    "\n",
    "Write a function `csc121_min` that accepts as input a list of integers or floats and return the list item with the **minimum** value. \n",
    "\n",
    "Raise a `TypeError` is anything other than a list is passed. Raise a `ValueError` if an empty list is passed. \n"
   ]
  },
  {
   "cell_type": "code",
   "execution_count": null,
   "id": "49d6c3cf",
   "metadata": {},
   "outputs": [],
   "source": [
    "\"\"\" Implementation \"\"\"\n",
    "\n",
    "def csc121_min(numbers):\n",
    "    \n",
    "    return min_num"
   ]
  },
  {
   "cell_type": "markdown",
   "id": "17bd4d00",
   "metadata": {},
   "source": [
    "### Test Suite 2:"
   ]
  },
  {
   "cell_type": "code",
   "execution_count": null,
   "id": "96ec2203",
   "metadata": {},
   "outputs": [],
   "source": [
    "\"\"\" Test suite \"\"\"\n",
    "\n",
    "test_cases = 100\n",
    "i = 0\n",
    "while i < test_cases:\n",
    "    \n",
    "    test_list       = generate_random_list()\n",
    "    your_output     = csc121_min(test_list)\n",
    "    expected_output = min(test_list)\n",
    "    \n",
    "    assert your_output == expected_output, \\\n",
    "        \"Test case %s failed for input: %s \\n\" % (i, test_list)+ \\\n",
    "        \"Your implementation returned: %s. Expected output: %s\" %\\\n",
    "        (your_output, expected_output)\n",
    "    \n",
    "    i = i + 1\n",
    "\n",
    "print(\"All test cases passed successfully\")"
   ]
  },
  {
   "cell_type": "markdown",
   "id": "74d9debe",
   "metadata": {},
   "source": [
    "<hr />\n",
    "\n",
    "# Question 3.  Find Maximum Value\n",
    "\n",
    "\n",
    "Write a function `csc121_max` that accepts as input a list of integers or floats and return the list item with the **maximum** value. \n",
    "\n",
    "Raise a `TypeError` is anything other than a list is passed. Raise a `ValueError` if an empty list is passed. \n"
   ]
  },
  {
   "cell_type": "code",
   "execution_count": null,
   "id": "07e1d70e",
   "metadata": {},
   "outputs": [],
   "source": [
    "def csc121_max(numbers):\n",
    "    \n",
    "    \n",
    "    \n",
    "    return max_num"
   ]
  },
  {
   "cell_type": "markdown",
   "id": "ec7f5f1d",
   "metadata": {},
   "source": [
    "### Test Suite 3:"
   ]
  },
  {
   "cell_type": "code",
   "execution_count": null,
   "id": "b5641f36",
   "metadata": {},
   "outputs": [],
   "source": [
    "\"\"\" Test suite \"\"\"\n",
    "\n",
    "test_cases = 100\n",
    "i = 0\n",
    "while i < test_cases:\n",
    "    \n",
    "    test_list       = generate_random_list()\n",
    "    your_output     = csc121_max(test_list)\n",
    "    expected_output = max(test_list)\n",
    "    \n",
    "    assert your_output == expected_output, \\\n",
    "        \"Test case %s failed for input: %s \\n\" % (i, test_list)+ \\\n",
    "        \"Your implementation returned: %s. Expected output: %s\" %\\\n",
    "        (your_output, expected_output)\n",
    "    \n",
    "    i = i + 1\n",
    "\n",
    "print(\"All test cases passed successfully\")"
   ]
  },
  {
   "cell_type": "markdown",
   "id": "12620755",
   "metadata": {},
   "source": [
    "<hr />\n",
    "\n",
    "# Question 4. Find Index of Minimum Value\n",
    "\n",
    "Write a function `find_min` that accepts as input a list of integers and returns the **index** of the list item with the **maximum** value. \n",
    "\n",
    "Raise a `TypeError` is anything other than a list is passed. Raise a `ValueError` if an empty list is passed. \n"
   ]
  },
  {
   "cell_type": "code",
   "execution_count": null,
   "id": "40f0c9e6",
   "metadata": {},
   "outputs": [],
   "source": [
    "def find_min(numbers):\n",
    "    \n",
    "    \n",
    "    return min_index"
   ]
  },
  {
   "cell_type": "markdown",
   "id": "4d717d7b",
   "metadata": {},
   "source": [
    "### Test Suite 4:"
   ]
  },
  {
   "cell_type": "code",
   "execution_count": null,
   "id": "9b20b244",
   "metadata": {},
   "outputs": [],
   "source": [
    "\"\"\" Test suite \"\"\"\n",
    "\n",
    "test_cases = 100\n",
    "i = 0\n",
    "while i < test_cases:\n",
    "    \n",
    "    test_list       = generate_random_list()\n",
    "    your_output     = find_min(test_list)\n",
    "    expected_output = test_list.index(min(test_list))\n",
    "    \n",
    "    assert your_output == expected_output, \\\n",
    "        \"Test case %s failed for input: %s \\n\" % (i, test_list)+ \\\n",
    "        \"Your implementation returned: %s. Expected output: %s\" %\\\n",
    "        (your_output, expected_output)\n",
    "    \n",
    "    i = i + 1\n",
    "\n",
    "print(\"All test cases passed successfully\")"
   ]
  },
  {
   "cell_type": "markdown",
   "id": "61901176",
   "metadata": {},
   "source": [
    "<hr />\n",
    "\n",
    "# Question 5. Find Index of Maximum Value\n",
    "\n",
    "Write a function `find_max` that accepts as input a list of integers returns the **index** of the list item with the **maximum** value. \n",
    "\n",
    "Raise a `TypeError` is anything other than a list is passed. Raise a `ValueError` if an empty list is passed. \n"
   ]
  },
  {
   "cell_type": "code",
   "execution_count": null,
   "id": "c232c4b8",
   "metadata": {},
   "outputs": [],
   "source": [
    "def find_max(numbers):    \n",
    "    \n",
    "    \n",
    "    return max_index"
   ]
  },
  {
   "cell_type": "markdown",
   "id": "4d6fd042",
   "metadata": {},
   "source": [
    "### Test Suite 5:"
   ]
  },
  {
   "cell_type": "code",
   "execution_count": null,
   "id": "e6cd108b",
   "metadata": {},
   "outputs": [],
   "source": [
    "\"\"\" Test suite \"\"\"\n",
    "\n",
    "test_cases = 100\n",
    "i = 0\n",
    "while i < test_cases:\n",
    "    \n",
    "    test_list       = generate_random_list()\n",
    "    your_output     = find_max(test_list)\n",
    "    expected_output = test_list.index(max(test_list))\n",
    "    \n",
    "    assert your_output == expected_output, \\\n",
    "        \"Test case %s failed for input: %s \\n\" % (i, test_list)+ \\\n",
    "        \"Your implementation returned: %s. Expected output: %s\" %\\\n",
    "        (your_output, expected_output)\n",
    "    \n",
    "    i = i + 1\n",
    "\n",
    "print(\"All test cases passed successfully\")"
   ]
  },
  {
   "cell_type": "markdown",
   "id": "390f4b31",
   "metadata": {},
   "source": [
    "<hr />\n",
    "\n",
    "# Question 6.  Find Mean\n",
    "\n",
    "Write a function `csc121_mean` that accepts as input a list of integers or floats and return the list item with the **mean** value. \n",
    "\n",
    "$ Mean =  \\frac{ \\sum_{i=0}^{len(list)-1} list[i] } {length(list)}$ \n",
    "\n",
    "Raise a `TypeError` is anything other than a list is passed. Raise a `ValueError` if an empty list is passed. "
   ]
  },
  {
   "cell_type": "code",
   "execution_count": null,
   "id": "ab3ea7bb",
   "metadata": {},
   "outputs": [],
   "source": [
    "def csc121_mean(numbers):\n",
    "    \n",
    "    \n",
    "    return mean"
   ]
  },
  {
   "cell_type": "markdown",
   "id": "acc5b2de",
   "metadata": {},
   "source": [
    "### Test Suite 6:"
   ]
  },
  {
   "cell_type": "code",
   "execution_count": null,
   "id": "d4358db7",
   "metadata": {},
   "outputs": [],
   "source": [
    "test_cases = 100\n",
    "i = 0\n",
    "while i < test_cases:\n",
    "    \n",
    "    test_list       = generate_random_list()\n",
    "    your_output     = csc121_mean(test_list)\n",
    "    expected_output = sum(test_list)/len(test_list)\n",
    "    \n",
    "    assert your_output == expected_output, \\\n",
    "        \"Test case %s failed for input: %s \\n\" % (i, test_list)+ \\\n",
    "        \"Your implementation returned: %s. Expected output: %s\" %\\\n",
    "        (your_output, expected_output)\n",
    "    \n",
    "    i = i + 1\n",
    "\n",
    "print(\"All test cases passed successfully\")"
   ]
  },
  {
   "cell_type": "markdown",
   "id": "9f4afe8c",
   "metadata": {},
   "source": [
    "<hr />\n",
    "\n",
    "# Question 7. Find First Occurrence\n",
    "\n",
    "Write a function `csc121_find` that accepts as Input(s):\n",
    "\n",
    "i) a list `numbers` \n",
    "\n",
    "ii) an integer `val` \n",
    "\n",
    "and returns the **index of the first occurrence** of `val` in the list `numbers`. \n",
    "\n",
    "Raise a `ValueError` if `val` is not in `numbers`"
   ]
  },
  {
   "cell_type": "code",
   "execution_count": null,
   "id": "e2683f25",
   "metadata": {},
   "outputs": [],
   "source": [
    "def csc121_find(numbers, val):\n",
    "    \n",
    "    \n",
    "    return idx"
   ]
  },
  {
   "cell_type": "markdown",
   "id": "5c845cfc",
   "metadata": {},
   "source": [
    "### Test Suite 7:"
   ]
  },
  {
   "cell_type": "code",
   "execution_count": null,
   "id": "d3c4cefb",
   "metadata": {},
   "outputs": [],
   "source": [
    "test_cases = 100\n",
    "i = 0\n",
    "while i < test_cases:\n",
    "    \n",
    "    test_list       = generate_random_list()\n",
    "    test_val        = test_list[randint(0, len(test_list)-1)]\n",
    "    your_output     = csc121_find(test_list, test_val)\n",
    "    expected_output = test_list.index(test_val)\n",
    "    \n",
    "    assert your_output == expected_output, \\\n",
    "        \"Test case %s failed for input: %s, %s \\n\" % (i, test_list, test_val)+ \\\n",
    "        \"Your implementation returned: %s. Expected output: %s\" %\\\n",
    "        (your_output, expected_output)\n",
    "    \n",
    "    i = i + 1\n",
    "\n",
    "print(\"All test cases passed successfully\")"
   ]
  },
  {
   "cell_type": "markdown",
   "id": "4d746d04",
   "metadata": {},
   "source": [
    "<hr />\n",
    "\n",
    "# Question 8. Count Occurrences\n",
    "\n",
    "Write a function `csc121_count` that accepts as Input(s):\n",
    "\n",
    "i) a list `numbers` \n",
    "\n",
    "ii) an integer `val` \n",
    "\n",
    "and returns the **count of occurrences** of `val` in the list `numbers`. \n",
    "\n",
    "Raise a `ValueError` if `val` is not in `numbers`"
   ]
  },
  {
   "cell_type": "code",
   "execution_count": null,
   "id": "2905c395",
   "metadata": {},
   "outputs": [],
   "source": [
    "def csc121_count(numbers, val):\n",
    "    \n",
    "    \n",
    "    return occurences"
   ]
  },
  {
   "cell_type": "markdown",
   "id": "74451682",
   "metadata": {},
   "source": [
    "### Test Suite 8:"
   ]
  },
  {
   "cell_type": "code",
   "execution_count": null,
   "id": "25bb9358",
   "metadata": {},
   "outputs": [],
   "source": [
    "\"\"\" Test suite \"\"\"\n",
    "\n",
    "test_cases = 100\n",
    "i = 0\n",
    "while i < test_cases:\n",
    "    \n",
    "    test_list       = generate_random_list()\n",
    "    test_val        = test_list[randint(0, len(test_list)-1)]\n",
    "    your_output     = csc121_count(test_list, test_val)\n",
    "    expected_output = test_list.count(test_val)\n",
    "    \n",
    "    assert your_output == expected_output, \\\n",
    "        \"Test case %s failed for inputs: %s, %s\\n\" % (i, test_list, test_val)+ \\\n",
    "        \"Your implementation returned: %s. Expected output: %s\" %\\\n",
    "        (your_output, expected_output)\n",
    "    \n",
    "    i = i + 1\n",
    "\n",
    "print(\"All test cases passed successfully\")"
   ]
  },
  {
   "cell_type": "markdown",
   "id": "b7735835",
   "metadata": {},
   "source": [
    "<hr />\n",
    "\n",
    "# Question 9. Sort Ascending \n",
    "\n",
    "Write a function `sort_ascending` that accepts as input a list of numbers `numbers` and **returns a new list** which has the values from `numbers` sorted in **ascending order**. \n",
    "\n",
    "Example: `numbers = [4, 1, 3, 2]` returns `[1, 2, 3, 4]`\n",
    "\n",
    "_**Hint: use `csc121_min`**_"
   ]
  },
  {
   "cell_type": "code",
   "execution_count": null,
   "id": "808110bc",
   "metadata": {},
   "outputs": [],
   "source": [
    "def sort_ascending(numbers):\n",
    "    \n",
    "    \n",
    "    return new_list"
   ]
  },
  {
   "cell_type": "markdown",
   "id": "8b035e17",
   "metadata": {},
   "source": [
    "### Test Suite 9:"
   ]
  },
  {
   "cell_type": "code",
   "execution_count": null,
   "id": "320f7972",
   "metadata": {},
   "outputs": [],
   "source": [
    "\"\"\" Test suite \"\"\"\n",
    "\n",
    "test_cases = 100\n",
    "i = 0\n",
    "while i < test_cases:\n",
    "    \n",
    "    test_list       = generate_random_list()\n",
    "    your_output     = sort_ascending(test_list.copy())\n",
    "    expected_output = sorted(test_list)\n",
    "    assert your_output == expected_output, \\\n",
    "        \"Test case %s failed for inputs: %s\\n\" % (i, test_list)+ \\\n",
    "        \"Your implementation returned: %s. Expected output: %s\" %\\\n",
    "        (your_output, expected_output)\n",
    "    \n",
    "    i = i + 1\n",
    "\n",
    "print(\"All test cases passed successfully\")"
   ]
  },
  {
   "cell_type": "markdown",
   "id": "fb3e8f96",
   "metadata": {},
   "source": [
    "<hr />\n",
    "\n",
    "# Question 10. Sort Descending \n",
    "\n",
    "Write a function `sort_descending` that accepts as input a list of numbers `numbers` and **returns a new list** which has the values from `numbers` sorted in **descending order**. \n",
    "\n",
    "Example: `numbers = [4, 1, 3, 2]` returns `[4, 3, 2, 1]`\n",
    "\n",
    "_**Hint: use `csc121_max`**_"
   ]
  },
  {
   "cell_type": "code",
   "execution_count": null,
   "id": "dad6683f",
   "metadata": {},
   "outputs": [],
   "source": [
    "def sort_descending(numbers):\n",
    "    \n",
    "        \n",
    "    return new_list"
   ]
  },
  {
   "cell_type": "markdown",
   "id": "d9cfd4a6",
   "metadata": {},
   "source": [
    "### Test Suite 10:"
   ]
  },
  {
   "cell_type": "code",
   "execution_count": null,
   "id": "c06bff30",
   "metadata": {},
   "outputs": [],
   "source": [
    "test_cases = 100\n",
    "i = 0\n",
    "while i < test_cases:\n",
    "    \n",
    "    test_list       = generate_random_list()\n",
    "    your_output     = sort_descending(test_list.copy())\n",
    "    expected_output = sorted(test_list, reverse=True)\n",
    "    \n",
    "    assert your_output == expected_output, \\\n",
    "        \"Test case %s failed for inputs: %s\\n\" % (i, test_list)+ \\\n",
    "        \"Your implementation returned: %s. Expected output: %s\" %\\\n",
    "        (your_output, expected_output)\n",
    "    \n",
    "    i = i + 1\n",
    "\n",
    "print(\"All test cases passed successfully\")"
   ]
  },
  {
   "cell_type": "markdown",
   "id": "6fbc479b",
   "metadata": {},
   "source": [
    "<hr />\n",
    "\n",
    "# Question 11. Reversing a List\n",
    "\n",
    "Write a function `csc121_reverse` that accepts as input a list of numbers `numbers` and **returns a new list** which has the values from `numbers` reversed. \n",
    "\n",
    "Example: `numbers = [4, 1, 3, 2]` returns `[2, 3, 1, 4]`"
   ]
  },
  {
   "cell_type": "code",
   "execution_count": null,
   "id": "42d75adc",
   "metadata": {},
   "outputs": [],
   "source": [
    "def csc121_reverse(numbers):\n",
    "    \n",
    "    \n",
    "    return new_list"
   ]
  },
  {
   "cell_type": "markdown",
   "id": "5da167d5",
   "metadata": {},
   "source": [
    "### Test Suite 11:"
   ]
  },
  {
   "cell_type": "code",
   "execution_count": null,
   "id": "74d3bdbf",
   "metadata": {},
   "outputs": [],
   "source": [
    "test_cases = 100\n",
    "i = 0\n",
    "while i < test_cases:\n",
    "    \n",
    "    test_list       = generate_random_list()\n",
    "    your_output     = csc121_reverse(test_list)\n",
    "    test_list.reverse()\n",
    "    expected_output = test_list\n",
    "    \n",
    "    assert your_output == expected_output, \\\n",
    "        \"Test case %s failed for inputs: %s\\n\" % (i, test_list)+ \\\n",
    "        \"Your implementation returned: %s. Expected output: %s\" %\\\n",
    "        (your_output, expected_output)\n",
    "    \n",
    "    i = i + 1\n",
    "\n",
    "print(\"All test cases passed successfully\")"
   ]
  },
  {
   "cell_type": "markdown",
   "id": "0968cd5a",
   "metadata": {},
   "source": [
    "<hr />\n",
    "\n",
    "# Question 12. Multiply List\n",
    "\n",
    "Write a function `csc121_multiply` that accepts as Input(s):\n",
    "\n",
    "i) a list of numbers `numbers`\n",
    "\n",
    "ii) an integer `val`\n",
    "\n",
    "and **returns a new list** which has the values from `numbers` repeated `val` times. \n",
    "\n",
    "Example: `csc121_multiply([4, 1, 3, 2], 3)` returns `[4,1,3,2,  4,1,3,2,  4,1,3,2]`\n",
    "\n",
    "When `val < 1`, empty list should be returned. "
   ]
  },
  {
   "cell_type": "code",
   "execution_count": null,
   "id": "8f1dea2a",
   "metadata": {},
   "outputs": [],
   "source": [
    "def csc121_multiply(numbers, val):\n",
    "    \n",
    "    \n",
    "    return new_list"
   ]
  },
  {
   "cell_type": "markdown",
   "id": "dfbfc8a5",
   "metadata": {},
   "source": [
    "### Test Suite 12:"
   ]
  },
  {
   "cell_type": "code",
   "execution_count": null,
   "id": "42ecc03d",
   "metadata": {},
   "outputs": [],
   "source": [
    "test_cases = 100\n",
    "i = 0\n",
    "while i < test_cases:\n",
    "    \n",
    "    test_list       = generate_random_list()\n",
    "    test_val        = randint(-99, 99)\n",
    "    your_output     = csc121_multiply(test_list, test_val)\n",
    "    expected_output = test_list*test_val\n",
    "    \n",
    "    assert your_output == expected_output, \\\n",
    "        \"Test case %s failed for inputs: %s, %s\\n\" % (i, test_list, test_val)+ \\\n",
    "        \"Your implementation returned: %s. Expected output: %s\" %\\\n",
    "        (your_output, expected_output)\n",
    "    \n",
    "    i = i + 1\n",
    "\n",
    "print(\"All test cases passed successfully\")"
   ]
  }
 ],
 "metadata": {
  "kernelspec": {
   "display_name": "Python 3 (ipykernel)",
   "language": "python",
   "name": "python3"
  },
  "language_info": {
   "codemirror_mode": {
    "name": "ipython",
    "version": 3
   },
   "file_extension": ".py",
   "mimetype": "text/x-python",
   "name": "python",
   "nbconvert_exporter": "python",
   "pygments_lexer": "ipython3",
   "version": "3.9.12"
  }
 },
 "nbformat": 4,
 "nbformat_minor": 5
}
