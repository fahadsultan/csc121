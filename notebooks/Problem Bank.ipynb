{
 "cells": [
  {
   "cell_type": "markdown",
   "id": "4d29334f",
   "metadata": {},
   "source": [
    "# Question. Median\n",
    "\n",
    "Median is the value in the **middle** of a **sorted** data set, meaning that \n",
    "\n",
    "* 50% of data points have a value smaller or equal to the median _and_\n",
    "* 50% of data points have a value higher  or equal to the median\n",
    "\n",
    "Implement a function `get_median` that accepts as input a sorted list of integers and returns the median of the list. \n",
    "\n",
    "If the input list is of odd length, return the middle element of the list. \\\n",
    "For example, for `listt = [1, 2, 3, 4, 5]` the function should return `3` \n",
    "\n",
    "If the input list is of **even length**, return the simple **average** of the **middle two elements**. \\\n",
    "For example, for `listt = [1, 2, 3, 4]`,   the function should return `2.5` (from `(2+3)/2`)\n"
   ]
  },
  {
   "cell_type": "code",
   "execution_count": 23,
   "id": "6455947e",
   "metadata": {},
   "outputs": [],
   "source": [
    "def find_median(listt):\n",
    "    \n",
    "    if len(listt) % 2 != 0:\n",
    "        median_idx = int(len(listt)/2)\n",
    "        median = listt[median_idx]\n",
    "    else:\n",
    "        median_idx1 = int((len(listt)-1)/2)\n",
    "        median_idx2 = int((len(listt)/2))\n",
    "        \n",
    "        median = (listt[median_idx1]+listt[median_idx2])/2\n",
    "        \n",
    "    return median"
   ]
  },
  {
   "cell_type": "code",
   "execution_count": 79,
   "id": "4772c543",
   "metadata": {},
   "outputs": [
    {
     "name": "stdout",
     "output_type": "stream",
     "text": [
      "All test cases passed successfully\n"
     ]
    }
   ],
   "source": [
    "assert find_median([1, 2, 3, 4, 5]) == 3,   \"Test case 1 failed\"\n",
    "assert find_median([1, 2, 3, 4])    == 2.5, \"Test case 2 failed\"\n",
    "assert find_median([1])             == 1,   \"Test case 3 failed\"\n",
    "assert find_median([2, 2])          == 2,   \"Test case 4 failed\"\n",
    "assert find_median([1/2, 1/2])      == 0.5, \"Test case 5 failed\"\n",
    "\n",
    "print(\"All test cases passed successfully\")"
   ]
  },
  {
   "cell_type": "markdown",
   "id": "c5c73c17",
   "metadata": {},
   "source": [
    "# Question 2. Find Transpose\n",
    "\n",
    "Implement a function `find_transpose` that accepts as input a matrix (list of lists) and returns the transpose. \n",
    "\n",
    "For example, for `matrix =\n",
    "    [[1, 2, 3],\n",
    "     [4, 5, 6],\n",
    "     [7, 8, 9]]` \n",
    "                          \n",
    "the function returns `transpose = \n",
    "   [[1, 4, 7],\n",
    "    [2, 5, 8],\n",
    "    [3, 6, 9]]`"
   ]
  },
  {
   "cell_type": "code",
   "execution_count": 149,
   "id": "c75bb78b",
   "metadata": {},
   "outputs": [],
   "source": [
    "def find_transpose(matrix):\n",
    "    transpose = []\n",
    "\n",
    "    n_rows = len(matrix)\n",
    "    n_cols = len(matrix[0])\n",
    "    \n",
    "    i = 0\n",
    "    while i < n_cols:\n",
    "        \n",
    "        new_row = []\n",
    "        \n",
    "        j = 0        \n",
    "        while j < n_rows:\n",
    "            new_row.append(matrix[j][i])\n",
    "            j = j + 1\n",
    "        \n",
    "        transpose.append(new_row)\n",
    "        \n",
    "        i = i + 1\n",
    "        \n",
    "    return transpose"
   ]
  },
  {
   "cell_type": "code",
   "execution_count": 150,
   "id": "7d1e9761",
   "metadata": {},
   "outputs": [],
   "source": [
    "assert find_transpose([[1, 2, 3],[4, 5, 6],[7, 8, 9]])== [[1, 4, 7],[2, 5, 8],[3, 6, 9]], \"Test case 1 failed\"\n",
    "assert find_transpose([[1, 2, 3],[4, 5, 6]])          == [[1, 4],[2, 5],[3, 6]],          \"Test case 2 failed\"\n",
    "assert find_transpose([[1, 2, 3]])                    == [[1], [2], [3]],                 \"Test case 3 failed\"\n",
    "assert find_transpose([[1],[2],[3]])                  == [[1, 2, 3]],                     \"Test case 4 failed\"\n",
    "assert find_transpose([[1]])                          == [[1]],                           \"Test case 5 failed\""
   ]
  },
  {
   "cell_type": "markdown",
   "id": "b22332f5",
   "metadata": {},
   "source": [
    "# Question. Count Occurrences"
   ]
  },
  {
   "cell_type": "markdown",
   "id": "a5c33149",
   "metadata": {},
   "source": [
    "Implement a function `count_occurences` that accepts as input two strings: `string` and `substr` and returns  the count of all occurrences of `substr` in `string`. \n",
    "\n",
    "For example, `string=\"ba ba black sheep\"` and `substr=\"ba\"` returns `2`"
   ]
  },
  {
   "cell_type": "code",
   "execution_count": 140,
   "id": "39a4fc8d",
   "metadata": {},
   "outputs": [],
   "source": [
    "def find_all_occurences(string, substr):\n",
    "    i = 0\n",
    "    \n",
    "    occurrences = 0\n",
    "    \n",
    "    while i < len(string):\n",
    "        \n",
    "        if string[i:i+len(substr)] == substr:\n",
    "            occurrences = occurrences + 1\n",
    "            \n",
    "        i = i + 1\n",
    "        \n",
    "    return occurrences"
   ]
  },
  {
   "cell_type": "code",
   "execution_count": 141,
   "id": "cddca7ae",
   "metadata": {},
   "outputs": [],
   "source": [
    "assert find_all_occurences(\"ba ba black sheep\",  \"ba\") == 2, \"Test case 1 failed\"\n",
    "assert find_all_occurences(\"to be or not to be\", \"be\") == 2, \"Test case 2 failed\"\n",
    "assert find_all_occurences(\"lady gaga\", \"ga\")          == 2, \"Test case 3 failed\"\n",
    "assert find_all_occurences(\"there there\", \"here\")      == 2, \"Test case 4 failed\"\n",
    "assert find_all_occurences(\"restaurant\", \"ant\")        == 1, \"Test case 5 failed\"\n",
    "assert find_all_occurences(\"furman\", \"ant\")            == 0, \"Test case 6 failed\""
   ]
  },
  {
   "cell_type": "markdown",
   "id": "c6d3c74b",
   "metadata": {},
   "source": [
    "# Question. Merge two Sorted Lists"
   ]
  },
  {
   "cell_type": "markdown",
   "id": "55ad28a8",
   "metadata": {},
   "source": [
    "Implement a function `merge_sorted` that accepts as input two lists of equal length `a` and `b` such that `len(a) == len(b)` and  both sorted in ascending order and merges the two such that the merged list is also sorted. "
   ]
  },
  {
   "cell_type": "code",
   "execution_count": 129,
   "id": "e3437d49",
   "metadata": {},
   "outputs": [],
   "source": [
    "def merge_sort(a, b):\n",
    "\n",
    "    merged_list = []\n",
    "    \n",
    "    i = 0\n",
    "    j = 0\n",
    "    while (i < len(a)) and (j < len(b)):\n",
    "        if a[i] <= b[j]:\n",
    "            merged_list.append(a[i])\n",
    "            i = i + 1\n",
    "        else:\n",
    "            merged_list.append(b[j])\n",
    "            j = j + 1\n",
    "            \n",
    "    while i < len(a):\n",
    "        merged_list.append(a[i])\n",
    "        i = i + 1\n",
    "        \n",
    "    while j < len(b):\n",
    "        merged_list.append(b[j])\n",
    "        j = j + 1\n",
    "        \n",
    "    return merged_list"
   ]
  },
  {
   "cell_type": "code",
   "execution_count": 128,
   "id": "68900931",
   "metadata": {},
   "outputs": [],
   "source": [
    "assert merge_sort([1, 3, 5], [2, 4, 6]) == [1, 2, 3, 4, 5, 6], \"Test case 1 failed\"\n",
    "assert merge_sort([1, 2, 3], [4, 5, 6]) == [1, 2, 3, 4, 5, 6], \"Test case 2 failed\"\n",
    "assert merge_sort([4, 5, 6], [1, 2, 3]) == [1, 2, 3, 4, 5, 6], \"Test case 3 failed\"\n",
    "assert merge_sort([], []) == [],                               \"Test case 4 failed\"\n",
    "assert merge_sort([2], [1]) == [1, 2],                         \"Test case 5 failed\""
   ]
  },
  {
   "cell_type": "code",
   "execution_count": 97,
   "id": "60100f62",
   "metadata": {},
   "outputs": [],
   "source": [
    "a = \"abc\""
   ]
  },
  {
   "cell_type": "markdown",
   "id": "91a936a3",
   "metadata": {},
   "source": [
    "# Question \n",
    "\n",
    "The following function `repeat_n` takes as input a string `text` and returns a string with each character repeated `n` times. "
   ]
  },
  {
   "cell_type": "code",
   "execution_count": 146,
   "id": "15b4fbd1",
   "metadata": {},
   "outputs": [],
   "source": [
    "def repeat_n(text, n):\n",
    "    result = \"\"\n",
    "    i = 0\n",
    "    j = 0 \n",
    "    while i < len(text):\n",
    "        while j < n:\n",
    "            result = result + text[i]\n",
    "        j = j + 1\n",
    "    i = i + 1\n",
    "    return result"
   ]
  },
  {
   "cell_type": "code",
   "execution_count": 147,
   "id": "2cbdb3ae",
   "metadata": {},
   "outputs": [
    {
     "data": {
      "text/plain": [
       "'aaa'"
      ]
     },
     "execution_count": 147,
     "metadata": {},
     "output_type": "execute_result"
    }
   ],
   "source": [
    "repeat_n(\"abc\", 3)"
   ]
  }
 ],
 "metadata": {
  "kernelspec": {
   "display_name": "Python 3 (ipykernel)",
   "language": "python",
   "name": "python3"
  },
  "language_info": {
   "codemirror_mode": {
    "name": "ipython",
    "version": 3
   },
   "file_extension": ".py",
   "mimetype": "text/x-python",
   "name": "python",
   "nbconvert_exporter": "python",
   "pygments_lexer": "ipython3",
   "version": "3.9.12"
  }
 },
 "nbformat": 4,
 "nbformat_minor": 5
}
