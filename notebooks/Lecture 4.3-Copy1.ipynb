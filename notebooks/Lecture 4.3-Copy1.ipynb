{
 "cells": [
  {
   "cell_type": "markdown",
   "id": "b223f44d",
   "metadata": {
    "slideshow": {
     "slide_type": "slide"
    }
   },
   "source": [
    "How do we access a function's documentation? "
   ]
  },
  {
   "cell_type": "code",
   "execution_count": 3,
   "id": "68a0834a",
   "metadata": {},
   "outputs": [],
   "source": [
    "print?"
   ]
  },
  {
   "cell_type": "markdown",
   "id": "b11959aa",
   "metadata": {
    "slideshow": {
     "slide_type": "slide"
    }
   },
   "source": [
    "# 4.3.1. Docstring"
   ]
  },
  {
   "cell_type": "markdown",
   "id": "f75696b8",
   "metadata": {
    "slideshow": {
     "slide_type": "-"
    }
   },
   "source": [
    "* Python documentation strings,  **docstrings** for short, provide a convenient way to provide documentation for Python functions. \n",
    "\n",
    "* Docstrings are **specified within the source code**, like a comment. \n",
    "\n",
    "* Unlike conventional source code comments, the docstring should describe **what the function does, not how**."
   ]
  },
  {
   "cell_type": "code",
   "execution_count": 5,
   "id": "95ba6c46",
   "metadata": {},
   "outputs": [],
   "source": [
    "func?"
   ]
  },
  {
   "cell_type": "code",
   "execution_count": 4,
   "id": "1f54145d",
   "metadata": {},
   "outputs": [],
   "source": [
    "def func(x):\n",
    "    \"\"\"Docstring goes here\n",
    "    \n",
    "    Function increments x by 1\n",
    "    \"\"\"\n",
    "    x = x + 1\n",
    "    return x"
   ]
  },
  {
   "cell_type": "markdown",
   "id": "197477aa",
   "metadata": {
    "slideshow": {
     "slide_type": "slide"
    }
   },
   "source": [
    "* Syntactically, docstrings are coded as strings **at the top of functions** (and class statements or module files), **before any other executable code** \n",
    "\n",
    " * The only thing allowed before docstrings in a function's body, after the header line, are comments starting with `#`. Try to avoid, if possible. \n",
    "\n",
    "\n",
    "* The docstrings are declared using **triple single quotes** `''' '''` or **triple double quotes** `\"\"\" \"\"\"` just below the function, class or method declaration.\n",
    "\n",
    "    * **In this course, docstrings are going to be used as specifications for expected behavior to implement**\n",
    "\n",
    "* Python automatically sets the text of docstings to the `__doc__` attribute of the corresponding function or object."
   ]
  },
  {
   "cell_type": "markdown",
   "id": "d36e93ec",
   "metadata": {
    "slideshow": {
     "slide_type": "slide"
    }
   },
   "source": [
    "You can access docstring of a function using: \n",
    "\n",
    "1. `__doc__`"
   ]
  },
  {
   "cell_type": "code",
   "execution_count": 6,
   "id": "0c9f647b",
   "metadata": {},
   "outputs": [
    {
     "name": "stdout",
     "output_type": "stream",
     "text": [
      "Docstring goes here\n",
      "    \n",
      "    Function increments x by 1\n",
      "    \n"
     ]
    }
   ],
   "source": [
    "print(func.__doc__)"
   ]
  },
  {
   "cell_type": "markdown",
   "id": "99187927",
   "metadata": {},
   "source": [
    "2. Built-in `help` function "
   ]
  },
  {
   "cell_type": "code",
   "execution_count": 7,
   "id": "1562df61",
   "metadata": {},
   "outputs": [
    {
     "name": "stdout",
     "output_type": "stream",
     "text": [
      "Help on function func in module __main__:\n",
      "\n",
      "func(x)\n",
      "    Docstring goes here\n",
      "    \n",
      "    Function increments x by 1\n",
      "\n"
     ]
    }
   ],
   "source": [
    "help(func)"
   ]
  },
  {
   "cell_type": "code",
   "execution_count": 9,
   "id": "59c78d98",
   "metadata": {},
   "outputs": [],
   "source": [
    "func?"
   ]
  },
  {
   "cell_type": "markdown",
   "id": "ca235b53",
   "metadata": {},
   "source": [
    "3. In a Jupyter environment, you can add `?` after function name and run cell "
   ]
  },
  {
   "cell_type": "markdown",
   "id": "9a7f99cc",
   "metadata": {
    "slideshow": {
     "slide_type": "slide"
    }
   },
   "source": [
    "* The entire docstring is **indented** at the level as the function's body.\n",
    "\n",
    "* Python's docstring processing will strip a uniform amount of indentation from the second and further lines of the docstring, equal to the minimum indentation of all non-blank lines after the first line.\n",
    "\n",
    "* Any indentation in the first line of the docstring (i.e., up to the first newline) is insignificant and removed. \n",
    "\n",
    "* Relative indentation of later lines in the docstring is retained."
   ]
  },
  {
   "cell_type": "markdown",
   "id": "41c50f94",
   "metadata": {
    "slideshow": {
     "slide_type": "slide"
    }
   },
   "source": [
    "* Full docstring should contain: \n",
    "    * Summary line\n",
    "    * Detailed paragraph\n",
    "    * All Paramaters/Arguments (inputs), each on a separate line\n",
    "    * Returns"
   ]
  },
  {
   "cell_type": "code",
   "execution_count": 130,
   "id": "324a51e0",
   "metadata": {
    "slideshow": {
     "slide_type": "-"
    }
   },
   "outputs": [],
   "source": [
    "def square(number): \n",
    "    \"\"\"<Summary sentence>\n",
    "    \n",
    "    <Small paragraph with details>\n",
    "    \n",
    "    Parameters:\n",
    "    input1 (input1 data type): One line on what the input expects\n",
    "    \n",
    "    Returns: \n",
    "    return variable (float): Squared number\n",
    "    \"\"\"\n",
    "    sqr = number ** 2\n",
    "    return sqr "
   ]
  },
  {
   "cell_type": "markdown",
   "id": "3f89acc9",
   "metadata": {
    "slideshow": {
     "slide_type": "slide"
    }
   },
   "source": [
    "Set docstring of `csc121_round` to docstring of built-in `round`"
   ]
  },
  {
   "cell_type": "code",
   "execution_count": 22,
   "id": "8e3727ce",
   "metadata": {},
   "outputs": [],
   "source": [
    "csc121_round?"
   ]
  },
  {
   "cell_type": "code",
   "execution_count": 21,
   "id": "f5356c08",
   "metadata": {
    "slideshow": {
     "slide_type": "-"
    }
   },
   "outputs": [],
   "source": [
    "def csc121_round(number):\n",
    "    \"\"\" Round a number to a given precision in decimal digits.\n",
    "\n",
    "    The return value is an integer if ndigits is omitted or None.  Otherwise\n",
    "    the return value has the same type as the number.  ndigits may be negative.\n",
    "    \"\"\"\n",
    "    fractional_part = number % 1\n",
    "    integer_part = number // 1    \n",
    "    to_ceil = fractional_part >= 0.5\n",
    "    rounded = integer_part + to_ceil\n",
    "        \n",
    "    return rounded"
   ]
  },
  {
   "cell_type": "markdown",
   "id": "142315dd",
   "metadata": {
    "slideshow": {
     "slide_type": "slide"
    }
   },
   "source": [
    "# 4.3.2. `assert`"
   ]
  },
  {
   "cell_type": "markdown",
   "id": "c6dc9f8d",
   "metadata": {
    "slideshow": {
     "slide_type": "-"
    }
   },
   "source": [
    "* `assert` checks if a boolean condition is True or False. \n",
    "\n",
    "* If the statement is `True` then it does nothing and continues the execution\n",
    "\n",
    "* If the statement is `False` then it stops the execution of the program and throws an error."
   ]
  },
  {
   "cell_type": "markdown",
   "id": "076dcc6b",
   "metadata": {
    "slideshow": {
     "slide_type": "slide"
    }
   },
   "source": [
    "![](https://media.geeksforgeeks.org/wp-content/uploads/20190816162037/dsa.png)"
   ]
  },
  {
   "cell_type": "markdown",
   "id": "47070069",
   "metadata": {
    "slideshow": {
     "slide_type": "slide"
    }
   },
   "source": [
    "Assertion statements take as input: **a boolean condition**\n",
    "    \n",
    "   * When the condition is `True`, assertion doesn’t do anything and continues the normal flow of execution\n",
    "        \n",
    "   * When the condition is `False`, an **`AssertionError`** is raised along with the optional message provided. \n",
    "\n",
    "* Syntax : \n",
    "    ` assert <condition>, \"error_message\"` (error message is optional)"
   ]
  },
  {
   "cell_type": "markdown",
   "id": "0e85747c",
   "metadata": {
    "slideshow": {
     "slide_type": "slide"
    }
   },
   "source": [
    "Assertions used for two reasons: \n",
    "\n",
    "1. Testing for correctness"
   ]
  },
  {
   "cell_type": "code",
   "execution_count": 39,
   "id": "ef4e399a",
   "metadata": {},
   "outputs": [
    {
     "name": "stdout",
     "output_type": "stream",
     "text": [
      "All test cases passed\n"
     ]
    }
   ],
   "source": [
    "assert csc121_round(2.3) == 2, \"Test case 1 failed\"\n",
    "assert csc121_round(2.6) == 3, \"Test case 2 failed\"\n",
    "assert csc121_round(2) == 2, \"Test case 3 failed\"\n",
    "assert csc121_round(2.5) == 3, \"Test case 4 failed\"\n",
    "print(\"All test cases passed\")"
   ]
  },
  {
   "cell_type": "markdown",
   "id": "74af18a2",
   "metadata": {
    "slideshow": {
     "slide_type": "slide"
    }
   },
   "source": [
    "2. Making sure expected inputs were passed \n",
    "\n",
    "    * If any assumptions that a programmer makes while writing code are false, then don't allow further code to execute. "
   ]
  },
  {
   "cell_type": "code",
   "execution_count": 61,
   "id": "3f28e76b",
   "metadata": {},
   "outputs": [
    {
     "data": {
      "text/plain": [
       "31"
      ]
     },
     "execution_count": 61,
     "metadata": {},
     "output_type": "execute_result"
    }
   ],
   "source": [
    "days_of_month(10, False)"
   ]
  },
  {
   "cell_type": "code",
   "execution_count": 58,
   "id": "10818b48",
   "metadata": {},
   "outputs": [],
   "source": [
    "def days_of_month(month, leap_year):\n",
    "    \n",
    "    assert 0 < month and month <= 12, \"Invalid month passed\"\n",
    "    assert leap_year == True or leap_year == False, \"Invalid leap_year value\"\n",
    "    assert type(leap_year) == bool, \"Invalid leap_year value\"\n",
    "    \n",
    "    if month == 4 or month == 6 or month == 9 or month == 11:\n",
    "        days = 30\n",
    "    elif month == 2:\n",
    "        if leap_year: \n",
    "            days = 29\n",
    "        else:\n",
    "            days = 28\n",
    "    else:\n",
    "        days = 31\n",
    "    return days"
   ]
  },
  {
   "cell_type": "markdown",
   "id": "2add5e41",
   "metadata": {
    "slideshow": {
     "slide_type": "slide"
    }
   },
   "source": [
    "# 4.3.3. `round` == `csc121_round`? "
   ]
  },
  {
   "cell_type": "markdown",
   "id": "d7b33717",
   "metadata": {},
   "source": [
    "0. Match `round`'s docstring"
   ]
  },
  {
   "cell_type": "code",
   "execution_count": 70,
   "id": "a79e12df",
   "metadata": {},
   "outputs": [],
   "source": [
    "csc121_round?"
   ]
  },
  {
   "cell_type": "code",
   "execution_count": 88,
   "id": "2e4a8a82",
   "metadata": {},
   "outputs": [
    {
     "name": "stdout",
     "output_type": "stream",
     "text": [
      "All test cases passed successfully\n"
     ]
    }
   ],
   "source": [
    "assert csc121_round(2.3, None) == round(2.3), \"Test case 1 failed\"\n",
    "assert csc121_round(2.6, None) == round(2.6), \"Test case 2 failed\"\n",
    "assert csc121_round(3.5, None) == round(3.5), \"Test case 3 failed\"\n",
    "assert csc121_round(2.5, None) == round(2.5), \"Test case 4 failed\"\n",
    "assert csc121_round(2.5888, 2) == round(2.5888, 2), \"Test case 5 failed\"\n",
    "print('All test cases passed successfully')"
   ]
  },
  {
   "cell_type": "code",
   "execution_count": 87,
   "id": "d3b724f7",
   "metadata": {
    "slideshow": {
     "slide_type": "slide"
    }
   },
   "outputs": [],
   "source": [
    "def csc121_round(number, ndigits):\n",
    "    \"\"\" Round a number to a given precision in decimal digits.\n",
    "\n",
    "    The return value is an integer if ndigits is omitted or None.  Otherwise\n",
    "    the return value has the same type as the number.  ndigits may be negative.\n",
    "    \"\"\"\n",
    "    if ndigits == None:\n",
    "        ndigits = 0\n",
    "    #Transform here \n",
    "    number = number * (10 ** ndigits)\n",
    "    \n",
    "    fractional_part = number % 1\n",
    "    integer_part = number // 1    \n",
    "    if fractional_part == 0.5 and integer_part%2 == 0:\n",
    "        rounded = integer_part\n",
    "    elif fractional_part == 0.5 and integer_part%2 != 0: \n",
    "        rounded = integer_part + 1\n",
    "    elif fractional_part > 0.5:\n",
    "        rounded = integer_part + 1\n",
    "    elif fractional_part < 0.5:\n",
    "        rounded = integer_part\n",
    "    \n",
    "    #Transform back here\n",
    "    rounded = rounded / (10 ** ndigits)\n",
    "    \n",
    "    return rounded"
   ]
  },
  {
   "cell_type": "markdown",
   "id": "2c139b3a",
   "metadata": {
    "slideshow": {
     "slide_type": "slide"
    }
   },
   "source": [
    "1. Write test cases for which `round` != `csc121_round`"
   ]
  },
  {
   "cell_type": "markdown",
   "id": "96ca51f8",
   "metadata": {},
   "source": [
    "2. Fix the failing test cases"
   ]
  },
  {
   "cell_type": "markdown",
   "id": "1ce62ae0",
   "metadata": {},
   "source": [
    "3. Implement `ndigits` "
   ]
  },
  {
   "cell_type": "code",
   "execution_count": 116,
   "id": "768b16d6",
   "metadata": {
    "slideshow": {
     "slide_type": "slide"
    }
   },
   "outputs": [
    {
     "name": "stdout",
     "output_type": "stream",
     "text": [
      "Test cases passed successfully\n"
     ]
    }
   ],
   "source": [
    "def csc121_round(number, ndigits=None):\n",
    "    \"\"\"\n",
    "    Round a number to a given precision in decimal digits.\n",
    "\n",
    "    The return value is an integer if ndigits is omitted or None.  Otherwise\n",
    "    the return value has the same type as the number.  ndigits may be negative.\n",
    "    \"\"\"\n",
    "    if ndigits == None:\n",
    "        ndigits = 0\n",
    "        \n",
    "    number = number * (10**ndigits)\n",
    "    \n",
    "    fractional_part = number % 1\n",
    "    integer_part = number // 1\n",
    "    \n",
    "    if fractional_part > 0.5:\n",
    "        rounded = integer_part + 1\n",
    "    elif fractional_part < 0.5:\n",
    "        rounded = integer_part\n",
    "    else:\n",
    "        if integer_part % 2 == 0:\n",
    "            rounded = integer_part\n",
    "        else:\n",
    "            rounded = integer_part + 1\n",
    "    \n",
    "    rounded = rounded / (10**ndigits)\n",
    "    \n",
    "    return rounded\n",
    "\n",
    "assert round(-2.5) == csc121_round(-2.5)\n",
    "assert round(2.5)  == csc121_round(2.5)\n",
    "assert round(2.3)  == csc121_round(2.3)\n",
    "assert round(2.8)  == csc121_round(2.8)\n",
    "assert round(3.0)  == csc121_round(3.0)\n",
    "\n",
    "print(\"Test cases passed successfully\")"
   ]
  },
  {
   "cell_type": "code",
   "execution_count": 114,
   "id": "3acfaf4f",
   "metadata": {},
   "outputs": [
    {
     "name": "stdout",
     "output_type": "stream",
     "text": [
      "73.7 ns ± 0.0911 ns per loop (mean ± std. dev. of 7 runs, 10,000,000 loops each)\n"
     ]
    }
   ],
   "source": [
    "%timeit round(29.8)"
   ]
  },
  {
   "cell_type": "code",
   "execution_count": 113,
   "id": "362ae0d1",
   "metadata": {},
   "outputs": [
    {
     "name": "stdout",
     "output_type": "stream",
     "text": [
      "272 ns ± 0.79 ns per loop (mean ± std. dev. of 7 runs, 1,000,000 loops each)\n"
     ]
    }
   ],
   "source": [
    "%timeit csc121_round(29.8)"
   ]
  }
 ],
 "metadata": {
  "celltoolbar": "Slideshow",
  "kernelspec": {
   "display_name": "Python 3 (ipykernel)",
   "language": "python",
   "name": "python3"
  },
  "language_info": {
   "codemirror_mode": {
    "name": "ipython",
    "version": 3
   },
   "file_extension": ".py",
   "mimetype": "text/x-python",
   "name": "python",
   "nbconvert_exporter": "python",
   "pygments_lexer": "ipython3",
   "version": "3.9.12"
  }
 },
 "nbformat": 4,
 "nbformat_minor": 5
}
