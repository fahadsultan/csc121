{
 "cells": [
  {
   "cell_type": "markdown",
   "id": "818257d9",
   "metadata": {},
   "source": [
    "# ASSIGNMENT 4"
   ]
  },
  {
   "cell_type": "code",
   "execution_count": 9,
   "id": "b6a79384",
   "metadata": {},
   "outputs": [],
   "source": [
    "def count_digits(num):\n",
    "    \"\"\" Counts the number of digits in a positive number.\n",
    "\n",
    "        Parameters:\n",
    "        num (int): A positive integer\n",
    "\n",
    "        Returns:\n",
    "        ndigits (int): Number of digits in the number\n",
    "    \"\"\"\n",
    "\n",
    "    from math import log10\n",
    "\n",
    "    def floor(n):\n",
    "        return n // 1\n",
    "    \n",
    "    if num == 0:\n",
    "        ndigits = 1\n",
    "    else:\n",
    "        ndigits = floor(log10(num)) + 1\n",
    "        ndigits = int(ndigits) #Remove trailing .0 \n",
    "    \n",
    "    return ndigits"
   ]
  },
  {
   "cell_type": "code",
   "execution_count": 10,
   "id": "d4e8b325",
   "metadata": {},
   "outputs": [],
   "source": [
    "def count_digits2(num):\n",
    "    return count_digits(num)"
   ]
  },
  {
   "cell_type": "code",
   "execution_count": 11,
   "id": "1d187ce4",
   "metadata": {},
   "outputs": [
    {
     "data": {
      "text/plain": [
       "5"
      ]
     },
     "execution_count": 11,
     "metadata": {},
     "output_type": "execute_result"
    }
   ],
   "source": [
    "count_digits2(12345)"
   ]
  },
  {
   "cell_type": "markdown",
   "id": "e8a1e8c4",
   "metadata": {},
   "source": [
    "<hr />\n",
    "\n",
    "## Q1.\n",
    "\n",
    "<img width=\"420\" src=\"https://i.ibb.co/P4DytBd/shift-left.png\">"
   ]
  },
  {
   "cell_type": "code",
   "execution_count": null,
   "id": "8931fd05",
   "metadata": {},
   "outputs": [],
   "source": [
    "def shift_left(num, n):\n",
    "    \"\"\" Shifts a number to the left 'n' places by appending 'n' zeros to the right\n",
    "\n",
    "        Parameters:\n",
    "        num (int): The number to be shifted left\n",
    "        n   (int): Places to shift\n",
    "\n",
    "        Returns:\n",
    "        shifted_num (int): The shifted number\n",
    "    \"\"\"\n",
    "    ..\n",
    "    ..\n",
    "    return .. \n",
    "\n",
    "#Test suite for shift_left\n",
    "assert shift_left(123, 1)     == 1230,     \"Test case 1 failed\"\n",
    "assert shift_left(123, 0)     == 123,      \"Test case 2 failed\"\n",
    "assert shift_left(1, 3)       == 1000,     \"Test case 3 failed\"\n",
    "assert shift_left(0, 1)       == 0,        \"Test case 4 failed\"\n",
    "assert shift_left(0, 100)     == 0,        \"Test case 5 failed\"\n",
    "assert shift_left(9, 10)      == 9*10**10, \"Test case 6 failed\"\n",
    "\n",
    "print('All test cases for shift_left passed successfully! :)')"
   ]
  },
  {
   "cell_type": "markdown",
   "id": "d5e96739",
   "metadata": {},
   "source": [
    "<hr />\n",
    "\n",
    "## Q2. \n",
    "\n",
    "<img width=\"420\" src=\"https://i.ibb.co/fX92XWk/shift-right.png\">"
   ]
  },
  {
   "cell_type": "code",
   "execution_count": null,
   "id": "6b5e6e90",
   "metadata": {},
   "outputs": [],
   "source": [
    "def shift_right(num, n):\n",
    "    \"\"\" Shifts a number to the right n places by dropping n digits from the right\n",
    "\n",
    "        Parameters:\n",
    "        num (int): The number to be shifted right\n",
    "        n   (int): Places to shift\n",
    "\n",
    "        Returns:\n",
    "        shifted_num (int): The shifted number\n",
    "    \"\"\"\n",
    "    return \n",
    "\n",
    "#Test suit for shift right\n",
    "assert shift_right(123, 1)    == 12,       \"Test case 7 failed\"\n",
    "assert shift_right(123, 2)    == 1,        \"Test case 8 failed\"\n",
    "assert shift_right(1, 100)    == 0,        \"Test case 9 failed\"\n",
    "assert shift_right(0, 1)      == 0,        \"Test case 10 failed\"\n",
    "assert shift_right(0, 100)    == 0,        \"Test case 11 failed\"\n",
    "assert shift_right(9**9, 8)   == 3,        \"Test case 12 failed\"\n",
    "\n",
    "print('All test cases for shift_right passed successfully! :)')"
   ]
  },
  {
   "cell_type": "markdown",
   "id": "1f038331",
   "metadata": {},
   "source": [
    "<hr />\n",
    "\n",
    "## Q3. \n",
    "\n",
    "<img width=\"350\" src=\"https://i.ibb.co/ZLmzdWc/get-last-digit.png\">"
   ]
  },
  {
   "cell_type": "code",
   "execution_count": null,
   "id": "56da45d1",
   "metadata": {},
   "outputs": [],
   "source": [
    "def get_last_digit(num):\n",
    "    \"\"\" Returns the last (right most; a.k.a. unit's place) digit of 'num'\n",
    "\n",
    "        Parameters:\n",
    "        num (int): The number from which the the digit is returned\n",
    "\n",
    "        Returns:\n",
    "        digit (int): The last (right most) digit \n",
    "    \"\"\"\n",
    "    return \n",
    "\n",
    "assert get_last_digit(123)    == 3,        \"Test case 13 failed\"\n",
    "assert get_last_digit(8**2)   == 4,        \"Test case 14 failed\"\n",
    "assert get_last_digit(9**9)   == 9,        \"Test case 15 failed\"\n",
    "assert get_last_digit(1**9)   == 1,        \"Test case 16 failed\"\n",
    "assert get_last_digit(0)      == 0,        \"Test case 17 failed\"\n",
    "\n",
    "print('All test cases for get_last_digit passed successfully! :)')"
   ]
  },
  {
   "cell_type": "markdown",
   "id": "5cf419f9",
   "metadata": {},
   "source": [
    "<hr />\n",
    "\n",
    "## Q4. \n",
    "\n",
    "<img width=\"380\" src=\"https://i.ibb.co/fv77jHN/get-nth-digit.png\">"
   ]
  },
  {
   "cell_type": "code",
   "execution_count": null,
   "id": "af7b3f83",
   "metadata": {},
   "outputs": [],
   "source": [
    "def get_nth_digit(num, n):\n",
    "    \"\"\" Returns the n-th digit, from right, of 'num'\n",
    "\n",
    "        Parameters:\n",
    "        num (int): The number from which the n-th digit is to be returned\n",
    "        n   (int): position of the digit to be returned, position of the right most digit is 1\n",
    "\n",
    "        Returns:\n",
    "        digit (int): The n-th digit from the right\n",
    "    \"\"\"\n",
    "    assert 0 < n and n <= count_digits(num), \"Invalid inputs to 'get_nth_digit'.\"+\\\n",
    "                                             \"n must be in range [1, count_digits(num)]\"\n",
    "    #Insert function body here\n",
    "    return \n",
    "\n",
    "\n",
    "assert get_nth_digit(123, 1)  == 3,        \"Test case 18 failed\"\n",
    "assert get_nth_digit(123, 2)  == 2,        \"Test case 19 failed\"\n",
    "assert get_nth_digit(123, 3)  == 1,        \"Test case 20 failed\"\n",
    "assert get_nth_digit(0, 1)    == 0,        \"Test case 21 failed\"\n",
    "assert get_nth_digit(9**9, 1) == 9,        \"Test case 22 failed\"\n",
    "assert get_nth_digit(9**9, 2) == 8,        \"Test case 23 failed\"\n",
    "assert get_nth_digit(9**9, 8) == 8,        \"Test case 24 failed\"\n",
    "assert get_nth_digit(9**9, 9) == 3,        \"Test case 25 failed\"\n",
    "\n",
    "print(\"All test cases for get_nth_digit passed successfully! :)\")"
   ]
  },
  {
   "cell_type": "markdown",
   "id": "f20aea63",
   "metadata": {},
   "source": [
    "<hr />\n",
    "\n",
    "## Q5. \n",
    "\n",
    "<img width=\"400\" src=\"https://i.ibb.co/K5K75fF/prepend.png\">"
   ]
  },
  {
   "cell_type": "code",
   "execution_count": null,
   "id": "60076c6b",
   "metadata": {},
   "outputs": [],
   "source": [
    "def prepend(number, digit):\n",
    "    \"\"\" Inserts a digit from the left to number\n",
    "\n",
    "        Parameters:\n",
    "        number (int): The number to which the digit is to be prepended\n",
    "        digit  (int): The digit to be prepended \n",
    "\n",
    "        Returns:\n",
    "        new_num (int): The new number with the new digit prepended\n",
    "    \"\"\"\n",
    "    assert count_digits(digit) == 1, \"Invalid inputs to 'prepend'.\"+\\\n",
    "                                     \"You can only prepend a single digit\"+\\\n",
    "                                     \"i.e. integer within range [0, 9]\"\n",
    "    return \n",
    "\n",
    "assert prepend(123, 4)        == 4123,     \"Test case 26 failed\"\n",
    "assert prepend(2, 0)          == 2,        \"Test case 27 failed\"\n",
    "assert prepend(0, 1)          == 10,       \"Test case 28 failed\"\n",
    "assert prepend(9, 9)          == 99,       \"Test case 29 failed\"\n",
    "assert prepend(9**9, 0)       == 9**9,     \"Test case 30 failed\"\n",
    "\n",
    "print(\"All test cases for prepend passed successfully! :)\")"
   ]
  },
  {
   "cell_type": "markdown",
   "id": "3752fa81",
   "metadata": {},
   "source": [
    "<hr />\n",
    "\n",
    "## Q6. \n",
    "\n",
    "<img width=\"420\" src=\"https://i.ibb.co/BTskL9F/append.png\">"
   ]
  },
  {
   "cell_type": "code",
   "execution_count": null,
   "id": "a115b974",
   "metadata": {},
   "outputs": [],
   "source": [
    "def append(number, digit):\n",
    "    \"\"\" Inserts a digit from the right to number\n",
    "\n",
    "        Parameters:\n",
    "        number (int): The number to which the 'digit' is to be appended\n",
    "        digit   (int): Digit to append to 'number'\n",
    "\n",
    "        Returns:\n",
    "        new_num (int): The shifted number\n",
    "    \"\"\"\n",
    "    assert count_digits(digit) == 1, \"Invalid inputs to 'append'\"+\\\n",
    "                                     \"You can only append a single digit i.e.\"+\\\n",
    "                                     \"integer within range [0, 9]\"\n",
    "    return \n",
    "\n",
    "\n",
    "assert append(123, 4)         == 1234,     \"Test case 31 failed\"\n",
    "assert append(0, 1)           == 1,        \"Test case 32 failed\"\n",
    "assert append(0, 9)           == 9,        \"Test case 33 failed\"\n",
    "assert append(9**9, 0)        == (9**9)*10,\"Test case 34 failed\"\n",
    "assert append(9, 9)           == 99,       \"Test case 35 failed\"\n",
    "assert append(999, 9)         == 9999,     \"Test case 36 failed\"\n",
    "\n",
    "print(\"All test cases passed for append successfully! :)\")"
   ]
  },
  {
   "cell_type": "markdown",
   "id": "441ce263",
   "metadata": {},
   "source": [
    "<hr />\n",
    "\n",
    "## Q7. \n",
    "\n",
    "<img width=\"420\" src=\"https://i.ibb.co/nRrJy94/rotate-right.png\">"
   ]
  },
  {
   "cell_type": "code",
   "execution_count": null,
   "id": "b899166f",
   "metadata": {},
   "outputs": [],
   "source": [
    "def rotate_right(num):\n",
    "    \"\"\" Rotates a number to the right, one place, by taking the\n",
    "        digit on the right most and prepending it to the left\n",
    "\n",
    "        Parameters:\n",
    "        num (int): The number to be rotated right\n",
    "\n",
    "        Returns:\n",
    "        rotated_num (int): The rotated number\n",
    "    \"\"\"\n",
    "    return \n",
    "\n",
    "\n",
    "assert rotate_right(123)      == 312,      \"Test case 37 failed\"\n",
    "assert rotate_right(0)        == 0,        \"Test case 38 failed\"\n",
    "assert rotate_right(10)       == 1,        \"Test case 39 failed\"\n",
    "assert rotate_right(99)       == 99,       \"Test case 40 failed\"\n",
    "assert rotate_right(98765432) == 29876543, \"Test case 41 failed\"\n",
    "\n",
    "print(\"All test cases for rotate_right passed successfully! :)\")"
   ]
  },
  {
   "cell_type": "markdown",
   "id": "1766675a",
   "metadata": {},
   "source": [
    "<hr />\n",
    "\n",
    "## Q8. \n",
    "\n",
    "<img width=\"420\" src=\"https://i.ibb.co/xF4D7JL/rotate-left.png\">"
   ]
  },
  {
   "cell_type": "code",
   "execution_count": null,
   "id": "18d6f421",
   "metadata": {},
   "outputs": [],
   "source": [
    "def rotate_left(num):\n",
    "    \"\"\" Rotates a number to the left, one place, by taking the\n",
    "        digit on the left most and appending it to the right\n",
    "\n",
    "        Parameters:\n",
    "        num (int): The number to be rotated left\n",
    "\n",
    "        Returns:\n",
    "        rotated_num (int): The rotated number\n",
    "    \"\"\"\n",
    "    return \n",
    "\n",
    "assert rotate_left(123)       == 231,      \"Test case 42 failed\"\n",
    "assert rotate_left(0)         == 0,        \"Test case 43 failed\"\n",
    "assert rotate_left(10)        == 1,        \"Test case 44 failed\"\n",
    "assert rotate_left(99)        == 99,       \"Test case 45 failed\"\n",
    "assert rotate_left(98765432)  == 87654329, \"Test case 46 failed\"\n",
    "\n",
    "print(\"All test cases for rotate_left passed successfully! :)\")"
   ]
  }
 ],
 "metadata": {
  "kernelspec": {
   "display_name": "Python 3 (ipykernel)",
   "language": "python",
   "name": "python3"
  },
  "language_info": {
   "codemirror_mode": {
    "name": "ipython",
    "version": 3
   },
   "file_extension": ".py",
   "mimetype": "text/x-python",
   "name": "python",
   "nbconvert_exporter": "python",
   "pygments_lexer": "ipython3",
   "version": "3.9.12"
  }
 },
 "nbformat": 4,
 "nbformat_minor": 5
}
