{
 "cells": [
  {
   "cell_type": "markdown",
   "id": "055dd455",
   "metadata": {
    "slideshow": {
     "slide_type": "slide"
    }
   },
   "source": [
    "# 1.4. Operator Precedence"
   ]
  },
  {
   "cell_type": "markdown",
   "id": "966e1536",
   "metadata": {},
   "source": [
    "Operator Precedence in decreasing order. \n",
    "\n",
    "The higher the operator in the table, the higher its priority"
   ]
  },
  {
   "cell_type": "markdown",
   "id": "07459603",
   "metadata": {},
   "source": [
    "| Syntax      || Description |\n",
    "| :----------- || -----------: |\n",
    "| ()      || Parentheses |\n",
    "| **      || Exponent    |\n",
    "| *,  /,  //,  % || Multiplication, Division, Floor division, Modulus|\n",
    "| +, - || Addition, Subtraction|\n",
    "|==, !=, >, >=, <, <= || Equal, Not Equal, Less Than, Less Than Equal, Greater Than, Greater Than Equal ||"
   ]
  },
  {
   "cell_type": "code",
   "execution_count": 7,
   "id": "0d1e4565",
   "metadata": {
    "slideshow": {
     "slide_type": "slide"
    }
   },
   "outputs": [
    {
     "name": "stdout",
     "output_type": "stream",
     "text": [
      "18.0\n",
      "18.0\n"
     ]
    }
   ],
   "source": [
    "\"\"\"Operator Precendence:\n",
    "------------------------\n",
    "\n",
    "Before you run this cell,\n",
    "think about what the outputs should be\n",
    "and write them as single line comments\"\"\"\n",
    "\n",
    "# print(4**(1/2))\n",
    "\n",
    "# print(1+1+1+1+0)\n",
    "\n",
    "# print(27.03 + 20/100* 27.03)\n",
    "\n",
    "# print(10 + 10 / 10)\n",
    "\n",
    "print(6**2**1/2)"
   ]
  },
  {
   "cell_type": "markdown",
   "id": "c2353fe3",
   "metadata": {
    "slideshow": {
     "slide_type": "slide"
    }
   },
   "source": [
    "# 1.5 Flow of execution \n",
    "\n",
    "* For multiple lines of code: \n",
    "    * Sequential, top line to bottom line\n",
    "    \n",
    "* For each **individual line** of code: \n",
    "    * If the line has an **assignment operator** (=) or one of the **boolean operators** (==, !=, >= ... ), then:\n",
    "\n",
    "        * Expression on **right hand side** of assignment/boolean operator is **executed first**\n",
    "\n",
    "        * Then, left hand expression of assignment operator is executed\n",
    "        \n",
    "* For **each expression**, \n",
    "    * Operators executed as per **rules of precedence**\n",
    "    \n",
    "    * If there are multiple operators of the **same precedence**, then they are **executed left to right**"
   ]
  },
  {
   "cell_type": "code",
   "execution_count": 10,
   "id": "e03ca538",
   "metadata": {
    "slideshow": {
     "slide_type": "slide"
    }
   },
   "outputs": [
    {
     "name": "stdout",
     "output_type": "stream",
     "text": [
      "32.436\n"
     ]
    }
   ],
   "source": [
    "# 1. Executed first\n",
    "cheque_amount = 27.03 \n",
    "\n",
    "# 2. Executed second \n",
    "tip = 20/100 * cheque_amount \n",
    " \n",
    "# 3. Executed third\n",
    "total = cheque_amount + tip \n",
    "print(total)"
   ]
  },
  {
   "cell_type": "code",
   "execution_count": null,
   "id": "5a72c600",
   "metadata": {
    "slideshow": {
     "slide_type": "slide"
    }
   },
   "outputs": [],
   "source": [
    "# 1. Executed first\n",
    "cheque_amount = 27.03 \n",
    "\n",
    "\"\"\" 2. Executed second\n",
    "----------------------\n",
    "2.1. Right hand side: `20/100 * cheque_amount` executed first\n",
    "2.2. Since / and * are two operators of the same precendence, \n",
    "     the operators are executed from left to right \n",
    "     20/100 is executed first, resulting in 0.2\n",
    "2.3. Then 0.2 * cheque_amount is executed \"\"\"\n",
    "\n",
    "tip = 20/100 * cheque_amount \n",
    "\n",
    "# 3. Executed third\n",
    "total = cheque_amount + tip \n",
    "\n",
    "print(total)"
   ]
  },
  {
   "cell_type": "code",
   "execution_count": 12,
   "id": "6089bbd3",
   "metadata": {
    "slideshow": {
     "slide_type": "slide"
    }
   },
   "outputs": [
    {
     "name": "stdout",
     "output_type": "stream",
     "text": [
      "3\n",
      "True\n"
     ]
    }
   ],
   "source": [
    "# print(1+1 * 1+1)\n",
    "\n",
    "print(1+1 * 1+1 == 2 ** 1+1)\n",
    "\n",
    "print((1+1) * (1+1) != 2 ** (1+1))"
   ]
  },
  {
   "cell_type": "code",
   "execution_count": null,
   "id": "f93476d6",
   "metadata": {
    "slideshow": {
     "slide_type": "slide"
    }
   },
   "outputs": [],
   "source": [
    "\"\"\" Flow of execution:\n",
    "----------------------\n",
    "    1. Executed first: 2 ** 1+1. Breakdown of right-hand side:\n",
    "        1.1. a = 2 ** 1\n",
    "        1.2. b = a + 1\n",
    "    2. Executed second: 1+1 * 1+1. Breakdown of left hand side\n",
    "        2.1. c = 1 * 1\n",
    "        2.2. d = 1 + c \n",
    "        2.3. e = d + 1\n",
    "\"\"\"\n",
    "1+1 * 1+1 == 2 ** 1+1"
   ]
  },
  {
   "cell_type": "markdown",
   "id": "185624f5",
   "metadata": {
    "slideshow": {
     "slide_type": "slide"
    }
   },
   "source": [
    "# [Problem 1: Change-making problem (variant)](https://en.wikipedia.org/wiki/Change-making_problem)"
   ]
  },
  {
   "cell_type": "code",
   "execution_count": 1,
   "id": "26fa1c1b",
   "metadata": {},
   "outputs": [],
   "source": [
    "\"\"\"Change-making problem: \n",
    "-------------------------\n",
    "\n",
    "Given `cheque_amount` and `cash`, compute\n",
    "minimum number of bills and coins needed to \n",
    "give back the change. \n",
    "\n",
    "Assume you have infinite banknotes and coins \n",
    "for each denomination\n",
    "\n",
    "Inputs: \n",
    "-------\n",
    "cheque_amount \n",
    "cash\n",
    "\n",
    "U.S. currency denominations (implicit)\n",
    "\n",
    "Outputs:\n",
    "--------\n",
    "min_bills_and_coins =\n",
    "\"\"\"\n"
   ]
  },
  {
   "cell_type": "code",
   "execution_count": 13,
   "id": "831ff42d",
   "metadata": {},
   "outputs": [
    {
     "name": "stdout",
     "output_type": "stream",
     "text": [
      "72.97\n"
     ]
    }
   ],
   "source": [
    "\n",
    "cheque_amount = 27.03\n",
    "cash = 100\n",
    "\n",
    "change = cash - cheque_amount\n",
    "print(change)"
   ]
  },
  {
   "cell_type": "code",
   "execution_count": 14,
   "id": "bfd8d8b9",
   "metadata": {
    "slideshow": {
     "slide_type": "slide"
    }
   },
   "outputs": [
    {
     "name": "stdout",
     "output_type": "stream",
     "text": [
      "0.009999999999990905\n"
     ]
    }
   ],
   "source": [
    "\n",
    "hundreds  = change // 100\n",
    "remainder = change % 100\n",
    "\n",
    "fifties   = remainder // 50\n",
    "remainder = remainder % 50 \n",
    "\n",
    "twenties = remainder // 20\n",
    "remainder = remainder % 20\n",
    "\n",
    "tens     = remainder // 10\n",
    "remainder = remainder % 10\n",
    "\n",
    "fives    = remainder // 5\n",
    "remainder = remainder % 5\n",
    "\n",
    "singles  = remainder // 1\n",
    "remainder = remainder % 1\n",
    "\n",
    "quarters = remainder // 0.25#.25\n",
    "remainder = remainder % 0.25\n",
    "\n",
    "dimes     = remainder // 0.1 \n",
    "remainder = remainder % 0.1   #.10\n",
    "\n",
    "nickels  = remainder // 0.05 #.05\n",
    "remainder = remainder % 0.05\n",
    "\n",
    "pennies  = remainder // 0.01 #.01\n",
    "remainder = remainder % 0.01\n",
    "\n",
    "print(change - (hundreds*100 +\\\n",
    "      fifties*50 +\\\n",
    "      twenties*20 +\\\n",
    "      tens*10+\\\n",
    "      fives*5+\\\n",
    "      singles*1+\\\n",
    "      quarters*0.25+\\\n",
    "      dimes*0.10+\\\n",
    "      nickels*0.05+\\\n",
    "      pennies*0.01))"
   ]
  }
 ],
 "metadata": {
  "celltoolbar": "Slideshow",
  "kernelspec": {
   "display_name": "Python 3 (ipykernel)",
   "language": "python",
   "name": "python3"
  },
  "language_info": {
   "codemirror_mode": {
    "name": "ipython",
    "version": 3
   },
   "file_extension": ".py",
   "mimetype": "text/x-python",
   "name": "python",
   "nbconvert_exporter": "python",
   "pygments_lexer": "ipython3",
   "version": "3.9.12"
  }
 },
 "nbformat": 4,
 "nbformat_minor": 5
}
