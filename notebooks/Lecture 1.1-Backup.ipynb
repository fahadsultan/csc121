{
 "cells": [
  {
   "cell_type": "markdown",
   "id": "bbaccea4",
   "metadata": {
    "slideshow": {
     "slide_type": "slide"
    }
   },
   "source": [
    "# CSC-121 \n",
    "# Introduction to Computer Programming \n",
    "\n",
    "# Lecture 1.1\n",
    "## Friday, August 26th 2022"
   ]
  },
  {
   "cell_type": "markdown",
   "id": "93b3e5dd",
   "metadata": {
    "slideshow": {
     "slide_type": "slide"
    }
   },
   "source": [
    "# 1.1. Python Comments\n",
    "\n",
    "Old programming wisdom:\n",
    "> Programs must be written for people to read, and only incidentally for machines to execute.\n",
    "\n",
    "\n",
    "* Comments in code are _literally_ there only for people to read and **never** for machines to execute\n",
    "\n",
    "* Use comments to explain your code.\n",
    "\n",
    "* Use comments to make your code more readable.\n"
   ]
  },
  {
   "cell_type": "markdown",
   "id": "668293ca",
   "metadata": {
    "slideshow": {
     "slide_type": "slide"
    }
   },
   "source": [
    "* Comments starts with a `#`, and Python will ignore them:"
   ]
  },
  {
   "cell_type": "code",
   "execution_count": 28,
   "id": "873a6ea7",
   "metadata": {},
   "outputs": [
    {
     "name": "stdout",
     "output_type": "stream",
     "text": [
      "World!\n"
     ]
    }
   ],
   "source": [
    "#print(\"Hello\")\n",
    "print(\"World!\")"
   ]
  },
  {
   "cell_type": "markdown",
   "id": "290c8e44",
   "metadata": {},
   "source": [
    "* Comments can be placed at the end of a line, and Python will ignore the rest of the line:"
   ]
  },
  {
   "cell_type": "code",
   "execution_count": 29,
   "id": "2b92b84d",
   "metadata": {},
   "outputs": [
    {
     "name": "stdout",
     "output_type": "stream",
     "text": [
      "Hello\n"
     ]
    }
   ],
   "source": [
    "print(\"Hello\") #print(\"World\")"
   ]
  },
  {
   "cell_type": "markdown",
   "id": "c35f70d7",
   "metadata": {
    "slideshow": {
     "slide_type": "-"
    }
   },
   "source": [
    "* Note how comments can be plain English to increase readability\n",
    "    * Or code, if you are trying to fix a bug or designing the algorithm"
   ]
  },
  {
   "cell_type": "code",
   "execution_count": 65,
   "id": "d83d89c4",
   "metadata": {
    "slideshow": {
     "slide_type": "slide"
    }
   },
   "outputs": [
    {
     "name": "stdout",
     "output_type": "stream",
     "text": [
      "3\n"
     ]
    }
   ],
   "source": [
    "a = 1\n",
    "\n",
    "'''\n",
    "Multi\n",
    "line \n",
    "comment\n",
    "'''\n",
    "a = a + 1\n",
    "\n",
    "\"\"\"\n",
    "Multi\n",
    "line\n",
    "comment\n",
    "\"\"\"\n",
    "a = a + 1\n",
    "\n",
    "#Multi\n",
    "#Line\n",
    "#Comment\n",
    "print(a)"
   ]
  },
  {
   "cell_type": "code",
   "execution_count": null,
   "id": "2b783896",
   "metadata": {
    "slideshow": {
     "slide_type": "slide"
    }
   },
   "outputs": [],
   "source": [
    "\"\"\" \n",
    "Jane Doe Algorithm, for calculating gratuity\n",
    "\n",
    "computes 20% gratuity in three easy steps. \n",
    "\n",
    "Input(s)\n",
    "--------\n",
    "cheque_amount : int\n",
    "\n",
    "Output\n",
    "------\n",
    "int\n",
    "    20% of the cheque_amount\n",
    "\"\"\""
   ]
  },
  {
   "cell_type": "markdown",
   "id": "947a3b96",
   "metadata": {
    "slideshow": {
     "slide_type": "slide"
    }
   },
   "source": [
    "# 1.2 Variable Naming\n",
    "\n",
    "\n",
    "* _**Variable Names must be descriptive!**_\n",
    "\n",
    "* A variable name must start with a letter or the underscore character\n",
    "\n",
    "* A variable name cannot start with a number\n",
    "\n",
    "* A variable name can only contain alpha-numeric characters and underscores (A-z, 0-9, and _ )\n",
    "\n",
    "* Variable names are case-sensitive (age, Age and AGE are three different variables)\n",
    "\n",
    "* In Python, the convention is to _NOT_ use upper case letters anywhere in the name. In case of multi-word names, use _ .\n"
   ]
  },
  {
   "cell_type": "code",
   "execution_count": 63,
   "id": "26ad6711",
   "metadata": {},
   "outputs": [],
   "source": [
    "# 10_percent\n",
    "# ten_percent\n",
    "# _10_percent = 10\n",
    "# 20_percent\n",
    "# twenty_percent \n",
    "\n",
    "# age = 2\n",
    "# Age = 20\n",
    "# AGE = 200"
   ]
  },
  {
   "cell_type": "markdown",
   "id": "141213c7",
   "metadata": {
    "slideshow": {
     "slide_type": "slide"
    }
   },
   "source": [
    "# 1.2.1. Reserved words Python"
   ]
  },
  {
   "cell_type": "markdown",
   "id": "6566b223",
   "metadata": {},
   "source": [
    "`False`, `def`, `if`, `raise`,\n",
    "`None`,\t`del`,\t`import`,\t`return`,\n",
    "`True`,\t`elif`\t,`in`,\t`try`,\n",
    "`and`,\t`else`,\t`is`,\t`while`,\n",
    "`as`,\t`except`,\t`lambda`, `with`\n",
    "`assert`,\t`finally`,\t`nonlocal`,\t`yield`\n",
    "`break`,\t`for`,\t`not`\t\n",
    "`class`,\t`from`,\t`or`,\t\n",
    "`continue`,\t`global`,\t`pass`"
   ]
  },
  {
   "cell_type": "code",
   "execution_count": null,
   "id": "8d7b0377",
   "metadata": {},
   "outputs": [],
   "source": [
    "#Let's see what happens "
   ]
  },
  {
   "cell_type": "markdown",
   "id": "9e3f2b1e",
   "metadata": {
    "slideshow": {
     "slide_type": "slide"
    }
   },
   "source": [
    "# 1.2.2. Overriding built-in functions"
   ]
  },
  {
   "cell_type": "markdown",
   "id": "576858ac",
   "metadata": {},
   "source": [
    "What happens when we override `round`, `input` or `print`"
   ]
  },
  {
   "cell_type": "markdown",
   "id": "6ecd0e11",
   "metadata": {
    "slideshow": {
     "slide_type": "slide"
    }
   },
   "source": [
    "# 1.3. Mathematical Operators"
   ]
  },
  {
   "cell_type": "markdown",
   "id": "7e341978",
   "metadata": {
    "slideshow": {
     "slide_type": "-"
    }
   },
   "source": [
    "`a = 2`\n",
    "`b = 10`\n",
    "\n",
    "| Operator      | Description   |Example.      |\n",
    "| :-----------  | :-----------: |:-----------: |\n",
    "| + Addition    |  Adds values on either side of the operator.  | a + b = 30|\n",
    "| - Subtraction |  Subtracts right hand operand from left hand operand.  | a – b = -10|\n",
    "| * Multiplication |  Multiplies values on either side of the operator  | a * b = 200|\n",
    "| / Division |  Divides left hand operand by right hand operand  | b / a = 2|\n",
    "| % Modulus |  Divides left hand operand by right hand operand and returns remainder  | b % a = 0|\n",
    "| ** Exponent |  Performs exponential (power) calculation on operators  | a**b =10 to the power 20|\n",
    "| // Floor Division |  The division of operands where the result is the quotient in which the digits after the decimal point are removed. But if one of the operands is negative, the result is floored, i.e., rounded away from zero (towards negative infinity) |  9//2 = 4 and 9.0//2.0 = 4.0, -11//3 = -4, -11.0//3 = -4.0|"
   ]
  },
  {
   "cell_type": "code",
   "execution_count": null,
   "id": "b909e82c",
   "metadata": {
    "slideshow": {
     "slide_type": "slide"
    }
   },
   "outputs": [],
   "source": [
    "# Let's go through each mathematical operator + - * / % ** //"
   ]
  },
  {
   "cell_type": "markdown",
   "id": "9f8ce339",
   "metadata": {
    "slideshow": {
     "slide_type": "slide"
    }
   },
   "source": [
    "## 1.3.1. Boolean Operators"
   ]
  },
  {
   "cell_type": "markdown",
   "id": "1c1493f6",
   "metadata": {},
   "source": [
    "These operators return `True` or `False` (i.e. boolean data type). \n",
    "\n",
    "| Operator      | Description   |Example.      |\n",
    "| :-----------  | :-----------: |:-----------: |\n",
    "| ==  |  Returns `True` if left hand operand is equal to right hand operand. Otherwise, returns `False`  | `a+b == b+a` |\n",
    "| != |  Returns `True` if left hand operand is _NOT_ equal to  right hand operand. Otherwise, returns `False`.  | `a*b != b/a`|\n",
    "| < |  Returns `True` if left hand operand is less than right hand operand. Otherwise, returns `False`.  | `b/a < b`|\n",
    "| > |  Returns `True` if left hand operand is greater than right hand operand. Otherwise, returns `False`.  | `a*b > b`|\n",
    "| <= |  Returns `True` if left hand operand is less than or equal to right hand operand. Otherwise, returns `False`.  | `a-b <= a`|\n",
    "| >= |  Returns `True` if left hand operand is greater than or equal to right hand operand. Otherwise, returns `False`.  | `a*b >= b*a`|"
   ]
  },
  {
   "cell_type": "code",
   "execution_count": null,
   "id": "fd1f672f",
   "metadata": {},
   "outputs": [],
   "source": [
    "# Boolean Operators. Let's try to use each of them. "
   ]
  },
  {
   "cell_type": "code",
   "execution_count": 56,
   "id": "b1e2122a",
   "metadata": {
    "slideshow": {
     "slide_type": "slide"
    }
   },
   "outputs": [],
   "source": [
    "# Question 1\n",
    "\n",
    "1+1+1+1+1*0\n",
    "\n",
    "27.03 + 20/100* 27.03\n",
    "\n",
    "10 + 10 / 10\n",
    "\n",
    "4**1/2\n",
    "\n",
    "36**1/2\n"
   ]
  },
  {
   "cell_type": "markdown",
   "id": "4c2a022f",
   "metadata": {
    "slideshow": {
     "slide_type": "slide"
    }
   },
   "source": [
    "# 1.4. Operator Precedence"
   ]
  },
  {
   "cell_type": "markdown",
   "id": "acfcb04c",
   "metadata": {},
   "source": [
    "Operator Precedence in decreasing order. \n",
    "\n",
    "The higher the operator in the table, the higher its priority"
   ]
  },
  {
   "cell_type": "markdown",
   "id": "d87d1fc8",
   "metadata": {},
   "source": [
    "| Syntax      || Description |\n",
    "| :----------- || -----------: |\n",
    "| ()      || Parentheses |\n",
    "| **      || Exponent    |\n",
    "| *,  /,  //,  % || Multiplication, Division, Floor division, Modulus|\n",
    "| +, - || Addition, Subtraction|\n",
    "|==, !=, >, >=, <, <= || Equal, Not Equal, Less Than, Less Than Equal, Greater Than, Greater Than Equal ||"
   ]
  },
  {
   "cell_type": "markdown",
   "id": "e28c4610",
   "metadata": {
    "slideshow": {
     "slide_type": "slide"
    }
   },
   "source": [
    "# Problem 1 (convert time from 24-hour format to 12-hour format)"
   ]
  },
  {
   "cell_type": "code",
   "execution_count": null,
   "id": "701f821b",
   "metadata": {
    "slideshow": {
     "slide_type": "-"
    }
   },
   "outputs": [],
   "source": [
    "clock_24_hrs = 19#\n",
    "clock_24_mins = 30#\n",
    "\n",
    "clock_12_hrs = ?\n",
    "clock_24_mins = ?\n",
    "afternoon = ? # 0 if False, 1 if True \n",
    "\n",
    "print(clock_12_hrs, afternoon)"
   ]
  },
  {
   "cell_type": "markdown",
   "id": "475c3779",
   "metadata": {
    "slideshow": {
     "slide_type": "slide"
    }
   },
   "source": [
    "# [Problem 2: Change-making problem (variant)](https://en.wikipedia.org/wiki/Change-making_problem)"
   ]
  },
  {
   "cell_type": "code",
   "execution_count": 70,
   "id": "4eb652f5",
   "metadata": {},
   "outputs": [],
   "source": [
    "cheque_amount = 27.03 \n",
    "cash = 100\n",
    "\n",
    "singles  = 0\n",
    "twos     = 0\n",
    "fives    = 0\n",
    "tens     = 0\n",
    "twenties = 0\n",
    "fifties  = 0\n",
    "hundreds = 0\n",
    "\n",
    "#.01\n",
    "pennies = 0\n",
    "\n",
    "#.05\n",
    "nickels = 0\n",
    "\n",
    "#.10\n",
    "dimes   = 0\n",
    "\n",
    "#.25\n",
    "quarters = 0"
   ]
  },
  {
   "cell_type": "code",
   "execution_count": null,
   "id": "163c78dc",
   "metadata": {},
   "outputs": [],
   "source": []
  }
 ],
 "metadata": {
  "celltoolbar": "Slideshow",
  "kernelspec": {
   "display_name": "Python 3 (ipykernel)",
   "language": "python",
   "name": "python3"
  },
  "language_info": {
   "codemirror_mode": {
    "name": "ipython",
    "version": 3
   },
   "file_extension": ".py",
   "mimetype": "text/x-python",
   "name": "python",
   "nbconvert_exporter": "python",
   "pygments_lexer": "ipython3",
   "version": "3.9.12"
  }
 },
 "nbformat": 4,
 "nbformat_minor": 5
}
