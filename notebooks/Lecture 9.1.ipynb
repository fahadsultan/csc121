{
 "cells": [
  {
   "cell_type": "markdown",
   "id": "e7f57c96",
   "metadata": {
    "slideshow": {
     "slide_type": "slide"
    }
   },
   "source": [
    "# Lecture 9.1. \n",
    "\n",
    "# Lists \n",
    "\n",
    "# Mon, Oct 24th"
   ]
  },
  {
   "cell_type": "markdown",
   "id": "54dcf535",
   "metadata": {
    "slideshow": {
     "slide_type": "slide"
    }
   },
   "source": [
    "# 9.1. Data Structures"
   ]
  },
  {
   "cell_type": "markdown",
   "id": "d0018f66",
   "metadata": {},
   "source": [
    "* So far, we have only worked with **elementary data types** in Python: \n",
    "    * Integer\n",
    "    * Float\n",
    "    * Booleans\n",
    "    * Strings\n",
    "    * None\n",
    "    \n",
    "* Variables of elementary data types **hold a single value** at a time. "
   ]
  },
  {
   "cell_type": "markdown",
   "id": "23d13dc4",
   "metadata": {
    "slideshow": {
     "slide_type": "slide"
    }
   },
   "source": [
    "* Data Structures, as the same suggests, are structures designed for organizing, processing, manipulating, retrieving and storing Data \n",
    "\n",
    "\n",
    "* Most programming languages provide a set of native data structures to: \n",
    "    1. Facilitate commmon programming tasks\n",
    "    2. Improve programming efficiency for the programmer\n",
    "    3. Improve time and memory efficiency through optimized internal implementations\n",
    "\n",
    "\n",
    "* Python's native data structures that we'll cover in this class will include: \n",
    "    * Lists \n",
    "    * Sets \n",
    "    * Tuples\n",
    "    * Dictionaries\n",
    "    "
   ]
  },
  {
   "cell_type": "markdown",
   "id": "1f34ff21",
   "metadata": {
    "slideshow": {
     "slide_type": "slide"
    }
   },
   "source": [
    "* We will cover our first **Data Structure** in this lecture: **Lists** \n",
    "\n",
    "\n",
    "* Lists are used to store **multiple values** in a single variable.\n",
    "\n",
    "\n",
    "* List items are: \n",
    "    * Ordered\n",
    "    * Changeable\n",
    "    * Allow duplicate values\n",
    "    \n",
    "    \n",
    "* List items can be of **any type**: `int`, `float`, `bool`, `str`"
   ]
  },
  {
   "cell_type": "markdown",
   "id": "228b1f19",
   "metadata": {
    "slideshow": {
     "slide_type": "slide"
    }
   },
   "source": [
    "# 9.1.1. Creating, Initializing and Populating Lists \n",
    "\n",
    "Lists are created using **square brackets** **`[]`** and populated using calls to `<variable_name>`**`.append`**`(value)`"
   ]
  },
  {
   "cell_type": "code",
   "execution_count": 70,
   "id": "70fab45e",
   "metadata": {},
   "outputs": [
    {
     "name": "stdout",
     "output_type": "stream",
     "text": [
      "[0, 1, 2, -6, 5.42, 1, 'south carolina']\n"
     ]
    }
   ],
   "source": [
    "sequence = [0, 1, 2, -6]\n",
    "sequence.append(5.42)\n",
    "sequence.append(1)\n",
    "sequence.append(\"south carolina\")\n",
    "\n",
    "print(sequence)"
   ]
  },
  {
   "cell_type": "markdown",
   "id": "be20cffc",
   "metadata": {
    "slideshow": {
     "slide_type": "-"
    }
   },
   "source": [
    "Lists can also **initialized** with square brackets `[]` and `,` separated values: "
   ]
  },
  {
   "cell_type": "code",
   "execution_count": null,
   "id": "25f2134e",
   "metadata": {},
   "outputs": [],
   "source": [
    "sequence = [0, 1, 0]"
   ]
  },
  {
   "cell_type": "markdown",
   "id": "d6c01187",
   "metadata": {
    "slideshow": {
     "slide_type": "slide"
    }
   },
   "source": [
    "**Question 1. Create a list and populate it using 100 successive calls to `randint(0, 1)` in a `while` loop.**"
   ]
  },
  {
   "cell_type": "code",
   "execution_count": 77,
   "id": "2e312a76",
   "metadata": {},
   "outputs": [
    {
     "name": "stdout",
     "output_type": "stream",
     "text": [
      "[1, 0, 0, 1, 1, 1, 1, 1, 0, 1, 1, 0, 1, 0, 1, 1, 0, 1, 0, 1, 1, 0, 0, 0, 1, 0, 1, 1, 1, 0, 0, 1, 1, 0, 0, 1, 1, 1, 1, 0, 0, 0, 1, 0, 1, 1, 0, 0, 1, 0, 0, 0, 1, 1, 1, 0, 1, 1, 1, 0, 1, 1, 0, 1, 0, 1, 1, 0, 0, 0, 1, 0, 0, 0, 1, 0, 0, 0, 1, 0, 1, 1, 1, 1, 0, 1, 0, 1, 0, 0, 1, 1, 1, 1, 1, 1, 0, 1, 1, 1]\n"
     ]
    }
   ],
   "source": [
    "from random import randint\n",
    "\n",
    "sequence = []\n",
    "i = 1\n",
    "while i <= 100:\n",
    "    sequence.append(randint(0, 1))\n",
    "    i = i + 1\n",
    "    \n",
    "print(sequence)"
   ]
  },
  {
   "cell_type": "markdown",
   "id": "719941ce",
   "metadata": {
    "slideshow": {
     "slide_type": "slide"
    }
   },
   "source": [
    "# 9.1.2. Length of a list"
   ]
  },
  {
   "cell_type": "markdown",
   "id": "49bd5a4e",
   "metadata": {},
   "source": [
    "* You can access the length of a list using `len`"
   ]
  },
  {
   "cell_type": "code",
   "execution_count": 79,
   "id": "a3caaa55",
   "metadata": {},
   "outputs": [
    {
     "data": {
      "text/plain": [
       "5"
      ]
     },
     "execution_count": 79,
     "metadata": {},
     "output_type": "execute_result"
    }
   ],
   "source": [
    "sequence = [1, 2,34, \"Fahad\", \"Furman\"]\n",
    "len(sequence)"
   ]
  },
  {
   "cell_type": "markdown",
   "id": "8c639afd",
   "metadata": {
    "slideshow": {
     "slide_type": "slide"
    }
   },
   "source": [
    "# 9.1.3. Accessing List Items"
   ]
  },
  {
   "cell_type": "markdown",
   "id": "bddabe3e",
   "metadata": {
    "slideshow": {
     "slide_type": "-"
    }
   },
   "source": [
    "* Items in a list are **indexed** from `0` to `len(list) - 1`\n",
    "\n",
    "    * The indexing is left to right in increasing order\n",
    "    \n",
    "    * The first item in the list is the first one appended and appears at index 0\n",
    "        \n",
    "        * Subsequent items can be accessed using indicies 1, 2, 3 and so on... \n",
    "\n",
    "* You can access items in a list by referring to the **index number** within square brackets"
   ]
  },
  {
   "cell_type": "code",
   "execution_count": 87,
   "id": "20686253",
   "metadata": {},
   "outputs": [
    {
     "data": {
      "text/plain": [
       "'carolina'"
      ]
     },
     "execution_count": 87,
     "metadata": {},
     "output_type": "execute_result"
    }
   ],
   "source": [
    "new_list = [\"furman\", \"at\", \"south\", \"carolina\"]\n",
    "\n",
    "new_list[len(new_list)-1]"
   ]
  },
  {
   "cell_type": "markdown",
   "id": "fc54cdcd",
   "metadata": {
    "slideshow": {
     "slide_type": "slide"
    }
   },
   "source": [
    "* If you try to **access an item** in the list using an **index `> len(list)-1`**\n",
    "\n",
    "    * `IndexError: list index out of range`"
   ]
  },
  {
   "cell_type": "code",
   "execution_count": 55,
   "id": "630d8c93",
   "metadata": {},
   "outputs": [
    {
     "ename": "IndexError",
     "evalue": "list index out of range",
     "output_type": "error",
     "traceback": [
      "\u001b[0;31m---------------------------------------------------------------------------\u001b[0m",
      "\u001b[0;31mIndexError\u001b[0m                                Traceback (most recent call last)",
      "Input \u001b[0;32mIn [55]\u001b[0m, in \u001b[0;36m<cell line: 3>\u001b[0;34m()\u001b[0m\n\u001b[1;32m      1\u001b[0m sequence \u001b[38;5;241m=\u001b[39m [\u001b[38;5;241m0\u001b[39m, \u001b[38;5;241m1\u001b[39m, \u001b[38;5;241m0\u001b[39m]\n\u001b[0;32m----> 3\u001b[0m \u001b[43msequence\u001b[49m\u001b[43m[\u001b[49m\u001b[38;5;241;43m4\u001b[39;49m\u001b[43m]\u001b[49m\n",
      "\u001b[0;31mIndexError\u001b[0m: list index out of range"
     ]
    }
   ],
   "source": [
    "sequence = [0, 1, 0]\n",
    "\n",
    "sequence[4]"
   ]
  },
  {
   "cell_type": "markdown",
   "id": "1ae88a17",
   "metadata": {
    "slideshow": {
     "slide_type": "slide"
    }
   },
   "source": [
    "**Question 2**. _\"Flip a coin\"_ using `randint(0, 1)` a 100 times and save the outcomes in a list. **Count** the number of **heads** and the number of **tails**."
   ]
  },
  {
   "cell_type": "code",
   "execution_count": 95,
   "id": "0af46833",
   "metadata": {},
   "outputs": [
    {
     "name": "stdout",
     "output_type": "stream",
     "text": [
      "52 48\n"
     ]
    }
   ],
   "source": [
    "\"\"\"Creating and populating data\"\"\"\n",
    "sequence = []\n",
    "i = 1\n",
    "while i <= 100:\n",
    "    sequence.append(randint(0, 1))\n",
    "    i = i + 1\n",
    "    \n",
    "# print(sequence)\n",
    "\n",
    "\"\"\"Analysis \"\"\"\n",
    "counts_heads = 0\n",
    "counts_tails = 0\n",
    "\n",
    "j = 0\n",
    "while j < len(sequence):\n",
    "    if sequence[j] == 0:\n",
    "        counts_tails = counts_tails + 1\n",
    "    else:\n",
    "        counts_heads = counts_heads + 1\n",
    "    j = j + 1\n",
    "print(counts_heads, counts_tails)"
   ]
  }
 ],
 "metadata": {
  "celltoolbar": "Slideshow",
  "kernelspec": {
   "display_name": "Python 3 (ipykernel)",
   "language": "python",
   "name": "python3"
  },
  "language_info": {
   "codemirror_mode": {
    "name": "ipython",
    "version": 3
   },
   "file_extension": ".py",
   "mimetype": "text/x-python",
   "name": "python",
   "nbconvert_exporter": "python",
   "pygments_lexer": "ipython3",
   "version": "3.9.12"
  }
 },
 "nbformat": 4,
 "nbformat_minor": 5
}
