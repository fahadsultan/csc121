{
 "cells": [
  {
   "cell_type": "markdown",
   "id": "0ffb6721",
   "metadata": {
    "slideshow": {
     "slide_type": "slide"
    }
   },
   "source": [
    "# Lecture 2.1. Conditionals\n",
    "\n",
    "# Introduction to Computer Programming\n",
    "\n",
    "# CSC-121\n",
    "\n",
    "# Friday, September 2nd"
   ]
  },
  {
   "cell_type": "markdown",
   "id": "53c2ce3f",
   "metadata": {
    "slideshow": {
     "slide_type": "slide"
    }
   },
   "source": [
    "# 2.1.1. Flow Chart\n",
    "\n",
    "![If Else](https://upload.wikimedia.org/wikipedia/commons/c/c5/If-Then-Else-diagram.svg)"
   ]
  },
  {
   "cell_type": "markdown",
   "id": "f10d99c7",
   "metadata": {
    "slideshow": {
     "slide_type": "slide"
    }
   },
   "source": [
    "# 2.1.2. Syntax of if ... else \n",
    "\n",
    "`if` _boolean condition_ `:` \n",
    "\n",
    "    True statement 1\n",
    "    .\n",
    "    .\n",
    "    .\n",
    "    True statement n \n",
    "    \n",
    "`else` `:` \n",
    "\n",
    "    False statement 1 \n",
    "    . \n",
    "    . \n",
    "    . \n",
    "    False statement m \n",
    "    "
   ]
  },
  {
   "cell_type": "code",
   "execution_count": null,
   "id": "e53aff02",
   "metadata": {
    "slideshow": {
     "slide_type": "slide"
    }
   },
   "outputs": [],
   "source": [
    "a = 3\n",
    "if a > 2:\n",
    "    print('Greater than 2')\n",
    "else:\n",
    "    print(\"Less than or equal to 2\")  \n",
    "    print('Second else statement')\n",
    "print('Regardless of condition')"
   ]
  },
  {
   "cell_type": "markdown",
   "id": "35a7ecaa",
   "metadata": {
    "slideshow": {
     "slide_type": "slide"
    }
   },
   "source": [
    "# 2.1.3. Boolean Operators (from Lecture 1.1)\n",
    "\n",
    "* These operators return `True` or `False` (i.e. boolean data type). \n",
    "\n",
    "* **We will use these for conditions in `if` statements:**\n",
    "\n",
    "\n",
    "| Operator      | Description   |Example.      |\n",
    "| :-----------  | :-----------: |:-----------: |\n",
    "| ==  |  Returns `True` if left hand operand is equal to right hand operand. Otherwise, returns `False`  | `a+b == b+a` |\n",
    "| != |  Returns `True` if left hand operand is _NOT_ equal to  right hand operand. Otherwise, returns `False`.  | `a*b != b/a`|\n",
    "| < |  Returns `True` if left hand operand is less than right hand operand. Otherwise, returns `False`.  | `b/a < b`|\n",
    "| > |  Returns `True` if left hand operand is greater than right hand operand. Otherwise, returns `False`.  | `a*b > b`|\n",
    "| <= |  Returns `True` if left hand operand is less than or equal to right hand operand. Otherwise, returns `False`.  | `a-b <= a`|\n",
    "| >= |  Returns `True` if left hand operand is greater than or equal to right hand operand. Otherwise, returns `False`.  | `a*b >= b*a`|"
   ]
  },
  {
   "cell_type": "markdown",
   "id": "927aa5a4",
   "metadata": {
    "slideshow": {
     "slide_type": "slide"
    }
   },
   "source": [
    "# 2.1.4. Logical Operators (from Lecture 1.3.)"
   ]
  },
  {
   "cell_type": "markdown",
   "id": "ce86ec60",
   "metadata": {},
   "source": [
    "**We will use these for conditions in `if` statements:**"
   ]
  },
  {
   "cell_type": "markdown",
   "id": "1f0629e6",
   "metadata": {},
   "source": [
    "| Operator      | Description   |\n",
    "|:------        | ------:|\n",
    "|`not`            |  Inverts the existing boolean value i.e. `not` True = False; `not` False = True |\n",
    "|`and`            | True iff **all** boolean expressions are True, False otherwise |\n",
    "|`or`\t\t| True iff **any** boolean expression is True, False iff **all** are False | "
   ]
  },
  {
   "cell_type": "code",
   "execution_count": null,
   "id": "ed5e78cb",
   "metadata": {},
   "outputs": [],
   "source": [
    "a = 0\n",
    "b = 3\n",
    "\n",
    "if not (((b != 3) or (a < 1)) and (b !=0)):\n",
    "    print('South')\n",
    "else:\n",
    "    print('Carolina')"
   ]
  },
  {
   "cell_type": "markdown",
   "id": "1047de34",
   "metadata": {
    "slideshow": {
     "slide_type": "slide"
    }
   },
   "source": [
    "# 2.1.5. Indentation"
   ]
  },
  {
   "cell_type": "markdown",
   "id": "1364f78f",
   "metadata": {},
   "source": [
    "* The **body** of the `if` and `else` statements start with an **indentation** (whitespace at the beginning of a line) and the first unindented line marks the end. \n",
    "\n",
    "* If the statements in the body are not *indented* OR the intendentation is **not consistent**, `IndentationError` would result"
   ]
  },
  {
   "cell_type": "code",
   "execution_count": null,
   "id": "4e33fb8b",
   "metadata": {},
   "outputs": [],
   "source": [
    "a = 1\n",
    "if a > 2:\n",
    "    print('Greater than 2')\n",
    "else:\n",
    "    print(\"Less than 2\")  \n",
    "    print('Today is Friday')\n",
    "    print(\"Abc\")\n",
    "    \n",
    "print(\"we have a long weekend coming up\")"
   ]
  },
  {
   "cell_type": "markdown",
   "id": "e466cd24",
   "metadata": {},
   "source": [
    "# 2.1.6. If ... else vs. booleans"
   ]
  },
  {
   "cell_type": "code",
   "execution_count": null,
   "id": "565989ce",
   "metadata": {
    "slideshow": {
     "slide_type": "slide"
    }
   },
   "outputs": [],
   "source": [
    "college = 4\n",
    "experience = 0\n",
    "gpa = 3.7\n",
    "already_employee = False\n",
    "\n",
    "good_candidate = (college >= 4 and (experience >= 5 or gpa > 3.5) and not already_employee)\n",
    "bad_candidate = not good_candidate\n",
    "\n",
    "## A. \n",
    "answer = (good_candidate*\"Hired!\") + (bad_candidate*\"We regret to inform you...\")\n",
    "print(answer)\n",
    "\n",
    "## B. \n",
    "if good_candidate: \n",
    "    answer = \"Hired!\"\n",
    "else:\n",
    "    answer = \"We regret to inform you... \"\n",
    "print(answer)\n",
    "\n",
    "## A. == B. "
   ]
  },
  {
   "cell_type": "markdown",
   "id": "578f6f7d",
   "metadata": {
    "slideshow": {
     "slide_type": "slide"
    }
   },
   "source": [
    "# 2.1.7. Nested if else "
   ]
  },
  {
   "cell_type": "code",
   "execution_count": null,
   "id": "a91010d8",
   "metadata": {},
   "outputs": [],
   "source": [
    "#C.\n",
    "\n",
    "if (college >= 4):\n",
    "    if (experience >= 5 or gpa > 3.5):\n",
    "        if not already_employee:\n",
    "            print(\"Hired\")\n",
    "else:\n",
    "    print(\"We regret to inform you...\")\n",
    "    \n",
    "#A. == B. == C."
   ]
  }
 ],
 "metadata": {
  "celltoolbar": "Slideshow",
  "kernelspec": {
   "display_name": "Python 3 (ipykernel)",
   "language": "python",
   "name": "python3"
  },
  "language_info": {
   "codemirror_mode": {
    "name": "ipython",
    "version": 3
   },
   "file_extension": ".py",
   "mimetype": "text/x-python",
   "name": "python",
   "nbconvert_exporter": "python",
   "pygments_lexer": "ipython3",
   "version": "3.9.12"
  }
 },
 "nbformat": 4,
 "nbformat_minor": 5
}
