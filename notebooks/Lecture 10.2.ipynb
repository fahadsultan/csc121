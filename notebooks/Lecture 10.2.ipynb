{
 "cells": [
  {
   "cell_type": "markdown",
   "id": "baa4262e",
   "metadata": {
    "slideshow": {
     "slide_type": "slide"
    }
   },
   "source": [
    "# Lecture 10.2. \n",
    "\n",
    "# Strings (continued)\n",
    "\n",
    "# Wed, Nov 2nd 2022"
   ]
  },
  {
   "cell_type": "markdown",
   "id": "1adf4c11",
   "metadata": {
    "slideshow": {
     "slide_type": "slide"
    }
   },
   "source": [
    "# 10.2.1. Escaping characters\n",
    "\n",
    "* To insert characters that are **normally not allowed** in a string, use the **escape character `\\`**, followed by the character you want to insert.\n",
    "\n",
    "* An example of an illegal character is a double quote inside a string that is surrounded by double quotes\n",
    "    * Some common characters that need to be escaped: `\"`, `'` and `\\` itself i.e. \n",
    "        * `\\\"` Double Quotes\n",
    "        * `\\'`  Single Quote\n",
    "        * `\\\\`  Backslash"
   ]
  },
  {
   "cell_type": "code",
   "execution_count": 241,
   "id": "0cc757d1",
   "metadata": {},
   "outputs": [
    {
     "name": "stdout",
     "output_type": "stream",
     "text": [
      "This is a backslash \\\" and this is a forward slash /\n"
     ]
    }
   ],
   "source": [
    "txt = \"This is a backslash \\\\\\\" and this is a forward slash /\"\n",
    "print(txt) "
   ]
  },
  {
   "cell_type": "markdown",
   "id": "e92ff2b3",
   "metadata": {
    "slideshow": {
     "slide_type": "slide"
    }
   },
   "source": [
    "# 10.2.2. Special  Characters\n",
    "\n",
    "* Escape character `\\` is also used for some special characters, often representing whitespace:\n",
    "    * `\\n`  New Line\n",
    "    * `\\t`  Tab\n",
    "    * `\\r` - replaces `n` characters that preceed it with `n` characters that follow\n",
    "    * `\\b`  Backspace"
   ]
  },
  {
   "cell_type": "code",
   "execution_count": 9,
   "id": "36f16710",
   "metadata": {},
   "outputs": [
    {
     "name": "stderr",
     "output_type": "stream",
     "text": [
      "100%|███████████████████████████████████████████████████████████████████████████████████████████████████████████████████████████████████████████████████████████| 100000000/100000000 [00:14<00:00, 6867836.57it/s]\n"
     ]
    }
   ],
   "source": [
    "from tqdm import tqdm \n",
    "\n",
    "for i in tqdm(range(10000*10000)):\n",
    "    pass"
   ]
  },
  {
   "cell_type": "code",
   "execution_count": 8,
   "id": "651b78dd",
   "metadata": {},
   "outputs": [
    {
     "name": "stdout",
     "output_type": "stream",
     "text": [
      "aa\r",
      "b\n"
     ]
    }
   ],
   "source": [
    "print(\"aa\\rb\")"
   ]
  },
  {
   "cell_type": "markdown",
   "id": "63b5f71f",
   "metadata": {
    "slideshow": {
     "slide_type": "slide"
    }
   },
   "source": [
    "# 10.2.3. Multiline Strings\n",
    "\n",
    "* You can assign a multiline string to a variable by using three quotes:  "
   ]
  },
  {
   "cell_type": "code",
   "execution_count": 33,
   "id": "15125697",
   "metadata": {},
   "outputs": [
    {
     "data": {
      "text/plain": [
       "(str, 'abcdef')"
      ]
     },
     "execution_count": 33,
     "metadata": {},
     "output_type": "execute_result"
    }
   ],
   "source": [
    "type(lyrics), str(\"abcdef\")"
   ]
  },
  {
   "cell_type": "code",
   "execution_count": 34,
   "id": "e8f04828",
   "metadata": {},
   "outputs": [
    {
     "name": "stdout",
     "output_type": "stream",
     "text": [
      " \n",
      "We don't need no education\n",
      "We don't need no thought control\n",
      "No dark sarcasm in the classroom\n",
      "Teacher, leave them kids alone\n",
      "\n",
      "Hey, teacher, leave them kids alone\n",
      "\n",
      "All in all it's just another brick in the wall\n",
      "All in all you're just another brick in the wall\n"
     ]
    }
   ],
   "source": [
    "lyrics = \"\"\" \n",
    "We don't need no education\n",
    "We don't need no thought control\n",
    "No dark sarcasm in the classroom\n",
    "Teacher, leave them kids alone\n",
    "\n",
    "Hey, teacher, leave them kids alone\n",
    "\n",
    "All in all it's just another brick in the wall\n",
    "All in all you're just another brick in the wall\"\"\"\n",
    "print(lyrics)"
   ]
  },
  {
   "cell_type": "markdown",
   "id": "5fa73c51",
   "metadata": {
    "slideshow": {
     "slide_type": "slide"
    }
   },
   "source": [
    "# 10.2.3. String formatting "
   ]
  },
  {
   "cell_type": "markdown",
   "id": "3350bee1",
   "metadata": {},
   "source": [
    "* Recall how `+` operator becomes the **concatenation operator** when it is used with variables and/or values of type `str` \n",
    "\n",
    "* Python **does not allow concatenation** of **strings** with variables/values of type `int`/`float`/`bool`"
   ]
  },
  {
   "cell_type": "code",
   "execution_count": 11,
   "id": "a5d76c58",
   "metadata": {},
   "outputs": [
    {
     "name": "stdout",
     "output_type": "stream",
     "text": [
      "Catch 22\n"
     ]
    }
   ],
   "source": [
    "var = \"Catch \"+ str(22)\n",
    "print(var)"
   ]
  },
  {
   "cell_type": "markdown",
   "id": "3e8726be",
   "metadata": {
    "slideshow": {
     "slide_type": "slide"
    }
   },
   "source": [
    "# 10.2.3.1. `\" \".format(..)`"
   ]
  },
  {
   "cell_type": "markdown",
   "id": "abcd88f4",
   "metadata": {
    "slideshow": {
     "slide_type": "-"
    }
   },
   "source": [
    "* In order to concatenate strings with numbers, you have to use **`.format()`** method\n",
    "\n",
    "\n",
    "* The **`.format()`** method takes the passed arguments, formats them, and places them in the string where the placeholders `{}` are:"
   ]
  },
  {
   "cell_type": "code",
   "execution_count": 41,
   "id": "d546b0f8",
   "metadata": {},
   "outputs": [
    {
     "name": "stdout",
     "output_type": "stream",
     "text": [
      "The year is 2022, The day is 2. The month is 11. The time is 11.5\n"
     ]
    }
   ],
   "source": [
    "var = \"The year is {}, The day is {}. The month is {}. The time is {}\"\n",
    "print(var.format(2022, 2, 11, 11.5))\n",
    "\n",
    "\n"
   ]
  },
  {
   "cell_type": "code",
   "execution_count": null,
   "id": "db7c3181",
   "metadata": {},
   "outputs": [],
   "source": [
    "year = 2022\n",
    "txt = \"The year is {} and the month is November. Once again, the year is {} and the day is {}\"\n",
    "print(txt.format(year, year, 2))"
   ]
  },
  {
   "cell_type": "markdown",
   "id": "4c4309c3",
   "metadata": {
    "slideshow": {
     "slide_type": "slide"
    }
   },
   "source": [
    "The `format()` method takes **unlimited number of arguments**, and are placed into the corresponding placeholders:"
   ]
  },
  {
   "cell_type": "code",
   "execution_count": 56,
   "id": "fae5c9d3",
   "metadata": {},
   "outputs": [
    {
     "name": "stdout",
     "output_type": "stream",
     "text": [
      "First placeholder 11. Second placeholder 2022. Third placeholder: 3\n"
     ]
    }
   ],
   "source": [
    "year = 2022\n",
    "month = 11\n",
    "thirdvalue = 3\n",
    "var = \"First placeholder {second}. Second placeh older {first}. Third placeholder: {none}\"\n",
    "var = var.format(first=year, second=month, none=3)\n",
    "print(var)\n"
   ]
  },
  {
   "cell_type": "code",
   "execution_count": null,
   "id": "4e75388f",
   "metadata": {},
   "outputs": [],
   "source": [
    "# MM/DD/YY\n",
    "day = 12\n",
    "year = 2022\n",
    "value = \"The year is {0:.2f}.The day is {1:02d}\"\n",
    "print(value.format(year, day))"
   ]
  },
  {
   "cell_type": "code",
   "execution_count": 31,
   "id": "f029b4b9",
   "metadata": {},
   "outputs": [
    {
     "data": {
      "text/plain": [
       "'11.0/10/2022.00'"
      ]
     },
     "execution_count": 31,
     "metadata": {},
     "output_type": "execute_result"
    }
   ],
   "source": [
    "\"MM/DD/YY\"\n",
    "\n",
    "\"{0:.1f}/{1:02d}/{2:.2f}\".format(11, 10, 2022)"
   ]
  },
  {
   "cell_type": "code",
   "execution_count": null,
   "id": "d84ab806",
   "metadata": {},
   "outputs": [],
   "source": [
    "day = 2\n",
    "month = 11\n",
    "year = 2022\n",
    "date = \"One date format is {}/{}/{}\"\n",
    "print(date.format(month, day, year))"
   ]
  },
  {
   "cell_type": "markdown",
   "id": "a7e879df",
   "metadata": {
    "slideshow": {
     "slide_type": "slide"
    }
   },
   "source": [
    "* Within curly brackets, you can further specify positional and formatting parameters. The format is as follows: \n",
    "\n",
    "* `{<position of input>:`**`<formatting>`**`}`"
   ]
  },
  {
   "cell_type": "code",
   "execution_count": 68,
   "id": "b982ed26",
   "metadata": {},
   "outputs": [
    {
     "data": {
      "text/plain": [
       "'The day is 12'"
      ]
     },
     "execution_count": 68,
     "metadata": {},
     "output_type": "execute_result"
    }
   ],
   "source": [
    "# MM/DD/YY\n",
    "day = 12\n",
    "\"The day is {:02d}\".format(day)"
   ]
  },
  {
   "cell_type": "code",
   "execution_count": null,
   "id": "d5d8bf06",
   "metadata": {},
   "outputs": [],
   "source": [
    "total_amount = 20\n",
    "tip = (20/100) * total_amount\n",
    "tax = (6/100)  * total_amount\n",
    "myorder = \"Total bill: ${0:.0f}\\nTax: ${2}\\nRecommended tip (20%): ${1}\"\n",
    "print(myorder.format(total_amount, tip, tax))"
   ]
  },
  {
   "cell_type": "markdown",
   "id": "37cb3bc7",
   "metadata": {
    "slideshow": {
     "slide_type": "slide"
    }
   },
   "source": [
    "Some (of many) **formatting** options, after `:` within `{}`: \n",
    "\n",
    "* `%s` - String (or any object with a string representation, like numbers)\n",
    "\n",
    "* `%d` - Integers\n",
    "\n",
    "* `%f` - Floating point numbers\n",
    "\n",
    "* `%.<number of digits>f` - Floating point numbers with a fixed amount of digits to the right of the dot.\n",
    "\n",
    "* `0<width>d` - Prepends 0s, if needed, to ensure minimum digits equal to `width`"
   ]
  },
  {
   "cell_type": "code",
   "execution_count": null,
   "id": "c3b92d4f",
   "metadata": {
    "slideshow": {
     "slide_type": "-"
    }
   },
   "outputs": [],
   "source": [
    "day = 2\n",
    "month = 11\n",
    "year = 2022\n",
    "date = \"One date format is {}/{:02d}/{:d}\"\n",
    "print(date.format(month, day, year))"
   ]
  },
  {
   "cell_type": "code",
   "execution_count": 69,
   "id": "dd7c211e",
   "metadata": {},
   "outputs": [
    {
     "data": {
      "text/plain": [
       "'First placeholder: a. Second Placeholder: b'"
      ]
     },
     "execution_count": 69,
     "metadata": {},
     "output_type": "execute_result"
    }
   ],
   "source": [
    "\"First placeholder: %s. Second Placeholder: %s\" % (\"a\", \"b\")"
   ]
  },
  {
   "cell_type": "markdown",
   "id": "a28a7f79",
   "metadata": {
    "slideshow": {
     "slide_type": "slide"
    }
   },
   "source": [
    "# 10.2.3.2 `%` operator\n",
    "\n",
    "* The `%` operator, followed by `s` or `d` or `f`, is an alternative to `.format()` method\n",
    "\n",
    "* Syntax: `<format> % <value>` or `<format> % (<value 1>, <value 2> ..)`\n",
    "\n",
    "    * `<format>`: string containing one or more `%s` \n",
    "    * `<values>`: one or more comma separated values of type `int`, `str`, `float`"
   ]
  },
  {
   "cell_type": "code",
   "execution_count": 37,
   "id": "f4e7ff89",
   "metadata": {},
   "outputs": [
    {
     "data": {
      "text/plain": [
       "'The day is 10 and the year is 2022'"
      ]
     },
     "execution_count": 37,
     "metadata": {},
     "output_type": "execute_result"
    }
   ],
   "source": [
    "d = 10\n",
    "y = 2022\n",
    "\"The day is %s and the year is %s\" % (d, y)"
   ]
  },
  {
   "cell_type": "markdown",
   "id": "eb547302",
   "metadata": {
    "slideshow": {
     "slide_type": "slide"
    }
   },
   "source": [
    "\n",
    "* Here are some basic argument specifiers you should know:\n",
    "\n",
    "    * `%s` - String (or any object with a string representation, like numbers)\n",
    "\n",
    "    * `%d` - Integers\n",
    "\n",
    "    * `%f` - Floating point numbers\n",
    "\n",
    "    * `%.<number of digits>f` - Floating point numbers with a fixed amount of digits to the right of the dot.\n",
    "\n",
    "    * `%0<width>d` - Prepends 0s, if needed, to ensure minimum digits equal to width"
   ]
  },
  {
   "cell_type": "code",
   "execution_count": null,
   "id": "f7147e48",
   "metadata": {},
   "outputs": [],
   "source": [
    "total_amount = 20\n",
    "tip = (20/100) * total_amount\n",
    "tax = (6/100)  * total_amount\n",
    "myorder = \"Total bill: $%d\\nTax: $%.2f\\nRecommended tip: $%.0f\" % (total_amount, tip, tax)\n",
    "print(myorder)"
   ]
  },
  {
   "cell_type": "markdown",
   "id": "d77d078c",
   "metadata": {
    "slideshow": {
     "slide_type": "slide"
    }
   },
   "source": [
    "# 10.2.4. Some other useful built-in String functions"
   ]
  },
  {
   "cell_type": "markdown",
   "id": "5160eafd",
   "metadata": {},
   "source": [
    "* `string_var`**`.split(sep)`** - Return a list of the words in the string, using sep as the delimiter string.\n",
    "\n",
    "* `string_var`**`.upper()`** - Return a copy of the string converted to uppercase.\n",
    "\n",
    "* `string_var`**`.lower()`** - Return a copy of the string converted to lowercase.\n",
    "\n",
    "* `string_var`**`.isalpha()`** - Return True if the string is an alphabetic string, False otherwise.\n",
    "\n",
    "* `string_var`**`.isnumeric()`** - Return True if the string is a numeric string, False otherwise."
   ]
  },
  {
   "cell_type": "code",
   "execution_count": 56,
   "id": "0685a5f1",
   "metadata": {},
   "outputs": [],
   "source": [
    "x = \"162416a\"\n",
    "if x.isalpha():\n",
    "    x = int(x)"
   ]
  },
  {
   "cell_type": "markdown",
   "id": "65f062e0",
   "metadata": {
    "slideshow": {
     "slide_type": "slide"
    }
   },
   "source": [
    "# Question 1. Return the multiplication table of `n` \n",
    "Write a function that accepts as input `n` and **returns** the multiplication table of `n`, **upto `n x 10`**. For example, for `n=9`, the function should **return**: \n",
    "\n",
    "`9 x 1 = 9` \\\n",
    "`9 x 2 = 18` \\\n",
    "`9 x 3 = 27` \\\n",
    "... \\\n",
    "`9 x 10 = 90`"
   ]
  },
  {
   "cell_type": "code",
   "execution_count": 59,
   "id": "489d3cd8",
   "metadata": {},
   "outputs": [
    {
     "name": "stdout",
     "output_type": "stream",
     "text": [
      "9 x 1  = 9\n",
      "9 x 2  = 18\n",
      "9 x 3  = 27\n",
      "9 x 4  = 36\n",
      "9 x 5  = 45\n",
      "9 x 6  = 54\n",
      "9 x 7  = 63\n",
      "9 x 8  = 72\n",
      "9 x 9  = 81\n",
      "9 x 10  = 90\n",
      "\n"
     ]
    }
   ],
   "source": [
    "def multiplication_table(n):\n",
    "    \n",
    "    template = \"{} x {}  = {}\\n\"\n",
    "    table =\"\"\n",
    "    \n",
    "    i = 1\n",
    "    while i <= 10:\n",
    "        line = template.format(n, i, n*i)\n",
    "        table = table + line\n",
    "        \n",
    "        i = i + 1\n",
    "    \n",
    "    return table\n",
    "    \n",
    "print(multiplication_table(9))"
   ]
  },
  {
   "cell_type": "markdown",
   "id": "211bc376",
   "metadata": {},
   "source": [
    "# Question 2. Date Format Conversion"
   ]
  },
  {
   "cell_type": "markdown",
   "id": "228248b0",
   "metadata": {},
   "source": [
    "Write a function that accepts as input a string of date in format **DD/MM/YYYY** and returns the date in the format **MM/DD/YY**\n",
    "\n",
    "For example, for `in_date = 31/12/2022` should return  `12/31/2022`"
   ]
  },
  {
   "cell_type": "code",
   "execution_count": 61,
   "id": "368e2060",
   "metadata": {},
   "outputs": [
    {
     "data": {
      "text/plain": [
       "'12/31/2022'"
      ]
     },
     "execution_count": 61,
     "metadata": {},
     "output_type": "execute_result"
    }
   ],
   "source": [
    "\n",
    "def func(in_date):\n",
    "    nums = in_date.split(\"/\")\n",
    "    out_date = \"{}/{}/{}\".format(nums[1], nums[0], nums[2])\n",
    "    return out_date\n",
    "\n",
    "func(\"31/12/2022\")\n"
   ]
  },
  {
   "cell_type": "markdown",
   "id": "77f22c08",
   "metadata": {},
   "source": [
    "# Question 3. Zipper merge Strings"
   ]
  },
  {
   "cell_type": "markdown",
   "id": "6c7aa9d1",
   "metadata": {},
   "source": [
    "Write a function that takes two strings `a` and `b`, of equal length, as input and merges the two in an alternating pattern i.e. one character from `a` followed by one character from `b`. \n",
    "\n",
    "For example, `a=\"abcd\"` and `b=\"efgh\"` should return `\"aebfcgdh\"`"
   ]
  },
  {
   "cell_type": "code",
   "execution_count": null,
   "id": "0e7ac1ae",
   "metadata": {},
   "outputs": [],
   "source": [
    "\n",
    "\n"
   ]
  }
 ],
 "metadata": {
  "celltoolbar": "Slideshow",
  "kernelspec": {
   "display_name": "Python 3 (ipykernel)",
   "language": "python",
   "name": "python3"
  },
  "language_info": {
   "codemirror_mode": {
    "name": "ipython",
    "version": 3
   },
   "file_extension": ".py",
   "mimetype": "text/x-python",
   "name": "python",
   "nbconvert_exporter": "python",
   "pygments_lexer": "ipython3",
   "version": "3.9.12"
  }
 },
 "nbformat": 4,
 "nbformat_minor": 5
}
