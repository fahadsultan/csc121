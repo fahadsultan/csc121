{
 "cells": [
  {
   "cell_type": "markdown",
   "id": "5b7fcda3",
   "metadata": {
    "slideshow": {
     "slide_type": "slide"
    }
   },
   "source": [
    "# Lecture 1.2\n",
    "\n",
    "## Introduction to Computer Programming\n",
    "## CSC 121\n",
    "\n",
    "## Monday, Aug 29th"
   ]
  },
  {
   "cell_type": "markdown",
   "id": "055dd455",
   "metadata": {
    "slideshow": {
     "slide_type": "slide"
    }
   },
   "source": [
    "# 1.4. Operator Precedence"
   ]
  },
  {
   "cell_type": "markdown",
   "id": "966e1536",
   "metadata": {},
   "source": [
    "Operator Precedence in decreasing order. \n",
    "\n",
    "The higher the operator in the table, the higher its priority"
   ]
  },
  {
   "cell_type": "markdown",
   "id": "07459603",
   "metadata": {},
   "source": [
    "| Syntax      || Description |\n",
    "| :----------- || -----------: |\n",
    "| ()      || Parentheses |\n",
    "| **      || Exponent    |\n",
    "| *,  /,  //,  % || Multiplication, Division, Floor division, Modulus|\n",
    "| +, - || Addition, Subtraction|\n",
    "|==, !=, >, >=, <, <= || Equal, Not Equal, Less Than, Less Than Equal, Greater Than, Greater Than Equal ||"
   ]
  },
  {
   "cell_type": "code",
   "execution_count": null,
   "id": "d96f038d",
   "metadata": {
    "slideshow": {
     "slide_type": "slide"
    }
   },
   "outputs": [],
   "source": [
    "\"\"\"Operator Precendence:\n",
    "------------------------\n",
    "\n",
    "Before you run this cell,\n",
    "think about what the outputs should be\n",
    "and write them as single line comments\"\"\"\n",
    "\n",
    "# 4**1/2\n",
    "\n",
    "# 1+1+1+1+1*0\n",
    " \n",
    "# 27.03 + 20/100* 27.03\n",
    "\n",
    "# 10 + 10 / 10\n",
    "\n",
    "# (6*2)**1/2"
   ]
  },
  {
   "cell_type": "markdown",
   "id": "0aa27127",
   "metadata": {
    "slideshow": {
     "slide_type": "slide"
    }
   },
   "source": [
    "# 1.5 Flow of execution \n",
    "\n",
    "* For multiple lines of code: \n",
    "    * Sequential, top line to bottom line\n",
    "    \n",
    "* For each **individual line** of code: \n",
    "    * If the line has an **assignment operator** (=) or one of the **boolean operators** (==, !=, >= ... ), then:\n",
    "\n",
    "        * Expression on **right hand side** of assignment/boolean operator is **executed first**\n",
    "\n",
    "        * Then, left hand expression of assignment operator is executed\n",
    "        \n",
    "* For **each expression**, \n",
    "    * Operators executed as per **rules of precedence**\n",
    "    \n",
    "    * If there are multiple operators of the **same precedence**, then they are **executed left to right**"
   ]
  },
  {
   "cell_type": "code",
   "execution_count": 2,
   "id": "c83d37bf",
   "metadata": {
    "slideshow": {
     "slide_type": "slide"
    }
   },
   "outputs": [],
   "source": [
    "# 1. Executed first\n",
    "cheque_amount = 27.03 \n",
    "\n",
    "# 2. Executed second \n",
    "tip = 20/100 * cheque_amount \n",
    " \n",
    "# 3. Executed third \n",
    "total = cheque_amount + tip "
   ]
  },
  {
   "cell_type": "code",
   "execution_count": 3,
   "id": "019b0302",
   "metadata": {
    "slideshow": {
     "slide_type": "slide"
    }
   },
   "outputs": [
    {
     "name": "stdout",
     "output_type": "stream",
     "text": [
      "32.436\n"
     ]
    }
   ],
   "source": [
    "# 1. Executed first\n",
    "cheque_amount = 27.03 \n",
    "\n",
    "\"\"\" 2. Executed second\n",
    "----------------------\n",
    "2.1. Right hand side: `20/100 * cheque_amount` executed first\n",
    "2.2. Since / and * are two operators of the same precendence, \n",
    "     the operators are executed from left to right \n",
    "     20/100 is executed first, resulting in 0.2\n",
    "2.3. Then 0.2 * cheque_amount is executed \"\"\"\n",
    "\n",
    "tip = 20/100 * cheque_amount \n",
    "\n",
    "# 3. Executed third\n",
    "total = cheque_amount + tip \n",
    "\n",
    "print(total)"
   ]
  },
  {
   "cell_type": "code",
   "execution_count": null,
   "id": "40c85993",
   "metadata": {
    "slideshow": {
     "slide_type": "slide"
    }
   },
   "outputs": [],
   "source": [
    "print(1+1 * 1+1 == 2 ** 1+1)\n",
    "\n",
    "print((1+1) * (1+1) != 2 ** (1+1))"
   ]
  },
  {
   "cell_type": "code",
   "execution_count": null,
   "id": "3eedf1de",
   "metadata": {
    "slideshow": {
     "slide_type": "slide"
    }
   },
   "outputs": [],
   "source": [
    "\"\"\" Flow of execution:\n",
    "----------------------\n",
    "    1. Executed first: 2 ** 1+1. Breakdown of right-hand side:\n",
    "        1.1. a = 2 ** 1\n",
    "        1.2. b = a + 1\n",
    "    2. Executed second: 1+1 * 1+1. Breakdown of left hand side\n",
    "        2.1. c = 1 * 1\n",
    "        2.2. d = 1 + c \n",
    "        2.3. e = d + 1\n",
    "\"\"\"\n",
    "1+1 * 1+1 == 2 ** 1+1"
   ]
  },
  {
   "cell_type": "markdown",
   "id": "185624f5",
   "metadata": {
    "slideshow": {
     "slide_type": "slide"
    }
   },
   "source": [
    "# [Problem 1: Change-making problem (variant)](https://en.wikipedia.org/wiki/Change-making_problem)\n",
    "\n",
    "The heading above is a link. Click on it. "
   ]
  },
  {
   "cell_type": "code",
   "execution_count": 8,
   "id": "26fa1c1b",
   "metadata": {},
   "outputs": [
    {
     "name": "stdout",
     "output_type": "stream",
     "text": [
      "0.009999999999990905\n"
     ]
    }
   ],
   "source": [
    "\"\"\"Change-making problem: \n",
    "-------------------------\n",
    "\n",
    "Given `cheque_amount` and `cash`, compute\n",
    "minimum number of bills and coins needed to \n",
    "give back the change. \n",
    "\n",
    "Assume you have infinite banknotes and coins \n",
    "for each denomination\n",
    "\n",
    "Inputs: \n",
    "-------\n",
    "cheque_amount \n",
    "cash\n",
    "\n",
    "U.S. currency denominations (implicit)\n",
    "\n",
    "Outputs:\n",
    "--------\n",
    "min_bills_and_coins =\n",
    "\"\"\"\n",
    "\n",
    "cheque_amount = 27.03 \n",
    "cash = 100\n",
    "\n",
    "change = cash - cheque_amount \n",
    "\n",
    "\n",
    "hundreds = change // 100 # Insert code here \n",
    "# change_hundreds = change - hundreds*100 \n",
    "remainder = change % 100\n",
    "\n",
    "fifties  = remainder // 50 # Insert code here \n",
    "remainder = remainder % 50\n",
    "\n",
    "twenties = remainder // 20 \n",
    "remainder = remainder % 20\n",
    "\n",
    "tens     = remainder // 10 \n",
    "remainder = remainder % 10\n",
    "\n",
    "fives    = remainder // 5\n",
    "remainder = remainder % 5\n",
    "\n",
    "singles  = remainder // 1\n",
    "remainder = remainder % 1\n",
    "\n",
    "quarters = remainder // 0.25  #.25\n",
    "remainder =  remainder % 0.25\n",
    "\n",
    "dimes    = remainder // 0.10  #.10\n",
    "remainder = remainder  % 0.10\n",
    "\n",
    "nickels  = remainder // 0.05 #.05\n",
    "remainder = remainder % 0.05\n",
    "\n",
    "pennies  = remainder // 0.01       #.01\n",
    "remainder = remainder % 0.01\n",
    "\n",
    "print(change - (100*hundreds+\\\n",
    "                50*fifties+\\\n",
    "                20*twenties+\\\n",
    "                10*tens+\\\n",
    "                5*fives+\\\n",
    "                1*singles+\n",
    "                0.25*quarters+\\\n",
    "                0.10*dimes+\\\n",
    "                0.05*nickels+\\\n",
    "                0.01*pennies))\n"
   ]
  },
  {
   "cell_type": "code",
   "execution_count": 29,
   "id": "8b28479e",
   "metadata": {},
   "outputs": [
    {
     "name": "stdout",
     "output_type": "stream",
     "text": [
      "8\n"
     ]
    }
   ],
   "source": [
    "number = 7.6\n",
    "\n",
    "integer_part    = int(number)\n",
    "fractional_part = number - truncated\n",
    "\n",
    "to_ceil = fractional_part >= 0.5\n",
    "\n",
    "rounded = truncated + to_ceil*1\n",
    "\n",
    "print(rounded)"
   ]
  },
  {
   "cell_type": "code",
   "execution_count": null,
   "id": "93face3d",
   "metadata": {},
   "outputs": [],
   "source": [
    "time_24hrclock = time_12hrclock + 12*pm\n",
    "\n"
   ]
  },
  {
   "cell_type": "code",
   "execution_count": 37,
   "id": "71138c5d",
   "metadata": {},
   "outputs": [
    {
     "name": "stdout",
     "output_type": "stream",
     "text": [
      "7.0\n"
     ]
    }
   ],
   "source": [
    "number = 6.7\n",
    "\n",
    "integer_part    = number // 1\n",
    "fractional_part = number % 1\n",
    "\n",
    "to_ceil = fractional_part >= 0.5\n",
    "\n",
    "rounded = integer_part + to_ceil*1\n",
    "\n",
    "print(rounded)"
   ]
  },
  {
   "cell_type": "code",
   "execution_count": 34,
   "id": "b7277941",
   "metadata": {},
   "outputs": [],
   "source": [
    "number = 6.5\n",
    "\n",
    "a = number // 1"
   ]
  },
  {
   "cell_type": "code",
   "execution_count": 38,
   "id": "270f75c6",
   "metadata": {},
   "outputs": [
    {
     "name": "stdout",
     "output_type": "stream",
     "text": [
      "7.0\n"
     ]
    }
   ],
   "source": [
    "number = 6.5\n",
    "\n",
    "#\n",
    "a = number // 1\n",
    "\n",
    "#\n",
    "b = number % 1\n",
    "\n",
    "#\n",
    "c = b >= 0.5\n",
    "\n",
    "#\n",
    "d = a + c*1\n",
    "\n",
    "print(d)"
   ]
  },
  {
   "cell_type": "code",
   "execution_count": null,
   "id": "4fb178e7",
   "metadata": {},
   "outputs": [],
   "source": []
  }
 ],
 "metadata": {
  "celltoolbar": "Slideshow",
  "kernelspec": {
   "display_name": "Python 3 (ipykernel)",
   "language": "python",
   "name": "python3"
  },
  "language_info": {
   "codemirror_mode": {
    "name": "ipython",
    "version": 3
   },
   "file_extension": ".py",
   "mimetype": "text/x-python",
   "name": "python",
   "nbconvert_exporter": "python",
   "pygments_lexer": "ipython3",
   "version": "3.9.12"
  }
 },
 "nbformat": 4,
 "nbformat_minor": 5
}
