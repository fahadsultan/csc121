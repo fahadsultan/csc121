{
 "cells": [
  {
   "cell_type": "markdown",
   "id": "0a81cca9",
   "metadata": {},
   "source": [
    "# Question 1. \n",
    "\n",
    "**1.a.** Find out how different implementations of the rounding function: `csc121_round1`, `csc121_round2` and `round` compare by computing their run times, for some arbitrary input floating number. \n",
    "\n",
    "Using `start = time()` before each function call and `end = time()` after each function call to compute run time using the formula:\n",
    "\n",
    "`runtime = end - start`"
   ]
  },
  {
   "cell_type": "code",
   "execution_count": null,
   "id": "64403e44",
   "metadata": {},
   "outputs": [],
   "source": [
    "from time import time\n",
    "\n",
    "def csc121_round1(float_number):\n",
    "    integer_part = float_number // 1\n",
    "    fractional_part = float_number % 1\n",
    "    to_ceil = fractional_part > 0.5\n",
    "    rounded = integer_part + to_ceil \n",
    "    return rounded\n",
    "\n",
    "def csc121_round2(number):\n",
    "    integer_part = int(number)\n",
    "    fractional_part = number - integer_part\n",
    "    if fractional_part >= 0.5: \n",
    "        integer_part = integer_part + 1\n",
    "    return integer_part"
   ]
  },
  {
   "cell_type": "code",
   "execution_count": null,
   "id": "96165e4a",
   "metadata": {},
   "outputs": [],
   "source": []
  },
  {
   "cell_type": "markdown",
   "id": "0e96ef4f",
   "metadata": {},
   "source": [
    "**1.b.** Do the run times change on multiple runs of the code cell? Does the ranking of the functions in terms of speed change? \n",
    "\n",
    "Use a `while` loop to call each function 1000 times and see if the run times stabilize on repeated runs of the code. "
   ]
  },
  {
   "cell_type": "code",
   "execution_count": null,
   "id": "d1a3df80",
   "metadata": {},
   "outputs": [],
   "source": [
    "\n",
    "\n"
   ]
  },
  {
   "cell_type": "markdown",
   "id": "eddaa5ea",
   "metadata": {},
   "source": [
    "**1.c.**\n",
    "Write a loop to **call each function a million times** and print out the **total run time** for each of implementation. \n",
    "\n",
    "In each iteration, pass as input to the functions the value of the loop's iterator variable divided by 100 e.g. `csc121_round(i/100)` if the iterator is `i`.\n",
    "\n",
    "Note that `i/100` allows us to test our functions on a million different inputs, each with many fractional values. \n"
   ]
  },
  {
   "cell_type": "code",
   "execution_count": null,
   "id": "723653b0",
   "metadata": {},
   "outputs": [],
   "source": [
    "\n",
    "\n"
   ]
  },
  {
   "cell_type": "markdown",
   "id": "9d79d55d",
   "metadata": {},
   "source": [
    "# Question 2. "
   ]
  },
  {
   "cell_type": "markdown",
   "id": "21f090ab",
   "metadata": {},
   "source": [
    "Call the `csc121_abs` function a **million** times and print out the **best** runtime, **worst** run time and the **average** run time. \n",
    "\n",
    "Pass the following input to `csc121_abs`: $i \\times (-1)^{i}$. \n",
    "\n",
    "_Note that the formula above allow us to test `csc121_abs` for a **million different inputs**: half a million negative numbers and the other half million positive numbers._"
   ]
  },
  {
   "cell_type": "code",
   "execution_count": null,
   "id": "8d077eff",
   "metadata": {},
   "outputs": [],
   "source": [
    "def csc121_abs(x):\n",
    "    if x<0:\n",
    "        x = x*-1\n",
    "    return x\n",
    "\n",
    "\n"
   ]
  },
  {
   "cell_type": "markdown",
   "id": "adda5db0",
   "metadata": {},
   "source": [
    "# Question 3. "
   ]
  },
  {
   "cell_type": "markdown",
   "id": "3763531b",
   "metadata": {},
   "source": [
    "Say you get an interest-free loan of $100 from the bank. \n",
    "\n",
    "If you pay half of the remaining debt amount every month, how long would it take for you to pay off the debt? \n",
    "\n",
    "Write a function `is_debt_owed` that takes as input `months` and returns \n",
    "\n",
    "* `False` if the debt would've been paid off after the given `months` and \n",
    "* `True` if after `months` you will still owe the bank some money. \n",
    "\n",
    "**_Use a while loop to calculate remaining debt_**"
   ]
  },
  {
   "cell_type": "code",
   "execution_count": null,
   "id": "0f8a7fca",
   "metadata": {},
   "outputs": [],
   "source": [
    "def is_debt_owed(months):\n",
    "    debt = 100\n",
    "    \n",
    "    return debt_owed\n",
    "    \n",
    "\n",
    "assert is_debt_owed(5) == True,      \"Test case 1 passed\"\n",
    "assert is_debt_owed(10) == True,     \"Test case 2 passed\"\n",
    "assert is_debt_owed(50) == True,     \"Test case 3 passed\"\n",
    "assert is_debt_owed(100) == True,    \"Test case 4 passed\"\n",
    "assert is_debt_owed(500) == True,    \"Test case 5 passed\"\n",
    "assert is_debt_owed(1000) == True,   \"Test case 6 passed\"\n",
    "\n",
    "print(\"All test cases passed successfully\")"
   ]
  },
  {
   "cell_type": "markdown",
   "id": "18d9f79b",
   "metadata": {},
   "source": [
    "**3.b.** Find out the value of months for which `is_debt_owed` would eventually return `False`. How many years is that? "
   ]
  },
  {
   "cell_type": "code",
   "execution_count": null,
   "id": "0f5dfca3",
   "metadata": {},
   "outputs": [],
   "source": [
    "\n",
    "\n"
   ]
  },
  {
   "cell_type": "markdown",
   "id": "31ce176e",
   "metadata": {},
   "source": [
    "# Question 4. "
   ]
  },
  {
   "cell_type": "markdown",
   "id": "68225022",
   "metadata": {},
   "source": [
    "Write a function `smallest_multiple` that takes as input a _positive integer_ `n` and returns the smallest number `x` such that:\n",
    "\n",
    "`x % i == 0`, for all `1 <= i <= n`. \n",
    "\n",
    "For example, for input `n=10`, the function should return `2520` as it is the smallest number that can be divided by each of the numbers from 1 to 10 without any remainder.\n",
    "\n"
   ]
  },
  {
   "cell_type": "code",
   "execution_count": null,
   "id": "f7672d36",
   "metadata": {},
   "outputs": [],
   "source": [
    "def smallest_multiple(n=5): \n",
    "    \n",
    "    return result\n",
    "\n",
    "assert smallest_multiple(2) == 2,      \"Test case 1 passed\"\n",
    "assert smallest_multiple(4) == 12,     \"Test case 2 passed\"\n",
    "assert smallest_multiple(5) == 60,     \"Test case 3 passed\"\n",
    "assert smallest_multiple(10) == 2520,  \"Test case 4 passed\"\n",
    "assert smallest_multiple(12) == 27720, \"Test case 5 passed\"\n",
    "\n",
    "print(\"All test cases passed successfully\")"
   ]
  }
 ],
 "metadata": {
  "kernelspec": {
   "display_name": "Python 3 (ipykernel)",
   "language": "python",
   "name": "python3"
  },
  "language_info": {
   "codemirror_mode": {
    "name": "ipython",
    "version": 3
   },
   "file_extension": ".py",
   "mimetype": "text/x-python",
   "name": "python",
   "nbconvert_exporter": "python",
   "pygments_lexer": "ipython3",
   "version": "3.9.12"
  }
 },
 "nbformat": 4,
 "nbformat_minor": 5
}
