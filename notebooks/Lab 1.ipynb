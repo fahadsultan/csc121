{
 "cells": [
  {
   "cell_type": "markdown",
   "id": "6668db2f",
   "metadata": {},
   "source": [
    "# Q1. Round a floating point number, without using `round()`\n",
    "\n",
    "## Use only mathematical operators, boolean operators and data-type casting.\n",
    " \n",
    "### Assume inputs are always positive and you are to only round to the nearest integer (no digit precision).\n",
    "\n",
    "### Round up (ceil) for .5\n",
    "\n",
    "### There are multiple answers to solve this problem. \n",
    "\n",
    "### Hint: One of the answers involves exactly 1 of each of the following: `//`, `%`, `+`, `*`, `>=` "
   ]
  },
  {
   "cell_type": "code",
   "execution_count": null,
   "id": "6c94f12b",
   "metadata": {},
   "outputs": [],
   "source": [
    "#Input\n",
    "float_number = 7.6\n",
    "\n",
    "#Insert your line(s) of code here\n",
    "\n",
    "#Output\n",
    "rounded = "
   ]
  },
  {
   "cell_type": "markdown",
   "id": "35ea5fbe",
   "metadata": {},
   "source": [
    "# Q2. `Update` the Jane Doe algorithm from class, to compute 15% tip\n",
    "\n",
    "## Change the third step  and you are not allowed to use multiplication `*`\n",
    "\n",
    "### You can add more lines if you want\n"
   ]
  },
  {
   "cell_type": "code",
   "execution_count": null,
   "id": "4c60f5b5",
   "metadata": {},
   "outputs": [],
   "source": [
    "cheque_amount = 100\n",
    "\n",
    "#1. Move the decimal point one place to the left\n",
    "ten_percent = amount/10\n",
    "\n",
    "#2. Round the number from step 1\n",
    "ten_percent_round = round(ten_percent)\n",
    "\n",
    "#3. Double the number from step 2\n",
    "twenty_percent = ten_percent_round*2\n",
    "\n",
    "print(\"I am sure the service was great. You should tip: $%s\" % twenty_percent)"
   ]
  }
 ],
 "metadata": {
  "kernelspec": {
   "display_name": "Python 3 (ipykernel)",
   "language": "python",
   "name": "python3"
  },
  "language_info": {
   "codemirror_mode": {
    "name": "ipython",
    "version": 3
   },
   "file_extension": ".py",
   "mimetype": "text/x-python",
   "name": "python",
   "nbconvert_exporter": "python",
   "pygments_lexer": "ipython3",
   "version": "3.9.12"
  }
 },
 "nbformat": 4,
 "nbformat_minor": 5
}
