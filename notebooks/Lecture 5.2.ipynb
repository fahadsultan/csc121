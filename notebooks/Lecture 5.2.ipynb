{
 "cells": [
  {
   "cell_type": "markdown",
   "id": "4060f195",
   "metadata": {},
   "source": [
    "# 5.2.1. Function Overloading (or the lack thereof) in Python"
   ]
  },
  {
   "cell_type": "markdown",
   "id": "7003aed2",
   "metadata": {},
   "source": [
    "**Question 5** from Lecture 5.1. \n",
    "\n",
    "5.a. Implement `csc121_pow` function that resembles the built-in `pow` function\n",
    "\n",
    "5.b. Replicate `pow` docstring\n",
    "\n",
    "5.c. Also write and test cases for `csc121_pow`, covering as many different categories of inputs as you can think of"
   ]
  },
  {
   "cell_type": "code",
   "execution_count": null,
   "id": "076f8b96",
   "metadata": {
    "slideshow": {
     "slide_type": "slide"
    }
   },
   "outputs": [],
   "source": [
    "help(pow)"
   ]
  },
  {
   "cell_type": "markdown",
   "id": "4824a699",
   "metadata": {
    "slideshow": {
     "slide_type": "-"
    }
   },
   "source": [
    "The keyword in the docstring for the built-in `pow` is _**\"or\"**_\n",
    "> _Equivalent to base\\*\\*exp with 2 arguments <u>**or**</u> base\\**exp % mod with 3 arguments_"
   ]
  },
  {
   "cell_type": "code",
   "execution_count": null,
   "id": "9769f371",
   "metadata": {
    "slideshow": {
     "slide_type": "slide"
    }
   },
   "outputs": [],
   "source": [
    "help(pow)"
   ]
  },
  {
   "cell_type": "markdown",
   "id": "424683bc",
   "metadata": {
    "slideshow": {
     "slide_type": "-"
    }
   },
   "source": [
    "* The built-in `pow` function can take 2 inputs **OR** 3 inputs."
   ]
  },
  {
   "cell_type": "code",
   "execution_count": null,
   "id": "d298a087",
   "metadata": {},
   "outputs": [],
   "source": [
    "pow(2, 2)"
   ]
  },
  {
   "cell_type": "code",
   "execution_count": null,
   "id": "f8fc6103",
   "metadata": {},
   "outputs": [],
   "source": [
    "pow(2, 2, 2)"
   ]
  },
  {
   "cell_type": "code",
   "execution_count": null,
   "id": "008a641f",
   "metadata": {
    "slideshow": {
     "slide_type": "slide"
    }
   },
   "outputs": [],
   "source": [
    "def csc121_pow(base, exp, mod):\n",
    "    return base**exp % mod\n",
    "\n",
    "def csc121_pow(base, exp):\n",
    "    return base**exp\n"
   ]
  },
  {
   "cell_type": "code",
   "execution_count": null,
   "id": "c5c69fd8",
   "metadata": {},
   "outputs": [],
   "source": [
    "assert csc121_pow(2, 2)    == pow(2, 2),    \"Test case for two arguments failed\"\n",
    "assert csc121_pow(2, 2, 1) == pow(2, 2, 1), \"Test case for three arguments failed\"\n",
    "\n",
    "print(\"All test cases passed\")"
   ]
  },
  {
   "cell_type": "markdown",
   "id": "3502b261",
   "metadata": {},
   "source": [
    "The test case that fails depends on the **order** of the definitions"
   ]
  },
  {
   "cell_type": "markdown",
   "id": "05501ec9",
   "metadata": {
    "slideshow": {
     "slide_type": "slide"
    }
   },
   "source": [
    "* There is **_NO_ function over-loading** in Python\n",
    "\n",
    "\n",
    "* **Only one definition** allowed against the function name \n",
    "\n",
    "\n",
    "* If you have more than one definitons of a function\n",
    "    * The **most recent definiton** of a function would **override** any other existing ones\n",
    "    \n"
   ]
  },
  {
   "cell_type": "code",
   "execution_count": null,
   "id": "a6484ff3",
   "metadata": {},
   "outputs": [],
   "source": [
    "help(pow)"
   ]
  },
  {
   "cell_type": "markdown",
   "id": "65849498",
   "metadata": {
    "slideshow": {
     "slide_type": "slide"
    }
   },
   "source": [
    "# 5.2.2. Optional arguments and default values"
   ]
  },
  {
   "cell_type": "markdown",
   "id": "ea0d2969",
   "metadata": {
    "slideshow": {
     "slide_type": "-"
    }
   },
   "source": [
    "* Note in the header line of `pow` from `help(pow)`: \n",
    "\n",
    "> `pow(base, exp, `**mod=None**`):`\n",
    "\n",
    "`mod` here is an **optional argument** (input) with the default value of **`None`**"
   ]
  },
  {
   "cell_type": "markdown",
   "id": "fe62d753",
   "metadata": {
    "slideshow": {
     "slide_type": "slide"
    }
   },
   "source": [
    "How would we change `csc121_pow` to use the optional `mod` argument, only when an input is given? "
   ]
  },
  {
   "cell_type": "code",
   "execution_count": null,
   "id": "360def8d",
   "metadata": {
    "slideshow": {
     "slide_type": "-"
    }
   },
   "outputs": [],
   "source": [
    "def csc121_pow(base, exp, mod=None):\n",
    "        \n",
    "    if mod!= None:\n",
    "        result = base ** exp % mod\n",
    "    else:\n",
    "        result = base** exp\n",
    "    \n",
    "    return result"
   ]
  },
  {
   "cell_type": "code",
   "execution_count": null,
   "id": "7491e240",
   "metadata": {},
   "outputs": [],
   "source": [
    "print(csc121_pow(2, 2))\n",
    "print(csc121_pow(2, 2, 2))\n",
    "print(pow(2, 2))\n",
    "print(pow(2, 2, 2))"
   ]
  },
  {
   "cell_type": "code",
   "execution_count": null,
   "id": "7e496794",
   "metadata": {
    "slideshow": {
     "slide_type": "slide"
    }
   },
   "outputs": [],
   "source": [
    "assert csc121_pow(2, 2, 2) == pow(2, 2, 2), \"Test case for three arguments failed\"\n",
    "assert csc121_pow(2, 2)    == pow(2, 2),    \"Test case for two arguments failed\"\n",
    "\n",
    "print(\"All test cases passed\")"
   ]
  },
  {
   "cell_type": "markdown",
   "id": "acfaf3a0",
   "metadata": {
    "slideshow": {
     "slide_type": "slide"
    }
   },
   "source": [
    "What if I wanted to \n",
    "* make the second input/argument `exp` optional\n",
    "* have the third input `mod` be required every time\n",
    "??"
   ]
  },
  {
   "cell_type": "code",
   "execution_count": null,
   "id": "91012215",
   "metadata": {},
   "outputs": [],
   "source": [
    "def csc121_pow(base, exp=1, mod=None):\n",
    "\n",
    "    result = base ** exp\n",
    "    \n",
    "    if mod != None:\n",
    "        result = result % mod\n",
    "            \n",
    "    \n",
    "    return result"
   ]
  },
  {
   "cell_type": "code",
   "execution_count": null,
   "id": "4abf1c3d",
   "metadata": {},
   "outputs": [],
   "source": [
    "csc121_pow(2)"
   ]
  },
  {
   "cell_type": "code",
   "execution_count": null,
   "id": "58bcf5aa",
   "metadata": {},
   "outputs": [],
   "source": []
  },
  {
   "cell_type": "markdown",
   "id": "2e102a49",
   "metadata": {
    "slideshow": {
     "slide_type": "slide"
    }
   },
   "source": [
    "Python's rule for the function definition's header: \n",
    "\n",
    "<br/>\n",
    "\n",
    " All Required inputs (a.k.a. non-default arguments) \n",
    "\n",
    " **_must come BEFORE_** \n",
    "\n",
    " All Optional inputs (a.k.a. default arguments) \n",
    "\n"
   ]
  },
  {
   "cell_type": "markdown",
   "id": "a6921df2",
   "metadata": {
    "slideshow": {
     "slide_type": "slide"
    }
   },
   "source": [
    "What if you wanted to \n",
    "* make the second input/argument `exp` optional\n",
    "* have the third input `mod` be required every time\n",
    "??"
   ]
  },
  {
   "cell_type": "markdown",
   "id": "4db14d4c",
   "metadata": {},
   "source": [
    "**The argument's positions would have to be moved around (Caution!)**\n",
    "\n",
    "i.e. `exp` would have come after `mod`"
   ]
  },
  {
   "cell_type": "code",
   "execution_count": null,
   "id": "4e26c667",
   "metadata": {},
   "outputs": [],
   "source": [
    "def new_func(x=5):\n",
    "    if x != 5:\n",
    "        print(\"Input not 5\")\n",
    "    else:\n",
    "        print(\"Input is 5, or not given\")\n",
    "    "
   ]
  },
  {
   "cell_type": "code",
   "execution_count": null,
   "id": "9c2b6c09",
   "metadata": {},
   "outputs": [],
   "source": [
    "new_func(4)"
   ]
  },
  {
   "cell_type": "code",
   "execution_count": null,
   "id": "7e1a5a86",
   "metadata": {},
   "outputs": [],
   "source": [
    "def csc121_pow(base, exp=1, mod=None):\n",
    "\n",
    "    result = base ** exp\n",
    "    \n",
    "    if mod != None:\n",
    "        result = result % mod\n",
    "    \n",
    "    return result"
   ]
  },
  {
   "cell_type": "markdown",
   "id": "7d78bcaf",
   "metadata": {
    "slideshow": {
     "slide_type": "slide"
    }
   },
   "source": [
    "Change the function to include an optional `percent` input with default value of `20`:"
   ]
  },
  {
   "cell_type": "code",
   "execution_count": null,
   "id": "6cea6eaa",
   "metadata": {
    "slideshow": {
     "slide_type": "-"
    }
   },
   "outputs": [],
   "source": [
    "def compute_tip(cheque_amount, percent=20):\n",
    "    \"\"\"Computes the amount to tip server on the given cheque_amount \n",
    "    \n",
    "    Inputs:\n",
    "    cheque_amount (float): The amount for which the tip is to be computed\n",
    "    \n",
    "    Returns:\n",
    "    tip (float): The calculated tip \n",
    "    \"\"\"\n",
    "\n",
    "    tip = cheque_amount * (percent/100)\n",
    "            \n",
    "    return tip \n",
    "\n",
    "assert compute_tip(100)     == 20, \"Test case 1 failed\"\n",
    "assert compute_tip(100, 15) == 15, \"Test case 2 failed\"\n",
    "assert compute_tip(100, 25) == 25, \"Test case 3 failed\"\n",
    "\n",
    "print(\"All test cases passed successfully\")"
   ]
  },
  {
   "cell_type": "markdown",
   "id": "0a976fc4",
   "metadata": {
    "slideshow": {
     "slide_type": "slide"
    }
   },
   "source": [
    "# 5.2.3. `raise` "
   ]
  },
  {
   "cell_type": "markdown",
   "id": "2973560c",
   "metadata": {},
   "source": [
    "`raise` is: \n",
    "1. `assert`, without a boolean condition\n",
    "2. Used to raise Errors other than `Assertion Error`  "
   ]
  },
  {
   "cell_type": "markdown",
   "id": "7b94d138",
   "metadata": {
    "slideshow": {
     "slide_type": "slide"
    }
   },
   "source": [
    "Syntax: `raise` < Error > `(\"`error message`\")`"
   ]
  },
  {
   "cell_type": "markdown",
   "id": "60d55ebd",
   "metadata": {},
   "source": [
    "Note the capitalization in the Error name"
   ]
  },
  {
   "cell_type": "code",
   "execution_count": null,
   "id": "4f5fa295",
   "metadata": {},
   "outputs": [],
   "source": [
    "raise AssertionError(\"Random error message\")"
   ]
  },
  {
   "cell_type": "code",
   "execution_count": null,
   "id": "e99e41f4",
   "metadata": {
    "slideshow": {
     "slide_type": "slide"
    }
   },
   "outputs": [],
   "source": [
    "assert 2+2 == 5, \"Random error message\""
   ]
  },
  {
   "cell_type": "markdown",
   "id": "d24c9376",
   "metadata": {},
   "source": [
    "is equivalent to "
   ]
  },
  {
   "cell_type": "code",
   "execution_count": null,
   "id": "6cc732d1",
   "metadata": {},
   "outputs": [],
   "source": [
    "if 2+2 != 5:\n",
    "    raise AssertionError(\"Random error message\")"
   ]
  },
  {
   "cell_type": "markdown",
   "id": "6b10ef55",
   "metadata": {
    "slideshow": {
     "slide_type": "slide"
    }
   },
   "source": [
    "* Python has many built-in errors (58 to be precise)\n",
    "* The 4 errors relevant to us, at this point in the course, are: \n",
    "\n",
    "1. `AssertionError`: this is the error that `assert` generates\n",
    "\n",
    "\n",
    "2. `TypeError`: Specifically for when the **expected data type** is **NOT** the same as given **given data type**\n",
    "\n",
    "\n",
    "3. `ValueError`: Specifically for when the **given values** is **NOT** within the **expected range of values.**\n",
    "\n",
    "4. `ZeroDivisionError`: Specifically for when **zero** is the divisor of a division or modulus operation"
   ]
  },
  {
   "cell_type": "code",
   "execution_count": null,
   "id": "5b42aea5",
   "metadata": {},
   "outputs": [],
   "source": [
    "pow(2, 2, 0)"
   ]
  },
  {
   "cell_type": "code",
   "execution_count": null,
   "id": "1f4a4bba",
   "metadata": {
    "slideshow": {
     "slide_type": "slide"
    }
   },
   "outputs": [],
   "source": [
    "\"\"\" csc121_pow with \"assert\" statements  \"\"\"\n",
    "    \n",
    "def csc121_pow(base, exp, mod=None):\n",
    "    \n",
    "    assert  (type(base)==int or type(base)==float) and\\\n",
    "            (type(exp) ==int or type(exp) ==float), \"Invalid input type for base or exp\"\n",
    "    \n",
    "    result = base ** exp\n",
    "    \n",
    "    if mod != None:\n",
    "        assert type(mod)==int,   \"Invalid type of mod\"\n",
    "        assert mod!=0,           \"mod in csc121_pow cannot be zero\"\n",
    "        \n",
    "        result = result % mod\n",
    "    \n",
    "    return result"
   ]
  },
  {
   "cell_type": "code",
   "execution_count": null,
   "id": "b82770a2",
   "metadata": {},
   "outputs": [],
   "source": [
    "csc121_pow(2 , \"String\") #Note the error type\n",
    "csc121_pow(2 , 2, 0)     #Note the error type"
   ]
  },
  {
   "cell_type": "code",
   "execution_count": null,
   "id": "ddcefeab",
   "metadata": {},
   "outputs": [],
   "source": [
    "\"\"\" csc121_pow with \"raise\" statements. Note the difference in\n",
    "    i.  error types\n",
    "    ii. boolean conditions\n",
    "\"\"\"\n",
    "\n",
    "def csc121_pow(base, exp, mod=None):\n",
    "    \n",
    "    if ((type(base)==int or type(base)==float) and\\\n",
    "        (type(exp) ==int or type(exp) ==float)) == False:\n",
    "        \n",
    "        raise TypeError(\"Invalid input type for base or exp\")\n",
    "    \n",
    "    result = base ** exp\n",
    "    \n",
    "    if mod != None:\n",
    "        if type(mod)!=int:\n",
    "            raise TypeError(\"Invalid type of mod\")\n",
    "        if mod == 0:\n",
    "            raise ValueError(\"mod in csc121_pow cannot be zero\")\n",
    "        \n",
    "        result = result % mod\n",
    "    \n",
    "    return result"
   ]
  },
  {
   "cell_type": "code",
   "execution_count": null,
   "id": "5b55f37a",
   "metadata": {},
   "outputs": [],
   "source": [
    "csc121_pow(2 , 2)    #Note the error type now\n",
    "csc121_pow(2 , 2, 0) #Note the error type now "
   ]
  },
  {
   "cell_type": "code",
   "execution_count": null,
   "id": "a453f58b",
   "metadata": {},
   "outputs": [],
   "source": [
    "csc121_pow(2, 2, 2)"
   ]
  }
 ],
 "metadata": {
  "celltoolbar": "Slideshow",
  "kernelspec": {
   "display_name": "Python 3 (ipykernel)",
   "language": "python",
   "name": "python3"
  },
  "language_info": {
   "codemirror_mode": {
    "name": "ipython",
    "version": 3
   },
   "file_extension": ".py",
   "mimetype": "text/x-python",
   "name": "python",
   "nbconvert_exporter": "python",
   "pygments_lexer": "ipython3",
   "version": "3.9.12"
  }
 },
 "nbformat": 4,
 "nbformat_minor": 5
}
