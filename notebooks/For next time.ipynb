{
 "cells": [
  {
   "cell_type": "markdown",
   "id": "76ea709b",
   "metadata": {},
   "source": [
    "# 4. Add X minutes to current hr and minutes. "
   ]
  },
  {
   "cell_type": "code",
   "execution_count": 51,
   "id": "74e4ce39",
   "metadata": {},
   "outputs": [],
   "source": [
    "clock_12hr_hrs  = 19\n",
    "clock_12hr_mins = 30\n",
    "\n",
    "x = 90 # 1.5 hrs\n",
    "\n",
    "new_mins = (clock_12hr_mins + x) % 60\n",
    "new_hr   = (clock_12hr_hrs + (clock_12hr_mins + x) // 60) % 24"
   ]
  },
  {
   "cell_type": "code",
   "execution_count": null,
   "id": "f94b0a8d",
   "metadata": {},
   "outputs": [],
   "source": []
  }
 ],
 "metadata": {
  "kernelspec": {
   "display_name": "Python 3 (ipykernel)",
   "language": "python",
   "name": "python3"
  },
  "language_info": {
   "codemirror_mode": {
    "name": "ipython",
    "version": 3
   },
   "file_extension": ".py",
   "mimetype": "text/x-python",
   "name": "python",
   "nbconvert_exporter": "python",
   "pygments_lexer": "ipython3",
   "version": "3.9.12"
  }
 },
 "nbformat": 4,
 "nbformat_minor": 5
}
