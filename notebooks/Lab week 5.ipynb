{
 "cells": [
  {
   "cell_type": "markdown",
   "id": "54f4155b",
   "metadata": {},
   "source": [
    "# Question 1. \n",
    "\n",
    "### 1.1. Implement a function `csc121_bool` that replicates the built-in `bool` function that we've used before for type casting"
   ]
  },
  {
   "cell_type": "code",
   "execution_count": null,
   "id": "11c460ce",
   "metadata": {},
   "outputs": [],
   "source": [
    "\n",
    "\n"
   ]
  },
  {
   "cell_type": "markdown",
   "id": "d45a4cb8",
   "metadata": {},
   "source": [
    "### 1.2. Write at least 10 test cases that compare `compare121_bool` with `bool`. Make sure you cover as many different \"categories of inputs\" as possible. "
   ]
  },
  {
   "cell_type": "code",
   "execution_count": null,
   "id": "5391ba21",
   "metadata": {},
   "outputs": [],
   "source": [
    "assert csc121_bool(True) ==bool(True),  \"Test case 1 failed\"\n",
    "assert csc121_bool(False)==bool(False), \"Test case 2 failed\"\n",
    "\n",
    "#Write atleast 8 more test cases here \n",
    "\n",
    "print(\"All test cases for csc121_bool passed successfully\")"
   ]
  },
  {
   "cell_type": "markdown",
   "id": "554ce38f",
   "metadata": {},
   "source": [
    "# Question 2. "
   ]
  },
  {
   "cell_type": "markdown",
   "id": "e2d78447",
   "metadata": {},
   "source": [
    "### 2.1. Implement a function `csc121_float` that replicates the built-in `float` function. \n",
    "\n",
    "<b><span style=\"color:red\">Raise `TypeError` for _**ALL STRING**_ input arguments. Note that this is in contrast to how the built-in `float` function deals with string inputs.</span>.</b>"
   ]
  },
  {
   "cell_type": "code",
   "execution_count": null,
   "id": "dac8b93a",
   "metadata": {},
   "outputs": [],
   "source": [
    "\n",
    "\n"
   ]
  },
  {
   "cell_type": "markdown",
   "id": "8c7a0280",
   "metadata": {},
   "source": [
    "### 2.2. Write at least 10 test cases that compare `csc121_float` with `float`. Make sure you cover as many different \"categories of inputs\" as possible. "
   ]
  },
  {
   "cell_type": "code",
   "execution_count": null,
   "id": "f2123de8",
   "metadata": {},
   "outputs": [],
   "source": [
    "assert csc121_float(1)   ==float(1),    \"Test case 1 failed\"\n",
    "assert csc121_float(3.14)==float(3.14), \"Test case 2 failed\"\n",
    "\n",
    "#Write atleast 8 more test cases here\n",
    "\n",
    "print(\"All test cases for csc121_float passed successfully\")"
   ]
  },
  {
   "cell_type": "markdown",
   "id": "4c9a1ea4",
   "metadata": {},
   "source": [
    "# Question 3. "
   ]
  },
  {
   "cell_type": "markdown",
   "id": "e179dee9",
   "metadata": {},
   "source": [
    "## 3.1. \n",
    "\n",
    "Note that the built-in `pow` function raises errors for the following inputs: \n",
    "\n",
    "1. `pow(1, -2, 0)`    raises _ValueError: pow() 3rd argument cannot be 0_\n",
    "\n",
    "\n",
    "2. `pow(2.0, 2, 2)`   raises _TypeError:  pow() \"3rd argument not allowed unless all arguments are integers_\n",
    "\n",
    "\n",
    "3. `pow(\"abc\", 2, 2)` raises _TypeError: unsupported operand type(s) for pow(): 'str', 'int', 'int'_\n",
    "\n",
    "Replicate error handling of `pow` in `csc121_pow` so it generates the same errors for the same inputs. "
   ]
  },
  {
   "cell_type": "code",
   "execution_count": null,
   "id": "e390c4ca",
   "metadata": {},
   "outputs": [],
   "source": [
    "def csc121_pow(base, exp, mod=None):\n",
    "\n",
    "    result = base ** exp\n",
    "    \n",
    "    if mod != None:\n",
    "        result = result % mod\n",
    "            \n",
    "    return result"
   ]
  },
  {
   "cell_type": "code",
   "execution_count": null,
   "id": "5b155726",
   "metadata": {},
   "outputs": [],
   "source": [
    "assert pow(1, 2, 3) == csc121_pow(1, 2, 3), \"Test case 1 failed\"\n",
    "assert pow(2, 2)    == csc121_pow(2, 2),    \"Test case 2 failed\"\n",
    "assert pow(2, -2)   == csc121_pow(2, -2),   \"Test case 3 failed\"\n",
    "assert pow(2, 0)    == csc121_pow(2, 0),    \"Test case 4 failed\"\n",
    "\n",
    "print(\"Four test cases for csc121_pow passed successfully\")"
   ]
  },
  {
   "cell_type": "markdown",
   "id": "262829f5",
   "metadata": {},
   "source": [
    "## 3.2. "
   ]
  },
  {
   "cell_type": "markdown",
   "id": "28735914",
   "metadata": {},
   "source": [
    "The following test case 5 probably fails for your current implementation of csc121_pow"
   ]
  },
  {
   "cell_type": "code",
   "execution_count": null,
   "id": "a5968e38",
   "metadata": {},
   "outputs": [],
   "source": [
    "assert pow(2, -2, 1)    == csc121_pow(2, -2, 1),    \"Test case 5 failed\""
   ]
  },
  {
   "cell_type": "code",
   "execution_count": null,
   "id": "8c051e11",
   "metadata": {},
   "outputs": [],
   "source": [
    "print(pow(2, -2, 1))\n",
    "print(csc121_pow(2, -2, 1))"
   ]
  },
  {
   "cell_type": "markdown",
   "id": "a8688e7c",
   "metadata": {},
   "source": [
    "Function call `csc121_pow(2, -2, 1)` returns a `0.25` whereas the call `pow(2, -2, 1)` return `0`. \n",
    "\n",
    "Just as the built-in `round` function in Python, the `pow` function is: \n",
    "a) poorly documented\n",
    "b) quirky (recall how `round` rounds up or down for .5 inputs depending on the nearest even number)\n",
    "\n",
    "The idiosyncratic behavior, that is not documented, of the built-in `pow` function is that it returns an `int` if all inputs are `int`. For `float` inputs, it returns a `float`. \n",
    "\n",
    "This is why our test case 5 above failed. "
   ]
  },
  {
   "cell_type": "markdown",
   "id": "877fba6a",
   "metadata": {},
   "source": [
    "**Update your implementation of csc121_pow so that it too returns an `int` for all `int` inputs and a `float` only when inputs are `float`**"
   ]
  },
  {
   "cell_type": "code",
   "execution_count": null,
   "id": "8d8de258",
   "metadata": {},
   "outputs": [],
   "source": [
    "def csc121_pow(base, exp, mod=None):\n",
    "\n",
    "    result = base ** exp\n",
    "    \n",
    "    if mod != None:\n",
    "        result = result % mod\n",
    "            \n",
    "    return result"
   ]
  },
  {
   "cell_type": "code",
   "execution_count": null,
   "id": "7e4928a1",
   "metadata": {},
   "outputs": [],
   "source": [
    "assert pow(1, 2, 3) == csc121_pow(1, 2, 3), \"Test case 1 failed\"\n",
    "assert pow(2, 2)    == csc121_pow(2, 2),    \"Test case 2 failed\"\n",
    "assert pow(2, -2)   == csc121_pow(2, -2),   \"Test case 3 failed\"\n",
    "assert pow(2, 0)    == csc121_pow(2, 0),    \"Test case 4 failed\"\n",
    "assert pow(2, -2, 1)== csc121_pow(2, -2, 1),\"Test case 5 failed\"\n",
    "\n",
    "print(\"All test cases for csc121_pow passed successfully\")"
   ]
  }
 ],
 "metadata": {
  "kernelspec": {
   "display_name": "Python 3 (ipykernel)",
   "language": "python",
   "name": "python3"
  },
  "language_info": {
   "codemirror_mode": {
    "name": "ipython",
    "version": 3
   },
   "file_extension": ".py",
   "mimetype": "text/x-python",
   "name": "python",
   "nbconvert_exporter": "python",
   "pygments_lexer": "ipython3",
   "version": "3.9.12"
  }
 },
 "nbformat": 4,
 "nbformat_minor": 5
}
