{
 "cells": [
  {
   "cell_type": "markdown",
   "id": "e6ec39da",
   "metadata": {},
   "source": [
    "<center>\n",
    "    <h1> CSC-121 EXAM 3</h1>\n",
    "</center>\n",
    "\n",
    "<hr/>\n",
    "\n",
    "### Instructions: \n",
    "\n",
    "First things first,\n",
    "\n",
    "* _Turn off your phones and place them on your desk, facing down._\n",
    "* _No notes, email, messaging apps or searching on the internet. Only this Jupyter notebook file and/or Moodle are permitted during the exam._\n",
    "* _**For what it's worth, you should know that there are 3 versions of this exam.**_\n",
    "* _Submit only the version that you downloaded from Moodle. Any submission other than the one assigned to you will be considered an academic violation._\n",
    "* _All academic integrity violations will be immediately reported to the Furman Academic Disciplinary Committee with a recommendation of <span style=\"color:red; font-size:large\"><b>F</b></span> in the exam and possibly in the course._\n",
    "\n",
    "Now, \n",
    "* _If you have any questions, raise your hand_. \n",
    "* _If you have made any assumptions, state so clearly in the comments of your code_.  \n",
    "* _You will be given partial credit, so try your best to solve the given problems and don't leave any cells empty_.\n",
    "* _USE ONLY CONCEPTS COVERED IN CLASS_. \n",
    "\n",
    "<hr/>"
   ]
  },
  {
   "cell_type": "markdown",
   "id": "e8480cd9",
   "metadata": {},
   "source": [
    "\n",
    "# Question 1. Fix the following function\n",
    "\n",
    "The following function `repeat_n` takes two _Inputs_: \n",
    "1. a string `text` and \n",
    "2. an integer `n` \n",
    "\n",
    "and **is supposed to** return as _Output_: \n",
    "* a string containing each character of `text` repeated `n` times. \n",
    "\n",
    "For example, `text = \"abc\"` and `n=3` **should** return `\"aaabbbccc\"`\n",
    "\n",
    "**_Fix \"bugs\" in the provided function definition so all test cases below pass successfully._**\n"
   ]
  },
  {
   "cell_type": "code",
   "execution_count": null,
   "id": "91b96ffb",
   "metadata": {},
   "outputs": [],
   "source": [
    "def repeat_n(text, n):\n",
    "    result = \"\"\n",
    "    i = 0\n",
    "    while i < len(text):\n",
    "        j = 0 \n",
    "        while j < n:\n",
    "            result = result + text[i]\n",
    "            j = j + 1\n",
    "        i = i + 1\n",
    "    return result"
   ]
  },
  {
   "cell_type": "code",
   "execution_count": null,
   "id": "62506884",
   "metadata": {},
   "outputs": [],
   "source": [
    "assert repeat_n(\"abc\", 3) == \"aaabbbccc\",\"Test case 1 failed\"\n",
    "assert repeat_n(\"abc\", 0) == \"\",         \"Test case 2 failed\"\n",
    "assert repeat_n(\"abc\", 1) == \"abc\",      \"Test case 3 failed\"\n",
    "assert repeat_n(\"a\", 5)   == \"aaaaa\",    \"Test case 4 failed\"\n",
    "assert repeat_n(\"!\", 4)   == \"!!!!\",     \"Test case 5 failed\"\n",
    "\n",
    "print(\"All test cases passed successfully\")"
   ]
  },
  {
   "cell_type": "markdown",
   "id": "73cafd57",
   "metadata": {},
   "source": [
    "<br/><hr />\n",
    "\n",
    "# Question 2. Random choice\n",
    "\n",
    "Implement a function `random_choice` that accepts as input a list `options` and returns a random element from the list. \n",
    "\n",
    "_Note: You would need to use the built-in `randint` function for this. Recall that you can \"summon\" (import) the built-in `randint` function using `from random import randint`_"
   ]
  },
  {
   "cell_type": "code",
   "execution_count": null,
   "id": "f65731e5",
   "metadata": {},
   "outputs": [],
   "source": [
    "from random import randint\n",
    "\n",
    "def random_choice(options):\n",
    "    rand_idx = randint(0, len(options)-1)\n",
    "    return options[rand_idx]\n",
    "    "
   ]
  },
  {
   "cell_type": "markdown",
   "id": "e2bfc339",
   "metadata": {
    "slideshow": {
     "slide_type": "slide"
    }
   },
   "source": [
    "### Test Suite 2 "
   ]
  },
  {
   "cell_type": "code",
   "execution_count": null,
   "id": "b4f9c9eb",
   "metadata": {},
   "outputs": [],
   "source": [
    "outcomes = []\n",
    "i = 0\n",
    "while i < 100:\n",
    "    outcomes.append(random_choice([\"heads\", \"tails\"]))\n",
    "    i = i + 1\n",
    "\n",
    "assert outcomes.count(\"heads\") > 30, \"Test case 1 failed\"\n",
    "assert outcomes.count(\"tails\") > 30, \"Test case 2 failed\"\n",
    "assert len(set(outcomes)) == 2,      \"Test case 3 failed\"\n",
    "\n",
    "print(\"All test cases passed successfully\")"
   ]
  },
  {
   "cell_type": "markdown",
   "id": "1cd11011",
   "metadata": {
    "slideshow": {
     "slide_type": "slide"
    }
   },
   "source": [
    "<br/><hr />\n",
    "\n",
    "# Question 3. Check if lists are reverse of each other\n",
    "\n",
    "\n",
    "Implement a function `is_reverse` that accepts as input two lists `x` and `y` of equal length containing only integers and \\\n",
    "returns `True` if `x` and `y` are reverse of each other and `False` otherwise:\n",
    "\n",
    "For example,\n",
    "\n",
    "**Example 1** `x = [1, 2, 3, 4]` and `y = [4, 3, 2, 1]` should return `True` \n",
    "\n",
    "**Example 2** `x = [44, 5]` and `y = [44, 5]` should return `False`\n",
    "\n",
    "**Example 3** `x = [1, 2, 2]` and `y = [2, 1, 2]` should return `False`\n",
    "\n",
    "\n",
    "<span style=\"color:red\">_DO NOT USE BUILT-IN FUNCTIONS_</span>"
   ]
  },
  {
   "cell_type": "code",
   "execution_count": null,
   "id": "7c529b78",
   "metadata": {},
   "outputs": [],
   "source": [
    "def is_reverse(list1, list2):\n",
    "    \n",
    "    i = 0\n",
    "    j = -1\n",
    "    result = True\n",
    "    while i < len(list1):\n",
    "        if list1[i] != list2[j]:\n",
    "            result = False\n",
    "        i = i + 1\n",
    "        j = j -1\n",
    "    \n",
    "    return result"
   ]
  },
  {
   "cell_type": "code",
   "execution_count": null,
   "id": "d3ed9fce",
   "metadata": {},
   "outputs": [],
   "source": [
    "assert is_reverse([1, 2, 3], [3, 2, 1]) == True,  \"Test case 1 failed\"\n",
    "assert is_reverse([1, 2, 3], [1, 2, 3]) == False, \"Test case 2 failed\"\n",
    "assert is_reverse([44, 5], [5, 44])     == True,  \"Test case 3 failed\"\n",
    "assert is_reverse([1], [1])             == True,  \"Test case 4 failed\"\n",
    "assert is_reverse([1, 9, 1], [1, 9, 1]) == True,  \"Test case 5 failed\"\n",
    "\n",
    "print(\"All test cases passed successfully\")"
   ]
  },
  {
   "cell_type": "markdown",
   "id": "4c0740a0",
   "metadata": {},
   "source": [
    "<br><hr />\n",
    "\n",
    "# Question 4. Count All Occurrences of Substring "
   ]
  },
  {
   "cell_type": "markdown",
   "id": "c4ce8e34",
   "metadata": {
    "slideshow": {
     "slide_type": "slide"
    }
   },
   "source": [
    "Implement a function `count_all_occurrences` that accepts as input two strings: `string` and `substr` and returns a list of all starting indices of occurrences of `substr` in `string`. \n",
    "\n",
    "For example, `string=\"ba ba black sheep\"` and `substr=\"ba\"` returns `2`"
   ]
  },
  {
   "cell_type": "code",
   "execution_count": null,
   "id": "3bce2d46",
   "metadata": {},
   "outputs": [],
   "source": [
    "def count_all_occurrences(string, substr):\n",
    "    \n",
    "    count = 0\n",
    "    i = 0\n",
    "    while i < len(string):\n",
    "        if string[i:i+len(substr)] == substr:\n",
    "            count = count + 1\n",
    "        \n",
    "        i = i + 1\n",
    "    \n",
    "    return count"
   ]
  },
  {
   "cell_type": "code",
   "execution_count": null,
   "id": "c602ccb1",
   "metadata": {},
   "outputs": [],
   "source": [
    "assert count_all_occurrences(\"ba ba black sheep\", \"ba\")       == 2,  \"Test case 1 failed\"\n",
    "assert count_all_occurrences(\"furman university\", \"city\")     == 0,  \"Test case 2 failed\"\n",
    "assert count_all_occurrences(\"furman university\", \"universe\") == 0,  \"Test case 3 failed\"\n",
    "assert count_all_occurrences(\"december\", \"error\")             == 0,  \"Test case 4 failed\"\n",
    "assert count_all_occurrences(\"hello world\", \"d\")              == 1,  \"Test case 5 failed\"\n",
    "\n",
    "print(\"All test cases passed successfully\")"
   ]
  }
 ],
 "metadata": {
  "celltoolbar": "Slideshow",
  "kernelspec": {
   "display_name": "Python 3 (ipykernel)",
   "language": "python",
   "name": "python3"
  },
  "language_info": {
   "codemirror_mode": {
    "name": "ipython",
    "version": 3
   },
   "file_extension": ".py",
   "mimetype": "text/x-python",
   "name": "python",
   "nbconvert_exporter": "python",
   "pygments_lexer": "ipython3",
   "version": "3.9.12"
  }
 },
 "nbformat": 4,
 "nbformat_minor": 5
}
