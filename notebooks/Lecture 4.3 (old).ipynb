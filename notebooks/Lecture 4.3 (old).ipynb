{
 "cells": [
  {
   "cell_type": "code",
   "execution_count": null,
   "id": "46f9db36",
   "metadata": {},
   "outputs": [],
   "source": [
    "def compute_pct(number, percent):\n",
    "    result = percent/100 * number\n",
    "    return result\n",
    "\n",
    "def compute_discount(full_amt):\n",
    "    discount_amt = compute_pct(full_amt, 5)    \n",
    "    return discount_amt\n",
    "\n",
    "def compute_tip(cheque_amt):\n",
    "    tip_amt = compute_pct(cheque_amt, 20)\n",
    "    return tip_amt\n",
    "\n",
    "def compute_sales_tax(amt):\n",
    "    sales_tax = compute_pct(amt, 6)\n",
    "    return sales_tax\n",
    "\n",
    "price = 27.04 \n",
    "discount = compute_discount(price)\n",
    "new_price = price - discount\n",
    "tip = compute_tip(new_price)\n",
    "tax = compute_sales_tax(new_price)\n",
    "total = new_price + tip + tax"
   ]
  },
  {
   "cell_type": "code",
   "execution_count": null,
   "id": "8afed46e",
   "metadata": {},
   "outputs": [],
   "source": [
    "def compute_tip(cheque_amount, service_quality_stars):\n",
    "\n",
    "    if service_quality_stars >= 3:\n",
    "        \n",
    "        tip = compute_percentage(cheque_amount, 20)\n",
    "        \n",
    "    elif service_quality_stars == 2:\n",
    "        \n",
    "        tip = compute_percentage(cheque_amount, 18)\n",
    "        \n",
    "    else:\n",
    "        \n",
    "        tip = compute_percentage(cheque_amount, 15)\n",
    "    \n",
    "    return tip"
   ]
  },
  {
   "cell_type": "code",
   "execution_count": null,
   "id": "df9646b2",
   "metadata": {},
   "outputs": [],
   "source": [
    "print('Line 1')\n",
    "def csc121_round(float_number):\n",
    "    \n",
    "    print('Line 4')\n",
    "    fractional_part = float_number % 1\n",
    "    \n",
    "    print('Line 7')\n",
    "    integer_part = float_number // 1\n",
    "    \n",
    "    print('Line 10')\n",
    "    to_ceil = fractional_part >= 0.5\n",
    "    \n",
    "    print('Line 13')\n",
    "    rounded = integer_part + to_ceil\n",
    "    \n",
    "    print('Line 16')\n",
    "    return rounded\n",
    "\n",
    "print('Line 19')\n",
    "number = 2.9\n",
    "\n",
    "print('Line 22')\n",
    "number_rounded = csc121_round(number)\n",
    "\n",
    "print('Line 25')\n",
    "print(number_rounded)\n",
    "\n",
    "print('Line 28')"
   ]
  },
  {
   "cell_type": "markdown",
   "id": "d4e7aaf6",
   "metadata": {},
   "source": [
    "In this part of the book, we’ll explore the tools used to code functions in Python: function basics, scope rules, and argument passing, along with a few related concepts such as generators and functional tools. Because its importance begins to become more ap- parent at this level of coding, we’ll also revisit the notion of polymorphism, which was introduced earlier in the book. As you’ll see, functions don’t imply much new syntax, but they do lead us to some bigger programming ideas.\n",
    "\n",
    "# Coding Functions\n",
    "\n",
    "Although it wasn’t made very formal, we’ve already used some functions in earlier chapters. For instance, to make a file object, we called the built-in open function; similarly, we used the len built-in function to ask for the number of items in a collection object.\n",
    "\n",
    "In this chapter, we will explore how to write new functions in Python. Functions we write behave the same way as the built-ins we’ve already seen: they are called in expressions, are passed values, and return results. But writing new functions requires the application of a few additional ideas that haven’t yet been introduced. Moreover, functions behave very differently in Python than they do in compiled languages like C. Here is a brief introduction to the main concepts behind Python functions, all of which we will study in this part of the book:\n",
    "\n",
    "* def is executable code. Python functions are written with a new statement, the def. Unlike functions in compiled languages such as C, def is an executable state- ment—your function does not exist until Python reaches and runs the def. In fact, it’s legal (and even occasionally useful) to nest def statements inside if statements, while loops, and even other defs. In typical operation, def statements are coded in module files and are naturally run to generate functions when the module file they reside in is first imported.\n",
    "\n",
    "\n",
    "\n",
    "* def creates an object and assigns it to a name. When Python reaches and runs a def statement, it generates a new function object and assigns it to the function’s name. As with all assignments, the function name becomes a reference to the func- tion object. There’s nothing magic about the name of a function—as you’ll see, the function object can be assigned to other names, stored in a list, and so on. Function objects may also have arbitrary user-defined attributes attached to them to record data.\n",
    "\n",
    "\n",
    "* return sends a result object back to the caller. When a function is called, the caller stops until the function finishes its work and returns control to the caller. Functions that compute a value send it back to the caller with a return statement; the returned value becomes the result of the function call. A return without a value simply returns to the caller (and sends back None, the default result).\n",
    "\n",
    "\n",
    "* Arguments are passed by assignment (object reference). In Python, arguments are passed to functions by assignment (which, as we’ve learned, means by object reference). As you’ll see, in Python’s model the caller and function share objects by references, but there is no name aliasing. Changing an argument name within a function does not also change the corresponding name in the caller, but changing passed-in mutable objects in place can change objects shared by the caller, and serve as a function result.\n",
    "\n",
    "\n",
    "* Arguments, return values, and variables are not declared. As with everything in Python, there are no type constraints on functions. In fact, nothing about a function needs to be declared ahead of time: you can pass in arguments of any type, return any kind of object, and so on. As one consequence, a single function can often be applied to a variety of object types—any objects that sport a compatible interface (methods and expressions) will do, regardless of their specific types."
   ]
  },
  {
   "cell_type": "code",
   "execution_count": null,
   "id": "37a1df6d",
   "metadata": {},
   "outputs": [],
   "source": [
    "def myfunc(num):\n",
    "    \n",
    "    num = num + 1\n",
    "    \n",
    "    print(num)\n",
    "\n",
    "num = 2\n",
    "\n",
    "myfunc(num)\n",
    "\n",
    "print(num)"
   ]
  },
  {
   "cell_type": "markdown",
   "id": "7e2f30be",
   "metadata": {},
   "source": [
    "Mutable (lists and dicts) and immutable types"
   ]
  },
  {
   "cell_type": "code",
   "execution_count": null,
   "id": "af8cd401",
   "metadata": {},
   "outputs": [],
   "source": [
    "def myfunc(listo):\n",
    "    \n",
    "    listo = listo.copy()\n",
    "    \n",
    "    listo.append(4)\n",
    "    \n",
    "    print(listo)\n",
    "\n",
    "listo = [1, 2, 3]\n",
    "\n",
    "myfunc(listo)\n",
    "\n",
    "print(listo)"
   ]
  },
  {
   "cell_type": "code",
   "execution_count": null,
   "id": "5ed6814b",
   "metadata": {},
   "outputs": [],
   "source": []
  },
  {
   "cell_type": "code",
   "execution_count": null,
   "id": "ba5815aa",
   "metadata": {},
   "outputs": [],
   "source": []
  }
 ],
 "metadata": {
  "kernelspec": {
   "display_name": "Python 3 (ipykernel)",
   "language": "python",
   "name": "python3"
  },
  "language_info": {
   "codemirror_mode": {
    "name": "ipython",
    "version": 3
   },
   "file_extension": ".py",
   "mimetype": "text/x-python",
   "name": "python",
   "nbconvert_exporter": "python",
   "pygments_lexer": "ipython3",
   "version": "3.9.12"
  }
 },
 "nbformat": 4,
 "nbformat_minor": 5
}
