{
 "cells": [
  {
   "cell_type": "markdown",
   "id": "c5570e43",
   "metadata": {
    "slideshow": {
     "slide_type": "slide"
    }
   },
   "source": [
    "How do we access a function's documentation? "
   ]
  },
  {
   "cell_type": "code",
   "execution_count": 134,
   "id": "05f30ac1",
   "metadata": {},
   "outputs": [],
   "source": [
    "print?"
   ]
  },
  {
   "cell_type": "markdown",
   "id": "e0bdc8b3",
   "metadata": {
    "slideshow": {
     "slide_type": "slide"
    }
   },
   "source": [
    "# 4.3.1. Docstring"
   ]
  },
  {
   "cell_type": "markdown",
   "id": "7fe4219a",
   "metadata": {
    "slideshow": {
     "slide_type": "-"
    }
   },
   "source": [
    "* Python documentation strings,  **docstrings** for short, provide a convenient way to provide documentation for Python functions. \n",
    "\n",
    "* Docstrings are **specified within the source code**, like a comment. \n",
    "\n",
    "* Unlike conventional source code comments, the docstring should describe **what the function does, not how**."
   ]
  },
  {
   "cell_type": "code",
   "execution_count": 138,
   "id": "6d7eca7f",
   "metadata": {},
   "outputs": [],
   "source": [
    "func?"
   ]
  },
  {
   "cell_type": "code",
   "execution_count": 137,
   "id": "3d523ba0",
   "metadata": {},
   "outputs": [],
   "source": [
    "def func(x):\n",
    "    \"\"\"Docstring goes here\n",
    "    \n",
    "        Function increments x by 1\n",
    "    \"\"\"\n",
    "    x = x + 1\n",
    "    return x"
   ]
  },
  {
   "cell_type": "markdown",
   "id": "fb253556",
   "metadata": {
    "slideshow": {
     "slide_type": "slide"
    }
   },
   "source": [
    "* Syntactically, docstrings are coded as strings **at the top of functions** (and class statements or module files), **before any other executable code** \n",
    "\n",
    " * The only thing allowed before docstrings in a function's body, after the header line, are comments starting with `#`. Try to avoid, if possible. \n",
    "\n",
    "\n",
    "* The docstrings are declared using **triple single quotes** `''' '''` or **triple double quotes** `\"\"\" \"\"\"` just below the function, class or method declaration.\n",
    "\n",
    "    * **In this course, docstrings are going to be used as specifications for expected behavior to implement**\n",
    "\n",
    "* Python automatically sets the text of docstings to the `__doc__` attribute of the corresponding function or object."
   ]
  },
  {
   "cell_type": "markdown",
   "id": "05aa24fd",
   "metadata": {
    "slideshow": {
     "slide_type": "slide"
    }
   },
   "source": [
    "You can access docstring of a function using: \n",
    "\n",
    "1. `__doc__` attribute"
   ]
  },
  {
   "cell_type": "code",
   "execution_count": 140,
   "id": "0cdcc99e",
   "metadata": {},
   "outputs": [
    {
     "name": "stdout",
     "output_type": "stream",
     "text": [
      "Docstring goes here\n",
      "    \n",
      "        Function increments x by 1\n",
      "    \n"
     ]
    }
   ],
   "source": [
    "print(func.__doc__)"
   ]
  },
  {
   "cell_type": "markdown",
   "id": "46e985ab",
   "metadata": {},
   "source": [
    "2. Built-in `help` function "
   ]
  },
  {
   "cell_type": "code",
   "execution_count": 144,
   "id": "910c5bd2",
   "metadata": {},
   "outputs": [
    {
     "name": "stdout",
     "output_type": "stream",
     "text": [
      "Help on function func in module __main__:\n",
      "\n",
      "func(x)\n",
      "    Docstring goes here\n",
      "    \n",
      "    Function increments x by 1\n",
      "\n"
     ]
    }
   ],
   "source": [
    "help(func)"
   ]
  },
  {
   "cell_type": "markdown",
   "id": "6921cacc",
   "metadata": {},
   "source": [
    "3. In a Jupyter environment, you can add `?` after function name and run cell "
   ]
  },
  {
   "cell_type": "markdown",
   "id": "161485c3",
   "metadata": {
    "slideshow": {
     "slide_type": "slide"
    }
   },
   "source": [
    "* The entire docstring is **indented** at the level as the function's body.\n",
    "\n",
    "* Python's docstring processing will strip a uniform amount of indentation from the second and further lines of the docstring, equal to the minimum indentation of all non-blank lines after the first line.\n",
    "\n",
    "* Any indentation in the first line of the docstring (i.e., up to the first newline) is insignificant and removed. \n",
    "\n",
    "* Relative indentation of later lines in the docstring is retained."
   ]
  },
  {
   "cell_type": "markdown",
   "id": "704bf9bf",
   "metadata": {
    "slideshow": {
     "slide_type": "slide"
    }
   },
   "source": [
    "* Full docstring should contain: \n",
    "    * Summary line\n",
    "    * Detailed paragraph\n",
    "    * All Paramaters/Arguments (inputs), each on a separate line\n",
    "    * Returns"
   ]
  },
  {
   "cell_type": "code",
   "execution_count": 145,
   "id": "bf055ebe",
   "metadata": {
    "slideshow": {
     "slide_type": "-"
    }
   },
   "outputs": [],
   "source": [
    "def square(number, input2): \n",
    "    \"\"\"<Summary line>\n",
    "    \n",
    "    <Small paragraph with details>\n",
    "    \n",
    "    Parameters:\n",
    "    number (int):   One line on what the input expects\n",
    "    input2 (float): Second line for the second input\n",
    "    \n",
    "    Returns: \n",
    "    return variable (float): Squared number\n",
    "    \"\"\"\n",
    "    sqr = number ** 2\n",
    "    return sqr "
   ]
  },
  {
   "cell_type": "markdown",
   "id": "5131f785",
   "metadata": {
    "slideshow": {
     "slide_type": "slide"
    }
   },
   "source": [
    "Set docstring of `csc121_round` to docstring of built-in `round`"
   ]
  },
  {
   "cell_type": "code",
   "execution_count": 153,
   "id": "9e3021fc",
   "metadata": {},
   "outputs": [],
   "source": [
    "round?"
   ]
  },
  {
   "cell_type": "code",
   "execution_count": 152,
   "id": "403dfcd5",
   "metadata": {
    "slideshow": {
     "slide_type": "-"
    }
   },
   "outputs": [],
   "source": [
    "def csc121_round(number):\n",
    "    \"\"\"Rounds a number to a given precision in decimal digits.\n",
    "    \n",
    "    The return value is an integer if ndigits is omitted or None.  Otherwise\n",
    "    the return value has the same type as the number.  ndigits may be negative.\n",
    "    \"\"\"\n",
    "    fractional_part = number % 1\n",
    "    integer_part = number // 1    \n",
    "    to_ceil = fractional_part >= 0.5\n",
    "    rounded = integer_part + to_ceil\n",
    "        \n",
    "    return rounded"
   ]
  },
  {
   "cell_type": "code",
   "execution_count": null,
   "id": "8cdc8bd5",
   "metadata": {},
   "outputs": [],
   "source": [
    "csc121_round?"
   ]
  },
  {
   "cell_type": "markdown",
   "id": "aa4e17ac",
   "metadata": {
    "slideshow": {
     "slide_type": "slide"
    }
   },
   "source": [
    "# 4.3.2. `assert`"
   ]
  },
  {
   "cell_type": "markdown",
   "id": "ae1a3e1f",
   "metadata": {
    "slideshow": {
     "slide_type": "-"
    }
   },
   "source": [
    "* `assert` checks if a boolean condition is True or False. \n",
    "\n",
    "* If the statement is `True` then it does nothing and continues the execution\n",
    "\n",
    "* If the statement is `False` then it stops the execution of the program and throws an error."
   ]
  },
  {
   "cell_type": "markdown",
   "id": "7b74cab9",
   "metadata": {
    "slideshow": {
     "slide_type": "slide"
    }
   },
   "source": [
    "![](https://media.geeksforgeeks.org/wp-content/uploads/20190816162037/dsa.png)"
   ]
  },
  {
   "cell_type": "markdown",
   "id": "8ece96b0",
   "metadata": {
    "slideshow": {
     "slide_type": "slide"
    }
   },
   "source": [
    "Assertion statements take as input: **a boolean condition**\n",
    "    \n",
    "   * When the condition is `True`, assertion doesn’t do anything and continues the normal flow of execution\n",
    "        \n",
    "   * When the condition is `False`, an **`AssertionError`** is raised along with the optional message provided. \n",
    "\n",
    "* Syntax : \n",
    "    ` assert <condition>, \"error_message\"` (error message is optional)"
   ]
  },
  {
   "cell_type": "markdown",
   "id": "fb809b11",
   "metadata": {
    "slideshow": {
     "slide_type": "slide"
    }
   },
   "source": [
    "Assertions used for two reasons: \n",
    "\n",
    "1. Testing for correctness"
   ]
  },
  {
   "cell_type": "code",
   "execution_count": 185,
   "id": "1fd4d56c",
   "metadata": {},
   "outputs": [],
   "source": [
    "def days_of_month(month, leap_year):\n",
    "    \n",
    "    assert 0 < month and month <= 12, \"Invalid month given to days_of_month\"\n",
    "    \n",
    "#     assert leap_year == True or leap_year == False, \"Invalid Leap Year value given\"\n",
    "    \n",
    "    assert type(leap_year)== bool, \"leap_year not of type bool\"\n",
    "    \n",
    "    if month == 4 or month == 6 or month == 9 or month == 11:\n",
    "        days = 30\n",
    "    elif month == 2:\n",
    "        if leap_year: \n",
    "            days = 29\n",
    "        else:\n",
    "            days = 28\n",
    "    else:\n",
    "        days = 31\n",
    "    return days"
   ]
  },
  {
   "cell_type": "code",
   "execution_count": 188,
   "id": "8dc047ef",
   "metadata": {},
   "outputs": [
    {
     "name": "stdout",
     "output_type": "stream",
     "text": [
      "31\n"
     ]
    }
   ],
   "source": [
    "print(days_of_month(3, False))\n",
    "print(days_of_month(3, 0))"
   ]
  },
  {
   "cell_type": "markdown",
   "id": "9c0c60ce",
   "metadata": {
    "slideshow": {
     "slide_type": "slide"
    }
   },
   "source": [
    "2. Making sure expected inputs were passed \n",
    "\n",
    "    * If any assumptions that a programmer makes while writing code are false, then don't allow further code to execute. "
   ]
  },
  {
   "cell_type": "markdown",
   "id": "095ad909",
   "metadata": {
    "slideshow": {
     "slide_type": "slide"
    }
   },
   "source": [
    "# 4.3.3. `round` == `csc121_round`? "
   ]
  },
  {
   "cell_type": "markdown",
   "id": "9e262ab0",
   "metadata": {},
   "source": [
    "[x] Match `round`'s docstring "
   ]
  },
  {
   "cell_type": "code",
   "execution_count": 189,
   "id": "9e4f54b8",
   "metadata": {},
   "outputs": [],
   "source": [
    "csc121_round?"
   ]
  },
  {
   "cell_type": "markdown",
   "id": "871fcbbc",
   "metadata": {},
   "source": [
    "1. Write test cases for which `round` != `csc121_round`"
   ]
  },
  {
   "cell_type": "code",
   "execution_count": 166,
   "id": "e840684a",
   "metadata": {},
   "outputs": [
    {
     "name": "stdout",
     "output_type": "stream",
     "text": [
      "All test cases passed\n"
     ]
    }
   ],
   "source": [
    "assert (csc121_round(2.3) == 2), \"Test case 1 failed\"\n",
    "assert csc121_round(2.6) == 3, \"Test case 2 failed\"\n",
    "assert csc121_round(2) == 2, \"Test case 3 failed\"\n",
    "assert csc121_round(2.5) == 3, \"Test case 4 failed\"\n",
    "print(\"All test cases passed\")"
   ]
  },
  {
   "cell_type": "code",
   "execution_count": 195,
   "id": "8eceef46",
   "metadata": {},
   "outputs": [
    {
     "ename": "AssertionError",
     "evalue": "Test case 4 failed",
     "output_type": "error",
     "traceback": [
      "\u001b[0;31m---------------------------------------------------------------------------\u001b[0m",
      "\u001b[0;31mAssertionError\u001b[0m                            Traceback (most recent call last)",
      "Input \u001b[0;32mIn [195]\u001b[0m, in \u001b[0;36m<cell line: 4>\u001b[0;34m()\u001b[0m\n\u001b[1;32m      2\u001b[0m \u001b[38;5;28;01massert\u001b[39;00m \u001b[38;5;28mround\u001b[39m(\u001b[38;5;241m2.9\u001b[39m) \u001b[38;5;241m==\u001b[39m csc121_round(\u001b[38;5;241m2.9\u001b[39m), \u001b[38;5;124m\"\u001b[39m\u001b[38;5;124mTest case 2 failed\u001b[39m\u001b[38;5;124m\"\u001b[39m\n\u001b[1;32m      3\u001b[0m \u001b[38;5;28;01massert\u001b[39;00m \u001b[38;5;28mround\u001b[39m(\u001b[38;5;241m-\u001b[39m\u001b[38;5;241m2.9\u001b[39m) \u001b[38;5;241m==\u001b[39m csc121_round(\u001b[38;5;241m-\u001b[39m\u001b[38;5;241m2.9\u001b[39m), \u001b[38;5;124m\"\u001b[39m\u001b[38;5;124mTest case 3 failed\u001b[39m\u001b[38;5;124m\"\u001b[39m\n\u001b[0;32m----> 4\u001b[0m \u001b[38;5;28;01massert\u001b[39;00m \u001b[38;5;28mround\u001b[39m(\u001b[38;5;241m2.5\u001b[39m) \u001b[38;5;241m==\u001b[39m csc121_round(\u001b[38;5;241m2.5\u001b[39m), \u001b[38;5;124m\"\u001b[39m\u001b[38;5;124mTest case 4 failed\u001b[39m\u001b[38;5;124m\"\u001b[39m\n\u001b[1;32m      5\u001b[0m \u001b[38;5;28mprint\u001b[39m(\u001b[38;5;124m\"\u001b[39m\u001b[38;5;124mAll test cases passed\u001b[39m\u001b[38;5;124m\"\u001b[39m)\n",
      "\u001b[0;31mAssertionError\u001b[0m: Test case 4 failed"
     ]
    }
   ],
   "source": [
    "assert round(2.3) == csc121_round(2.3), \"Test case 1 failed\"\n",
    "assert round(2.9) == csc121_round(2.9), \"Test case 2 failed\"\n",
    "assert round(-2.9) == csc121_round(-2.9), \"Test case 3 failed\"\n",
    "assert round(2.5) == csc121_round(2.5), \"Test case 4 failed\"\n",
    "print(\"All test cases passed\")"
   ]
  },
  {
   "cell_type": "code",
   "execution_count": 199,
   "id": "34933a08",
   "metadata": {},
   "outputs": [
    {
     "name": "stdout",
     "output_type": "stream",
     "text": [
      "All test cases passed\n"
     ]
    }
   ],
   "source": [
    "assert csc121_round(2.5) == round(2.5), \"Test case 1 failed\"\n",
    "assert csc121_round(3.5) == round(3.5), \"Test case 2 failed\"\n",
    "assert csc121_round(2.588, 2) == round(2.588, 2), \"Unexpected behavior\"\n",
    "print(\"All test cases passed\")"
   ]
  },
  {
   "cell_type": "markdown",
   "id": "2ec04db9",
   "metadata": {
    "slideshow": {
     "slide_type": "slide"
    }
   },
   "source": [
    "2. Fix the failing test cases\n",
    "\n",
    "3. Implement `ndigits` "
   ]
  },
  {
   "cell_type": "code",
   "execution_count": 207,
   "id": "099bb92e",
   "metadata": {},
   "outputs": [],
   "source": [
    "def csc121_round(number, ndigits):\n",
    "    \"\"\"Rounds a number to a given precision in decimal digits.\n",
    "    \n",
    "    The return value is an integer if ndigits is omitted or None.  Otherwise\n",
    "    the return value has the same type as the number.  ndigits may be negative.\n",
    "    \"\"\"\n",
    "    \n",
    "    #shift here\n",
    "    new_number = number * (10**ndigits)\n",
    "    \n",
    "    fractional_part = new_number % 1\n",
    "    integer_part = new_number // 1\n",
    "    \n",
    "    if fractional_part > 0.5:\n",
    "        rounded = integer_part + 1\n",
    "        \n",
    "    elif fractional_part < 0.5:\n",
    "        rounded = integer_part\n",
    "        \n",
    "    else:\n",
    "        if (integer_part + 1) % 2 == 0:\n",
    "            rounded = integer_part + 1\n",
    "        else:\n",
    "            rounded = integer_part\n",
    "    \n",
    "    #shift back here\n",
    "    rounded = rounded* 10**(-1*ndigits)\n",
    "        \n",
    "    return rounded"
   ]
  },
  {
   "cell_type": "code",
   "execution_count": 212,
   "id": "e5e42b6b",
   "metadata": {},
   "outputs": [],
   "source": [
    "csc121_round?"
   ]
  },
  {
   "cell_type": "code",
   "execution_count": 114,
   "id": "4311a45d",
   "metadata": {},
   "outputs": [
    {
     "name": "stdout",
     "output_type": "stream",
     "text": [
      "73.7 ns ± 0.0911 ns per loop (mean ± std. dev. of 7 runs, 10,000,000 loops each)\n"
     ]
    }
   ],
   "source": [
    "%timeit round(29.8)"
   ]
  },
  {
   "cell_type": "code",
   "execution_count": 113,
   "id": "a6fce83d",
   "metadata": {},
   "outputs": [
    {
     "name": "stdout",
     "output_type": "stream",
     "text": [
      "272 ns ± 0.79 ns per loop (mean ± std. dev. of 7 runs, 1,000,000 loops each)\n"
     ]
    }
   ],
   "source": [
    "%timeit csc121_round(29.8)"
   ]
  }
 ],
 "metadata": {
  "celltoolbar": "Slideshow",
  "kernelspec": {
   "display_name": "Python 3 (ipykernel)",
   "language": "python",
   "name": "python3"
  },
  "language_info": {
   "codemirror_mode": {
    "name": "ipython",
    "version": 3
   },
   "file_extension": ".py",
   "mimetype": "text/x-python",
   "name": "python",
   "nbconvert_exporter": "python",
   "pygments_lexer": "ipython3",
   "version": "3.9.12"
  }
 },
 "nbformat": 4,
 "nbformat_minor": 5
}
