{
 "cells": [
  {
   "cell_type": "markdown",
   "id": "9263edd8",
   "metadata": {
    "slideshow": {
     "slide_type": "slide"
    }
   },
   "source": [
    "<img width=\"600\" align=\"left\" src=\"https://i.ibb.co/9vXxWXk/Screen-Shot-2022-10-30-at-5-36-33-PM.png\">"
   ]
  },
  {
   "cell_type": "markdown",
   "id": "6d245439",
   "metadata": {
    "slideshow": {
     "slide_type": "slide"
    }
   },
   "source": [
    "<img src=\"https://i.ibb.co/QHMLRNT/Screen-Shot-2022-10-30-at-5-43-16-PM.png\">"
   ]
  },
  {
   "cell_type": "code",
   "execution_count": null,
   "id": "2773a28d",
   "metadata": {},
   "outputs": [],
   "source": [
    "sequence = [\"apparition\", 13, \"orbs\", False, 0.131313, \"paranormal\"]\n",
    "\n",
    "string = \"print('fahad') apparition 13 orbs False 0.131313 paranormal ?!?*#$)&T#($@$)\"\n",
    "\n",
    "type(string)"
   ]
  },
  {
   "cell_type": "markdown",
   "id": "5a511153",
   "metadata": {
    "slideshow": {
     "slide_type": "slide"
    }
   },
   "source": [
    "<img align=\"left\" src=\"https://i.ibb.co/6PG7RLK/Screen-Shot-2022-10-30-at-6-47-35-PM.png\">"
   ]
  },
  {
   "cell_type": "markdown",
   "id": "acea6414",
   "metadata": {
    "slideshow": {
     "slide_type": "slide"
    }
   },
   "source": [
    "<img src=\"https://i.ibb.co/M1rPKtR/Screen-Shot-2022-10-30-at-7-24-55-PM.png\">"
   ]
  },
  {
   "cell_type": "code",
   "execution_count": 232,
   "id": "50433037",
   "metadata": {},
   "outputs": [
    {
     "data": {
      "text/plain": [
       "(True, False, str, str)"
      ]
     },
     "execution_count": 232,
     "metadata": {},
     "output_type": "execute_result"
    }
   ],
   "source": [
    "listt[0]==string[0], listt==string, type(listt[0]), type(string[0])"
   ]
  },
  {
   "cell_type": "code",
   "execution_count": 223,
   "id": "7604ea33",
   "metadata": {},
   "outputs": [
    {
     "name": "stdout",
     "output_type": "stream",
     "text": [
      "False <class 'list'> <class 'str'>\n"
     ]
    }
   ],
   "source": [
    "string = \"cemetery\"\n",
    "listt = [\"c\", \"e\", \"m\", \"e\", \"t\", \"e\", \"r\", \"y\"]\n",
    "    \n",
    "print(listt == string, type(listt), type(string))"
   ]
  },
  {
   "cell_type": "markdown",
   "id": "c841d4b7",
   "metadata": {
    "slideshow": {
     "slide_type": "slide"
    }
   },
   "source": [
    "<img width=\"1000\" src=\"https://i.ibb.co/mF704h7/Screen-Shot-2022-10-30-at-8-03-42-PM.png\">"
   ]
  },
  {
   "cell_type": "code",
   "execution_count": 238,
   "id": "580bea53",
   "metadata": {},
   "outputs": [
    {
     "data": {
      "text/plain": [
       "'or'"
      ]
     },
     "execution_count": 238,
     "metadata": {},
     "output_type": "execute_result"
    }
   ],
   "source": [
    "string = \"morbid\" \n",
    "string[1:-3]"
   ]
  },
  {
   "cell_type": "markdown",
   "id": "71962441",
   "metadata": {
    "slideshow": {
     "slide_type": "slide"
    }
   },
   "source": [
    "<img align=\"left\" width=\"1100\" src=\"https://i.ibb.co/bRHNSXp/Screen-Shot-2022-10-30-at-9-22-10-PM.png\">"
   ]
  },
  {
   "cell_type": "code",
   "execution_count": 250,
   "id": "d15cbeb4",
   "metadata": {
    "slideshow": {
     "slide_type": "slide"
    }
   },
   "outputs": [
    {
     "name": "stdout",
     "output_type": "stream",
     "text": [
      "['eerie', 'shadows', 'crows']\n"
     ]
    }
   ],
   "source": [
    "\"\"\" LISTS Passed by reference\n",
    "\"\"\"\n",
    "def func(list_input):\n",
    "    list_input.append(\"crows\")\n",
    "    \n",
    "my_list = [\"eerie\", \"shadows\"]\n",
    "func(my_list)\n",
    "print(my_list)"
   ]
  },
  {
   "cell_type": "code",
   "execution_count": 247,
   "id": "ec582200",
   "metadata": {},
   "outputs": [
    {
     "name": "stdout",
     "output_type": "stream",
     "text": [
      "alive\n"
     ]
    }
   ],
   "source": [
    "\"\"\" STRINGS Passed by value\n",
    "   (Same as Integers, Booleans, Floats)\n",
    "\"\"\"\n",
    "def func(val):\n",
    "    val = \"deceased\"\n",
    "    \n",
    "val = \"alive\"\n",
    "func(val)\n",
    "print(val)"
   ]
  },
  {
   "cell_type": "markdown",
   "id": "d237dd22",
   "metadata": {
    "slideshow": {
     "slide_type": "slide"
    }
   },
   "source": [
    "<img src=\"https://i.ibb.co/qMW9CrY/Screen-Shot-2022-10-30-at-9-52-36-PM.png\">"
   ]
  },
  {
   "cell_type": "code",
   "execution_count": null,
   "id": "e8650b62",
   "metadata": {},
   "outputs": [],
   "source": [
    "a = 'She said, \"May he rest in peace.\"' \n",
    "print(a)"
   ]
  },
  {
   "cell_type": "markdown",
   "id": "770240b4",
   "metadata": {
    "slideshow": {
     "slide_type": "slide"
    }
   },
   "source": [
    "<img src=\"https://i.ibb.co/zrYfVCT/Screen-Shot-2022-10-30-at-9-53-00-PM.png\">"
   ]
  },
  {
   "cell_type": "code",
   "execution_count": 256,
   "id": "2fe9f54b",
   "metadata": {},
   "outputs": [
    {
     "name": "stdout",
     "output_type": "stream",
     "text": [
      "pitchfork\n"
     ]
    }
   ],
   "source": [
    "a = \"pitch\"\n",
    "b = \"fork\"\n",
    "c = a+b\n",
    "print(c) "
   ]
  },
  {
   "cell_type": "markdown",
   "id": "95cba370",
   "metadata": {},
   "source": [
    "<img src=\"https://i.ibb.co/fC6c62F/Screen-Shot-2022-10-30-at-9-53-07-PM.png\">"
   ]
  },
  {
   "cell_type": "code",
   "execution_count": 273,
   "id": "65260971",
   "metadata": {},
   "outputs": [
    {
     "data": {
      "text/plain": [
       "'mrbid'"
      ]
     },
     "execution_count": 273,
     "metadata": {},
     "output_type": "execute_result"
    }
   ],
   "source": [
    "a = \"morbid\"\n",
    "a.replace(\"o\", \"\")"
   ]
  },
  {
   "cell_type": "code",
   "execution_count": null,
   "id": "ef994486",
   "metadata": {},
   "outputs": [],
   "source": [
    "a = \"morbid\"\n",
    "a.replace()"
   ]
  },
  {
   "cell_type": "code",
   "execution_count": null,
   "id": "eaabb070",
   "metadata": {},
   "outputs": [],
   "source": [
    "a = \"grim reaper\"\n",
    "b = a.replace(\" reaper\", \"\")\n",
    "print(b, a[:5])"
   ]
  },
  {
   "cell_type": "markdown",
   "id": "f0f8ca40",
   "metadata": {
    "slideshow": {
     "slide_type": "slide"
    }
   },
   "source": [
    "<img src=\"https://i.ibb.co/Kq2szdv/Screen-Shot-2022-10-30-at-11-20-56-PM.png\">"
   ]
  },
  {
   "cell_type": "code",
   "execution_count": 274,
   "id": "02c27e1d",
   "metadata": {},
   "outputs": [
    {
     "name": "stdout",
     "output_type": "stream",
     "text": [
      "HERES JOHNNY\n"
     ]
    }
   ],
   "source": [
    "msg = [7, 4, 17, 4, 18, \" \", 9, 14, 7, 13, 13, 24]\n",
    "alphabet = \"ABCDEFGHIJKLMNOPQRSTUVWXYZ\"\n",
    "\n",
    "i = 0\n",
    "decoded = \"\"\n",
    "while i < len(msg):\n",
    "    x = msg[i]\n",
    "    if x == \" \":\n",
    "        decoded = decoded + \" \"\n",
    "    else:\n",
    "        decoded = decoded + alphabet[x]\n",
    "    i = i + 1\n",
    "\n",
    "print(decoded)\n"
   ]
  },
  {
   "cell_type": "markdown",
   "id": "18e27c28",
   "metadata": {
    "slideshow": {
     "slide_type": "slide"
    }
   },
   "source": [
    "<img align=\"left\" src=\"https://i.ibb.co/0fX7JQC/Screen-Shot-2022-10-30-at-11-49-36-PM.png\">"
   ]
  },
  {
   "cell_type": "code",
   "execution_count": null,
   "id": "6e548e9a",
   "metadata": {},
   "outputs": [],
   "source": [
    "msg = \"semitemos dam elttil a og lla ew\""
   ]
  },
  {
   "cell_type": "markdown",
   "id": "9ec4c9f6",
   "metadata": {
    "slideshow": {
     "slide_type": "slide"
    }
   },
   "source": [
    "<img src=\"https://i.ibb.co/jDmc5rJ/Screen-Shot-2022-10-31-at-1-12-51-AM.png\">"
   ]
  },
  {
   "cell_type": "code",
   "execution_count": null,
   "id": "a5daaffc",
   "metadata": {},
   "outputs": [],
   "source": [
    "msg = \"PRESIDENT'S EMBARGO RULING SHOULD HAVE IMMEDIATE NOTICE. GRAVE SITUATION AFFECTING\\\n",
    "    INTERNATIONAL LAW. STATEMENT FORESHADOWS RUIN OF MANY NEUTRALS. YELLOW JOURNALS UNIFYING \\\n",
    "    NATIONAL EXCITEMENT IMMENSELY.\"\n",
    "\n"
   ]
  }
 ],
 "metadata": {
  "celltoolbar": "Slideshow",
  "kernelspec": {
   "display_name": "Python 3 (ipykernel)",
   "language": "python",
   "name": "python3"
  },
  "language_info": {
   "codemirror_mode": {
    "name": "ipython",
    "version": 3
   },
   "file_extension": ".py",
   "mimetype": "text/x-python",
   "name": "python",
   "nbconvert_exporter": "python",
   "pygments_lexer": "ipython3",
   "version": "3.9.12"
  }
 },
 "nbformat": 4,
 "nbformat_minor": 5
}
