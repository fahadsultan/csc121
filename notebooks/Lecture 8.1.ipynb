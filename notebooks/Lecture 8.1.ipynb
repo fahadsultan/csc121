{
 "cells": [
  {
   "cell_type": "markdown",
   "id": "685cd94d",
   "metadata": {
    "slideshow": {
     "slide_type": "slide"
    }
   },
   "source": [
    "# Lecture 8.1. \n",
    "\n",
    "# Benchmarking in Python\n",
    "\n",
    "# Wed October 19th"
   ]
  },
  {
   "cell_type": "markdown",
   "id": "67f84a7f",
   "metadata": {
    "slideshow": {
     "slide_type": "slide"
    }
   },
   "source": [
    "# 8.1.1. <a href=\"https://en.wikipedia.org/wiki/Arrow_of_time\">The Arrow of Time</a>\n",
    "\n",
    "\n",
    "* What does it _really_ mean when we say the current year is 2022?\n",
    "\n",
    "    * Where does the number 2022 come from? \n",
    "    \n",
    "<br/>\n",
    "<br/>\n",
    "<br/>\n",
    "    \n",
    "<img src=\"https://i.ibb.co/bdg6yLy/Screen-Shot-2022-10-18-at-10-30-51-PM.png\">"
   ]
  },
  {
   "cell_type": "markdown",
   "id": "4c9df47c",
   "metadata": {
    "slideshow": {
     "slide_type": "slide"
    }
   },
   "source": [
    "* 2022 is an **amount of time** that has **elapsed** since a particular **reference point**. \n",
    "\n",
    "* The reference point from which time is measured, for a particular calendar, is called **Epoch** \n",
    "\n",
    "* Every calendar can be thought of as a **stopwatch**. The epoch is when the stopwatch is started. \n",
    "\n",
    "* _What is the value of Year at the Epoch?_"
   ]
  },
  {
   "cell_type": "markdown",
   "id": "8aee5921",
   "metadata": {
    "slideshow": {
     "slide_type": "-"
    }
   },
   "source": [
    "<center><img width=\"1000\" src=\"https://i.ibb.co/ynhTQ2V/Screen-Shot-2022-10-18-at-5-35-31-PM.png\"></center>"
   ]
  },
  {
   "cell_type": "markdown",
   "id": "86b2bc35",
   "metadata": {
    "slideshow": {
     "slide_type": "slide"
    }
   },
   "source": [
    "<center><img width=850 src=\"https://i.ibb.co/XWHkKPs/Screen-Shot-2022-10-18-at-5-33-21-PM.png\"></center>"
   ]
  },
  {
   "cell_type": "markdown",
   "id": "db872bbb",
   "metadata": {
    "slideshow": {
     "slide_type": "slide"
    }
   },
   "source": [
    "* **Unix units**: _Seconds_ (includes MacOS, Linux, Chromebook etc.)\n",
    "* **Windows units**: _100 nano seconds_ ($1 \\times 10^{-7}$ Seconds)"
   ]
  },
  {
   "cell_type": "markdown",
   "id": "3cb16560",
   "metadata": {
    "slideshow": {
     "slide_type": "-"
    }
   },
   "source": [
    "<center><img width=1000 src=\"https://i.ibb.co/QkmFS1m/Screen-Shot-2022-10-19-at-12-49-43-AM.png\"></center>"
   ]
  },
  {
   "cell_type": "markdown",
   "id": "47b26f82",
   "metadata": {
    "slideshow": {
     "slide_type": "slide"
    }
   },
   "source": [
    "**Question 1. How can we find out what date and time is the epoch, on your given machine?**\n",
    "\n",
    "Let's start with year. \n",
    "\n",
    "* Use `from time import time` to import the built-in `time` function. "
   ]
  },
  {
   "cell_type": "code",
   "execution_count": 70,
   "id": "03c8e25a",
   "metadata": {},
   "outputs": [
    {
     "name": "stdout",
     "output_type": "stream",
     "text": [
      "Help on built-in function time in module time:\n",
      "\n",
      "time(...)\n",
      "    time() -> floating point number\n",
      "    \n",
      "    Return the current time in seconds since the Epoch.\n",
      "    Fractions of a second may be present if the system clock provides them.\n",
      "\n"
     ]
    }
   ],
   "source": [
    "help(time)"
   ]
  },
  {
   "cell_type": "code",
   "execution_count": 75,
   "id": "7bd97915",
   "metadata": {},
   "outputs": [
    {
     "data": {
      "text/plain": [
       "1970.6116694258264"
      ]
     },
     "execution_count": 75,
     "metadata": {},
     "output_type": "execute_result"
    }
   ],
   "source": [
    "from time import time \n",
    "\n",
    "secs_in_min = 60\n",
    "mins_in_hr = 60\n",
    "hr_in_day = 24\n",
    "days_in_year = 365\n",
    "\n",
    "secs_in_a_year = secs_in_min*mins_in_hr*hr_in_day*days_in_year\n",
    "\n",
    "(2022 + 10/12 + 19/31) - time()/secs_in_a_year"
   ]
  },
  {
   "cell_type": "markdown",
   "id": "fc452ce3",
   "metadata": {
    "slideshow": {
     "slide_type": "slide"
    }
   },
   "source": [
    "<img width=\"1000\" src=\"https://i.ibb.co/8jpvhDJ/time1.png\">\n",
    "<img width=\"1000\"  src=\"https://i.ibb.co/MZh97pd/time-2-3.png\">"
   ]
  },
  {
   "cell_type": "markdown",
   "id": "8abc147e",
   "metadata": {
    "slideshow": {
     "slide_type": "slide"
    }
   },
   "source": [
    "\n",
    "<img src=\"https://i.ibb.co/BZ2drpn/time-delta.png\">"
   ]
  },
  {
   "cell_type": "markdown",
   "id": "a1329f0a",
   "metadata": {
    "slideshow": {
     "slide_type": "slide"
    }
   },
   "source": [
    "### Benchmarking\n",
    "\n",
    "* **Benchmarking** is the process of **assessing the performance** of a computer program or individual operations\n",
    "\n",
    "    * Performance can be assessed with respect to **time** (speed) and **space** (memory)\n",
    "    * Normally done very carefully by designing and running a number of **standard tests** and trials \n",
    "    \n",
    "    * Formally done in a **sterile environment**\n",
    "    \n",
    "        * Not while having a 100 tabs open in Chrome and other apps open\n",
    "    * Performance is often **assessed relatively** (comparative)\n"
   ]
  },
  {
   "cell_type": "markdown",
   "id": "f6420390",
   "metadata": {
    "slideshow": {
     "slide_type": "slide"
    }
   },
   "source": [
    "## Benchmarking using `time`"
   ]
  },
  {
   "cell_type": "markdown",
   "id": "cdc3eb1e",
   "metadata": {},
   "source": [
    "* We will talk about the following three in this course: \n",
    "\n",
    "    * **Benchmarking a Function** (This is going to our primary focus in this course)\n",
    "\n",
    "    * ~~Benchmarking an Algorithm~~\n",
    "\n",
    "    * Benchmarking a Machine"
   ]
  },
  {
   "cell_type": "markdown",
   "id": "aadc73ef",
   "metadata": {
    "slideshow": {
     "slide_type": "slide"
    }
   },
   "source": [
    "## Benchmarking a Function"
   ]
  },
  {
   "cell_type": "markdown",
   "id": "5be662e4",
   "metadata": {},
   "source": [
    "* The amount of **time** it takes for the function to execute\n",
    "\n",
    "* The amount of **memory** the function consumes to execute (maybe later in the course)"
   ]
  },
  {
   "cell_type": "markdown",
   "id": "163dcbd9",
   "metadata": {},
   "source": [
    "<img src=\"https://i.ibb.co/Sx5bsdW/func-time.png\">"
   ]
  },
  {
   "cell_type": "code",
   "execution_count": 146,
   "id": "6478f98d",
   "metadata": {
    "slideshow": {
     "slide_type": "slide"
    }
   },
   "outputs": [
    {
     "name": "stdout",
     "output_type": "stream",
     "text": [
      "Our function is faster:  True\n"
     ]
    }
   ],
   "source": [
    "\"\"\"Example of benchmarking a function\"\"\"\n",
    "\n",
    "def csc121_abs(x):\n",
    "    if x < 0:\n",
    "        x = x * -1 \n",
    "    return x\n",
    "\n",
    "start = time()\n",
    "\"\"\"1000 calls to our function\"\"\"\n",
    "i = 1\n",
    "while i<= 1000:\n",
    "    csc121_abs(-4.5) \n",
    "    i = i + 1\n",
    "\n",
    "our_func_time = time()-start\n",
    "\n",
    "start = time()\n",
    "\"\"\"1000 calls to built-in function\"\"\"\n",
    "i = 1\n",
    "while i <= 1000:\n",
    "    abs(-4.5)\n",
    "    i = i + 1\n",
    "\n",
    "builtin_time = time()-start\n",
    "\n",
    "print(\"Our function is faster: \", our_func_time < builtin_time)"
   ]
  },
  {
   "cell_type": "markdown",
   "id": "021608ac",
   "metadata": {
    "slideshow": {
     "slide_type": "slide"
    }
   },
   "source": [
    "## Benchmarking an Algorithm"
   ]
  },
  {
   "cell_type": "markdown",
   "id": "7807922b",
   "metadata": {},
   "source": [
    "* Note how the **same function**, when called multiples times, **takes different amounts of time to execute** \n",
    "    * Even for the same input \n",
    "    \n",
    "    \n",
    "* Algorithms are **benchmarked theoretically** in terms of number of iterations \n",
    "    * CSC-122: _Data Structures and Algorithms_\n",
    "    * CSC-223: _Advanced Data Structures & Algorithms_\n",
    "\n",
    "\n",
    "* Often depends on input(s)\n",
    "    * And the size of the data"
   ]
  },
  {
   "cell_type": "markdown",
   "id": "b06d5cbf",
   "metadata": {
    "slideshow": {
     "slide_type": "slide"
    }
   },
   "source": [
    "### Benchmarking a machine"
   ]
  },
  {
   "cell_type": "markdown",
   "id": "62ba84d5",
   "metadata": {},
   "source": [
    "* The number of operations the machine can perform in a some period of time. \n",
    "* For example: Floating Point Operations Per Second (<a href=\"https://en.wikipedia.org/wiki/FLOPS\">FLOPS</a>)"
   ]
  },
  {
   "cell_type": "markdown",
   "id": "03e7cdf2",
   "metadata": {},
   "source": [
    "<img src=\"https://i.ibb.co/HtnQN0M/benchmarking.png\">"
   ]
  },
  {
   "cell_type": "code",
   "execution_count": 14,
   "id": "b62ced3a",
   "metadata": {},
   "outputs": [],
   "source": [
    "start = time()\n",
    "i = 0.0\n",
    "while time() - start < 60:\n",
    "    i = i + 1.0\n",
    "    \n",
    "print(i)"
   ]
  },
  {
   "cell_type": "markdown",
   "id": "c80d6f47",
   "metadata": {
    "slideshow": {
     "slide_type": "slide"
    }
   },
   "source": [
    "# `pass`"
   ]
  },
  {
   "cell_type": "markdown",
   "id": "61ff975f",
   "metadata": {},
   "source": [
    "* `pass` **does not do anything**\n",
    "\n",
    "\n",
    "* When the pass statement is executed, nothing happens\n",
    "    * You just **avoid** getting an **error when and where empty code is not allowed**.\n",
    "\n",
    "\n",
    "* For example: \n",
    "    * Empty code is not allowed in loops, function definitions, class definitions, or in if statements.   \n",
    "\n",
    "* Often used as a **placeholder for future code**.\n",
    "\n",
    "* **Useful for benchmarking**"
   ]
  },
  {
   "cell_type": "code",
   "execution_count": null,
   "id": "063084a0",
   "metadata": {
    "slideshow": {
     "slide_type": "slide"
    }
   },
   "outputs": [],
   "source": [
    "\"\"\"Example of using pass for benchmarking\"\"\""
   ]
  }
 ],
 "metadata": {
  "celltoolbar": "Slideshow",
  "kernelspec": {
   "display_name": "Python 3 (ipykernel)",
   "language": "python",
   "name": "python3"
  },
  "language_info": {
   "codemirror_mode": {
    "name": "ipython",
    "version": 3
   },
   "file_extension": ".py",
   "mimetype": "text/x-python",
   "name": "python",
   "nbconvert_exporter": "python",
   "pygments_lexer": "ipython3",
   "version": "3.9.12"
  }
 },
 "nbformat": 4,
 "nbformat_minor": 5
}
