{
 "cells": [
  {
   "cell_type": "markdown",
   "id": "a29da3ca",
   "metadata": {},
   "source": [
    "# Question 1"
   ]
  },
  {
   "cell_type": "markdown",
   "id": "4645b9ef",
   "metadata": {},
   "source": [
    "**0.a.** Write a **detailed docstring** for `generate_random_list` function below, documenting: \n",
    "* Input(s), with default values\n",
    "* Output(s)\n",
    "* One line summary\n",
    "* Detailed summary\n",
    "\n",
    "**0.b.** Write an in-line comment (ones starting with `#`) **for each line** of the `generate_random_list` function\n",
    "\n",
    "_Note: `generate_random_list` is used to test your implementations of all functions that follow_\n"
   ]
  },
  {
   "cell_type": "code",
   "execution_count": 1,
   "id": "fe03eb73",
   "metadata": {},
   "outputs": [],
   "source": [
    "from random import randint\n",
    "\n",
    "def generate_random_list(min_val=-999, max_val=999):\n",
    "    rand_len  = randint(1, 10)\n",
    "    rand_list = []\n",
    "    i = 0\n",
    "    while i < rand_len:\n",
    "        rand_list.append(randint(min_val, max_val))\n",
    "        i = i + 1\n",
    "    return rand_list"
   ]
  },
  {
   "cell_type": "markdown",
   "id": "ae1023ed",
   "metadata": {},
   "source": [
    "# Question 2. Create List"
   ]
  },
  {
   "cell_type": "markdown",
   "id": "bc179ffd",
   "metadata": {},
   "source": [
    "Write a function `csc121_range` that accepts as input an integer `n` and **returns a list of length `n` with item value $i$ at $i^{th}$ index**. For example, \n",
    "\n",
    "`n=4` should return `[0, 1, 2, 3]`\n",
    "\n",
    "`n=0` should return `[]`\n",
    "\n",
    "`n=1` should return `[0]`\n",
    "\n"
   ]
  },
  {
   "cell_type": "code",
   "execution_count": 2,
   "id": "b56b20a5",
   "metadata": {},
   "outputs": [],
   "source": [
    "def csc121_range(n):\n",
    "    new_list = []\n",
    "    i = 0\n",
    "    while i < n:\n",
    "        new_list.append(i)\n",
    "        i = i + 1\n",
    "    return new_list"
   ]
  },
  {
   "cell_type": "code",
   "execution_count": 3,
   "id": "3f220914",
   "metadata": {},
   "outputs": [
    {
     "name": "stdout",
     "output_type": "stream",
     "text": [
      "All test cases passed successfully\n"
     ]
    }
   ],
   "source": [
    "\"\"\" Test suite \"\"\"\n",
    "\n",
    "test_cases = 100\n",
    "i = 0\n",
    "while i < test_cases:\n",
    "    \n",
    "    rand_num        = randint(0, 999)\n",
    "    your_output     = csc121_range(rand_num) \n",
    "    expected_output = list(range(rand_num))\n",
    "    \n",
    "    assert your_output == expected_output, \\\n",
    "        \"Test case %s failed for input: %s \\n\" % (i, rand_num)+ \\\n",
    "        \"Your output: %s. Expected output: %s\" %\\\n",
    "        (your_output, expected_output)\n",
    "    \n",
    "    i = i + 1\n",
    "\n",
    "print(\"All test cases passed successfully\")"
   ]
  },
  {
   "cell_type": "markdown",
   "id": "eb456cd4",
   "metadata": {},
   "source": [
    "## Question 2.  Find Minimum Value\n",
    "\n",
    "Write a function `csc121_min` that accepts as input a list of integers or floats and return the list item with the **minimum** value. \n",
    "\n",
    "Raise a `TypeError` is anything other than a list is passed. Raise a `ValueError` if an empty list is passed. \n"
   ]
  },
  {
   "cell_type": "code",
   "execution_count": 4,
   "id": "ea335113",
   "metadata": {},
   "outputs": [],
   "source": [
    "\"\"\" Implementation \"\"\"\n",
    "\n",
    "def csc121_min(numbers):\n",
    "    i = 0\n",
    "    min_num = 99999999\n",
    "    while i < len(numbers):\n",
    "        if numbers[i] < min_num:\n",
    "            min_num = numbers[i]\n",
    "        i = i + 1\n",
    "    return min_num"
   ]
  },
  {
   "cell_type": "code",
   "execution_count": 5,
   "id": "197741fb",
   "metadata": {},
   "outputs": [
    {
     "name": "stdout",
     "output_type": "stream",
     "text": [
      "All test cases passed successfully\n"
     ]
    }
   ],
   "source": [
    "\"\"\" Test suite \"\"\"\n",
    "\n",
    "test_cases = 100\n",
    "i = 0\n",
    "while i < test_cases:\n",
    "    \n",
    "    test_list       = generate_random_list()\n",
    "    your_output     = csc121_min(test_list)\n",
    "    expected_output = min(test_list)\n",
    "    \n",
    "    assert your_output == expected_output, \\\n",
    "        \"Test case %s failed for input: %s \\n\" % (i, test_list)+ \\\n",
    "        \"Your implementation returned: %s. Expected output: %s\" %\\\n",
    "        (your_output, expected_output)\n",
    "    \n",
    "    i = i + 1\n",
    "\n",
    "print(\"All test cases passed successfully\")"
   ]
  },
  {
   "cell_type": "markdown",
   "id": "9d62604f",
   "metadata": {},
   "source": [
    "## Question 3.  Find Maximum Value\n",
    "\n",
    "\n",
    "Write a function `csc121_max` that accepts as input a list of integers or floats and return the list item with the **maximum** value. \n",
    "\n",
    "Raise a `TypeError` is anything other than a list is passed. Raise a `ValueError` if an empty list is passed. \n"
   ]
  },
  {
   "cell_type": "code",
   "execution_count": 6,
   "id": "9edb4c97",
   "metadata": {},
   "outputs": [],
   "source": [
    "def csc121_max(numbers):\n",
    "    i = 0\n",
    "    max_num = -99999999\n",
    "    while i < len(numbers):\n",
    "        if numbers[i] > max_num:\n",
    "            max_num = numbers[i]\n",
    "        i = i + 1\n",
    "    return max_num"
   ]
  },
  {
   "cell_type": "code",
   "execution_count": 7,
   "id": "48b8fb44",
   "metadata": {},
   "outputs": [
    {
     "name": "stdout",
     "output_type": "stream",
     "text": [
      "All test cases passed successfully\n"
     ]
    }
   ],
   "source": [
    "\"\"\" Test suite \"\"\"\n",
    "\n",
    "test_cases = 100\n",
    "i = 0\n",
    "while i < test_cases:\n",
    "    \n",
    "    test_list       = generate_random_list()\n",
    "    your_output     = csc121_max(test_list)\n",
    "    expected_output = max(test_list)\n",
    "    \n",
    "    assert your_output == expected_output, \\\n",
    "        \"Test case %s failed for input: %s \\n\" % (i, test_list)+ \\\n",
    "        \"Your implementation returned: %s. Expected output: %s\" %\\\n",
    "        (your_output, expected_output)\n",
    "    \n",
    "    i = i + 1\n",
    "\n",
    "print(\"All test cases passed successfully\")"
   ]
  },
  {
   "cell_type": "markdown",
   "id": "e3a29620",
   "metadata": {},
   "source": [
    "## Question 4. Find Index of Minimum Value\n",
    "\n",
    "Write a function `find_min` that accepts as input a list of integers and returns the **index** of the list item with the **maximum** value. \n",
    "\n",
    "Raise a `TypeError` is anything other than a list is passed. Raise a `ValueError` if an empty list is passed. \n"
   ]
  },
  {
   "cell_type": "code",
   "execution_count": 8,
   "id": "a4443a6d",
   "metadata": {},
   "outputs": [],
   "source": [
    "def find_min(numbers):\n",
    "    \n",
    "    i = 0\n",
    "    min_val = 10000\n",
    "    min_index = -1\n",
    "    while i < len(numbers):\n",
    "        if numbers[i] < min_val:\n",
    "            min_index = i\n",
    "            min_val   = numbers[i]\n",
    "        i = i + 1\n",
    "    return min_index\n",
    "        "
   ]
  },
  {
   "cell_type": "code",
   "execution_count": 9,
   "id": "0c869671",
   "metadata": {},
   "outputs": [
    {
     "name": "stdout",
     "output_type": "stream",
     "text": [
      "All test cases passed successfully\n"
     ]
    }
   ],
   "source": [
    "\"\"\" Test suite \"\"\"\n",
    "\n",
    "test_cases = 100\n",
    "i = 0\n",
    "while i < test_cases:\n",
    "    \n",
    "    test_list       = generate_random_list()\n",
    "    your_output     = find_min(test_list)\n",
    "    expected_output = test_list.index(min(test_list))\n",
    "    \n",
    "    assert your_output == expected_output, \\\n",
    "        \"Test case %s failed for input: %s \\n\" % (i, test_list)+ \\\n",
    "        \"Your implementation returned: %s. Expected output: %s\" %\\\n",
    "        (your_output, expected_output)\n",
    "    \n",
    "    i = i + 1\n",
    "\n",
    "print(\"All test cases passed successfully\")"
   ]
  },
  {
   "cell_type": "markdown",
   "id": "5055cb2e",
   "metadata": {},
   "source": [
    "## Question 5. Find Index of Maximum Value\n",
    "\n",
    "Write a function `find_max` that accepts as input a list of integers returns the **index** of the list item with the **maximum** value. \n",
    "\n",
    "Raise a `TypeError` is anything other than a list is passed. Raise a `ValueError` if an empty list is passed. \n"
   ]
  },
  {
   "cell_type": "code",
   "execution_count": 10,
   "id": "b5168e86",
   "metadata": {},
   "outputs": [],
   "source": [
    "def find_max(numbers):    \n",
    "    i = 0\n",
    "    max_val = -999\n",
    "    max_index = -1\n",
    "    while i < len(numbers):\n",
    "        if numbers[i] > max_val:\n",
    "            max_index = i\n",
    "            max_val   = numbers[i]\n",
    "        i = i + 1\n",
    "    return max_index\n"
   ]
  },
  {
   "cell_type": "code",
   "execution_count": 11,
   "id": "19d93d0c",
   "metadata": {},
   "outputs": [
    {
     "name": "stdout",
     "output_type": "stream",
     "text": [
      "All test cases passed successfully\n"
     ]
    }
   ],
   "source": [
    "\"\"\" Test suite \"\"\"\n",
    "\n",
    "test_cases = 100\n",
    "i = 0\n",
    "while i < test_cases:\n",
    "    \n",
    "    test_list       = generate_random_list()\n",
    "    your_output     = find_max(test_list)\n",
    "    expected_output = test_list.index(max(test_list))\n",
    "    \n",
    "    assert your_output == expected_output, \\\n",
    "        \"Test case %s failed for input: %s \\n\" % (i, test_list)+ \\\n",
    "        \"Your implementation returned: %s. Expected output: %s\" %\\\n",
    "        (your_output, expected_output)\n",
    "    \n",
    "    i = i + 1\n",
    "\n",
    "print(\"All test cases passed successfully\")"
   ]
  },
  {
   "cell_type": "markdown",
   "id": "042da9eb",
   "metadata": {},
   "source": [
    "## Question 6.  Find Mean\n",
    "\n",
    "Write a function `csc121_mean` that accepts as input a list of integers or floats and return the list item with the **mean** value. \n",
    "\n",
    "$ Mean =  \\frac{ \\sum_{i=0}^{len(list)-1} list[i] } {length(list)}$ \n",
    "\n",
    "Raise a `TypeError` is anything other than a list is passed. Raise a `ValueError` if an empty list is passed. "
   ]
  },
  {
   "cell_type": "code",
   "execution_count": 12,
   "id": "cf26870c",
   "metadata": {},
   "outputs": [],
   "source": [
    "def csc121_mean(numbers):\n",
    "    i = 0\n",
    "    summ = 0\n",
    "    while i < len(numbers):\n",
    "        summ = summ + numbers[i]\n",
    "        i = i + 1\n",
    "    return summ/len(numbers)"
   ]
  },
  {
   "cell_type": "code",
   "execution_count": 13,
   "id": "9325e761",
   "metadata": {},
   "outputs": [
    {
     "name": "stdout",
     "output_type": "stream",
     "text": [
      "All test cases passed successfully\n"
     ]
    }
   ],
   "source": [
    "\"\"\" Test suite \"\"\"\n",
    "\n",
    "test_cases = 100\n",
    "i = 0\n",
    "while i < test_cases:\n",
    "    \n",
    "    test_list       = generate_random_list()\n",
    "    your_output     = csc121_mean(test_list)\n",
    "    expected_output = sum(test_list)/len(test_list)\n",
    "    \n",
    "    assert your_output == expected_output, \\\n",
    "        \"Test case %s failed for input: %s \\n\" % (i, test_list)+ \\\n",
    "        \"Your implementation returned: %s. Expected output: %s\" %\\\n",
    "        (your_output, expected_output)\n",
    "    \n",
    "    i = i + 1\n",
    "\n",
    "print(\"All test cases passed successfully\")"
   ]
  },
  {
   "cell_type": "markdown",
   "id": "7e35c471",
   "metadata": {},
   "source": [
    "# Question 7. Find First Occurence\n",
    "\n",
    "Write a function `csc121_find` that accepts as Input(s):\n",
    "\n",
    "i) a list `numbers` \n",
    "\n",
    "ii) an integer `val` \n",
    "\n",
    "and returns the **index of the first occurence** of `val` in the list `numbers`. \n",
    "\n",
    "Raise a `ValueError` if `val` is not in `numbers`"
   ]
  },
  {
   "cell_type": "code",
   "execution_count": 14,
   "id": "b65d24d2",
   "metadata": {},
   "outputs": [],
   "source": [
    "def csc121_find(numbers, val):\n",
    "    i = 0\n",
    "    while i < len(numbers):\n",
    "        if numbers[i] == val:\n",
    "            break\n",
    "        i = i + 1\n",
    "    return i"
   ]
  },
  {
   "cell_type": "code",
   "execution_count": 15,
   "id": "f5288e13",
   "metadata": {},
   "outputs": [
    {
     "name": "stdout",
     "output_type": "stream",
     "text": [
      "All test cases passed successfully\n"
     ]
    }
   ],
   "source": [
    "\"\"\" Test suite \"\"\"\n",
    "\n",
    "test_cases = 100\n",
    "i = 0\n",
    "while i < test_cases:\n",
    "    \n",
    "    test_list       = generate_random_list()\n",
    "    test_val        = test_list[randint(0, len(test_list)-1)]\n",
    "    your_output     = csc121_find(test_list, test_val)\n",
    "    expected_output = test_list.index(test_val)\n",
    "    \n",
    "    assert your_output == expected_output, \\\n",
    "        \"Test case %s failed for input: %s, %s \\n\" % (i, test_list, test_val)+ \\\n",
    "        \"Your implementation returned: %s. Expected output: %s\" %\\\n",
    "        (your_output, expected_output)\n",
    "    \n",
    "    i = i + 1\n",
    "\n",
    "print(\"All test cases passed successfully\")"
   ]
  },
  {
   "cell_type": "markdown",
   "id": "5518df85",
   "metadata": {},
   "source": [
    "# Question 8. Count Occurences\n",
    "\n",
    "Write a function `csc121_count` that accepts as Input(s):\n",
    "\n",
    "i) a list `numbers` \n",
    "\n",
    "ii) an integer `val` \n",
    "\n",
    "and returns the **count of occurences** of `val` in the list `numbers`. \n",
    "\n",
    "Raise a `ValueError` if `val` is not in `numbers`"
   ]
  },
  {
   "cell_type": "code",
   "execution_count": 16,
   "id": "42211388",
   "metadata": {},
   "outputs": [],
   "source": [
    "def csc121_count(numbers, val):\n",
    "    occurences = 0\n",
    "    i = 0\n",
    "    while i < len(numbers):\n",
    "        if val == numbers[i]:\n",
    "            occurences = occurences + 1\n",
    "        i = i + 1\n",
    "    return occurences"
   ]
  },
  {
   "cell_type": "code",
   "execution_count": 17,
   "id": "e7ac93c7",
   "metadata": {},
   "outputs": [
    {
     "name": "stdout",
     "output_type": "stream",
     "text": [
      "All test cases passed successfully\n"
     ]
    }
   ],
   "source": [
    "\"\"\" Test suite \"\"\"\n",
    "\n",
    "test_cases = 100\n",
    "i = 0\n",
    "while i < test_cases:\n",
    "    \n",
    "    test_list       = generate_random_list()\n",
    "    test_val        = test_list[randint(0, len(test_list)-1)]\n",
    "    your_output     = csc121_count(test_list, test_val)\n",
    "    expected_output = test_list.count(test_val)\n",
    "    \n",
    "    assert your_output == expected_output, \\\n",
    "        \"Test case %s failed for inputs: %s, %s\\n\" % (i, test_list, test_val)+ \\\n",
    "        \"Your implementation returned: %s. Expected output: %s\" %\\\n",
    "        (your_output, expected_output)\n",
    "    \n",
    "    i = i + 1\n",
    "\n",
    "print(\"All test cases passed successfully\")"
   ]
  },
  {
   "cell_type": "markdown",
   "id": "328b0735",
   "metadata": {},
   "source": [
    "# Question 9. Sort Ascending \n",
    "\n",
    "Write a function `sort_ascending` that accepts as input a list of numbers `numbers` and **returns a new list** which has the values from `numbers` sorted in **ascending order**. \n",
    "\n",
    "Example: `numbers = [4, 1, 3, 2]` returns `[1, 2, 3, 4]`\n",
    "\n",
    "_**Hint: use `csc121_min`**_"
   ]
  },
  {
   "cell_type": "code",
   "execution_count": 18,
   "id": "f87fc375",
   "metadata": {},
   "outputs": [],
   "source": [
    "def sort_ascending(numbers):\n",
    "    new_list = []\n",
    "    i = 0\n",
    "    while len(numbers) > 0:\n",
    "        min_val = csc121_min(numbers)\n",
    "        new_list.append(min_val)\n",
    "        numbers.remove(min_val)\n",
    "    \n",
    "    return new_list"
   ]
  },
  {
   "cell_type": "code",
   "execution_count": 19,
   "id": "8c920465",
   "metadata": {},
   "outputs": [
    {
     "name": "stdout",
     "output_type": "stream",
     "text": [
      "All test cases passed successfully\n"
     ]
    }
   ],
   "source": [
    "\"\"\" Test suite \"\"\"\n",
    "\n",
    "test_cases = 100\n",
    "i = 0\n",
    "while i < test_cases:\n",
    "    \n",
    "    test_list       = generate_random_list()\n",
    "    your_output     = sort_ascending(test_list.copy())\n",
    "    expected_output = sorted(test_list)\n",
    "    assert your_output == expected_output, \\\n",
    "        \"Test case %s failed for inputs: %s\\n\" % (i, test_list)+ \\\n",
    "        \"Your implementation returned: %s. Expected output: %s\" %\\\n",
    "        (your_output, expected_output)\n",
    "    \n",
    "    i = i + 1\n",
    "\n",
    "print(\"All test cases passed successfully\")"
   ]
  },
  {
   "cell_type": "markdown",
   "id": "56141744",
   "metadata": {},
   "source": [
    "# Question 10. Sort Descending \n",
    "\n",
    "Write a function `sort_descending` that accepts as input a list of numbers `numbers` and **returns a new list** which has the values from `numbers` sorted in **descending order**. \n",
    "\n",
    "Example: `numbers = [4, 1, 3, 2]` returns `[4, 3, 2, 1]`\n",
    "\n",
    "_**Hint: use `csc121_max`**_"
   ]
  },
  {
   "cell_type": "code",
   "execution_count": 20,
   "id": "47f92856",
   "metadata": {},
   "outputs": [],
   "source": [
    "def sort_descending(numbers):\n",
    "    new_list = []\n",
    "    \n",
    "    while len(numbers)>0:\n",
    "        max_num = csc121_max(numbers)\n",
    "        new_list.append(max_num)\n",
    "        numbers.remove(max_num)\n",
    "        \n",
    "    return new_list"
   ]
  },
  {
   "cell_type": "code",
   "execution_count": 21,
   "id": "e42450ca",
   "metadata": {},
   "outputs": [
    {
     "name": "stdout",
     "output_type": "stream",
     "text": [
      "All test cases passed successfully\n"
     ]
    }
   ],
   "source": [
    "\"\"\" Test suite \"\"\"\n",
    "\n",
    "test_cases = 100\n",
    "i = 0\n",
    "while i < test_cases:\n",
    "    \n",
    "    test_list       = generate_random_list()\n",
    "    your_output     = sort_descending(test_list.copy())\n",
    "    expected_output = sorted(test_list, reverse=True)\n",
    "    \n",
    "    assert your_output == expected_output, \\\n",
    "        \"Test case %s failed for inputs: %s, %s\\n\" % (i, test_list)+ \\\n",
    "        \"Your implementation returned: %s. Expected output: %s\" %\\\n",
    "        (your_output, expected_output)\n",
    "    \n",
    "    i = i + 1\n",
    "\n",
    "print(\"All test cases passed successfully\")"
   ]
  },
  {
   "cell_type": "markdown",
   "id": "fd9d8089",
   "metadata": {},
   "source": [
    "# Question 11. Reversing a List\n",
    "\n",
    "Write a function `csc121_reverse` that accepts as input a list of numbers `numbers` and **returns a new list** which has the values from `numbers` reversed. \n",
    "\n",
    "Example: `numbers = [4, 1, 3, 2]` returns `[2, 3, 1, 4]`"
   ]
  },
  {
   "cell_type": "code",
   "execution_count": 22,
   "id": "a984c601",
   "metadata": {},
   "outputs": [],
   "source": [
    "def csc121_reverse(numbers):\n",
    "    new_list = []\n",
    "    i = 1\n",
    "    while i <= len(numbers):\n",
    "        new_list.append(numbers[-1*i])\n",
    "        i = i + 1\n",
    "    return new_list"
   ]
  },
  {
   "cell_type": "code",
   "execution_count": 23,
   "id": "32e553c9",
   "metadata": {},
   "outputs": [
    {
     "name": "stdout",
     "output_type": "stream",
     "text": [
      "All test cases passed successfully\n"
     ]
    }
   ],
   "source": [
    "\"\"\" Test suite \"\"\"\n",
    "\n",
    "test_cases = 100\n",
    "i = 0\n",
    "while i < test_cases:\n",
    "    \n",
    "    test_list       = generate_random_list()\n",
    "    your_output     = csc121_reverse(test_list)\n",
    "    test_list.reverse()\n",
    "    expected_output = test_list\n",
    "    \n",
    "    assert your_output == expected_output, \\\n",
    "        \"Test case %s failed for inputs: %s, %s\\n\" % (i, test_list)+ \\\n",
    "        \"Your implementation returned: %s. Expected output: %s\" %\\\n",
    "        (your_output, expected_output)\n",
    "    \n",
    "    i = i + 1\n",
    "\n",
    "print(\"All test cases passed successfully\")"
   ]
  },
  {
   "cell_type": "markdown",
   "id": "95480955",
   "metadata": {},
   "source": [
    "# Question 12. Multiply List\n",
    "\n",
    "Write a function `csc121_multiply` that accepts as Input(s):\n",
    "\n",
    "i) a list of numbers `numbers`\n",
    "\n",
    "ii) an integer `val`\n",
    "\n",
    "and **returns a new list** which has the values from `numbers` repeated `val` times. \n",
    "\n",
    "Example: `csc121_multiply([4, 1, 3, 2], 3)` returns `[4,1,3,2,  4,1,3,2,  4,1,3,2]`\n",
    "\n",
    "When `val < 1`, empty list should be returned. "
   ]
  },
  {
   "cell_type": "code",
   "execution_count": 24,
   "id": "ac96b2d9",
   "metadata": {},
   "outputs": [],
   "source": [
    "def csc121_multiply(numbers, val):\n",
    "    new_list = []\n",
    "    i = 0\n",
    "    while i < val:\n",
    "        j = 0\n",
    "        while j < len(numbers):\n",
    "            new_list.append(numbers[j])\n",
    "            j = j + 1\n",
    "        i = i + 1\n",
    "    return new_list"
   ]
  },
  {
   "cell_type": "code",
   "execution_count": 25,
   "id": "45a08ab4",
   "metadata": {},
   "outputs": [
    {
     "name": "stdout",
     "output_type": "stream",
     "text": [
      "All test cases passed successfully\n"
     ]
    }
   ],
   "source": [
    "\"\"\" Test suite \"\"\"\n",
    "\n",
    "test_cases = 100\n",
    "i = 0\n",
    "while i < test_cases:\n",
    "    \n",
    "    test_list       = generate_random_list()\n",
    "    test_val        = randint(-99, 99)\n",
    "    your_output     = csc121_multiply(test_list, test_val)\n",
    "    expected_output = test_list*test_val\n",
    "    \n",
    "    assert your_output == expected_output, \\\n",
    "        \"Test case %s failed for inputs: %s, %s, %s\\n\" % (i, test_list, test_val)+ \\\n",
    "        \"Your implementation returned: %s. Expected output: %s\" %\\\n",
    "        (your_output, expected_output)\n",
    "    \n",
    "    i = i + 1\n",
    "\n",
    "print(\"All test cases passed successfully\")"
   ]
  },
  {
   "cell_type": "code",
   "execution_count": null,
   "id": "9154ead6",
   "metadata": {},
   "outputs": [],
   "source": []
  },
  {
   "cell_type": "code",
   "execution_count": null,
   "id": "f8df3269",
   "metadata": {},
   "outputs": [],
   "source": []
  }
 ],
 "metadata": {
  "kernelspec": {
   "display_name": "Python 3 (ipykernel)",
   "language": "python",
   "name": "python3"
  },
  "language_info": {
   "codemirror_mode": {
    "name": "ipython",
    "version": 3
   },
   "file_extension": ".py",
   "mimetype": "text/x-python",
   "name": "python",
   "nbconvert_exporter": "python",
   "pygments_lexer": "ipython3",
   "version": "3.9.12"
  }
 },
 "nbformat": 4,
 "nbformat_minor": 5
}
