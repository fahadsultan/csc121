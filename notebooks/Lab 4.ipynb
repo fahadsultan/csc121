{
 "cells": [
  {
   "cell_type": "markdown",
   "id": "0d55c884",
   "metadata": {},
   "source": [
    "# Question 1. Define a function that converts time from 12-hour format to 24-hour format\n",
    "\n",
    "**Define** a function `convert_to_24hr_format` with the following input(s) and output(s)\n",
    "\n",
    "**Input(s)**: \n",
    "\n",
    "1. `clock_12hrs_hrs` of type `int` representing hours in 12-hour time format. (_Constraints_: $1 \\leq $ `clock_12hrs_hrs` $\\leq 12$)\n",
    "\n",
    "\n",
    "2. `pm` of type `bool`; `True` indicates input time is PM and `False` means input hours is AM. (_Constraints:_  `pm` $ \\in$ {`True`, `False`})\n",
    "\n",
    "**Output(s)**:\n",
    "\n",
    "1. `clock_24_hrs_hrs` i.e. converted hours in 24-hour format time. \n",
    "\n",
    "\n",
    "**Below are given 24 test cases for all possible _valid inputs_ to the function. Make sure all test cases pass successfully (i.e. print `True`)**"
   ]
  },
  {
   "cell_type": "code",
   "execution_count": null,
   "id": "58f4b431",
   "metadata": {},
   "outputs": [],
   "source": [
    "# Define your function here\n",
    "\n"
   ]
  },
  {
   "cell_type": "code",
   "execution_count": null,
   "id": "8ae4a386",
   "metadata": {},
   "outputs": [],
   "source": [
    "print(\"Test case 1 passed: \",  convert_to_24hr_format(12, pm=False) == 0) # midnight\n",
    "print(\"Test case 2 passed: \",  convert_to_24hr_format(1,  pm=False) == 1)\n",
    "print(\"Test case 3 passed: \",  convert_to_24hr_format(2,  pm=False) == 2)\n",
    "print(\"Test case 4 passed: \",  convert_to_24hr_format(3,  pm=False) == 3)\n",
    "print(\"Test case 5 passed: \",  convert_to_24hr_format(4,  pm=False) == 4)\n",
    "print(\"Test case 6 passed: \",  convert_to_24hr_format(5,  pm=False) == 5)\n",
    "print(\"Test case 7 passed: \",  convert_to_24hr_format(6,  pm=False) == 6)\n",
    "print(\"Test case 8 passed: \",  convert_to_24hr_format(7,  pm=False) == 7)\n",
    "print(\"Test case 9 passed: \",  convert_to_24hr_format(8,  pm=False) == 8)\n",
    "print(\"Test case 10 passed: \", convert_to_24hr_format(9,  pm=False) == 9)\n",
    "print(\"Test case 11 passed: \", convert_to_24hr_format(10, pm=False) == 10)\n",
    "print(\"Test case 12 passed: \", convert_to_24hr_format(11, pm=False) == 11)\n",
    "print(\"Test case 13 passed: \", convert_to_24hr_format(12, pm=True)  == 12)  # noon\n",
    "print(\"Test case 14 passed: \", convert_to_24hr_format(1,  pm=True)  == 13)\n",
    "print(\"Test case 15 passed: \", convert_to_24hr_format(2,  pm=True)  == 14)\n",
    "print(\"Test case 16 passed: \", convert_to_24hr_format(3,  pm=True)  == 15)\n",
    "print(\"Test case 17 passed: \", convert_to_24hr_format(4,  pm=True)  == 16)\n",
    "print(\"Test case 18 passed: \", convert_to_24hr_format(5,  pm=True)  == 17)\n",
    "print(\"Test case 19 passed: \", convert_to_24hr_format(6,  pm=True)  == 18)\n",
    "print(\"Test case 20 passed: \", convert_to_24hr_format(7,  pm=True)  == 19)\n",
    "print(\"Test case 21 passed: \", convert_to_24hr_format(8,  pm=True)  == 20)\n",
    "print(\"Test case 22 passed: \", convert_to_24hr_format(9,  pm=True)  == 21)\n",
    "print(\"Test case 23 passed: \", convert_to_24hr_format(10, pm=True)  == 22)\n",
    "print(\"Test case 24 passed: \", convert_to_24hr_format(11, pm=True)  == 23)"
   ]
  },
  {
   "cell_type": "markdown",
   "id": "5164e592",
   "metadata": {},
   "source": [
    "# Question 2. "
   ]
  },
  {
   "cell_type": "markdown",
   "id": "57b36961",
   "metadata": {},
   "source": [
    "### 2.1. Define a function `is_leap_year` which takes as input: `year` and output a `bool` which is `True` when `year` is leap year, `False` otherwise"
   ]
  },
  {
   "cell_type": "markdown",
   "id": "9347aa0e",
   "metadata": {},
   "source": [
    "<!-- ![leapyear](https://upload.wikimedia.org/wikipedia/commons/5/52/Leap_Year_Algorithm.png) -->\n",
    "\n",
    "<img width=\"300\" src=\"https://upload.wikimedia.org/wikipedia/commons/5/52/Leap_Year_Algorithm.png\">\n",
    "\n",
    "**Below are given test cases for `is_leap_year`. Make sure all test cases pass successfully (i.e. print `True`)**"
   ]
  },
  {
   "cell_type": "code",
   "execution_count": null,
   "id": "a2600b16",
   "metadata": {},
   "outputs": [],
   "source": [
    "# Define your function here\n",
    "\n"
   ]
  },
  {
   "cell_type": "code",
   "execution_count": null,
   "id": "930faa30",
   "metadata": {},
   "outputs": [],
   "source": [
    "print(\"Test case 1   passed: \", is_leap_year(2000) == True)\n",
    "print(\"Test case 2   passed: \", is_leap_year(2001) == False)\n",
    "print(\"Test case 3   passed: \", is_leap_year(2002) == False)\n",
    "print(\"Test case 4   passed: \", is_leap_year(2003) == False)\n",
    "print(\"Test case 5   passed: \", is_leap_year(2004) == True)\n",
    "print(\"Test case 6   passed: \", is_leap_year(2005) == False)\n",
    "print(\"Test case 7   passed: \", is_leap_year(2006) == False)\n",
    "print(\"Test case 8   passed: \", is_leap_year(2007) == False)\n",
    "print(\"Test case 9   passed: \", is_leap_year(2008) == True)\n",
    "print(\"Test case 10  passed: \", is_leap_year(2009) == False)\n",
    "print(\"Test case 11  passed: \", is_leap_year(2010) == False)\n",
    "print(\"Test case 12  passed: \", is_leap_year(2011) == False)\n",
    "print(\"Test case 13  passed: \", is_leap_year(2012) == True)\n",
    "print(\"Test case 14  passed: \", is_leap_year(2013) == False)\n",
    "print(\"Test case 15  passed: \", is_leap_year(2014) == False)\n",
    "print(\"Test case 16  passed: \", is_leap_year(2015) == False)\n",
    "print(\"Test case 17  passed: \", is_leap_year(2016) == True)\n",
    "print(\"Test case 18  passed: \", is_leap_year(2017) == False)\n",
    "print(\"Test case 19  passed: \", is_leap_year(2018) == False)\n",
    "print(\"Test case 20  passed: \", is_leap_year(2019) == False)\n",
    "print(\"Test case 21  passed: \", is_leap_year(2020) == True)\n",
    "print(\"Test case 22  passed: \", is_leap_year(2021) == False)\n",
    "print(\"Test case 23  passed: \", is_leap_year(2022) == False)"
   ]
  },
  {
   "cell_type": "markdown",
   "id": "7ae86614",
   "metadata": {},
   "source": [
    "### 2.2. Define a function `days_in_month` that returns number of days in a given month and year"
   ]
  },
  {
   "cell_type": "markdown",
   "id": "74f7d754",
   "metadata": {},
   "source": [
    "Write a function `days_in_month` that accepts as inputs:\n",
    "1. an integer `month` (values: 1-12, 1: January, 12: December)\n",
    "2. an integer `year` (four digits e.g. 2022)\n",
    "\n",
    "and returns as output:\n",
    "1. an integer `num_days`, representing number of days in `month` for `year`.\n",
    "\n",
    "**Use `is_leap_year` from Q3.**"
   ]
  },
  {
   "cell_type": "code",
   "execution_count": null,
   "id": "3b54be2e",
   "metadata": {},
   "outputs": [],
   "source": [
    "print(\"Test case 1  passed: \", days_in_month(2, 2000) == 29)\n",
    "print(\"Test case 2  passed: \", days_in_month(2, 2002) == 28)\n",
    "print(\"Test case 3  passed: \", days_in_month(1, 2008) == 31)\n",
    "print(\"Test case 4  passed: \", days_in_month(2, 2008) == 29)\n",
    "print(\"Test case 5  passed: \", days_in_month(3, 2016) == 31)\n",
    "print(\"Test case 6  passed: \", days_in_month(4, 2000) == 30)\n",
    "print(\"Test case 7  passed: \", days_in_month(6, 2004) == 30)\n",
    "print(\"Test case 8  passed: \", days_in_month(12, 2008)== 31)\n",
    "print(\"Test case 9  passed: \", days_in_month(10, 2012)== 31)\n",
    "print(\"Test case 9  passed: \", days_in_month(11, 2012)== 30)\n",
    "print(\"Test case 10 passed: \", days_in_month(2, 2016) == 29)"
   ]
  },
  {
   "cell_type": "markdown",
   "id": "38c08c7d",
   "metadata": {},
   "source": [
    "# Question 3\n",
    "\n",
    "The formula to compute percentage is $percentage = \\frac{part}{number} \\times 100$. Refactoring the equation, we get \n",
    "\n",
    "$part = \\frac{percentage}{100} ~~\\times~~number$\n",
    "\n",
    "**2.1.** Using the formula above, define a function `compute_part` that takes two inputs `number` and `percentage` and returns as output `part`"
   ]
  },
  {
   "cell_type": "code",
   "execution_count": null,
   "id": "85758ff6",
   "metadata": {},
   "outputs": [],
   "source": [
    "\n",
    "\n"
   ]
  },
  {
   "cell_type": "markdown",
   "id": "3b8b801d",
   "metadata": {},
   "source": [
    "\n",
    "**2.2.** Define a function `compute_discount` that takes one input `cheque_amount` and returns $5\\%$ `discount`.\n",
    "\n",
    "* Implement by calling `compute_part` from 2.1. in the function's body\n"
   ]
  },
  {
   "cell_type": "code",
   "execution_count": null,
   "id": "520633d3",
   "metadata": {},
   "outputs": [],
   "source": [
    "\n",
    "\n"
   ]
  },
  {
   "cell_type": "markdown",
   "id": "42644b4d",
   "metadata": {},
   "source": [
    "\n",
    "**2.3.** _Define_ a function `compute_tip` that takes one input `cheque_amount` and returns $20\\%$ `tip`\n",
    "\n",
    "* Implement by _calling_ `compute_part` from 2.1. in the function's body\n"
   ]
  },
  {
   "cell_type": "code",
   "execution_count": null,
   "id": "c800ff11",
   "metadata": {},
   "outputs": [],
   "source": [
    "\n",
    "\n"
   ]
  },
  {
   "cell_type": "markdown",
   "id": "fd3f5782",
   "metadata": {},
   "source": [
    "**2.4.** _Define_ a function `compute_sales_tax` that takes one input `cheque_amount` and returns $6\\%$ sales `tax`\n",
    "\n",
    "* Implement by _calling_ `compute_part` from 2.1. in the function's body\n"
   ]
  },
  {
   "cell_type": "code",
   "execution_count": null,
   "id": "772a76b9",
   "metadata": {},
   "outputs": [],
   "source": [
    "\n",
    "\n"
   ]
  },
  {
   "cell_type": "markdown",
   "id": "87f2477b",
   "metadata": {},
   "source": [
    "**2.5.** Implement the following complete transaction in the order given below:\n",
    "1. First, compute `discount` on `cheque_amount` by _calling_ the function `compute_discount` from 2.2. \n",
    "\n",
    "\n",
    "2. Second, compute `discounted_cheque_amount` by applying `discount` to `cheque_amount`\n",
    "\n",
    "\n",
    "3. Third, compute `tip` by _calling_  the function `compute_tip` from 2.3. \n",
    "    * Use `discounted_cheque_amount` as input to `compute_tip`\n",
    "\n",
    "\n",
    "4. Fourth, compute `tax` by _calling_ the function `compute_sales_tax` from 2.4. \n",
    "\n",
    "    * Use `discounted_cheque_amount` as input to `compute_sales_tax`\n",
    "    \n",
    "    \n",
    "5. Finally, compute `total` by adding `discounted_cheque_amount`, `tip` and `tax`.\n"
   ]
  },
  {
   "cell_type": "code",
   "execution_count": null,
   "id": "0814939c",
   "metadata": {},
   "outputs": [],
   "source": [
    "\n",
    "\n",
    "\n",
    "\n"
   ]
  }
 ],
 "metadata": {
  "kernelspec": {
   "display_name": "Python 3 (ipykernel)",
   "language": "python",
   "name": "python3"
  },
  "language_info": {
   "codemirror_mode": {
    "name": "ipython",
    "version": 3
   },
   "file_extension": ".py",
   "mimetype": "text/x-python",
   "name": "python",
   "nbconvert_exporter": "python",
   "pygments_lexer": "ipython3",
   "version": "3.9.12"
  }
 },
 "nbformat": 4,
 "nbformat_minor": 5
}
