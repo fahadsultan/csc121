{
 "cells": [
  {
   "cell_type": "markdown",
   "id": "ff70bd5f",
   "metadata": {},
   "source": [
    "<center>\n",
    "    <h1> CSC-121 EXAM 3 </h1>\n",
    "</center>\n",
    "\n",
    "<hr/>\n",
    "\n",
    "### Instructions: \n",
    "\n",
    "First things first,\n",
    "\n",
    "* _Turn off your phones and place them on your desk, facing down._\n",
    "* _No notes, email, messaging apps or searching on the internet._\n",
    "* _**For what it's worth, you should know that there are 3 versions of this exam.**_\n",
    "* _Submit only the version that you downloaded from Moodle. Any submission other than the one assigned to you will be considered an academic violation._\n",
    "* _All violations will be immediately reported to the Furman Academic Disciplinary Committee with a recommendation of <span style=\"color:red; font-size:large\"><b>F</b></span> in the exam and possibly in the course._\n",
    "\n",
    "Now, \n",
    "* _If you have any questions, raise your hand_. \n",
    "* _If you have made any assumptions, state so clearly in the comments of your code_.  \n",
    "* _You will be given partial credit, so try your best to solve the given problems and don't leave any cells empty_.\n",
    "* _USE ONLY CONCEPTS COVERED IN CLASS_. \n",
    "\n",
    "<hr/>"
   ]
  },
  {
   "cell_type": "markdown",
   "id": "de82a298",
   "metadata": {},
   "source": [
    "\n",
    "# Question 1. Fix the following function\n",
    "\n",
    "The following function `repeat_n` takes two _Inputs_: \n",
    "1. a string `text` and \n",
    "2. an integer `n` \n",
    "\n",
    "and **is supposed to** return as _Output_: \n",
    "* a string with each character of `text` repeated `n` times. \n",
    "\n",
    "For example, `text = \"abc\"` and `n=3` **should** return `\"aaabbbccc\"`\n",
    "\n",
    "**_Fix \"bugs\" in the provided function definition so all test cases below pass successfully._**\n"
   ]
  },
  {
   "cell_type": "code",
   "execution_count": 11,
   "id": "ab96b364",
   "metadata": {},
   "outputs": [],
   "source": [
    "def repeat_n(text, n):\n",
    "    result = \"\"\n",
    "    i = 0\n",
    "    while i < len(text):\n",
    "        j = 0 \n",
    "        while j < n:\n",
    "            result = result + text[i]\n",
    "            j = j + 1\n",
    "        i = i + 1\n",
    "    return result"
   ]
  },
  {
   "cell_type": "code",
   "execution_count": 12,
   "id": "a366b192",
   "metadata": {},
   "outputs": [],
   "source": [
    "assert repeat_n(\"abc\", 3) == \"aaabbbccc\",\"Test case 1 failed\"\n",
    "assert repeat_n(\"abc\", 0) == \"\",         \"Test case 2 failed\"\n",
    "assert repeat_n(\"abc\", 1) == \"abc\",      \"Test case 3 failed\"\n",
    "assert repeat_n(\"a\", 5)   == \"aaaaa\",    \"Test case 4 failed\"\n",
    "assert repeat_n(\"!\", 4)   == \"!!!!\",     \"Test case 5 failed\"\n",
    "\n",
    "print(\"All test cases passed successfully\")"
   ]
  },
  {
   "cell_type": "markdown",
   "id": "73cafd57",
   "metadata": {},
   "source": [
    "<br/><hr />\n",
    "\n",
    "# Question 2. Random choice\n",
    "\n",
    "Implement a method `random_choice` that accepts as input a list `options` and returns a random element from the list. \n",
    "\n",
    "_Note: You would need to use the built-in `randint` method for this. Recall that you can \"summon\" (import) the built-in `randomint` method using `from random import randint`_"
   ]
  },
  {
   "cell_type": "code",
   "execution_count": 199,
   "id": "f65731e5",
   "metadata": {},
   "outputs": [],
   "source": [
    "from random import randint\n",
    "\n",
    "def random_choice(sequence):\n",
    "    rand_idx = randint(0, len(sequence)-1)\n",
    "    return sequence[rand_idx]"
   ]
  },
  {
   "cell_type": "markdown",
   "id": "227060dc",
   "metadata": {},
   "source": [
    "### Test Suite Q2"
   ]
  },
  {
   "cell_type": "code",
   "execution_count": 418,
   "id": "66a75ae5",
   "metadata": {},
   "outputs": [
    {
     "name": "stdout",
     "output_type": "stream",
     "text": [
      "All test cases passed successfully\n"
     ]
    }
   ],
   "source": [
    "outcomes = []\n",
    "i = 0\n",
    "while i < 100:\n",
    "    outcomes.append(random_choice([1, 2, 3, 4, 5]))\n",
    "    i = i + 1\n",
    "\n",
    "assert (2.5 < sum(outcomes)/100 < 3.5), \"Test case 1 failed\"\n",
    "assert len(set(outcomes)) == 5,         \"Test case 2 failed\"\n",
    "assert outcomes.count(1) > 7,           \"Test case 2 failed\"\n",
    "assert outcomes.count(2) > 7,           \"Test case 3 failed\"\n",
    "assert outcomes.count(3) > 7,           \"Test case 4 failed\"\n",
    "assert outcomes.count(4) > 7,           \"Test case 5 failed\"\n",
    "assert outcomes.count(5) > 7,           \"Test case 6 failed\"\n",
    "\n",
    "print(\"All test cases passed successfully\")"
   ]
  },
  {
   "cell_type": "markdown",
   "id": "7880e3ee",
   "metadata": {},
   "source": [
    "<br/><hr />\n",
    "\n",
    "# Question 3. Add elements of two lists, but in opposite direction\n",
    "\n",
    "Implement a function `add_opposite` that accepts as input two lists `x` and `y` of equal length containing only integers and \\\n",
    "returns a new list `new_list` of same length as `x` and `y` such that:\n",
    "\n",
    "**first**  element of the `new_list` is sum of **first** element of `x` and **last** element of `y` \\\n",
    "**second** element of `new_list` is sum of **second** element of `x` and **second last** element of `y` \\\n",
    "**third**  element of `new_list` is sum of **third** element of `x` and **third last** element of `y` \\\n",
    "and so on...\n",
    "\n",
    "For example, `x = [1, 2, 3]` and `y = [4, 5, 6]` should return `[7, 7, 7]` (since `[1+6, 2+5, 3+4]` = `[7, 7, 7]`)"
   ]
  },
  {
   "cell_type": "code",
   "execution_count": 62,
   "id": "1663315c",
   "metadata": {},
   "outputs": [],
   "source": [
    "def add_opposite(list1, list2):\n",
    "    new_list = []\n",
    "    i = 0\n",
    "    j = -1\n",
    "    \n",
    "    while i < len(list1):\n",
    "        \n",
    "        new_list.append(list1[i]+list2[j])\n",
    "\n",
    "        j = j - 1    \n",
    "        i = i + 1\n",
    "        \n",
    "    return new_list"
   ]
  },
  {
   "cell_type": "code",
   "execution_count": 64,
   "id": "88a308b8",
   "metadata": {},
   "outputs": [],
   "source": [
    "assert add_opposite([1, 2, 3], [4, 5, 6])    == [7, 7, 7], \"Test case 1 failed\"\n",
    "assert add_opposite([1, 2, 3], [-3, -2, -1]) == [0, 0, 0], \"Test case 2 failed\"\n",
    "assert add_opposite([], [])                  == [],        \"Test case 3 failed\"\n",
    "assert add_opposite([1], [1])                == [2],       \"Test case 4 failed\"\n",
    "assert add_opposite([-1, -9], [-1, -9])      == [-10, -10],\"Test case 5 failed\"\n",
    "\n",
    "print(\"All test cases passed successfully\")"
   ]
  },
  {
   "cell_type": "markdown",
   "id": "134cdf3d",
   "metadata": {},
   "source": [
    "<br><hr />\n",
    "\n",
    "# Question 4. Find Substring "
   ]
  },
  {
   "cell_type": "markdown",
   "id": "d55fc130",
   "metadata": {},
   "source": [
    "Implement a function `find_all_occurences` that accepts as input two strings: `string` and `substr` and returns a list of all starting indices of occurrences of `substr` in `string`. \n",
    "\n",
    "For example, `string=\"ba ba black sheep\"` and `substr=\"ba\"` returns `[0, 3]`"
   ]
  },
  {
   "cell_type": "code",
   "execution_count": 428,
   "id": "779739fd",
   "metadata": {},
   "outputs": [],
   "source": [
    "def find_all_occurences(string, substr):\n",
    "    i = 0\n",
    "    \n",
    "    occurrences = []\n",
    "    \n",
    "    while i < len(string):\n",
    "        \n",
    "        if string[i:i+len(substr)] == substr:\n",
    "            occurrences.append(i)\n",
    "            \n",
    "        i = i + 1\n",
    "        \n",
    "    return occurrences"
   ]
  },
  {
   "cell_type": "code",
   "execution_count": 429,
   "id": "f2d12e2f",
   "metadata": {},
   "outputs": [
    {
     "name": "stdout",
     "output_type": "stream",
     "text": [
      "All test cases passed successfully\n"
     ]
    }
   ],
   "source": [
    "assert find_all_occurences(\"ba ba black sheep\", \"ba\")       == [0, 3],    \"Test case 1 failed\"\n",
    "assert find_all_occurences(\"furman university\", \"city\")     == [],        \"Test case 2 failed\"\n",
    "assert find_all_occurences(\"furman university\", \"universe\") == [],        \"Test case 3 failed\"\n",
    "assert find_all_occurences(\"december\", \"e\")                 == [1, 3, 6], \"Test case 4 failed\"\n",
    "assert find_all_occurences(\"hello world\", \"d\")              == [10],      \"Test case 5 failed\"\n",
    "\n",
    "print(\"All test cases passed successfully\")"
   ]
  }
 ],
 "metadata": {
  "kernelspec": {
   "display_name": "Python 3 (ipykernel)",
   "language": "python",
   "name": "python3"
  },
  "language_info": {
   "codemirror_mode": {
    "name": "ipython",
    "version": 3
   },
   "file_extension": ".py",
   "mimetype": "text/x-python",
   "name": "python",
   "nbconvert_exporter": "python",
   "pygments_lexer": "ipython3",
   "version": "3.9.12"
  }
 },
 "nbformat": 4,
 "nbformat_minor": 5
}
