{
 "cells": [
  {
   "cell_type": "code",
   "execution_count": 4,
   "id": "00258c9b",
   "metadata": {},
   "outputs": [
    {
     "name": "stdout",
     "output_type": "stream",
     "text": [
      "1\n",
      "2\n",
      "3\n",
      "4\n",
      "5\n"
     ]
    }
   ],
   "source": [
    "i = 0\n",
    "while i < 5:\n",
    "    i = i + 1 \n",
    "    print(i)"
   ]
  },
  {
   "cell_type": "code",
   "execution_count": null,
   "id": "e2be5b7b",
   "metadata": {},
   "outputs": [],
   "source": [
    "number    = 5\n",
    "factorial = 1\n",
    "    \n",
    "if number > 0:\n",
    "    factorial = factorial * number\n",
    "    number = number - 1\n",
    "    \n",
    "if number > 0:\n",
    "    factorial = factorial * number\n",
    "    number = number - 1\n",
    "    \n",
    "if number > 0:\n",
    "    factorial = factorial * number\n",
    "    number = number - 1\n",
    "    \n",
    "if number > 0:\n",
    "    factorial = factorial * number\n",
    "    number = number - 1\n",
    "\n",
    "if number > 0:\n",
    "    factorial = factorial * number\n",
    "    number = number - 1\n",
    "    \n",
    "print(factorial)"
   ]
  },
  {
   "cell_type": "code",
   "execution_count": 65,
   "id": "d856c818",
   "metadata": {},
   "outputs": [
    {
     "name": "stdout",
     "output_type": "stream",
     "text": [
      "2931\n"
     ]
    }
   ],
   "source": [
    "number    = 5\n",
    "factorial = 1\n",
    "    \n",
    "if number > 0:\n",
    "    factorial = factorial * number\n",
    "\n",
    "if number - 1 > 0:\n",
    "    factorial = factorial * number - 1\n",
    "    \n",
    "if number - 2 > 0:\n",
    "    factorial = factorial * number - 2\n",
    "    \n",
    "if number - 3 > 0:\n",
    "    factorial = factorial * number - 3\n",
    "    \n",
    "if number - 4 > 0:\n",
    "    factorial = factorial * number - 4\n",
    "\n",
    "print(factorial)"
   ]
  },
  {
   "cell_type": "code",
   "execution_count": null,
   "id": "566662fe",
   "metadata": {},
   "outputs": [],
   "source": [
    "\n",
    "input_number = 5 \n",
    "\n",
    "number_minus_1 = input_number - 1 \n",
    "number_minus_2 = input_number - 2 \n",
    "number_minus_3 = input_number - 3\n",
    "number_minus_4 = input_number - 4\n",
    "\n",
    "factorial = 1\n",
    "\n",
    "if number > 0:\n",
    "    factorial = factorial * number\n",
    "\n",
    "if number_minus_1 > 0:\n",
    "    factorial = factorial * number_minus_1\n",
    "\n",
    "if number_minus_2 > 0:\n",
    "    factorial = factorial * number_minus_2\n",
    "\n",
    "if number_minus_3 > 0:\n",
    "    factorial = factorial * number_minus_3\n",
    "\n",
    "if number_minus_4 > 0:\n",
    "    factorial = factorial * number_minus_4\n",
    "\n",
    "if number_minus_5 > 0:\n",
    "    factorial = factorial * number_minus_5\n",
    "\n",
    "print(factorial)"
   ]
  },
  {
   "cell_type": "code",
   "execution_count": 68,
   "id": "4df26791",
   "metadata": {},
   "outputs": [
    {
     "name": "stdout",
     "output_type": "stream",
     "text": [
      "4321\n"
     ]
    }
   ],
   "source": [
    "n = 1234;\n",
    "rev = 0\n",
    "\n",
    "if n > 0:\n",
    "    ones = n % 10\n",
    "    n = n // 10\n",
    "    rev = rev * 10 + ones\n",
    "\n",
    "if n > 0:\n",
    "    tens = n % 10 \n",
    "    n = n // 10 \n",
    "    rev = rev * 10 + tens\n",
    "\n",
    "if n > 0:\n",
    "    hundreds = n % 10\n",
    "    n = n // 10 \n",
    "    rev = rev * 10 + hundreds\n",
    "\n",
    "if n > 0:\n",
    "    thousands = n % 10 \n",
    "    n = n // 10 \n",
    "    rev = rev * 10 + thousands\n",
    "\n",
    "print(rev)"
   ]
  },
  {
   "cell_type": "code",
   "execution_count": 18,
   "id": "24847cfa",
   "metadata": {},
   "outputs": [
    {
     "data": {
      "text/plain": [
       "10"
      ]
     },
     "execution_count": 18,
     "metadata": {},
     "output_type": "execute_result"
    }
   ],
   "source": [
    "rev"
   ]
  },
  {
   "cell_type": "code",
   "execution_count": 14,
   "id": "f8aae83a",
   "metadata": {},
   "outputs": [
    {
     "name": "stdout",
     "output_type": "stream",
     "text": [
      "11110\n"
     ]
    }
   ],
   "source": []
  },
  {
   "cell_type": "code",
   "execution_count": null,
   "id": "12eb6e07",
   "metadata": {},
   "outputs": [],
   "source": [
    "\n",
    "print(n)\n",
    "\n",
    "while(n > 0):\n",
    "    a = n % 10\n",
    "    rev = rev * 10 + a\n",
    "    n = n // 10\n",
    "     "
   ]
  }
 ],
 "metadata": {
  "celltoolbar": "Raw Cell Format",
  "kernelspec": {
   "display_name": "Python 3 (ipykernel)",
   "language": "python",
   "name": "python3"
  },
  "language_info": {
   "codemirror_mode": {
    "name": "ipython",
    "version": 3
   },
   "file_extension": ".py",
   "mimetype": "text/x-python",
   "name": "python",
   "nbconvert_exporter": "python",
   "pygments_lexer": "ipython3",
   "version": "3.9.12"
  }
 },
 "nbformat": 4,
 "nbformat_minor": 5
}
