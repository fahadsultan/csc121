{
 "cells": [
  {
   "cell_type": "markdown",
   "id": "92666419",
   "metadata": {
    "slideshow": {
     "slide_type": "slide"
    }
   },
   "source": [
    "## 4.1. Function Basics\n",
    "\n",
    "So far, we've used the following Python built-in functions: `print(...)`, `type(...)` and `round(...)`"
   ]
  },
  {
   "cell_type": "code",
   "execution_count": 6,
   "id": "916cc0e6",
   "metadata": {},
   "outputs": [
    {
     "name": "stdout",
     "output_type": "stream",
     "text": [
      "Hello world\n",
      "<class 'float'>\n",
      "3\n"
     ]
    }
   ],
   "source": [
    "print(\"Hello world\")\n",
    "print(type(4.5))\n",
    "print(round(3.46))"
   ]
  },
  {
   "cell_type": "markdown",
   "id": "4f753f98",
   "metadata": {
    "slideshow": {
     "slide_type": "slide"
    }
   },
   "source": [
    "and the following type-casting functions:  `int()`, `bool()`, `float()` etc. "
   ]
  },
  {
   "cell_type": "code",
   "execution_count": 16,
   "id": "39fcc3a4",
   "metadata": {},
   "outputs": [
    {
     "name": "stdout",
     "output_type": "stream",
     "text": [
      "3\n",
      "False\n",
      "4.0\n"
     ]
    }
   ],
   "source": [
    "print(int(3.14))\n",
    "print(bool(\"\"))\n",
    "print(float(4))"
   ]
  },
  {
   "cell_type": "markdown",
   "id": "30e6cc21",
   "metadata": {},
   "source": [
    "* Now, we’ll move on to exploring a set of new special words, statement and expressions in Python that allow us to create our own functions. "
   ]
  },
  {
   "cell_type": "markdown",
   "id": "ae42b47f",
   "metadata": {
    "slideshow": {
     "slide_type": "slide"
    }
   },
   "source": [
    "* A **Function**, simply put, groups a set of statements so they can be run more than once in a program\n",
    "\n",
    "    * A set of steps packaged so that you can invoke them with a name. \n",
    "\n",
    "* Functions, more often that not, accept **input(s)** and compute corresponding **output(s)**\n",
    "    * Note how inputs to `type(...)`, `round(...)` etc. may differ each time the code is run "
   ]
  },
  {
   "cell_type": "code",
   "execution_count": 10,
   "id": "c32fbe70",
   "metadata": {},
   "outputs": [
    {
     "name": "stdout",
     "output_type": "stream",
     "text": [
      "4\n",
      "5\n"
     ]
    }
   ],
   "source": [
    "x = 4.3\n",
    "var = round(x)\n",
    "print(var)\n",
    "x = 5.4\n",
    "var = round(x)\n",
    "print(var)"
   ]
  },
  {
   "cell_type": "markdown",
   "id": "01d844c9",
   "metadata": {
    "slideshow": {
     "slide_type": "slide"
    }
   },
   "source": [
    "### 4.1.3. Defining Functions\n",
    "\n",
    "The **definition** of a function starts with the `def` keyword in Python.\n",
    "\n",
    "The first line of a function definition starts with the header line.\n",
    "\n",
    "The header line specifies a **function name**, along with a list of **zero or more inputs** (called arguments aka parameters) that are comma-separated within parentheses.\n",
    "\n",
    "The general format is as follows:"
   ]
  },
  {
   "cell_type": "code",
   "execution_count": null,
   "id": "ffddc0ac",
   "metadata": {},
   "outputs": [],
   "source": [
    "def function_name(input1, input2,... inputN):\n",
    "    # body of \n",
    "    # the function\n",
    "    # goes here\n",
    "    \n",
    "    return output"
   ]
  },
  {
   "cell_type": "code",
   "execution_count": null,
   "id": "72cbb3b2",
   "metadata": {},
   "outputs": [],
   "source": [
    "#For example:\n",
    "def add_and_print_first_two_inputs(input1, input2):\n",
    "    # body of \n",
    "    # the function\n",
    "    # goes here\n",
    "    \n",
    "    print(input1 + input2)\n",
    "    \n",
    "\n",
    "add_and_print_first_two_inputs(2.2, 2.3)"
   ]
  },
  {
   "cell_type": "markdown",
   "id": "9040e6ec",
   "metadata": {
    "slideshow": {
     "slide_type": "-"
    }
   },
   "source": [
    "* The header line ends with a colon `:`\n",
    "* Followed by **indented** block of code that becomes the function's body\n",
    "    * Body of the function executes each time the function is **called**."
   ]
  },
  {
   "cell_type": "markdown",
   "id": "2400b7cd",
   "metadata": {
    "slideshow": {
     "slide_type": "slide"
    }
   },
   "source": [
    "Function bodies often contain a `return` statement:"
   ]
  },
  {
   "cell_type": "code",
   "execution_count": null,
   "id": "aa928809",
   "metadata": {},
   "outputs": [],
   "source": [
    "def name(arg1, arg2,... argN):\n",
    "    ...\n",
    "    return value"
   ]
  },
  {
   "cell_type": "markdown",
   "id": "f079de1c",
   "metadata": {},
   "source": [
    "* The Python `return` is followed by an variable, or an expression, that serves as the **output** of the function.\n",
    "\n",
    "    * `return` ends the function call and sends a result back to the caller. "
   ]
  },
  {
   "cell_type": "markdown",
   "id": "bfc95df6",
   "metadata": {
    "slideshow": {
     "slide_type": "slide"
    }
   },
   "source": [
    "### 4.1.3. Calling a function\n",
    "\n",
    "There are two sides to the function picture:\n",
    "\n",
    "1. **Definition**: the `def` that **creates a function** and assigns it a _name_\n",
    "2. **Call**: an expression including the function's _name_ that tells Python to **run the function’s body**.\n",
    "    * After the def has run, you can call (run) the function in your program by adding parentheses after the function’s name.\n",
    "\n",
    "You must **define** the function **before calling it** "
   ]
  },
  {
   "cell_type": "code",
   "execution_count": 14,
   "id": "429ecb3f",
   "metadata": {},
   "outputs": [
    {
     "name": "stdout",
     "output_type": "stream",
     "text": [
      "1.6\n",
      "1\n"
     ]
    }
   ],
   "source": [
    "print(round(1.63))\n",
    "print(round(1.3))"
   ]
  },
  {
   "cell_type": "code",
   "execution_count": 30,
   "id": "27d83112",
   "metadata": {},
   "outputs": [
    {
     "name": "stdout",
     "output_type": "stream",
     "text": [
      "3\n",
      "2\n",
      "3\n"
     ]
    }
   ],
   "source": [
    "print(round(2.6))\n",
    "print(round(2.3))\n",
    "print(round(3.4))"
   ]
  },
  {
   "cell_type": "markdown",
   "id": "b287812f",
   "metadata": {
    "slideshow": {
     "slide_type": "slide"
    }
   },
   "source": [
    "* Input(s) to a function are optional.\n",
    "* The return statement, that gives the function’s result, also is optional.\n",
    "    * If the value is omitted, return sends back a None."
   ]
  },
  {
   "cell_type": "code",
   "execution_count": 2,
   "id": "645ed11f",
   "metadata": {},
   "outputs": [
    {
     "name": "stdout",
     "output_type": "stream",
     "text": [
      "Hello world\n",
      "Hello world\n",
      "Hello world\n",
      "None\n"
     ]
    }
   ],
   "source": [
    "def print_hello_world():\n",
    "    print(\"Hello world\")\n",
    "    x = 1 + 1\n",
    "    \n",
    "print_hello_world()\n",
    "print_hello_world()\n",
    "\n",
    "return_val = print_hello_world()\n",
    "print(return_val) # prints `None` since no return statement in `print_hello_world`"
   ]
  },
  {
   "cell_type": "code",
   "execution_count": 40,
   "id": "c8e4af85",
   "metadata": {},
   "outputs": [
    {
     "name": "stdout",
     "output_type": "stream",
     "text": [
      "5\n"
     ]
    }
   ],
   "source": [
    "x = round(4.6)\n",
    "print(x)"
   ]
  },
  {
   "cell_type": "code",
   "execution_count": 36,
   "id": "4fe22a1d",
   "metadata": {},
   "outputs": [
    {
     "name": "stdout",
     "output_type": "stream",
     "text": [
      "4\n",
      "8\n",
      "16\n"
     ]
    }
   ],
   "source": [
    "def myfunc(exponent):\n",
    "    number = 2 ** exponent \n",
    "    return number\n",
    "\n",
    "print(myfunc(2))\n",
    "print(myfunc(3))\n",
    "print(myfunc(4))"
   ]
  },
  {
   "cell_type": "code",
   "execution_count": 1,
   "id": "95f607f8",
   "metadata": {
    "slideshow": {
     "slide_type": "slide"
    }
   },
   "outputs": [
    {
     "name": "stdout",
     "output_type": "stream",
     "text": [
      "Our round function:\n",
      "3\n",
      "2\n",
      "3\n",
      "Pythons builtin-in round function:\n",
      "3\n",
      "2\n",
      "3\n"
     ]
    }
   ],
   "source": [
    "def csc121_round(number):\n",
    "    integer_part = int(number)\n",
    "    fractional_part = number - integer_part\n",
    "\n",
    "    if fractional_part >= 0.5:\n",
    "        integer = integer_part + 1\n",
    "    else:\n",
    "        integer = integer_part \n",
    "    return integer\n",
    "\n",
    "print(\"Our round function:\")\n",
    "print(csc121_round(2.6))\n",
    "print(csc121_round(2.3))\n",
    "print(csc121_round(3.4))\n",
    "\n",
    "print(\"Pythons builtin-in round function:\")\n",
    "print(round(2.6))\n",
    "print(round(2.3))\n",
    "print(round(3.4))"
   ]
  }
 ],
 "metadata": {
  "celltoolbar": "Slideshow",
  "kernelspec": {
   "display_name": "Python 3 (ipykernel)",
   "language": "python",
   "name": "python3"
  },
  "language_info": {
   "codemirror_mode": {
    "name": "ipython",
    "version": 3
   },
   "file_extension": ".py",
   "mimetype": "text/x-python",
   "name": "python",
   "nbconvert_exporter": "python",
   "pygments_lexer": "ipython3",
   "version": "3.9.12"
  }
 },
 "nbformat": 4,
 "nbformat_minor": 5
}
