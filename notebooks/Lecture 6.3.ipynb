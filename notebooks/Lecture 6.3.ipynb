{
 "cells": [
  {
   "cell_type": "markdown",
   "id": "0e006542",
   "metadata": {
    "slideshow": {
     "slide_type": "slide"
    }
   },
   "source": [
    "# Lecture 6.3. \n",
    "\n",
    "# `continue`, `break` & nested `while` loops\n",
    "\n",
    "# Wednesday, Oct 5th"
   ]
  },
  {
   "cell_type": "markdown",
   "id": "5add778d",
   "metadata": {
    "slideshow": {
     "slide_type": "slide"
    }
   },
   "source": [
    "# 6.3.1. `continue`"
   ]
  },
  {
   "cell_type": "markdown",
   "id": "d2366d47",
   "metadata": {},
   "source": [
    "* With the `continue` statement we can **interrupt** an iteration **midway** and **jump to the start** of the **next iteration**\n",
    "\n",
    "\n",
    "* For the interrupted iteration, **no lines** of code **following** `continue` statement are **executed**\n",
    "\n",
    "\n",
    "* Generally used inside an **`if` statement**, within a loop's body\n",
    "\n",
    "\n",
    "* Should be used **sparingly**. \n",
    "    * Alternative implementations using `if...else` almost always exist"
   ]
  },
  {
   "cell_type": "markdown",
   "id": "8638e888",
   "metadata": {
    "slideshow": {
     "slide_type": "slide"
    }
   },
   "source": [
    "\n",
    "<table>\n",
    "    <tr>\n",
    "        <td>\n",
    "            WHILE\n",
    "        </td>\n",
    "        <td></td>\n",
    "        <td>\n",
    "            WHILE w/ CONTINUE:\n",
    "        </td>\n",
    "    </tr>\n",
    "<tr>\n",
    "    <td>\n",
    "     <img width=\"500\" src=\"https://i.ibb.co/P4fq6kD/while.png\">\n",
    "    </td>\n",
    "        <td></td>\n",
    "    <td>\n",
    "     <img width=\"500\" src=\"https://i.ibb.co/MGLxZ3G/CONTINUE.png\">\n",
    "    </td>\n",
    "</tr>\n",
    "</table>"
   ]
  },
  {
   "cell_type": "code",
   "execution_count": 58,
   "id": "01b2bcba",
   "metadata": {
    "slideshow": {
     "slide_type": "slide"
    }
   },
   "outputs": [
    {
     "name": "stdout",
     "output_type": "stream",
     "text": [
      "1\n",
      "3\n",
      "5\n",
      "7\n",
      "9\n"
     ]
    }
   ],
   "source": [
    "n = 10\n",
    "\n",
    "i = 0\n",
    "\n",
    "while i < n:\n",
    "    \n",
    "    i = i + 1\n",
    "    \n",
    "    if i % 2 == 0:\n",
    "        continue \n",
    "        \n",
    "    print(i)"
   ]
  },
  {
   "cell_type": "markdown",
   "id": "b6ec1856",
   "metadata": {
    "slideshow": {
     "slide_type": "slide"
    }
   },
   "source": [
    "# 6.3.2. `break`"
   ]
  },
  {
   "cell_type": "markdown",
   "id": "97d73804",
   "metadata": {},
   "source": [
    "* For **immediately exiting** the loop i.e. Python jumps out of the loop's body (past the entire loop body) when it encounters a `break` statement\n",
    "\n",
    "\n",
    "* Generally **used within an `if` statement** within the loop's body\n",
    "\n",
    "\n",
    "* Inside the loop's body, the **code that follows the `break` statement is never executed**"
   ]
  },
  {
   "cell_type": "markdown",
   "id": "d7e656f3",
   "metadata": {
    "slideshow": {
     "slide_type": "slide"
    }
   },
   "source": [
    "<table>    \n",
    "    <tr>\n",
    "        <td>\n",
    "            WHILE:\n",
    "        </td>\n",
    "        <td>\n",
    "            BREAK:\n",
    "        </td>\n",
    "    </tr>\n",
    "<tr>\n",
    "    <td>\n",
    "     <img width=\"500\" src=\"https://i.ibb.co/P4fq6kD/while.png\">\n",
    "    </td>\n",
    "    <td>\n",
    "     <img width=\"500\" src=\"https://i.ibb.co/Dw3Gk0T/BREAK.png\">\n",
    "    </td>\n",
    "</tr>\n",
    "</table>"
   ]
  },
  {
   "cell_type": "code",
   "execution_count": 60,
   "id": "9b419064",
   "metadata": {
    "slideshow": {
     "slide_type": "slide"
    }
   },
   "outputs": [
    {
     "name": "stdout",
     "output_type": "stream",
     "text": [
      "False\n"
     ]
    }
   ],
   "source": [
    "#n = 4, get nth prime number\n",
    "#2, 3, 5, 7 (4th prime number)\n",
    "\n",
    "num = 4\n",
    "i = 2\n",
    "\n",
    "is_prime = True \n",
    "\n",
    "while i < num: \n",
    "    \n",
    "    if num % i == 0:\n",
    "        is_prime = False\n",
    "        i = num\n",
    "        \n",
    "    i = i + 1\n",
    "        \n",
    "print(is_prime)"
   ]
  },
  {
   "cell_type": "markdown",
   "id": "297299e1",
   "metadata": {
    "slideshow": {
     "slide_type": "slide"
    }
   },
   "source": [
    "# 6.3.3. `break` vs. `continue`"
   ]
  },
  {
   "cell_type": "markdown",
   "id": "5e447f05",
   "metadata": {
    "slideshow": {
     "slide_type": "-"
    }
   },
   "source": [
    "\n",
    "<table>\n",
    "    <tr>\n",
    "        <td>\n",
    "            CONTINUE:\n",
    "        </td>\n",
    "        <td>\n",
    "            BREAK:\n",
    "        </td>\n",
    "    </tr>\n",
    "<tr>\n",
    "    <td>\n",
    "     <img width=\"500\" src=\"https://i.ibb.co/MGLxZ3G/CONTINUE.png\">\n",
    "    </td>\n",
    "    <td>\n",
    "     <img width=\"500\" src=\"https://i.ibb.co/Dw3Gk0T/BREAK.png\">\n",
    "    </td>\n",
    "</tr>\n",
    "</table>\n",
    "\n",
    "\n",
    "\n",
    "\n"
   ]
  },
  {
   "cell_type": "markdown",
   "id": "013cd317",
   "metadata": {
    "slideshow": {
     "slide_type": "slide"
    }
   },
   "source": [
    "# 6.3.3 Nested while loop "
   ]
  },
  {
   "cell_type": "code",
   "execution_count": null,
   "id": "0c54ee47",
   "metadata": {},
   "outputs": [],
   "source": [
    "def get_nth_prime(n):\n",
    "\n",
    "    prime_count = 1\n",
    "    nth_prime = 2\n",
    "    \n",
    "    i = 2\n",
    "    \n",
    "    while prime_count <= n:\n",
    "\n",
    "        j = 2\n",
    "        is_prime = True \n",
    "\n",
    "        while j < i: \n",
    " \n",
    "            if i % j == 0:\n",
    "                is_prime = False\n",
    "                break\n",
    "\n",
    "            j = j + 1\n",
    "\n",
    "        if is_prime:\n",
    "            prime_count = prime_count + 1\n",
    "            nth_prime   = i\n",
    "\n",
    "        i = i + 1\n",
    "        \n",
    "    return nth_prime\n",
    "    \n",
    "assert get_nth_prime(1)==2,   \"Test case 1 failed\"\n",
    "assert get_nth_prime(2)==3,   \"Test case 2 failed\"\n",
    "assert get_nth_prime(3)==5,   \"Test case 3 failed\"\n",
    "assert get_nth_prime(4)==7,   \"Test case 4 failed\"\n",
    "assert get_nth_prime(5)==11,  \"Test case 5 failed\"\n",
    "assert get_nth_prime(6)==13,  \"Test case 6 failed\"\n",
    "assert get_nth_prime(7)==17,  \"Test case 7 failed\"\n",
    "assert get_nth_prime(8)==19,  \"Test case 8 failed\"\n",
    "assert get_nth_prime(9)==23,  \"Test case 9 failed\"\n",
    "assert get_nth_prime(10)==29, \"Test case 10 failed\"\n",
    "\n",
    "print(\"All test cases passed successfully\")"
   ]
  },
  {
   "cell_type": "code",
   "execution_count": null,
   "id": "b935a35c",
   "metadata": {},
   "outputs": [],
   "source": []
  }
 ],
 "metadata": {
  "celltoolbar": "Slideshow",
  "kernelspec": {
   "display_name": "Python 3 (ipykernel)",
   "language": "python",
   "name": "python3"
  },
  "language_info": {
   "codemirror_mode": {
    "name": "ipython",
    "version": 3
   },
   "file_extension": ".py",
   "mimetype": "text/x-python",
   "name": "python",
   "nbconvert_exporter": "python",
   "pygments_lexer": "ipython3",
   "version": "3.9.12"
  }
 },
 "nbformat": 4,
 "nbformat_minor": 5
}
