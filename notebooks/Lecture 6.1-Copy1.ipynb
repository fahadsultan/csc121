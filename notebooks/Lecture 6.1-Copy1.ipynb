{
 "cells": [
  {
   "cell_type": "markdown",
   "id": "57c04187",
   "metadata": {
    "slideshow": {
     "slide_type": "slide"
    }
   },
   "source": [
    "# Lecture 6.1. \n",
    "\n",
    "# Loops, using `while`\n",
    "\n",
    "# Friday, September 29"
   ]
  },
  {
   "cell_type": "markdown",
   "id": "3698f9be",
   "metadata": {
    "slideshow": {
     "slide_type": "slide"
    }
   },
   "source": [
    "## 6.1.1. Loops and `while`\n",
    "\n",
    "* Loops allow **conditional repetition** of a set of statements. \n",
    "\n",
    "\n",
    "* In simple terms, loops **repeatedly execute** a **block of indented statements** as long as a corresponding **boolean condition** evaluates to `True`.\n",
    "\n",
    "\n",
    "* **`while` loops** are the most basic looping construct in the most programming languages, including Python.  "
   ]
  },
  {
   "cell_type": "markdown",
   "id": "3e4bbd9c",
   "metadata": {
    "slideshow": {
     "slide_type": "slide"
    }
   },
   "source": [
    "Recall, for `if...else` statements:"
   ]
  },
  {
   "cell_type": "code",
   "execution_count": null,
   "id": "74e4b589",
   "metadata": {},
   "outputs": [],
   "source": [
    "if boolean_condition_A: \n",
    "    #Indented Block B\n",
    "else:\n",
    "    #Indented Block C"
   ]
  },
  {
   "cell_type": "markdown",
   "id": "14b85135",
   "metadata": {
    "slideshow": {
     "slide_type": "-"
    }
   },
   "source": [
    "<img align=\"center\" width=\"450\" src=\"https://upload.wikimedia.org/wikipedia/commons/c/c5/If-Then-Else-diagram.svg\">"
   ]
  },
  {
   "cell_type": "markdown",
   "id": "325f3f44",
   "metadata": {
    "slideshow": {
     "slide_type": "slide"
    }
   },
   "source": [
    "<table>\n",
    "    <tr>\n",
    "        <td style=\"border: 1px solid black;\"><img align=\"center\" width=\"500\" src=\"https://upload.wikimedia.org/wikipedia/commons/c/c5/If-Then-Else-diagram.svg\"></td>\n",
    "        <td></td>\n",
    "        <td style=\"border: 1px solid black;\"><img align=\"center\" width=\"500\" src=\"https://upload.wikimedia.org/wikipedia/commons/4/43/While-loop-diagram.svg\"></td>\n",
    "     </tr>\n",
    "</table>\n"
   ]
  },
  {
   "cell_type": "markdown",
   "id": "a712cd7d",
   "metadata": {
    "slideshow": {
     "slide_type": "slide"
    }
   },
   "source": [
    "* It is called a **loop** because **flow of execution keeps looping back to the start** of the while statement **until the condition becomes `False`**. \n",
    "\n",
    "\n",
    "* When the condition becomes `False`, flow of execution moves to the statement that follows the indented `while` block. \n",
    "\n",
    "\n",
    "* The net effect is that the loop’s body is executed repeatedly while the condition at the top is `True`.\n",
    "\n",
    "\n",
    "* Each execution of the loop's body is called an **iteration** and the variable(s) in the condition are called **iterator(s)**.\n"
   ]
  },
  {
   "cell_type": "markdown",
   "id": "e39ad1bb",
   "metadata": {
    "slideshow": {
     "slide_type": "slide"
    }
   },
   "source": [
    "* The `while` statement consists of: \n",
    "  * a header line with a **boolean condition**\n",
    "  * a body of one or more indented statements\n",
    "<hr />\n",
    "\n",
    "statement 0 \n",
    "\n",
    " `while` (boolean condition): \n",
    "> statement 1 \\\n",
    "> statement 2 \\\n",
    "    .\\\n",
    "    .\\\n",
    "    .\\\n",
    "    statement n\n",
    "    \n",
    "statement n+1"
   ]
  },
  {
   "cell_type": "code",
   "execution_count": 3,
   "id": "8a9b0662",
   "metadata": {
    "slideshow": {
     "slide_type": "slide"
    }
   },
   "outputs": [
    {
     "name": "stdout",
     "output_type": "stream",
     "text": [
      "5\n",
      "Outside loop\n"
     ]
    }
   ],
   "source": [
    "i = 0\n",
    "\n",
    "while i < 5:\n",
    "    \n",
    "    i = i + 1\n",
    "\n",
    "print(i)\n",
    "print(\"Outside loop\")"
   ]
  },
  {
   "cell_type": "markdown",
   "id": "90f9c6a0",
   "metadata": {
    "slideshow": {
     "slide_type": "slide"
    }
   },
   "source": [
    "$\\sum_{i=1}^{n} k = kn$"
   ]
  },
  {
   "cell_type": "code",
   "execution_count": 8,
   "id": "b167e256",
   "metadata": {},
   "outputs": [
    {
     "name": "stdout",
     "output_type": "stream",
     "text": [
      "All test cases passed successfully\n"
     ]
    }
   ],
   "source": [
    "def summation_k(k, n):\n",
    "    \"\"\"The sum of constant k, n-times. \n",
    "    \n",
    "    Arguments:\n",
    "    k: The constant to be added repeated time\n",
    "    n: The number of times to add k\n",
    "    \n",
    "    Returns:\n",
    "    sum: Sum of k repeated n times\n",
    "    \"\"\"\n",
    "    summ = 0\n",
    "    i = 1\n",
    "    while(i <= n):\n",
    "        summ = k + summ\n",
    "        i = i + 1\n",
    "    return summ\n",
    "\n",
    "assert summation_k(5, 4) == 5*4,  \"Test case 1 failed\"\n",
    "assert summation_k(99, 9)== 99*9, \"Test case 2 failed\"\n",
    "assert summation_k(0, 0) == 0*0,  \"Test case 3 failed\"\n",
    "assert summation_k(0, 99)== 0*99, \"Test case 4 failed\"\n",
    "\n",
    "print(\"All test cases passed successfully\")"
   ]
  },
  {
   "cell_type": "markdown",
   "id": "7d46816b",
   "metadata": {
    "slideshow": {
     "slide_type": "slide"
    }
   },
   "source": [
    "$\\sum_{i=1}^{n} i = \\frac{n(n+1)}{2}$"
   ]
  },
  {
   "cell_type": "code",
   "execution_count": 10,
   "id": "0c1556cb",
   "metadata": {},
   "outputs": [
    {
     "name": "stdout",
     "output_type": "stream",
     "text": [
      "All test cases passed successfully\n"
     ]
    }
   ],
   "source": [
    "def summation_i(n):\n",
    "    \"\"\"Given a positive integer n, returns the sum of\n",
    "    all positive integers less than or equal to n\n",
    "    \n",
    "    Arguments:\n",
    "    n: A positive integer n\n",
    "    \n",
    "    Returns:\n",
    "    sum: Sum of all positive less than or equal to n\n",
    "    \"\"\"\n",
    "    summ = 0\n",
    "    i = 1\n",
    "    \n",
    "    while i <= n:\n",
    "        summ = i + summ\n",
    "        i = i + 1\n",
    "    return summ\n",
    "\n",
    "assert summation_i(4) == (4*(4+1))/2,  \"Test case 1 failed\"\n",
    "assert summation_i(0) == (0*(0+1))/2,  \"Test case 2 failed\"\n",
    "assert summation_i(999) == (999*(999+1))/2,  \"Test case 3 failed\"\n",
    "\n",
    "print(\"All test cases passed successfully\")"
   ]
  },
  {
   "cell_type": "code",
   "execution_count": null,
   "id": "ea0b8be1",
   "metadata": {
    "slideshow": {
     "slide_type": "slide"
    }
   },
   "outputs": [],
   "source": [
    "def shift_right(num, n):\n",
    "    return num // (10**n)\n",
    "\n",
    "def count_digits(num): \n",
    "    \"\"\"Given a positive integer num,\n",
    "    returns the count of digits in num\n",
    "    \n",
    "    Arguments:\n",
    "    num: A positive integer num\n",
    "    \n",
    "    Returns:\n",
    "    ndigits: Number of digits in num\n",
    "    \"\"\"\n",
    "    return count"
   ]
  },
  {
   "cell_type": "code",
   "execution_count": null,
   "id": "de51c2cf",
   "metadata": {},
   "outputs": [],
   "source": [
    "count_digits(1234)"
   ]
  },
  {
   "cell_type": "markdown",
   "id": "9a29d565",
   "metadata": {
    "slideshow": {
     "slide_type": "slide"
    }
   },
   "source": [
    "# 6.1.2. Infinite Loops"
   ]
  },
  {
   "cell_type": "code",
   "execution_count": null,
   "id": "d813cd08",
   "metadata": {},
   "outputs": [],
   "source": [
    "i = 0\n",
    "\n",
    "while i >= 0:\n",
    "    \n",
    "    print(i)\n",
    "    i = i + 1\n",
    "\n",
    "print(\"Outside loop\")"
   ]
  },
  {
   "cell_type": "markdown",
   "id": "18a341f3",
   "metadata": {
    "slideshow": {
     "slide_type": "slide"
    }
   },
   "source": [
    "# 6.1.3. `break`"
   ]
  },
  {
   "cell_type": "markdown",
   "id": "e24c6194",
   "metadata": {},
   "source": [
    "* For **immediately exiting** the loop i.e. Python jumps out of the loop's body (past the entire loop statement) when it encounters a `break statement`\n",
    "\n",
    "\n",
    "* Generally **used within an `if` statement** within the loop's body\n",
    "\n",
    "\n",
    "* Inside the loop's body, the **code that follows the `break` statement is never executed**"
   ]
  },
  {
   "cell_type": "markdown",
   "id": "fc16c0bc",
   "metadata": {
    "slideshow": {
     "slide_type": "slide"
    }
   },
   "source": [
    "<img width=\"500\" src=\"https://www.askpython.com/wp-content/uploads/2019/07/break-statement-flow-diagram.png\">"
   ]
  }
 ],
 "metadata": {
  "celltoolbar": "Slideshow",
  "kernelspec": {
   "display_name": "Python 3 (ipykernel)",
   "language": "python",
   "name": "python3"
  },
  "language_info": {
   "codemirror_mode": {
    "name": "ipython",
    "version": 3
   },
   "file_extension": ".py",
   "mimetype": "text/x-python",
   "name": "python",
   "nbconvert_exporter": "python",
   "pygments_lexer": "ipython3",
   "version": "3.9.12"
  }
 },
 "nbformat": 4,
 "nbformat_minor": 5
}
