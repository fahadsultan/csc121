{
 "cells": [
  {
   "cell_type": "markdown",
   "id": "bc3c8705",
   "metadata": {},
   "source": [
    "# Lecture 9.2. \n",
    "\n",
    "# Wed Oct 26, 2022\n",
    "\n",
    "# Lists (Continued)"
   ]
  },
  {
   "cell_type": "markdown",
   "id": "687bd7d9",
   "metadata": {
    "slideshow": {
     "slide_type": "slide"
    }
   },
   "source": [
    "Recall that _randomness_ is **lack of pattern and predictability**\n",
    "\n",
    "**Question 3. How can we make sure our sequence is not predictable?**"
   ]
  },
  {
   "cell_type": "code",
   "execution_count": 63,
   "id": "0716b693",
   "metadata": {},
   "outputs": [
    {
     "name": "stdout",
     "output_type": "stream",
     "text": [
      "21 28 23 27\n"
     ]
    }
   ],
   "source": [
    "from random import randint\n",
    "\n",
    "sequence = []\n",
    "\n",
    "i = 1\n",
    "while i <= 100:\n",
    "    sequence.append(randint(0, 1))\n",
    "    i = i + 1\n",
    "\n",
    "count_00 = 0\n",
    "count_01 = 0\n",
    "count_10 = 0\n",
    "count_11 = 0\n",
    "\n",
    "j = 0\n",
    "while j < len(sequence)-1:\n",
    "    if sequence[j] == 0 and sequence[j+1] == 0:\n",
    "        count_00 = count_00 + 1\n",
    "    elif sequence[j] == 1 and sequence[j+1] == 0:\n",
    "        count_10 = count_10 + 1 \n",
    "    elif sequence[j] == 1 and sequence[j+1] == 1:\n",
    "        count_11 = count_11 + 1\n",
    "    elif sequence[j] == 0 and sequence[j+1] == 1:\n",
    "        count_01 = count_01 + 1 \n",
    "    j = j + 1\n",
    "    \n",
    "print(count_00, count_01, count_11, count_10)"
   ]
  },
  {
   "cell_type": "markdown",
   "id": "9a2bb48e",
   "metadata": {
    "slideshow": {
     "slide_type": "slide"
    }
   },
   "source": [
    "# 9.2.1. Remove List Item"
   ]
  },
  {
   "cell_type": "markdown",
   "id": "8358e088",
   "metadata": {},
   "source": [
    "* An item in the list can be removed using `.pop()` \n",
    "\n",
    "   * Removes the item at the **highest index value** (right most item)\n",
    "    \n",
    "       * Removes from list and `returns` it \n",
    "       "
   ]
  },
  {
   "cell_type": "code",
   "execution_count": 64,
   "id": "2ae3709c",
   "metadata": {},
   "outputs": [
    {
     "name": "stdout",
     "output_type": "stream",
     "text": [
      "Help on built-in function pop:\n",
      "\n",
      "pop(index=-1, /) method of builtins.list instance\n",
      "    Remove and return item at index (default last).\n",
      "    \n",
      "    Raises IndexError if list is empty or index is out of range.\n",
      "\n"
     ]
    }
   ],
   "source": [
    "help(sequence.pop)"
   ]
  },
  {
   "cell_type": "code",
   "execution_count": 65,
   "id": "7c4146c3",
   "metadata": {},
   "outputs": [
    {
     "name": "stdout",
     "output_type": "stream",
     "text": [
      "['a', 'b']\n",
      "c\n"
     ]
    }
   ],
   "source": [
    "sequence = [\"a\", \"b\", \"c\"]\n",
    "\n",
    "removed_item = sequence.pop()\n",
    "\n",
    "print(sequence)\n",
    "\n",
    "print(removed_item)"
   ]
  },
  {
   "cell_type": "markdown",
   "id": "699944fa",
   "metadata": {
    "slideshow": {
     "slide_type": "slide"
    }
   },
   "source": [
    "* An alternative method to remove an item in the list is to use **`.remove(value)`**\n",
    "\n",
    "* **`.remove(value)`** takes as input `value`\n",
    "    * If `value` is present in the list, it is removed\n",
    "    * If `value` is not in the list, `ValueError` is raised\n",
    "    * If multiple occurences of `value` are present, **first occurence is removed**"
   ]
  },
  {
   "cell_type": "code",
   "execution_count": 66,
   "id": "c8082a64",
   "metadata": {},
   "outputs": [
    {
     "name": "stdout",
     "output_type": "stream",
     "text": [
      "Help on built-in function remove:\n",
      "\n",
      "remove(value, /) method of builtins.list instance\n",
      "    Remove first occurrence of value.\n",
      "    \n",
      "    Raises ValueError if the value is not present.\n",
      "\n"
     ]
    }
   ],
   "source": [
    "help(sequence.remove)"
   ]
  },
  {
   "cell_type": "code",
   "execution_count": 69,
   "id": "7e189a01",
   "metadata": {},
   "outputs": [
    {
     "name": "stdout",
     "output_type": "stream",
     "text": [
      "[2, 3, 4, 1]\n",
      "None None\n"
     ]
    }
   ],
   "source": [
    "sequence = [1, 2, 3, 4, 1]\n",
    "\n",
    "x = sequence.remove(1)\n",
    "\n",
    "print(sequence)\n",
    "\n",
    "y = sequence.remove(1)\n",
    "\n",
    "print(x, y)"
   ]
  },
  {
   "cell_type": "markdown",
   "id": "a5ec7fd7",
   "metadata": {
    "slideshow": {
     "slide_type": "slide"
    }
   },
   "source": [
    "# 9.2.2. Change Item Value\n",
    "\n",
    "To **change the value** at a particular index, use square brackets with index number `sequence[index]` and assignment operator `=`"
   ]
  },
  {
   "cell_type": "code",
   "execution_count": 73,
   "id": "d2bf8888",
   "metadata": {},
   "outputs": [
    {
     "name": "stdout",
     "output_type": "stream",
     "text": [
      "['north', 'carolina']\n",
      "['north', 'dakota']\n",
      "['north', 'dakota', 'state']\n"
     ]
    }
   ],
   "source": [
    "sequence = ['south', 'carolina']\n",
    "sequence[0] = \"north\"\n",
    "print(sequence)\n",
    "sequence[1] = \"dakota\"\n",
    "print(sequence)\n",
    "sequence.append(\"state\")\n",
    "print(sequence)"
   ]
  },
  {
   "cell_type": "markdown",
   "id": "d2834c29",
   "metadata": {
    "slideshow": {
     "slide_type": "slide"
    }
   },
   "source": [
    "* Note again that you can only change existing values in the list \n",
    "    * That were either appending using `append` or \n",
    "    * Were part of the list during initialization\n",
    "    \n",
    "    \n",
    "* You cannot **add** a new item to the list using `sequence[index] = new_item`\n",
    "\n",
    "\n",
    "* The index must be within range `0` to `len(list)-1`"
   ]
  },
  {
   "cell_type": "code",
   "execution_count": null,
   "id": "b3333f1c",
   "metadata": {},
   "outputs": [],
   "source": [
    "sequence = ['a', 'b']\n",
    "\n",
    "sequence[  = 'c'"
   ]
  }
 ],
 "metadata": {
  "celltoolbar": "Slideshow",
  "kernelspec": {
   "display_name": "Python 3 (ipykernel)",
   "language": "python",
   "name": "python3"
  },
  "language_info": {
   "codemirror_mode": {
    "name": "ipython",
    "version": 3
   },
   "file_extension": ".py",
   "mimetype": "text/x-python",
   "name": "python",
   "nbconvert_exporter": "python",
   "pygments_lexer": "ipython3",
   "version": "3.9.12"
  }
 },
 "nbformat": 4,
 "nbformat_minor": 5
}
